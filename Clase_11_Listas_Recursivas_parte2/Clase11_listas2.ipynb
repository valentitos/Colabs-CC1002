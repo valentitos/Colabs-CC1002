{
 "cells": [
  {
   "cell_type": "markdown",
   "metadata": {},
   "source": [
    "# Clase 11: Listas (parte 2)\n",
    "\n",
    "## Repaso: Listas (parte 1)\n",
    "\n",
    "Vimos que existen las listas, que nos permiten agrupar/enumerar elementos que comparten un contexto. Por definición, pueden tener largo arbitrario (cantidad indeterminada, pero finita, de elementos)\n",
    "\n",
    "La definición de una lista es **recursiva**:\n",
    "\n",
    "- Una lista puede ser **vacía** (no contiene ningún elemento)\n",
    "\n",
    "- Una lista puede estpar compuesta por elementos/nodos que contienen un **valor** y un **enlace** al siguiente elemento de la lista\n",
    "\n",
    "Para nuestros efectos, una lista es una estructura que posee dos campos:\n",
    "\n",
    "- `valor`: almacena el dato que contiene el nodo\n",
    "\n",
    "- `siguiente`: almacena una referencia o enlace al siguiente nodo\n",
    "\n",
    "![](nodo_central.svg)\n",
    "\n",
    "El primer nodo de una lista, se referencia a través de un nombre (o variable) en particular.\n",
    "\n",
    "![](nodo_inicio.svg)\n",
    "\n",
    "El último nodo tiene como referencia `siguiente` al nodo \"vacío\" (el valor `None`)\n",
    "\n",
    "![](nodo_final.svg)\n",
    "\n",
    "Con esto, y con ayuda del módulo `estructura.py`, podemos crear el módulo `lista.py`. La definición de lista como estructura es:\n",
    "\n",
    "```python\n",
    "import estructura\n",
    "\n",
    "# lista: valor(any) siguiente(lista)\n",
    "estructura.crear(\"lista\",\"valor siguiente\")\n",
    "\n",
    "# identificador de listas vacias\n",
    "listaVacia = None\n",
    "```\n",
    "\n",
    "Así, podemos crear nuestras primeras listas de la siguiente manera. Suponiendo que queremos hacer una lista con los números 58, 42, 23 y 35:\n",
    "\n",
    "```python\n",
    "L = lista(58, lista(42, lista(23, lista(35, listaVacia))))\n",
    "```\n",
    "\n",
    "Lo que visualmente se ve como:\n",
    "\n",
    "![](lista_compacta_numeros.svg)\n",
    "\n",
    "### Módulo lista\n",
    "\n",
    "Las operaciones/funciones clasicas que se usan sobre listas son:\n",
    "\n",
    "- `esLista(L)`: Verifica si `L` es una lista o no\n",
    "- `cabeza(L)`: Primer elemento de una lista\n",
    "- `cola(L)`: La lista sin su primer nodo\n",
    "- `largo(L)`: Contar cuantos elementos tiene una lista\n",
    "\n",
    "![](ej_listall.svg)\n",
    "\n",
    "### Ejemplos de Aplicaciones de listas\n",
    "\n",
    "Luego vimos algunas aplicaciones, tales como:\n",
    "\n",
    "- De una lista de números, obtener la suma de todos ellos\n",
    "\n",
    "- De una lista de nombres de frutas, saber si contiene o no una manzana\n",
    "\n",
    "- De una lista de nombres de dulces, quedarse con la sub-lista que solo contenga *sunys*\n",
    "\n",
    "Indirectamente, lo anterior nos sirvió para ver que es posible:\n",
    "\n",
    "- A partir de una lista, procesar/operar sus elementos para obtener un resultado\n",
    "\n",
    "- A partir de una lista, verificar la existencia de un elemento en particular\n",
    "\n",
    "- A partir de una lista, crear/producir una nueva lista con un subconjunto de sus elementos.\n",
    "\n",
    "Y tambien notamos que existía un patrón con la solución de estas funciones\n",
    "\n",
    "```python\n",
    "# procesarLista: ... -> ...\n",
    "# ...\n",
    "def procesarLista(L, ...):\n",
    "    assert esLista(L)\n",
    "    \n",
    "    #CB: ver que hacer con la lista vacia, y usualmente \n",
    "    # terminar la recursión\n",
    "    if L es la listaVacia:\n",
    "        ''' ver que hacer en este caso'''\n",
    "    \n",
    "    #CR: decidir que hacer con la cabeza de la lista\n",
    "    ... cabeza(L) ...\n",
    "    # y continuar la recursión con la cola de L\n",
    "    ... procesarLista(cola(L), ...) ...\n",
    "```\n",
    "---\n",
    "\n"
   ]
  },
  {
   "cell_type": "markdown",
   "metadata": {},
   "source": [
    "## Listas (cont.)\n",
    "\n",
    "### Verificar existencia (`contiene/enLista`)\n",
    "\n",
    "Retomemos el ejemplo de la clase anterior, donde teniamos una lista de nombres de frutas, y queriamos ver si existía al menos una manzana. ¿Qué pasa si queremos preguntar si existen uvas? ¿O si hay naranjas?\n",
    "\n",
    "Podríamos crear una función para cada caso... pero es poco practico. Lo que si es mejor, es generalizar el comportamiento anterior, para que nos sirva para buscar cualquier fruta"
   ]
  },
  {
   "cell_type": "code",
   "execution_count": 8,
   "metadata": {},
   "outputs": [],
   "source": [
    "# hayManzana: lista(str) -> bool\n",
    "# indica si una lista de frutas posee una manzana\n",
    "# ej: hayManzana(Lfrutas) entrega True\n",
    "def hayManzana(L):\n",
    "    assert esLista(L)\n",
    "    \n",
    "    if L == listaVacia:\n",
    "        return False\n",
    "    \n",
    "    actual = cabeza(L)\n",
    "    if actual == 'manzana':\n",
    "        return True\n",
    "    else:\n",
    "        return hayManzana(cola(L))\n",
    "\n",
    "# Test\n",
    "Lfrutas = lista('pera',lista('manzana',listaVacia))\n",
    "assert hayManzana(Lfrutas)\n",
    "assert not hayManzana(listaVacia)"
   ]
  },
  {
   "cell_type": "code",
   "execution_count": 9,
   "metadata": {},
   "outputs": [],
   "source": [
    "# hayFruta: lista(str) str -> bool\n",
    "# indica si una lista de frutas posee la fruta indicada\n",
    "# ej: hayFruta(Lfrutas,'manzana') entrega True\n",
    "def hayFruta(L, fruta):\n",
    "    # Agregamos un parámetro extra, para saber que fruta estamos buscando\n",
    "    assert esLista(L)\n",
    "    \n",
    "    # CB: si llegamos a la listaVacia, significa que revisamos \n",
    "    # exhaustivamente y no hay frutas :(\n",
    "    if L == listaVacia:\n",
    "        return False\n",
    "    \n",
    "    # CR: revisamos el elemento actual\n",
    "    actual = cabeza(L)\n",
    "    # Si es la fruta buscada, ganamos\n",
    "    # en particular, cambiamos la pregunta de una fruta especifica (manzana)\n",
    "    # por una fruta \"parametrizada\"\n",
    "    if actual == fruta:\n",
    "        return True\n",
    "    # si no era la fruta buscada, seguimos buscando en el resto de la lista\n",
    "    else:\n",
    "        return hayFruta(cola(L), fruta)\n",
    "\n",
    "# Test\n",
    "Lfrutas = lista('pera',lista('manzana',listaVacia))\n",
    "assert hayFruta(Lfrutas, \"pera\")\n",
    "assert not hayFruta(Lfrutas,\"piña\")"
   ]
  },
  {
   "cell_type": "code",
   "execution_count": 5,
   "metadata": {},
   "outputs": [],
   "source": [
    "Lfrutas = lista('pera',lista('manzana',listaVacia))"
   ]
  },
  {
   "cell_type": "code",
   "execution_count": 6,
   "metadata": {},
   "outputs": [
    {
     "data": {
      "text/plain": [
       "True"
      ]
     },
     "execution_count": 6,
     "metadata": {},
     "output_type": "execute_result"
    }
   ],
   "source": [
    "hayFruta(Lfrutas, \"pera\")"
   ]
  },
  {
   "cell_type": "code",
   "execution_count": 7,
   "metadata": {},
   "outputs": [
    {
     "data": {
      "text/plain": [
       "False"
      ]
     },
     "execution_count": 7,
     "metadata": {},
     "output_type": "execute_result"
    }
   ],
   "source": [
    "hayFruta(Lfrutas,\"piña\")"
   ]
  },
  {
   "cell_type": "markdown",
   "metadata": {},
   "source": [
    "Podemos generalizar aún mas el comportamiento anterior, para que funcione con una lista cualquiera de elementos. Esto se conoce como la función `contiene(L,e)` o `enLista(L,e)`, que busca si es que existe al menos una aparición del elemento `e` en la lista `L`"
   ]
  },
  {
   "cell_type": "code",
   "execution_count": 10,
   "metadata": {},
   "outputs": [],
   "source": [
    "# contiene: lista(any) any -> bool\n",
    "# indica si una lista posee al menos un elemento indicado\n",
    "# ej: contiene(Lnumeros,8) entrega True\n",
    "def contiene(L, e):\n",
    "    assert esLista(L)\n",
    "    \n",
    "    # CB: si llegamos a la listaVacia, significa que revisamos exhaustivamente \n",
    "    #  y el elemento no está :(\n",
    "    if L == listaVacia:\n",
    "        return False\n",
    "    \n",
    "    # CR: revisamos el elemento actual\n",
    "    actual = cabeza(L)\n",
    "\n",
    "    # si coincide con el elemento buscado, ganamos\n",
    "    if actual == e:\n",
    "        return True\n",
    "    # si no, seguimos buscando en el resto de L\n",
    "    else:\n",
    "        return contiene(cola(L), e)\n",
    "\n",
    "# Test\n",
    "Lnumeros = lista(4, lista(8, lista(3, listaVacia)))\n",
    "Lfrutas2 = lista('naranja', lista('pera', lista('naranja', lista('kiwi', listaVacia))))\n",
    "\n",
    "assert contiene(Lnumeros,8)\n",
    "assert not contiene(Lfrutas2,'manzana')"
   ]
  },
  {
   "cell_type": "code",
   "execution_count": 11,
   "metadata": {},
   "outputs": [
    {
     "data": {
      "text/plain": [
       "False"
      ]
     },
     "execution_count": 11,
     "metadata": {},
     "output_type": "execute_result"
    }
   ],
   "source": [
    "Lfrutas = lista('pera',lista('manzana',listaVacia))\n",
    "contiene(Lfrutas, 'piña')"
   ]
  },
  {
   "cell_type": "code",
   "execution_count": 12,
   "metadata": {},
   "outputs": [
    {
     "data": {
      "text/plain": [
       "True"
      ]
     },
     "execution_count": 12,
     "metadata": {},
     "output_type": "execute_result"
    }
   ],
   "source": [
    "Lnumeros = lista(1, lista(5, lista(2,listaVacia)))\n",
    "contiene(Lnumeros,5)"
   ]
  },
  {
   "cell_type": "markdown",
   "metadata": {},
   "source": [
    "### Eliminación de elementos (`eliminar/borrar`)\n",
    "\n",
    "Volviendo a la lista de frutas, supongamos que ahora queremos eliminar una pera. Como vimos anteriormente, las estructuras no son mutables, entonces ¿Qué podemos hacer?\n",
    "\n",
    "Podemos simular la eliminación de una pera de la siguiente manera:\n",
    "\n",
    "- Reconstruimos la lista \"clonando\" las frutas una por una\n",
    "\n",
    "- Si nos encontramos con una pera, la ignoramos en la reconstrucción, y anexamos las frutas que vienen después de tal pera\n",
    "\n",
    "![](borrar_single_fruta_1.svg)\n",
    "\n",
    "![](borrar_single_fruta_2.svg)\n"
   ]
  },
  {
   "cell_type": "code",
   "execution_count": 13,
   "metadata": {},
   "outputs": [],
   "source": [
    "# eliminarPera: lista(str) -> lista(str)\n",
    "# elimina una pera de una lista de frutas\n",
    "# ej: eliminarPera(Lfrutas, 'pera') entrega\n",
    "#  lista('naranja', lista('naranja', lista('kiwi', listaVacia)))\n",
    "def eliminarPera(L):\n",
    "    assert esLista(L)\n",
    "    \n",
    "    # CB: si llegamos a la listaVacia, no hay nada mas que eliminar\n",
    "    if L == listaVacia:\n",
    "        return listaVacia\n",
    "    \n",
    "    # CR: miramos la fruta actual\n",
    "    actual = cabeza(L)\n",
    "    # Si es una pera, la ignoramos y anexamos lo que quede en L\n",
    "    if actual == 'pera':\n",
    "        return cola(L)\n",
    "    # si no, la conservamos, y seguimos buscando en el resto de L\n",
    "    else:\n",
    "        return lista(actual, eliminarPera(cola(L)))\n",
    "\n",
    "#Test\n",
    "Lfrutas = lista('naranja', lista('pera', lista('naranja', lista('kiwi', listaVacia))))\n",
    "assert eliminarPera(Lfrutas) == lista('naranja', lista('naranja', lista('kiwi', listaVacia)))"
   ]
  },
  {
   "cell_type": "markdown",
   "metadata": {},
   "source": [
    "Para una lista que tiene una pera, esperamos que la elimine"
   ]
  },
  {
   "cell_type": "code",
   "execution_count": 14,
   "metadata": {},
   "outputs": [
    {
     "data": {
      "text/plain": [
       "lista(valor='naranaja', siguiente=lista(valor='naranja', siguiente=lista(valor='kiwi', siguiente=None)))"
      ]
     },
     "execution_count": 14,
     "metadata": {},
     "output_type": "execute_result"
    }
   ],
   "source": [
    "Lfrutas = lista('naranaja',lista('pera', lista('naranja', lista('kiwi', listaVacia))))\n",
    "eliminarPera(Lfrutas)"
   ]
  },
  {
   "cell_type": "markdown",
   "metadata": {},
   "source": [
    "Para una lista que tiene dos peras, esperamos que solo elimine una de ellas"
   ]
  },
  {
   "cell_type": "code",
   "execution_count": 15,
   "metadata": {},
   "outputs": [
    {
     "data": {
      "text/plain": [
       "lista(valor='naranaja', siguiente=lista(valor='pera', siguiente=lista(valor='kiwi', siguiente=None)))"
      ]
     },
     "execution_count": 15,
     "metadata": {},
     "output_type": "execute_result"
    }
   ],
   "source": [
    "Lfrutas2 = lista('naranaja',lista('pera', lista('pera', lista('kiwi', listaVacia))))\n",
    "eliminarPera(Lfrutas2)"
   ]
  },
  {
   "cell_type": "markdown",
   "metadata": {},
   "source": [
    "Para una lista que no tiene peras, esperamos que no elimine ninguna fruta"
   ]
  },
  {
   "cell_type": "code",
   "execution_count": 16,
   "metadata": {},
   "outputs": [
    {
     "data": {
      "text/plain": [
       "lista(valor='manzana', siguiente=lista(valor='kiwi', siguiente=lista(valor='platano', siguiente=None)))"
      ]
     },
     "execution_count": 16,
     "metadata": {},
     "output_type": "execute_result"
    }
   ],
   "source": [
    "Lfrutas3 = lista('manzana', lista('kiwi', lista('platano',listaVacia)))\n",
    "eliminarPera(Lfrutas3)"
   ]
  },
  {
   "cell_type": "markdown",
   "metadata": {},
   "source": [
    "Al igual que el caso anterior, podemos generalizar esta función, para que pueda operar con una lista cualquiera de elementos. Esto se conoce como la función `eliminar(L,e)` o `borrar(L,e)`, que elimina la primera aparición del elemento `e` en la lista `L`"
   ]
  },
  {
   "cell_type": "code",
   "execution_count": 18,
   "metadata": {},
   "outputs": [],
   "source": [
    "# eliminar: lista(any) any -> lista(any)\n",
    "# elimina un elemento indicado de la lista entregada\n",
    "# ej: eliminar(Lfrutas, 'pera') entrega\n",
    "#  lista('naranja', lista('naranja', lista('kiwi', listaVacia)))\n",
    "def eliminar(L,e):\n",
    "    assert esLista(L)\n",
    "    \n",
    "    # CB: si llegamos a la listaVacia, no hay nada mas que eliminar\n",
    "    if L == listaVacia:\n",
    "        return listaVacia\n",
    "    \n",
    "    # CR: miramos el elemento actual\n",
    "    actual = cabeza(L)\n",
    "    # si es el elemento a eliminar, lo ignoramos\n",
    "    actual = cabeza(L)\n",
    "    if actual == e:\n",
    "        return cola(L)\n",
    "    else:\n",
    "    # si no, seguimos buscando en el resto de la lista\n",
    "        return lista(actual, eliminar(cola(L),e))\n",
    "\n",
    "#Test\n",
    "Lnumeros = lista(42, lista(8, lista(42, lista(9, listaVacia))))\n",
    "Lfrutas = lista('naranja', lista('pera', lista('naranja', lista('kiwi', listaVacia))))\n",
    "assert eliminar(Lfrutas,'pera') == lista('naranja', lista('naranja', lista('kiwi', listaVacia)))\n",
    "assert eliminar(Lnumeros,42) == lista(8, lista(42, lista(9, listaVacia)))\n"
   ]
  },
  {
   "cell_type": "code",
   "execution_count": 20,
   "metadata": {},
   "outputs": [
    {
     "data": {
      "text/plain": [
       "lista(valor='naranaja', siguiente=lista(valor='pera', siguiente=lista(valor='naranja', siguiente=None)))"
      ]
     },
     "execution_count": 20,
     "metadata": {},
     "output_type": "execute_result"
    }
   ],
   "source": [
    "Lfrutas = lista('naranaja',lista('pera', lista('naranja', lista('kiwi', listaVacia))))\n",
    "eliminar(Lfrutas,'kiwi')"
   ]
  },
  {
   "cell_type": "code",
   "execution_count": 21,
   "metadata": {},
   "outputs": [
    {
     "data": {
      "text/plain": [
       "lista(valor=1, siguiente=lista(valor=5, siguiente=lista(valor=2, siguiente=None)))"
      ]
     },
     "execution_count": 21,
     "metadata": {},
     "output_type": "execute_result"
    }
   ],
   "source": [
    "Lnumeros = lista(1, lista(5,lista(2,listaVacia)))\n",
    "eliminar(Lnumeros,8)"
   ]
  },
  {
   "cell_type": "markdown",
   "metadata": {},
   "source": [
    "¿Y si quisieramos eliminar todas las apariciones de un determinado elemento? Podemos modificar el comportamiento de la función anterior, para que no se detenga cuando encontramos la primera aparición, y siga \"ignorando\" elementos hasta llegar al final de la lista"
   ]
  },
  {
   "cell_type": "code",
   "execution_count": 23,
   "metadata": {},
   "outputs": [],
   "source": [
    "# eliminarTodos: lista(any) any -> lista(any)\n",
    "# elimina todas las apariciones de un elemento\n",
    "# indicado de la lista entregada\n",
    "# ej: eliminarTodos(Lfrutas, 'naranja') entrega\n",
    "#  lista('pera', lista('kiwi', listaVacia))\n",
    "def eliminarTodos(L,e):\n",
    "    assert esLista(L)\n",
    "    \n",
    "    # CB: si llegamos a la listaVacia, no hay nada mas que eliminar\n",
    "    if L == listaVacia:\n",
    "        return listaVacia\n",
    "    \n",
    "    #  CR: miramos el elemento actual\n",
    "    actual = cabeza(L)\n",
    "    # si es el elemento a eliminar, lo ignoramos y continuamos la recursión\n",
    "    if actual == e:\n",
    "        return eliminarTodos(cola(L),e)\n",
    "    else:\n",
    "    # si no, seguimos buscando en el resto de la lista\n",
    "        return lista(actual, eliminarTodos(cola(L),e))\n",
    "\n",
    "#Test\n",
    "Lnumeros = lista(42, lista(8, lista(42, lista(9, listaVacia))))\n",
    "Lfrutas = lista('naranja', lista('pera', lista('naranja', lista('kiwi', listaVacia))))\n",
    "assert eliminarTodos(Lfrutas,'naranja') == lista('pera', lista('kiwi', listaVacia))\n",
    "assert eliminarTodos(Lnumeros,42) == lista(8, lista(9, listaVacia))"
   ]
  },
  {
   "cell_type": "code",
   "execution_count": 25,
   "metadata": {},
   "outputs": [
    {
     "data": {
      "text/plain": [
       "lista(valor=8, siguiente=lista(valor=9, siguiente=None))"
      ]
     },
     "execution_count": 25,
     "metadata": {},
     "output_type": "execute_result"
    }
   ],
   "source": [
    "Lnumeros = lista(42, lista(8, lista(42, lista(9, listaVacia))))\n",
    "eliminarTodos(Lnumeros,42)"
   ]
  },
  {
   "cell_type": "code",
   "execution_count": 26,
   "metadata": {},
   "outputs": [
    {
     "data": {
      "text/plain": [
       "lista(valor='naranaja', siguiente=lista(valor='pera', siguiente=lista(valor='kiwi', siguiente=None)))"
      ]
     },
     "execution_count": 26,
     "metadata": {},
     "output_type": "execute_result"
    }
   ],
   "source": [
    "Lfrutas = lista('naranaja',lista('pera', lista('naranja', lista('kiwi', listaVacia))))\n",
    "eliminarTodos(Lfrutas,'naranja')"
   ]
  },
  {
   "cell_type": "markdown",
   "metadata": {},
   "source": [
    "### Bonus track: Función `dejarSolo`\n",
    "\n",
    "¿Que pasa si en vez de eliminar un cierto elemento, queremos quedarnos solo con los elementos que indicamos o cumplan cierto criterio? Podemos tomar la idea anterior de `eliminarTodos`, pero invertimos la acción realiada en el paso recursivo, es decir, si el elemento coincide con el indicado, lo conservamos, si no, lo ignoramos."
   ]
  },
  {
   "cell_type": "code",
   "execution_count": 27,
   "metadata": {},
   "outputs": [],
   "source": [
    "# dejarSolo: lista(any) any -> lista(any)\n",
    "def dejarSolo(L,e):\n",
    "    assert esLista(L)\n",
    "    \n",
    "    if L == listaVacia:\n",
    "        return listaVacia\n",
    "    else:\n",
    "        actual = cabeza(L)\n",
    "        if actual == e:\n",
    "            return lista(actual, dejarSolo(cola(L),e))\n",
    "        else:\n",
    "            return dejarSolo(cola(L),e)"
   ]
  },
  {
   "cell_type": "code",
   "execution_count": 28,
   "metadata": {},
   "outputs": [
    {
     "data": {
      "text/plain": [
       "lista(valor=42, siguiente=lista(valor=42, siguiente=None))"
      ]
     },
     "execution_count": 28,
     "metadata": {},
     "output_type": "execute_result"
    }
   ],
   "source": [
    "Lnumeros = lista(42, lista(8, lista(42, lista(9, listaVacia))))\n",
    "dejarSolo(Lnumeros,42)"
   ]
  },
  {
   "cell_type": "code",
   "execution_count": 29,
   "metadata": {},
   "outputs": [
    {
     "data": {
      "text/plain": [
       "lista(valor=9, siguiente=None)"
      ]
     },
     "execution_count": 29,
     "metadata": {},
     "output_type": "execute_result"
    }
   ],
   "source": [
    "Lnumeros = lista(42, lista(8, lista(42, lista(9, listaVacia))))\n",
    "dejarSolo(Lnumeros,9)"
   ]
  },
  {
   "cell_type": "code",
   "execution_count": 30,
   "metadata": {},
   "outputs": [
    {
     "name": "stdout",
     "output_type": "stream",
     "text": [
      "None\n"
     ]
    }
   ],
   "source": [
    "Lnumeros = lista(42, lista(8, lista(42, lista(9, listaVacia))))\n",
    "print(dejarSolo(Lnumeros,0))"
   ]
  },
  {
   "cell_type": "markdown",
   "metadata": {},
   "source": [
    "## Listas de Estructuras\n",
    "\n",
    "Hemos visto ejemplos en donde las listas pueden almacentar distintos tipos de datos simples, como números o texto. En particular, las listas también pueden almacenar estructuras\n",
    "\n",
    "### Ej: Lista de Dulces\n",
    "\n",
    "Supongamos que queremos mejorar nuestra representación anterior de dulces (que antes solo era un `str`), y ahora cada dulce será representado por una estructura, que almacena la siguiente información: *nombre*, *sabor* y *cantidad*"
   ]
  },
  {
   "cell_type": "code",
   "execution_count": 3,
   "metadata": {},
   "outputs": [],
   "source": [
    "# Dulce: nombre(str) sabor(str) cantidad(int)\n",
    "estructura.crear('Dulce','nombre sabor cantidad')"
   ]
  },
  {
   "cell_type": "markdown",
   "metadata": {},
   "source": [
    "Y contamos con algunos Dulces de ejemplo:"
   ]
  },
  {
   "cell_type": "code",
   "execution_count": 6,
   "metadata": {},
   "outputs": [],
   "source": [
    "suny = Dulce('suny', 'manjar', 22)\n",
    "frugeleN = Dulce('frugele', 'naranja', 36)\n",
    "frugeleM = Dulce('frugele', 'manzana', 8)\n",
    "masticableN = Dulce('masticable', 'naranja', 33)"
   ]
  },
  {
   "cell_type": "markdown",
   "metadata": {},
   "source": [
    "Y una lista con estos Dulces"
   ]
  },
  {
   "cell_type": "code",
   "execution_count": 7,
   "metadata": {},
   "outputs": [],
   "source": [
    "Ldulces = lista(suny, lista(frugeleN, lista(frugeleM, lista(masticableN, listaVacia))))"
   ]
  },
  {
   "cell_type": "markdown",
   "metadata": {},
   "source": [
    "![](Ldulcesest.png)"
   ]
  },
  {
   "cell_type": "markdown",
   "metadata": {},
   "source": [
    "Con esto, dada una lista de estructuras Dulce, nos gustaria:\n",
    "\n",
    "- Saber cuantos dulces hay en total\n",
    "\n",
    "- Obtener el dulce con mayor cantidad\n",
    "\n",
    "- Obtener una lista con todos los dulces de cierto sabor\n",
    "\n",
    "### Función `contarDulces`\n",
    "\n",
    "Para la función `contarDulces(L)`, podemos usar una estrategia similar a la que usamos para sumar los números de una lista de números\n",
    "\n",
    "Solo hay que tener la consideración de que, como estamos trabajando con estructuras, tenemos que ir \"desempaquetando\" los dulces, para revisar la información relevante para esta operación (la cantidad)\n"
   ]
  },
  {
   "cell_type": "code",
   "execution_count": 8,
   "metadata": {},
   "outputs": [],
   "source": [
    "# contarDulces: lista(Dulce) -> num\n",
    "# entrega cuantos dulces hay en total en la lista\n",
    "# ej: contarDulces(Ldulces) entrega 99\n",
    "def contarDulces(L):\n",
    "    assert esLista(L)\n",
    "    \n",
    "    # CB: no hay dulces que contar en la listaVacia\n",
    "    if L == listaVacia:  \n",
    "        return 0\n",
    "    # CR: extraemos el elemento actual\n",
    "    actual = cabeza(L)\n",
    "    # desempaquetamos la cantidad, la sumamos y continuamos la recursión\n",
    "    return actual.cantidad + contarDulces(cola(L))\n",
    "    \n",
    "# Test\n",
    "assert contarDulces(Ldulces) == 99"
   ]
  },
  {
   "cell_type": "code",
   "execution_count": 9,
   "metadata": {},
   "outputs": [
    {
     "data": {
      "text/plain": [
       "99"
      ]
     },
     "execution_count": 9,
     "metadata": {},
     "output_type": "execute_result"
    }
   ],
   "source": [
    "contarDulces(Ldulces)"
   ]
  },
  {
   "cell_type": "code",
   "execution_count": 10,
   "metadata": {},
   "outputs": [
    {
     "data": {
      "text/plain": [
       "0"
      ]
     },
     "execution_count": 10,
     "metadata": {},
     "output_type": "execute_result"
    }
   ],
   "source": [
    "contarDulces(listaVacia)"
   ]
  },
  {
   "cell_type": "markdown",
   "metadata": {},
   "source": [
    "### Función `mayorDulces`\n",
    "\n",
    "Para la función `mayorDulce(L)`, no podemos usar la función `max` de Python, ya que no sabe como comparar estructuras (se comparan por cantidad? nombre? sabor?)\n",
    "\n",
    "Entonces, podemos retomar la idea de comparaciones estilo \"torneo\", en la cual comparamos recursivamente el Dulce actual, contra el mejor Dulce que se encuentre en el resto de la lista\n",
    "\n",
    "Casos Particulares:\n",
    "\n",
    "- Si nos entregan una lista de 0 dulces, entonces no hay mayor Dulce. Entregamos `None`, o un Dulce \"comodín\", que siempre pierda contra cualquier otro Dulce (``Dulce('nosoydulce','notengosabor',0)``)\n",
    "\n",
    "- Si nos entregan una lista con 1 Dulce, entonces el mayor Dulce solo puede ser ese Dulce. Para verificar esta condición, checkeamos si la cola de `L` es la `listaVacia` o no\n",
    "\n",
    "\n",
    "![](mayor_tournament.png)\n",
    "![](mayor_tournament5.png)\n",
    "\n"
   ]
  },
  {
   "cell_type": "code",
   "execution_count": 15,
   "metadata": {},
   "outputs": [],
   "source": [
    "# mayorDulces: lista(Dulce) -> Dulce\n",
    "# entrega el Dulce que tiene mayor cantidad\n",
    "# ej: mayorDulce(Ldulces) entrega Dulce('frugele','naranja',36)    \n",
    "def mayorDulce(L):\n",
    "    assert esLista(L)\n",
    "\n",
    "    # CB1: El mayor Dulce en una listaVacia no existe\n",
    "    if L == listaVacia:\n",
    "        return None    \n",
    "    \n",
    "    # CB2: El mayor dulce de una lista que solo tiene 1 Dulce es ese mismo\n",
    "    if cola(L) == listaVacia:\n",
    "        return cabeza(L)\n",
    "    # CR: extraemos el elemento actual\n",
    "    actual = cabeza(L)\n",
    "    # Buscamos recursivamente cual es el mayor dulce entre todos los que siguen\n",
    "    mayorResto = mayorDulce(cola(L))\n",
    "    # comparamos las cantidades del actual y el mayor del futuro\n",
    "    if actual.cantidad >= mayorResto.cantidad:\n",
    "        return actual\n",
    "    else:\n",
    "        return mayorResto\n",
    "        \n",
    "# Test\n",
    "assert mayorDulce(Ldulces) == Dulce('frugele', 'naranja', 36)"
   ]
  },
  {
   "cell_type": "code",
   "execution_count": 16,
   "metadata": {},
   "outputs": [
    {
     "data": {
      "text/plain": [
       "Dulce(nombre='suny', sabor='manjar', cantidad=22)"
      ]
     },
     "execution_count": 16,
     "metadata": {},
     "output_type": "execute_result"
    }
   ],
   "source": [
    "mayorDulce(lista(suny,listaVacia))"
   ]
  },
  {
   "cell_type": "code",
   "execution_count": 17,
   "metadata": {},
   "outputs": [
    {
     "name": "stdout",
     "output_type": "stream",
     "text": [
      "None\n"
     ]
    }
   ],
   "source": [
    "print(mayorDulce(listaVacia))"
   ]
  },
  {
   "cell_type": "code",
   "execution_count": 18,
   "metadata": {},
   "outputs": [
    {
     "data": {
      "text/plain": [
       "Dulce(nombre='frugele', sabor='naranja', cantidad=36)"
      ]
     },
     "execution_count": 18,
     "metadata": {},
     "output_type": "execute_result"
    }
   ],
   "source": [
    "mayorDulce(Ldulces)"
   ]
  },
  {
   "cell_type": "markdown",
   "metadata": {},
   "source": [
    "### Función `saborDulces`\n",
    "\n",
    "Para la función `saborDulce(L,sabor)`, podemos seguir una idea similar a la función `eliminar` vista anteriormente. Vamos revisando Dulce por Dulce, lo extraemos, y si coincide con el sabor buscado, lo conservamos, y en caso contrario, lo ignoramos"
   ]
  },
  {
   "cell_type": "code",
   "execution_count": 22,
   "metadata": {},
   "outputs": [],
   "source": [
    "# saborDulce: lista(Dulce) -> lista(Dulce)\n",
    "# entrega una lista con los dulces de cierto sabor\n",
    "# ej: saborDulce(Ldulces) entrega \n",
    "#  lista(frugeleN, lista(masticableN, listaVacia))\n",
    "def saborDulce(L,sabor):\n",
    "    assert esLista(L) and type(sabor) == str\n",
    "    \n",
    "    if L == listaVacia:\n",
    "        return listaVacia\n",
    "    \n",
    "    actual = cabeza(L)\n",
    "    if actual.sabor == sabor:\n",
    "        return lista(actual, saborDulce(cola(L), sabor))\n",
    "    else:\n",
    "        return saborDulce(cola(L), sabor)\n",
    "\n",
    "#Test\n",
    "assert saborDulce(Ldulces,'naranja') == lista(frugeleN, lista(masticableN, listaVacia))\n"
   ]
  },
  {
   "cell_type": "code",
   "execution_count": 23,
   "metadata": {},
   "outputs": [
    {
     "data": {
      "text/plain": [
       "lista(valor=Dulce(nombre='frugele', sabor='naranja', cantidad=36), siguiente=lista(valor=Dulce(nombre='masticable', sabor='naranja', cantidad=33), siguiente=None))"
      ]
     },
     "execution_count": 23,
     "metadata": {},
     "output_type": "execute_result"
    }
   ],
   "source": [
    "saborDulce(Ldulces, 'naranja')"
   ]
  },
  {
   "cell_type": "code",
   "execution_count": 24,
   "metadata": {},
   "outputs": [
    {
     "name": "stdout",
     "output_type": "stream",
     "text": [
      "None\n"
     ]
    }
   ],
   "source": [
    "print(saborDulce(Ldulces, 'platano'))"
   ]
  },
  {
   "cell_type": "markdown",
   "metadata": {},
   "source": [
    "## Conclusiones\n",
    "\n",
    "Las listas nos permiten agrupar elementos que comparten un mismo contexto, y también nos permiten hacer funciones que trabajan con un grupo \"grande\" de tales elementos\n",
    "\n",
    "Hoy en particular vimos que:\n",
    "\n",
    "- Podemos verificar la existencia de un elemento en una lista\n",
    "\n",
    "- Podemos eliminar de una lista una o más apariciones de un elemento dado\n",
    "\n",
    "- Podemos crear funciones que operen con una lista de Estructuras\n",
    "\n"
   ]
  },
  {
   "cell_type": "markdown",
   "metadata": {},
   "source": [
    "## Ejercicio 04\n",
    "\n",
    "Es conocido que la sangre (humana) se puede clasificar en tipo ``A``, ``B``, ``AB`` y ``O``, y a su vez se puede clasificar por su factor RH, el cual puede ser ``+`` o ``-``.\n",
    "\n",
    "Para clasificar los packs de sangre en un centro de donación, se cuenta con la estructura Sangre, que almacena un codigo, el tipo de sangre y factor RH.\n",
    "\n",
    "```python\n",
    "# Sangre: cod(int) tipo(str) rh(str)\n",
    "Estructura.crear('Sangre', 'cod tipo rh')\n",
    "```\n",
    "\n",
    "Suponga que tiene varias listas de estructuras Sangre \n",
    "(y asuma que la lista solo tiene Sangres). Al respecto, cree las siguientes funciones:\n",
    "\n",
    "- Función ``universal(listaS)``,  que dada una lista de sangre, cuente cuanta sangre hay del tipo  ``O`` con factor RH ``-``  \n",
    "- Función ``soloTipo(listas, t)``, que dada una lista de sangre y un tipo, entregue una lista que solo contenga sangre del tipo indicado. \n",
    "\n",
    "Entregar por u-cursos antes del plazo de entrega."
   ]
  }
 ],
 "metadata": {
  "kernelspec": {
   "display_name": "Python 3 (ipykernel)",
   "language": "python",
   "name": "python3"
  },
  "language_info": {
   "codemirror_mode": {
    "name": "ipython",
    "version": 3
   },
   "file_extension": ".py",
   "mimetype": "text/x-python",
   "name": "python",
   "nbconvert_exporter": "python",
   "pygments_lexer": "ipython3",
   "version": "3.10.5"
  },
  "vscode": {
   "interpreter": {
    "hash": "98b95ce4537a043c6c2f8047f97d2678115deb8444c76d437608d4f0db95d495"
   }
  }
 },
 "nbformat": 4,
 "nbformat_minor": 4
}
