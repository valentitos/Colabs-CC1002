{
 "cells": [
  {
   "cell_type": "markdown",
   "metadata": {},
   "source": [
    "<a href=\"https://colab.research.google.com/github/valentitos/Colabs-CC1002/blob/main/Clase_07_Testing/Clase07_Testing.ipynb\" target=\"_parent\"><img src=\"https://colab.research.google.com/assets/colab-badge.svg\" alt=\"Open In Colab\"/></a>"
   ]
  },
  {
   "cell_type": "markdown",
   "metadata": {},
   "source": [
    "# Clase 07: Testing"
   ]
  },
  {
   "cell_type": "markdown",
   "metadata": {},
   "source": [
    "## Repaso Clase 06\n",
    "\n",
    "### Más Recursión\n",
    "\n",
    "Siempre que se resuelva un problema por recursión, hay que:\n",
    "\n",
    "- Estudiar el problema\n",
    "\n",
    "- Identificar una instancia fácil de resolución (Caso Base)\n",
    "\n",
    "- Identificar como reducir el problema, para que eventualmente lleguemos al Caso base\n",
    "\n",
    "- Plantear el Caso Recursivo, invocando a la misma función, pero disminuyendo el tamaño del problema\n",
    "\n",
    "### Torres de Hanoi\n",
    "\n",
    "Vimos el problema de contar cuantos movimientos hay que hacer para mover una Torre de Hanoi\n",
    "\n",
    "**Caso Base**: Torre de 1 disco, la solución es 1 movimiento\n",
    "\n",
    "<div><img src=\"img0_hanoi1.svg\" width=\"75%;\"/></div>\n",
    "\n",
    "**Caso Recursivo**: Mover una torre de tamaño `n-1`, luego mover la base de la torre, y finalmente mover la torre de tamaño `n-1` sobre la base.\n",
    "\n",
    "<div><img src=\"img0_hanoi2.svg\" width=\"75%;\"/></div>\n",
    "\n",
    "Así, podemos deducir la siguiente definición recursiva:\n",
    "\n",
    "$$\n",
    "hanoi(n) = \\begin{cases}\n",
    "               1 + 2*hanoi(n-1) & \\text{si $n>1$} \\\\\n",
    "               1 & \\text{si $n=1$}\n",
    "            \\end{cases}\n",
    "$$\n",
    "\n",
    "\n",
    "En el link `http://towersofhanoi.info/Animate.aspx` se encuentra una versión animada del problema.\n",
    "\n",
    "### Números de Fibonacci\n",
    "\n",
    "Serie de números fue descrita por Leonardo de Pisa, Matemático Italiano del siglo XIII, también conocido como Fibonacci. Estos números son una secuencia de la forma:\n",
    "\n",
    "`0, 1, 1, 2, 3, 5, 8, 13, 21, 34, 55...`\n",
    "\n",
    "Donde notamos que cada elemento es la suma de los 2 anteriores. Con esto, podemos dar la siguiente definición de esta serie de números\n",
    "\n",
    "$$\n",
    "Fib_{n} = \\begin{cases}\n",
    "               0 & \\text{si $n=0$} \\\\\n",
    "               1 & \\text{si $n=1$} \\\\\n",
    "               Fib_{n-1} + Fib_{n-2}  & \\text{si $n>=2$}\n",
    "            \\end{cases}\n",
    "$$\n",
    "\n",
    "```python\n",
    "# fibonacci: int -> int\n",
    "# calcula el n-esimo numero de la sucesión de fibonacci\n",
    "# ej: fibonacci(7) entrega 13\n",
    "def fibonacci(n):\n",
    "    # caso base 1\n",
    "    if n == 0:\n",
    "        return 0\n",
    "    # caso base 2\n",
    "    elif n == 1:\n",
    "        return 1\n",
    "    # caso recursivo\n",
    "    else:\n",
    "        return fibonacci(n-1) + fibonacci(n-2)\n",
    "\n",
    "# Test\n",
    "assert fibonacci(1) == 1\n",
    "assert fibonacci(7) == 13\n",
    "```\n",
    "- Caso Base: Está permitido tener más de un caso base\n",
    "\n",
    "- Caso Recursivo: Podemos invocar más de una recursión a la vez\n",
    "\n",
    "### Sumar Números Cíclicamente\n",
    "\n",
    "Vimos una función recursiva, que le pide a una persona ingresar números positivos sucesivamente. Cuando la persona ingrese un número negativo, entonces se muestra en pantalla la suma de todos los números ingresados previamente (sin considerar el número negativo)\n",
    "\n",
    "```python\n",
    ">>> sumainteractiva()\n",
    "    número? 7\n",
    "    número? 3\n",
    "    número? 4\n",
    "    número? 8\n",
    "    número? -2\n",
    "    la suma es: 22\n",
    "```\n",
    "\n",
    "Usamos una variable por omisión, para ir guardando la suma parcial que llevamos hasta el momento\n",
    "\n",
    "La responsabilidad de la función es:\n",
    "\n",
    "- Pedir que ingresen un número\n",
    "\n",
    "- **Caso Base**: Si ingresan un número negativo, entonces mostramos la suma en pantalla y termina el programa\n",
    "\n",
    "- **Caso Recursivo**: Si ingresan un número positivo, entonces lo agregamos a la suma parcial, y re-invocamos a la función para repetir el proceso\n",
    "\n",
    "```python\n",
    "# sumainteractiva: None (num) -> None\n",
    "# pregunta a una persona por numeros positivos\n",
    "# hasta queingresan un numero negativo.\n",
    "# Luego, imprime la suma de los numeros\n",
    "# ej: sumainteractiva() inicia el programa\n",
    "def sumainteractiva(suma = 0):\n",
    "\n",
    "    n = float(input(\"número? \"))\n",
    "\n",
    "    # caso base\n",
    "    if n < 0:\n",
    "        print(\"la suma es: \", suma)\n",
    "        return None\n",
    "\n",
    "    #caso recursivo\n",
    "    return sumainteractiva(suma + n)\n",
    "```\n",
    "\n",
    "- Se usa una variable por omisión para guardar la suma parcial (inicialmente es 0)\n",
    "\n",
    "- En el Caso Base, mostramos en pantalla el valor de la suma que tenemos guardado\n",
    "\n",
    "- En el Caso Recursivo, hacemos una llamado recursivo para repetir la pregunta, actualizando el valor de la suma\n",
    "\n",
    "\n",
    "### Módulo Turtle\n",
    "\n",
    "Las funciones básicas del módulo son:\n",
    "\n",
    "| Función | Significado |\n",
    "|--|--|\n",
    "| `turtle.forward(x)`| La tortuga avanza `x` pasos |\n",
    "| `turtle.left(ang)`| La tortuga gira a la izquierda `ang` grados |\n",
    "| `turtle.right(ang)`| La tortuga gira a la derecha `ang` grados |\n",
    "| `turtle.penup()`| Levanta el lápiz de dibujo (no pinta el camino) |\n",
    "| `turtle.pendown()`| Baja el lápiz de dibujo (pinta el camino) |\n",
    "| `turtle.shape('turtle')`| Cambia la figura a una tortuga (solo estético) |\n",
    "| `turtle.speed(n)`| Cambia la velocidad de dibujo |\n",
    "| `turtle.done()`| Cuando queremos dejar de dibujar definitivamente |\n",
    "\n",
    "### Fractales\n",
    "\n",
    "Objeto geométrico cuya estructura principal se repite a distintas escalas\n",
    "Es decir, su forma está hecha de copias más pequeñas de su misma figura\n",
    "\n",
    "<div><img src=\"img0_fractal1.svg\" width=\"75%;\"/></div>\n",
    "\n",
    "\n",
    "Escribimos una función que nos permite construir el Triángulo de Sierpinski. La forma base corresponde a un tríangulo equilátero, y en cada llamado recursivo, el Largo del lado disminuye a la mitad\n",
    "\n",
    "<div><img src=\"img0_triangulo.svg\" width=\"75%;\"/></div>\n",
    "\n",
    "**Caso Base**: Hay que decirle a la tortuga que dibuje:\n",
    "\n",
    "- El trazo de 1 a 2\n",
    "\n",
    "- Girar 120° hacia la izq\n",
    "\n",
    "- El trazo de 2 a 3\n",
    "\n",
    "- Girar 120° hacia la izq\n",
    "\n",
    "- El trazo de 3 a 1\n",
    "\n",
    "- Girar 120° hacia la izq\n",
    "\n",
    "<div><img src=\"img0_triangulo2.svg\" width=\"75%;\"/></div>\n",
    "\n",
    "Es \"buena costumbre\" dejar que la tortuga quede mirando en la misma dirección en la cual empezó\n",
    "\n",
    "\n",
    "**Caso Recursivo**: Hay que decirle a la tortuga que dibuje:\n",
    "\n",
    "- Desde 1, dibujar recursivamente el trazo verde\n",
    "\n",
    "- Avanzar de 1 a 2\n",
    "\n",
    "- Dibujar recursivamente el trazo azul\n",
    "\n",
    "- Girar 120° a la izq\n",
    "\n",
    "- Avanzar de 2 a 3\n",
    "\n",
    "- Girar 120° a la der\n",
    "\n",
    "- Dibujar recursivamente el trazo rojo\n",
    "\n",
    "- Girar 120° a la der\n",
    "\n",
    "- Avanzar de 3 a 1\n",
    "\n",
    "- Girar 120° a la izq\n",
    "\n",
    "<div><img src=\"img0_triangulo3.svg\" width=\"75%;\"/></div>\n",
    "\n",
    "---"
   ]
  },
  {
   "cell_type": "markdown",
   "metadata": {},
   "source": [
    "## Testing\n",
    "\n",
    "Hasta el momento, solo hemos hablado de testing muy superficialmente, como la última parte de la receta de diseño. En esta clase veremos con mas detalle como realizar buenos test.\n",
    "\n",
    "Testing es la verificación **empírica y objetiva** de la calidad de un producto (en nuestro caso, programas y funciones). Se basa en verificar que la función **cumpla y respete su contrato**\n",
    "\n",
    "Si bien en la practica no se pueden probar todos los datos posibles que lleguen a la función, lo ideal es verificar con casos que sean **representativos** del universo total\n",
    "\n",
    "### ¿Cómo diseñar buenos test?\n",
    "\n",
    "Ejemplo: tenemos una función que calcula el máximo entre dos números dados"
   ]
  },
  {
   "cell_type": "code",
   "execution_count": 1,
   "metadata": {},
   "outputs": [],
   "source": [
    "# maximo: num num -> num\n",
    "# entrega el mayor entre dos numeros\n",
    "# ej: maximo(2,4) entrega 4\n",
    "def maximo(a,b):\n",
    "    if a > b:\n",
    "        return a\n",
    "    else:\n",
    "        return b\n",
    "\n",
    "# Test\n",
    "# ????"
   ]
  },
  {
   "cell_type": "markdown",
   "metadata": {},
   "source": [
    "**Regla 1: El contrato limita el tipo y cantidadde datos con los que hay que probar la función**"
   ]
  },
  {
   "cell_type": "code",
   "execution_count": null,
   "metadata": {},
   "outputs": [],
   "source": [
    "# máximo: num num -> num\n",
    "# ...      \n",
    "assert maximo(10, 20) == 20         # okey\n",
    "assert maximo(2, 'gatito') == 2     # no respeta el contrato\n",
    "assert maximo(2, 4) == 4            # Redundante c/r al primer test\n",
    "assert maximo(2, 4.7) == 4.7        # okey (int con float)\n",
    "assert maximo(-2, 8) == 8           # okey (positivo y negativo)\n",
    "assert maximo(7.3, 3.6) == 7.3      # okey (float con float)"
   ]
  },
  {
   "cell_type": "markdown",
   "metadata": {},
   "source": [
    "**Regla 2: Testear todos los casos limite, o de borde, dentro\n",
    " del dominio de la función**"
   ]
  },
  {
   "cell_type": "code",
   "execution_count": 3,
   "metadata": {},
   "outputs": [],
   "source": [
    "# máximo: num num -> num\n",
    "# ...  \n",
    "assert maximo(20, 10) == 20     # conmutatividad\n",
    "assert maximo(2,2) == 2         # Ambos números iguales\n",
    "assert maximo(0,-6) == 0        # comparación con cero"
   ]
  },
  {
   "cell_type": "markdown",
   "metadata": {},
   "source": [
    "## Precondiciones\n",
    "\n",
    "Volvamos a la idea del siguiente test:\n",
    "\n",
    "```python\n",
    "# maximo: num num -> num\n",
    "assert maximo(2,'gatito') == 2\n",
    "```\n",
    "\n",
    "No tiene sentido evaluar una función con valores que no respeten el contrato\n",
    "\n",
    "Sin embargo, pueden existir situaciones en que una persona \"malvada\" insista en usar la función con valores que no esperamos que reciba la función. Para evitar esto, podemos incluir **precondiciones**.\n",
    "\n",
    "Las precondiciones son afirmaciones (`assert`) que se ejecutan **momentos antes de que la función empiece a realizar su trabajo**\n",
    "\n",
    "En caso de que no se cumpla alguna de las precondiciones estipuladas, la función termina su ejecución sin hacer nada.\n",
    "\n",
    "Las principales clases de precondiciones son:\n",
    "\n",
    "- **Tipo**: Validar que los datos sean de un tipo esperado\n",
    "  \n",
    "  - `int`, `float`, `str`, `bool`, etc.\n",
    "\n",
    "- **Rango**: Validar que los datos estén dentro de un rango esperado\n",
    "  - ej: Que el primer parámetro sea un número positivo\n",
    "  - ej: Que el segundo parámetro sea distinto de cero\n",
    "\n",
    "Antes de continuar, revisemos rapidamente que es formalmente un `assert`\n",
    "\n",
    "### Assertions (Afirmaciones)\n",
    "\n",
    "**assert** es una palabra clave que verifica la validez de una condicion escrita inmediatamente a su derecha:\n",
    "\n",
    "```python\n",
    "assert condicion, mensaje\n",
    "```\n",
    "\n",
    "Si la condición se evalúa a Verdadero (True), entonces el programa continua su ejecución con las siguientes instrucciones.\n",
    "\n",
    "Si la condición se evalúa a Falso (False), el programa termina con un mensaje de error (el mensaje es opcional)\n",
    "\n",
    "### Volviendo al ejemplo\n",
    "\n",
    "¿Que precondiciones deseamos aplicar a nuestra función maximo?\n",
    "\n",
    "- Tipo: Queremos que los datos a recibir sean de tipo numerico (`int` o `float`)\n",
    "\n",
    "- Rango: No tenemos restriccion sobre el rango de los números"
   ]
  },
  {
   "cell_type": "code",
   "execution_count": 10,
   "metadata": {},
   "outputs": [],
   "source": [
    "# maximo: num num -> num\n",
    "# entrega el mayor entre dos numeros\n",
    "# ej: maximo(2,4) entrega 4\n",
    "def maximo(a,b):\n",
    "    # precondiciones:\n",
    "    assert type(a) == int or type(a) == float, 'el parámetro a no es numérico'\n",
    "    assert type(b) == int or type(b) == float, 'el parámetro b no es numérico' \n",
    "\n",
    "    \n",
    "    if a > b:\n",
    "        return a\n",
    "    else:\n",
    "        return b\n",
    "\n",
    "# Test\n",
    "# ..."
   ]
  },
  {
   "cell_type": "markdown",
   "metadata": {},
   "source": [
    "así, al usar la función de manera esperada, todo funciona okey"
   ]
  },
  {
   "cell_type": "code",
   "execution_count": 6,
   "metadata": {},
   "outputs": [
    {
     "data": {
      "text/plain": [
       "4"
      ]
     },
     "execution_count": 6,
     "metadata": {},
     "output_type": "execute_result"
    }
   ],
   "source": [
    "maximo(2,4)"
   ]
  },
  {
   "cell_type": "markdown",
   "metadata": {},
   "source": [
    "Pero al intentar usar la función con valores no esperados, entonces las precondiciones se encargan de detectarlo, y detener a la función antes de que empiece a trabajar"
   ]
  },
  {
   "cell_type": "code",
   "execution_count": null,
   "metadata": {},
   "outputs": [],
   "source": [
    "maximo(10,'gatito')"
   ]
  },
  {
   "cell_type": "markdown",
   "metadata": {},
   "source": [
    "---"
   ]
  },
  {
   "cell_type": "markdown",
   "metadata": {},
   "source": [
    "### Otro ejemplo: función potencia\n",
    "\n",
    "Veamos un segundo ejemplo. tenemos la siguiente función:"
   ]
  },
  {
   "cell_type": "code",
   "execution_count": 8,
   "metadata": {},
   "outputs": [],
   "source": [
    "#potencia: num int -> num\n",
    "#calcula la potencia de x elevado a y (y >=0)\n",
    "#ej: potencia(2,4) entrega 16\n",
    "def potencia(x,y):\n",
    "\n",
    "    # Caso Base\n",
    "    if y == 0:\n",
    "        return 1\n",
    "\n",
    "    # Caso Recursivo\n",
    "    return x * potencia(x, y-1)\n",
    "\n",
    "#test\n",
    "# ..."
   ]
  },
  {
   "cell_type": "markdown",
   "metadata": {},
   "source": [
    "Diseñemos test significativos y agreguemos precondiciones a esta función\n",
    "\n",
    "Aplcando la regla 1 y 2, obtenemos:"
   ]
  },
  {
   "cell_type": "code",
   "execution_count": 9,
   "metadata": {},
   "outputs": [],
   "source": [
    "# potencia: num int -> num\n",
    "\n",
    "# Regla 1 (test que sigan el contrato)\n",
    "assert potencia(2,4) == 16\n",
    "assert potencia(-3,3) == -27\n",
    "assert potencia(0.5,3) == 0.125\n",
    "\n",
    "# Regla 2 (casos de borde)\n",
    "assert potencia(512,0) == 1\n",
    "assert potencia(1024,1) == 1024\n",
    "assert potencia(0,777) == 0\n"
   ]
  },
  {
   "cell_type": "markdown",
   "metadata": {},
   "source": [
    "Ahora para las precondiciones:\n",
    "\n",
    "**Restricción de tipo**: La base puede ser numérica, pero el exponente solo puede ser entero\n",
    "\n",
    "**Restricción de rango**: El exponente solo puede ser positivo\n",
    "\n",
    "Luego, agregando las precondiciones, obtenemos:"
   ]
  },
  {
   "cell_type": "code",
   "execution_count": 11,
   "metadata": {},
   "outputs": [],
   "source": [
    "#potencia: num int -> num\n",
    "#calcula la potencia de x elevado a y\n",
    "#ej: potencia(2,4) entrega 16\n",
    "def potencia(x,y):\n",
    "    assert type(x) == int or type(x) == float, \"la base no es numerica\"\n",
    "    assert type(y) == int, \"el exponente no es entero\"\n",
    "    assert y >= 0, \"el exponente no es positivo\"\n",
    "\n",
    "    # Caso Base\n",
    "    if y == 0:\n",
    "        return 1\n",
    "\n",
    "    # Caso Recursivo\n",
    "    return x * potencia(x, y-1)\n"
   ]
  },
  {
   "cell_type": "markdown",
   "metadata": {},
   "source": [
    "### Conclusiones\n",
    "\n",
    "Las precondiciones nos ayudan a que nuestras funciones sean utilizadas en el contexto para el cual las diseñamos\n",
    "\n",
    "Así, evitamos errores o malentendidos por el uso de la función en contextos para las cuales no fue diseñada"
   ]
  },
  {
   "cell_type": "markdown",
   "metadata": {},
   "source": [
    "## Testing: Casos Especiales\n",
    "\n",
    "### Testing de funciones aleatorias\n",
    "\n",
    "¿Como podemos testear una función sobre la cual no es posible predecir deterministicamente su resultado?\n",
    "\n",
    "Veamoslo con un ejemplo: tenemos una función que simula el lanzamiento de un dado de 6 caras\n"
   ]
  },
  {
   "cell_type": "code",
   "execution_count": 12,
   "metadata": {},
   "outputs": [],
   "source": [
    "import random\n",
    "\n",
    "# dado: None -> int\n",
    "# simula el lanzamiento de un dado\n",
    "# Ej: dado() puede entregar 2\n",
    "def dado():\n",
    "    cara = random.randint(1,6)\n",
    "    return cara\n",
    "\n",
    "# test"
   ]
  },
  {
   "cell_type": "markdown",
   "metadata": {},
   "source": [
    "En este caso, la función puede entregar cualquier valor entre 1 y 6, de manera aleatoria. Con esto, no resulta practico verificar con 6 *assertions*, esperando que se cumpla alguna de ellas\n",
    "\n",
    "En este caso, el test no debería verificar valores particulares, sino que un **rango de valores que vamos a aceptar** como correctos\n",
    "\n",
    "Con esta idea, nuestro test queda:"
   ]
  },
  {
   "cell_type": "code",
   "execution_count": 13,
   "metadata": {},
   "outputs": [],
   "source": [
    "import random\n",
    "\n",
    "# dado: None -> int\n",
    "# simula el lanzamiento de un dado\n",
    "# Ej: dado() puede entregar 2\n",
    "def dado():\n",
    "    cara = random.randint(1,6)\n",
    "    return cara\n",
    "\n",
    "# test\n",
    "valortest = dado()                          # obtenemos el resultado\n",
    "assert type(valortest) == int               # (opcional) validamos que sea entero\n",
    "assert valortest >= 1 and valortest <=6     # validamos que esté en el rango"
   ]
  },
  {
   "cell_type": "markdown",
   "metadata": {},
   "source": [
    "### Testing de funciones que no entregan un resultado\n",
    "\n",
    "Cuando una función no entrega o retorna explicitamente un resultado, entonces estamos en un caso en el cual no es posible testear lo que ella realiza.\n",
    "\n",
    "Por ejemplo, modificando ligeramente la función ```dado``` anterior, para que muestre en pantalla un mensaje, en vez de retornar un resultado:"
   ]
  },
  {
   "cell_type": "code",
   "execution_count": 14,
   "metadata": {},
   "outputs": [],
   "source": [
    "from random import randint\n",
    "\n",
    "#dado: None -> None\n",
    "#simula el lanzamiento de un dado\n",
    "#ej: dado() puede dar 3\n",
    "def dado():\n",
    "    cara = randint(1,6)\n",
    "    print('sacaste un', cara)"
   ]
  },
  {
   "cell_type": "markdown",
   "metadata": {},
   "source": [
    "Si usamos la función, no notamos nada extraño, y nos muestra un resultado"
   ]
  },
  {
   "cell_type": "code",
   "execution_count": 15,
   "metadata": {},
   "outputs": [
    {
     "name": "stdout",
     "output_type": "stream",
     "text": [
      "sacaste un 6\n"
     ]
    }
   ],
   "source": [
    "dado()"
   ]
  },
  {
   "cell_type": "markdown",
   "metadata": {},
   "source": [
    "pero en verdad lo que está ocurriendo es que al ser una función que solo imprime en pantalla, no retorna explicitamente un resultado, lo que se traduce en que si intentamos guardar el resultado en una variable, no obtenemos nada"
   ]
  },
  {
   "cell_type": "code",
   "execution_count": 16,
   "metadata": {},
   "outputs": [
    {
     "name": "stdout",
     "output_type": "stream",
     "text": [
      "sacaste un 4\n",
      "lo que se guardo en la variable es:  None\n"
     ]
    }
   ],
   "source": [
    "a = dado()\n",
    "print('lo que se guardo en la variable es: ', a)"
   ]
  },
  {
   "cell_type": "markdown",
   "metadata": {},
   "source": [
    "Dado que la función no retorna un resultado (entrega `None`), luego no es posible comprobar que ante ciertos parametros de entrada, la función responde con algún valor o rango de valores esperado, ya que solo imprime mensajes en pantalla. \n",
    "\n",
    "Cuando una función no retorna explicitamente un resultado, por defecto, Python instruye que su respuesta es None.\n",
    "\n",
    "Mas adelante, llegando al final de la unidad 2, veremos algunas excepciones en las cuales es posible testear este tipo de funciones en algunos casos, cuando involucran manejo de memoria."
   ]
  },
  {
   "cell_type": "markdown",
   "metadata": {},
   "source": [
    "### Testing de funciones con números reales\n",
    "\n",
    "Los números reales son infinitos, pero el computador tiene **memoria finita**. Luego, no es posible representar directamente **todos** los números reales. Por lo tanto, los números reales se representan con **aritmética de punto flotante**\n",
    "\n",
    "<div><img src=\"img1_flotante1.svg\" width=\"75%;\"/></div>\n",
    "\n",
    "<div><img src=\"img2_flotante2.svg\" width=\"75%;\"/></div>\n",
    "\n",
    "<div><img src=\"img3_flotante3.svg\" width=\"75%;\"/></div>\n",
    "\n",
    "Luego, inevitablemente al operar con numeros reales, nos encontramos con **errores de presición**, debido a que no es posible representar toda la densidad de numeros reales con un conjunto selecto de numeros.\n",
    "\n",
    "Con esto, ocurre lo siguiente:"
   ]
  },
  {
   "cell_type": "code",
   "execution_count": 18,
   "metadata": {},
   "outputs": [
    {
     "data": {
      "text/plain": [
       "0.2"
      ]
     },
     "execution_count": 18,
     "metadata": {},
     "output_type": "execute_result"
    }
   ],
   "source": [
    "0.1 + 0.1"
   ]
  },
  {
   "cell_type": "code",
   "execution_count": 19,
   "metadata": {},
   "outputs": [
    {
     "data": {
      "text/plain": [
       "0.30000000000000004"
      ]
     },
     "execution_count": 19,
     "metadata": {},
     "output_type": "execute_result"
    }
   ],
   "source": [
    "0.1 + 0.2"
   ]
  },
  {
   "cell_type": "markdown",
   "metadata": {},
   "source": [
    "Por lo que, para testear funciones que operan con números reales, utilizaremos un **valor de tolerancia o margen de error**. La idea es indicar que toleraremos un pequeño error o diferencia entre el resultado esperado y el resultado entregado por la función.\n",
    "\n",
    "\n",
    "$$\n",
    " |Resultado_{esperado} - Resultado_{funcion}| \\leq \\varepsilon\n",
    "$$\n",
    "\n",
    "Por simplicidad, crearemos una función llamada `cerca(x,y,eps)`, que calcula si dos números son similares con tolerancia `eps``.\n"
   ]
  },
  {
   "cell_type": "code",
   "execution_count": 20,
   "metadata": {},
   "outputs": [],
   "source": [
    "# cerca: num num num -> bool\n",
    "# indica si dos cantidades son iguales con \n",
    "# precision epsilon\n",
    "# ej: cerca(0.1, 0.2, 0.1) entrega True\n",
    "def cerca(x,y,eps):\n",
    "    return abs(x-y) <= eps\n",
    "\n",
    "# test\n",
    "assert cerca(0.1, 0.2, 0.1) == True\n",
    "assert cerca(0.1, 0.2, 0.0001) == False"
   ]
  },
  {
   "cell_type": "markdown",
   "metadata": {},
   "source": [
    "Luego, para testear funciones que entregan `float`, usaremos la función `cerca(Rf, Re, eps)`\n",
    "\n",
    "- `Rf`:  El resultado que nos entrega la función\n",
    "- `Re`:  El resultado que nosotros esperamos\n",
    "- `eps`: La tolerancia o margen de error que aceptaremos\n"
   ]
  },
  {
   "cell_type": "markdown",
   "metadata": {},
   "source": [
    "Ejemplo: Función que calcula la distancia entre dos puntos $(x_1,y_1)$ y $(x_2,y_2)$"
   ]
  },
  {
   "cell_type": "code",
   "execution_count": 21,
   "metadata": {},
   "outputs": [],
   "source": [
    "# distancia: num num num num -> num\n",
    "# calcula la distancia entre (x1,y1) y (x2,y2)\n",
    "# ej: distancia(1,0,4,0) entrega 3.0\n",
    "def distancia(x1,y1,x2,y2):\n",
    "    distX = x2 - x1\n",
    "    distY = y2 - y1\n",
    "\n",
    "    return (distX **2 + distY **2) ** 0.5\n",
    "\n",
    "# test"
   ]
  },
  {
   "cell_type": "markdown",
   "metadata": {},
   "source": [
    "Luego, ya no tendremos que testear comparando con el valor exacto\n",
    "\n",
    "```python\n",
    "assert distancia(1, 2, 2, 1) == 1.414213...\n",
    "assert distancia(0.1, 0.2, 0.2, 0.1) == 0.14142135...\n",
    "```\n",
    "\n",
    "Mas bien, usaremos la función cerca, para comparar un resultado esperado con cierto margen de error\n"
   ]
  },
  {
   "cell_type": "code",
   "execution_count": 22,
   "metadata": {},
   "outputs": [],
   "source": [
    "from cerca import *\n",
    "\n",
    "# test\n",
    "assert cerca(distancia(1, 2, 2, 1), 1.414, 0.01)\n",
    "assert cerca(distancia(0.1, 0.2, 0.2, 0.1), 0.141, 0.01)\n"
   ]
  },
  {
   "cell_type": "markdown",
   "metadata": {},
   "source": [
    "## Conclusiones\n",
    "\n",
    "Con lo visto el día de hoy tenemos las herramientas para:\n",
    "\n",
    "- Realizar test significativos/representativos\n",
    "\n",
    "- Validar precondiciones en nuestras funciones\n",
    "\n",
    "- Testear funciones que entreguen resultados aleatorios \n",
    "\n",
    "- Testear funciones que entreguen resultados con números flotantes\n",
    "\n",
    "Lo cual usaremos recurrentemente en la medida que lo necesitemos\n",
    "\n",
    "---"
   ]
  }
 ],
 "metadata": {
  "kernelspec": {
   "display_name": "Python 3 (ipykernel)",
   "language": "python",
   "name": "python3"
  },
  "language_info": {
   "codemirror_mode": {
    "name": "ipython",
    "version": 3
   },
   "file_extension": ".py",
   "mimetype": "text/x-python",
   "name": "python",
   "nbconvert_exporter": "python",
   "pygments_lexer": "ipython3",
   "version": "3.10.5"
  },
  "vscode": {
   "interpreter": {
    "hash": "98b95ce4537a043c6c2f8047f97d2678115deb8444c76d437608d4f0db95d495"
   }
  }
 },
 "nbformat": 4,
 "nbformat_minor": 4
}
