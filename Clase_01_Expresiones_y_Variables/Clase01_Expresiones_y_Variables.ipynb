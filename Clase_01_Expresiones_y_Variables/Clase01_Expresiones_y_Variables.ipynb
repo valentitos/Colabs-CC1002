{
 "cells": [
  {
   "cell_type": "markdown",
   "metadata": {},
   "source": [
    "# Clase 01: Expresiones y Variables\n",
    "\n",
    "## ¿Qué es un algoritmo?\n",
    "\n",
    "Un algoritmo es una secuencia **lógica, finita y ordenada** de pasos que permiten ejecutar cualquier tarea.\n",
    "\n",
    "El origen de la palabra viene de la transcripción al latín del nombre *Muhammad ibn Musa al-Khwarizmi*, un famoso matemático, astrónomo y geógrafo persa del siglo IX, considerado padre del álgebra y quien introdujo el concepto matemático de algoritmo.\n",
    "\n",
    "Para diseñar un algoritmo, tenemos que:\n",
    "\n",
    "- Identificar el problema\n",
    "- Contextualizar lso elementos que definen el problema\n",
    "- Relacionar los elementos mediante una secuencia lógica de pasos"
   ]
  },
  {
   "cell_type": "markdown",
   "metadata": {},
   "source": [
    "\n",
    "### Ejemplo: \"cocinar un huevo frito\"\n",
    "\n",
    "**Problema?** \n",
    "Cocinar un huevo frito \n",
    "\n",
    "**Elementos?**\n",
    "- `huevo`\n",
    "- `aceite`\n",
    "- `sartén`\n",
    "- `cocina`\n",
    "- `fósforo`\n",
    "\n",
    "**Pasos de ejecución** \n",
    "Usualmente hay que *romper* el problema en unidades simples/básicas de ejecución:\n",
    "\n",
    "1. Encender un `fósforo`\n",
    "2. Usar el `fósforo` para prender un quemador de la `cocina`\n",
    "3. Colocar la `sartén` sobre el quemador de la `cocina`\n",
    "4. Poner unas gotas de `aceite` sobre la `sartén`\n",
    "5. Tomar un `huevo` y quebrarlo\n",
    "6. Colocar el huevo quebrado sobre la `sartén`\n",
    "7. Esperar hasta que el `huevo` esté listo"
   ]
  },
  {
   "cell_type": "markdown",
   "metadata": {},
   "source": [
    "Por supuesto, hay \"detalles\" que se nos pueden escapar:\n",
    "\n",
    "- Hay que apagar el fósforo luego de utilizarlo?\n",
    "- Hay que apagar el quemador de la cocina luego de que el huevo esté listo?\n",
    "- Hay que colocar el huevo con o sin cáscara dentro de la sartén?\n",
    "- Qué significa poner unas gotas de aceite?\n",
    "- Cómo saber cuando un huevo está listo?\n",
    "- Que hago si mi cocina es eléctrica?\n",
    "- etc...\n",
    "\n",
    "Todo esto depende de con cuanto detalle queremos describir nuestro algoritmo y/o que supuestos nos damos al momento de abordar la solución a un problema."
   ]
  },
  {
   "cell_type": "markdown",
   "metadata": {},
   "source": [
    "## ¿Que es un Programa?\n",
    "\n",
    "Es la especificación ejecutable de un algoritmo.\n",
    "\n",
    "Corresponde a la secuencia de pasos o instrucciones a ser ejecutadas en un computador.\n",
    "\n",
    "En este curso, usaremos el lenguaje Python 3.x (preferentemente versión 3.7 o superior).\n",
    "\n",
    "En material docente, dejaremos una guía de instalación, junto a una guía de los editores de código recomendados para trabajar en Python.\n",
    "\n",
    "**Disclaimer**\n",
    "\n",
    "Tengan en cuenta que el lenguaje Python es una herramienta, y no un fin en si mismo.\n",
    "\n",
    "El objetivo de este curso es aprender a resolver problemas, no un tutorial de como programar en Python."
   ]
  },
  {
   "cell_type": "markdown",
   "metadata": {},
   "source": [
    "---"
   ]
  },
  {
   "cell_type": "markdown",
   "metadata": {},
   "source": [
    "# Programas simples\n",
    "\n",
    "## Tipos de datos básicos \n",
    "\n",
    "Indica al computador las características de los datos con los que va a trabajar. Esto incluye imponer restricciones sobre los datos, tales como qué valores puede tomar o qué operaciones se pueden realizar sobre éste. Todos los valores en un programa tienen un tipo.\n",
    "\n",
    "Por ahora, identificaremos tres tipos de dato:\n",
    "\n",
    "- **Enteros (int)**: `0  1  2  -5  -33`\n",
    "\n",
    "- **Reales (float)**: `0.4873` (cualquier número con punto decimal)\n",
    "\n",
    "- **Texto (str)**: `'hola'` `\"Me gustan los gatitos\"` `'123'` (se pueden usar comillas simples o dobles)\n"
   ]
  },
  {
   "cell_type": "markdown",
   "metadata": {},
   "source": [
    "## Evaluación de expresiones\n",
    "\n",
    "Comenzaremos a trabajar usando el interprete de Python (o en el caso de los documentos jupyter/colab, el interprete interactivo integrado del documento).\n",
    "\n",
    "El interprete permite leer expresiones, evaluarlas e imprimir (mostra en pantalla) su resultado.\n",
    "\n",
    "![idleshell](idle_shell.png)"
   ]
  },
  {
   "cell_type": "markdown",
   "metadata": {},
   "source": [
    "Con los tipos de dato anteriores, se pueden hacer operaciones con ellos y entre ellos, usando operadores especificos para cada caso.\n",
    "\n",
    "### Expresiones con int/float\n",
    "\n",
    "Para datos numéricos (enteros y reales) tenemos:"
   ]
  },
  {
   "cell_type": "markdown",
   "metadata": {},
   "source": [
    "**Positivo:**"
   ]
  },
  {
   "cell_type": "code",
   "execution_count": 47,
   "metadata": {},
   "outputs": [
    {
     "data": {
      "text/plain": [
       "3"
      ]
     },
     "execution_count": 47,
     "metadata": {},
     "output_type": "execute_result"
    }
   ],
   "source": [
    "+3"
   ]
  },
  {
   "cell_type": "markdown",
   "metadata": {},
   "source": [
    "**Negativo**"
   ]
  },
  {
   "cell_type": "code",
   "execution_count": 48,
   "metadata": {},
   "outputs": [
    {
     "data": {
      "text/plain": [
       "-3"
      ]
     },
     "execution_count": 48,
     "metadata": {},
     "output_type": "execute_result"
    }
   ],
   "source": [
    "-3"
   ]
  },
  {
   "cell_type": "markdown",
   "metadata": {},
   "source": [
    "**Suma**"
   ]
  },
  {
   "cell_type": "code",
   "execution_count": 49,
   "metadata": {},
   "outputs": [
    {
     "data": {
      "text/plain": [
       "8"
      ]
     },
     "execution_count": 49,
     "metadata": {},
     "output_type": "execute_result"
    }
   ],
   "source": [
    "3+5"
   ]
  },
  {
   "cell_type": "markdown",
   "metadata": {},
   "source": [
    "**Resta**"
   ]
  },
  {
   "cell_type": "code",
   "execution_count": 50,
   "metadata": {},
   "outputs": [
    {
     "data": {
      "text/plain": [
       "-2"
      ]
     },
     "execution_count": 50,
     "metadata": {},
     "output_type": "execute_result"
    }
   ],
   "source": [
    "3-5"
   ]
  },
  {
   "cell_type": "markdown",
   "metadata": {},
   "source": [
    "**Multiplicación**"
   ]
  },
  {
   "cell_type": "code",
   "execution_count": 51,
   "metadata": {},
   "outputs": [
    {
     "data": {
      "text/plain": [
       "15"
      ]
     },
     "execution_count": 51,
     "metadata": {},
     "output_type": "execute_result"
    }
   ],
   "source": [
    "3 * 5"
   ]
  },
  {
   "cell_type": "markdown",
   "metadata": {},
   "source": [
    "**Potencia (y raices)**"
   ]
  },
  {
   "cell_type": "code",
   "execution_count": 52,
   "metadata": {},
   "outputs": [
    {
     "data": {
      "text/plain": [
       "243"
      ]
     },
     "execution_count": 52,
     "metadata": {},
     "output_type": "execute_result"
    }
   ],
   "source": [
    "3**5"
   ]
  },
  {
   "cell_type": "code",
   "execution_count": 53,
   "metadata": {},
   "outputs": [
    {
     "data": {
      "text/plain": [
       "2.0"
      ]
     },
     "execution_count": 53,
     "metadata": {},
     "output_type": "execute_result"
    }
   ],
   "source": [
    "4**0.5"
   ]
  },
  {
   "cell_type": "markdown",
   "metadata": {},
   "source": [
    "**División**"
   ]
  },
  {
   "cell_type": "code",
   "execution_count": 54,
   "metadata": {},
   "outputs": [
    {
     "data": {
      "text/plain": [
       "2.5"
      ]
     },
     "execution_count": 54,
     "metadata": {},
     "output_type": "execute_result"
    }
   ],
   "source": [
    "5/2"
   ]
  },
  {
   "cell_type": "markdown",
   "metadata": {},
   "source": [
    "**División Entera**"
   ]
  },
  {
   "cell_type": "code",
   "execution_count": 55,
   "metadata": {},
   "outputs": [
    {
     "data": {
      "text/plain": [
       "2"
      ]
     },
     "execution_count": 55,
     "metadata": {},
     "output_type": "execute_result"
    }
   ],
   "source": [
    "5//2"
   ]
  },
  {
   "cell_type": "markdown",
   "metadata": {},
   "source": [
    "**Resto de división entera (o módulo)**"
   ]
  },
  {
   "cell_type": "code",
   "execution_count": 56,
   "metadata": {},
   "outputs": [
    {
     "data": {
      "text/plain": [
       "1"
      ]
     },
     "execution_count": 56,
     "metadata": {},
     "output_type": "execute_result"
    }
   ],
   "source": [
    "5%2"
   ]
  },
  {
   "cell_type": "markdown",
   "metadata": {},
   "source": [
    "#### Prioridad de operadores"
   ]
  },
  {
   "cell_type": "markdown",
   "metadata": {},
   "source": [
    "La prioridad de los operadores es la misma que se usa en álgebra:\n",
    "\n",
    "1. Operadores Unarios: `+  -` (positivo/negativo)\n",
    "2. Elevar a potencia: `**` \n",
    "3. Operadores multiplicativos: `*  /  //  %`\n",
    "4. Operadores aditivos: `+  -` (suma/resta)\n",
    "\n",
    "En caso de empate, se evalúan las expresiones de izquierda a derecha"
   ]
  },
  {
   "cell_type": "code",
   "execution_count": 57,
   "metadata": {},
   "outputs": [
    {
     "data": {
      "text/plain": [
       "4.25"
      ]
     },
     "execution_count": 57,
     "metadata": {},
     "output_type": "execute_result"
    }
   ],
   "source": [
    "3 + 2 * 5 / 8"
   ]
  },
  {
   "cell_type": "markdown",
   "metadata": {},
   "source": [
    "Si queremos garantizar que una operación se realice antres que otra, podemos usar paréntesis:"
   ]
  },
  {
   "cell_type": "code",
   "execution_count": 58,
   "metadata": {},
   "outputs": [
    {
     "data": {
      "text/plain": [
       "4.25"
      ]
     },
     "execution_count": 58,
     "metadata": {},
     "output_type": "execute_result"
    }
   ],
   "source": [
    "3 + ((2 * 5) /8)"
   ]
  },
  {
   "cell_type": "code",
   "execution_count": 59,
   "metadata": {},
   "outputs": [
    {
     "data": {
      "text/plain": [
       "3.125"
      ]
     },
     "execution_count": 59,
     "metadata": {},
     "output_type": "execute_result"
    }
   ],
   "source": [
    "(3 + 2) * (5 / 8)"
   ]
  },
  {
   "cell_type": "markdown",
   "metadata": {},
   "source": [
    "### Expresiones con str\n",
    "\n",
    "En el caso de operaciones con texto, tenemos:"
   ]
  },
  {
   "cell_type": "markdown",
   "metadata": {},
   "source": [
    "**Concatenar (unir)**"
   ]
  },
  {
   "cell_type": "code",
   "execution_count": 60,
   "metadata": {},
   "outputs": [
    {
     "data": {
      "text/plain": [
       "'abrakadabra'"
      ]
     },
     "execution_count": 60,
     "metadata": {},
     "output_type": "execute_result"
    }
   ],
   "source": [
    "'abra' + 'kadabra'"
   ]
  },
  {
   "cell_type": "markdown",
   "metadata": {},
   "source": [
    "**Repetir**"
   ]
  },
  {
   "cell_type": "code",
   "execution_count": 61,
   "metadata": {},
   "outputs": [
    {
     "data": {
      "text/plain": [
       "'miaumiaumiaumiau'"
      ]
     },
     "execution_count": 61,
     "metadata": {},
     "output_type": "execute_result"
    }
   ],
   "source": [
    "'miau' * 4"
   ]
  },
  {
   "cell_type": "markdown",
   "metadata": {},
   "source": [
    "### Conversión de tipos\n",
    "\n",
    "El tipo de dato del resultado de evaluar una expresión, depende de los operandos\n",
    "\n",
    "Por ejemplo, si en una suma de dos números, ambos operandos son enteros, el resultado tambien será entero. Mientras que si uno de los operandos es real, entonces el resultado será real."
   ]
  },
  {
   "cell_type": "code",
   "execution_count": 62,
   "metadata": {},
   "outputs": [
    {
     "data": {
      "text/plain": [
       "3"
      ]
     },
     "execution_count": 62,
     "metadata": {},
     "output_type": "execute_result"
    }
   ],
   "source": [
    "1 + 2 "
   ]
  },
  {
   "cell_type": "code",
   "execution_count": 63,
   "metadata": {},
   "outputs": [
    {
     "data": {
      "text/plain": [
       "3.0"
      ]
     },
     "execution_count": 63,
     "metadata": {},
     "output_type": "execute_result"
    }
   ],
   "source": [
    "1.0 + 2"
   ]
  },
  {
   "cell_type": "code",
   "execution_count": 64,
   "metadata": {},
   "outputs": [
    {
     "data": {
      "text/plain": [
       "3.0"
      ]
     },
     "execution_count": 64,
     "metadata": {},
     "output_type": "execute_result"
    }
   ],
   "source": [
    "1 + 2.0 "
   ]
  },
  {
   "cell_type": "code",
   "execution_count": 65,
   "metadata": {},
   "outputs": [
    {
     "data": {
      "text/plain": [
       "3.0"
      ]
     },
     "execution_count": 65,
     "metadata": {},
     "output_type": "execute_result"
    }
   ],
   "source": [
    "1.0 + 2.0"
   ]
  },
  {
   "cell_type": "markdown",
   "metadata": {},
   "source": [
    "Para los operadores numéricos, la regla anterior se cumple, excepto para el operador de división, el cual siempre producirá números reales/flotantes, sin importar el tipo de sus operandos."
   ]
  },
  {
   "cell_type": "code",
   "execution_count": 66,
   "metadata": {},
   "outputs": [
    {
     "data": {
      "text/plain": [
       "2.0"
      ]
     },
     "execution_count": 66,
     "metadata": {},
     "output_type": "execute_result"
    }
   ],
   "source": [
    "4 / 2"
   ]
  },
  {
   "cell_type": "code",
   "execution_count": 67,
   "metadata": {},
   "outputs": [
    {
     "data": {
      "text/plain": [
       "2.0"
      ]
     },
     "execution_count": 67,
     "metadata": {},
     "output_type": "execute_result"
    }
   ],
   "source": [
    "4.0 / 2"
   ]
  },
  {
   "cell_type": "code",
   "execution_count": 68,
   "metadata": {},
   "outputs": [
    {
     "data": {
      "text/plain": [
       "2.0"
      ]
     },
     "execution_count": 68,
     "metadata": {},
     "output_type": "execute_result"
    }
   ],
   "source": [
    "4 / 2.0"
   ]
  },
  {
   "cell_type": "code",
   "execution_count": 69,
   "metadata": {},
   "outputs": [
    {
     "data": {
      "text/plain": [
       "2.0"
      ]
     },
     "execution_count": 69,
     "metadata": {},
     "output_type": "execute_result"
    }
   ],
   "source": [
    "4.0 / 2.0"
   ]
  },
  {
   "cell_type": "markdown",
   "metadata": {},
   "source": [
    "Si queremos juntar u operar valores de tipo texto con valores de tipo numérico, primero es necesario convertir los valores numéricos a valores de tipo texto\n",
    "\n",
    "Para esto, usamos la función de Python `str(numero)`"
   ]
  },
  {
   "cell_type": "code",
   "execution_count": 70,
   "metadata": {},
   "outputs": [
    {
     "data": {
      "text/plain": [
       "'yo tengo 9 mascotas'"
      ]
     },
     "execution_count": 70,
     "metadata": {},
     "output_type": "execute_result"
    }
   ],
   "source": [
    "'yo tengo ' + str(9) + ' mascotas'"
   ]
  },
  {
   "cell_type": "markdown",
   "metadata": {},
   "source": [
    "Si intentamos concatenar texto con número, sin realizar previamente la conversión, Python arrojará un error:"
   ]
  },
  {
   "cell_type": "code",
   "execution_count": 71,
   "metadata": {},
   "outputs": [
    {
     "ename": "TypeError",
     "evalue": "can only concatenate str (not \"int\") to str",
     "output_type": "error",
     "traceback": [
      "\u001b[1;31m---------------------------------------------------------------------------\u001b[0m",
      "\u001b[1;31mTypeError\u001b[0m                                 Traceback (most recent call last)",
      "\u001b[1;32md:\\OneDrive\\Cursos - CC1002\\CC1002 2022-02\\python-vscode\\Clase01\\Clase01_Variables_y_expresiones.ipynb Celda 52\u001b[0m in \u001b[0;36m<cell line: 1>\u001b[1;34m()\u001b[0m\n\u001b[1;32m----> <a href='vscode-notebook-cell:/d%3A/OneDrive/Cursos%20-%20CC1002/CC1002%202022-02/python-vscode/Clase01/Clase01_Variables_y_expresiones.ipynb#Y106sZmlsZQ%3D%3D?line=0'>1</a>\u001b[0m \u001b[39m'\u001b[39;49m\u001b[39myo tengo \u001b[39;49m\u001b[39m'\u001b[39;49m \u001b[39m+\u001b[39;49m \u001b[39m9\u001b[39;49m \u001b[39m+\u001b[39m \u001b[39m'\u001b[39m\u001b[39m mascotas\u001b[39m\u001b[39m'\u001b[39m\n",
      "\u001b[1;31mTypeError\u001b[0m: can only concatenate str (not \"int\") to str"
     ]
    }
   ],
   "source": [
    "'yo tengo ' + 9 + ' mascotas'"
   ]
  },
  {
   "cell_type": "markdown",
   "metadata": {},
   "source": [
    "Por otro lado, si tenemos valores de tipo texto, que pueden ser interpretados o entendidos como un número, podemos convertirlo a un tipo numérico, usando las funciones `int(texto)` y `float(texto)`"
   ]
  },
  {
   "cell_type": "code",
   "execution_count": 72,
   "metadata": {},
   "outputs": [
    {
     "data": {
      "text/plain": [
       "'1036'"
      ]
     },
     "execution_count": 72,
     "metadata": {},
     "output_type": "execute_result"
    }
   ],
   "source": [
    "'103' + '6'"
   ]
  },
  {
   "cell_type": "code",
   "execution_count": 73,
   "metadata": {},
   "outputs": [
    {
     "data": {
      "text/plain": [
       "109"
      ]
     },
     "execution_count": 73,
     "metadata": {},
     "output_type": "execute_result"
    }
   ],
   "source": [
    "int('103') + 6"
   ]
  },
  {
   "cell_type": "code",
   "execution_count": 74,
   "metadata": {},
   "outputs": [
    {
     "data": {
      "text/plain": [
       "'30.56'"
      ]
     },
     "execution_count": 74,
     "metadata": {},
     "output_type": "execute_result"
    }
   ],
   "source": [
    "'30.5' + '6'"
   ]
  },
  {
   "cell_type": "code",
   "execution_count": 75,
   "metadata": {},
   "outputs": [
    {
     "data": {
      "text/plain": [
       "36.5"
      ]
     },
     "execution_count": 75,
     "metadata": {},
     "output_type": "execute_result"
    }
   ],
   "source": [
    "float('30.5') + 6"
   ]
  },
  {
   "cell_type": "markdown",
   "metadata": {},
   "source": [
    "Si intentamos concatenar (sumar) texto con numero sin realizar previamente la conversión, Python arrojará un error"
   ]
  },
  {
   "cell_type": "code",
   "execution_count": 76,
   "metadata": {},
   "outputs": [
    {
     "ename": "TypeError",
     "evalue": "can only concatenate str (not \"int\") to str",
     "output_type": "error",
     "traceback": [
      "\u001b[1;31m---------------------------------------------------------------------------\u001b[0m",
      "\u001b[1;31mTypeError\u001b[0m                                 Traceback (most recent call last)",
      "\u001b[1;32md:\\OneDrive\\Cursos - CC1002\\CC1002 2022-02\\python-vscode\\Clase01\\Clase01_Variables_y_expresiones.ipynb Celda 59\u001b[0m in \u001b[0;36m<cell line: 1>\u001b[1;34m()\u001b[0m\n\u001b[1;32m----> <a href='vscode-notebook-cell:/d%3A/OneDrive/Cursos%20-%20CC1002/CC1002%202022-02/python-vscode/Clase01/Clase01_Variables_y_expresiones.ipynb#Y120sZmlsZQ%3D%3D?line=0'>1</a>\u001b[0m \u001b[39m'\u001b[39;49m\u001b[39m103\u001b[39;49m\u001b[39m'\u001b[39;49m \u001b[39m+\u001b[39;49m \u001b[39m6\u001b[39;49m\n",
      "\u001b[1;31mTypeError\u001b[0m: can only concatenate str (not \"int\") to str"
     ]
    }
   ],
   "source": [
    "'103' + 6"
   ]
  },
  {
   "cell_type": "code",
   "execution_count": 77,
   "metadata": {},
   "outputs": [
    {
     "ename": "TypeError",
     "evalue": "can only concatenate str (not \"int\") to str",
     "output_type": "error",
     "traceback": [
      "\u001b[1;31m---------------------------------------------------------------------------\u001b[0m",
      "\u001b[1;31mTypeError\u001b[0m                                 Traceback (most recent call last)",
      "\u001b[1;32md:\\OneDrive\\Cursos - CC1002\\CC1002 2022-02\\python-vscode\\Clase01\\Clase01_Variables_y_expresiones.ipynb Celda 60\u001b[0m in \u001b[0;36m<cell line: 1>\u001b[1;34m()\u001b[0m\n\u001b[1;32m----> <a href='vscode-notebook-cell:/d%3A/OneDrive/Cursos%20-%20CC1002/CC1002%202022-02/python-vscode/Clase01/Clase01_Variables_y_expresiones.ipynb#Y116sZmlsZQ%3D%3D?line=0'>1</a>\u001b[0m \u001b[39m'\u001b[39;49m\u001b[39m30.5\u001b[39;49m\u001b[39m'\u001b[39;49m \u001b[39m+\u001b[39;49m \u001b[39m6\u001b[39;49m\n",
      "\u001b[1;31mTypeError\u001b[0m: can only concatenate str (not \"int\") to str"
     ]
    }
   ],
   "source": [
    "'30.5' + 6"
   ]
  },
  {
   "cell_type": "markdown",
   "metadata": {},
   "source": [
    "O si es que intentamos convertir un texto que no puede ser interpretado como número"
   ]
  },
  {
   "cell_type": "code",
   "execution_count": 78,
   "metadata": {},
   "outputs": [
    {
     "ename": "ValueError",
     "evalue": "invalid literal for int() with base 10: 'manzana'",
     "output_type": "error",
     "traceback": [
      "\u001b[1;31m---------------------------------------------------------------------------\u001b[0m",
      "\u001b[1;31mValueError\u001b[0m                                Traceback (most recent call last)",
      "\u001b[1;32md:\\OneDrive\\Cursos - CC1002\\CC1002 2022-02\\python-vscode\\Clase01\\Clase01_Variables_y_expresiones.ipynb Celda 62\u001b[0m in \u001b[0;36m<cell line: 1>\u001b[1;34m()\u001b[0m\n\u001b[1;32m----> <a href='vscode-notebook-cell:/d%3A/OneDrive/Cursos%20-%20CC1002/CC1002%202022-02/python-vscode/Clase01/Clase01_Variables_y_expresiones.ipynb#Y122sZmlsZQ%3D%3D?line=0'>1</a>\u001b[0m \u001b[39mint\u001b[39;49m(\u001b[39m\"\u001b[39;49m\u001b[39mmanzana\u001b[39;49m\u001b[39m\"\u001b[39;49m)\n",
      "\u001b[1;31mValueError\u001b[0m: invalid literal for int() with base 10: 'manzana'"
     ]
    }
   ],
   "source": [
    "int(\"manzana\")"
   ]
  },
  {
   "cell_type": "markdown",
   "metadata": {},
   "source": [
    "---"
   ]
  },
  {
   "cell_type": "markdown",
   "metadata": {},
   "source": [
    "## Variables\n",
    "\n",
    "Sirven para guardar los resultados de la evaluación de expresiones\n",
    "\n",
    "`variable = expresión`\n",
    "\n",
    "**¿Como funciona?**\n",
    "- Se evalúa la `expresión`\n",
    "- El resultado se asigna/guarda en la `variable`\n",
    "- La `variable` queda guardada en memoria, para poder ser utilizada en otras expresiones u operaciones\n",
    "\n",
    "**Restricciones**\n",
    "- El nombre de variable puede contener letras de la a a la z (minúsculas o mayúsculas), números y guiones bajo\n",
    "- El nombre de variable no puede contener espacios\n",
    "- El nombre de variable no puedo empezar por un número"
   ]
  },
  {
   "cell_type": "markdown",
   "metadata": {},
   "source": [
    "Ejemplos:"
   ]
  },
  {
   "cell_type": "code",
   "execution_count": 79,
   "metadata": {},
   "outputs": [],
   "source": [
    "a = 3           # se asigna a una variable de nombre \"a\" el valor 3"
   ]
  },
  {
   "cell_type": "code",
   "execution_count": 80,
   "metadata": {},
   "outputs": [],
   "source": [
    "b = 8           # se asigna a una variable de nombre \"b\" el valor 8"
   ]
  },
  {
   "cell_type": "code",
   "execution_count": 81,
   "metadata": {},
   "outputs": [
    {
     "data": {
      "text/plain": [
       "3"
      ]
     },
     "execution_count": 81,
     "metadata": {},
     "output_type": "execute_result"
    }
   ],
   "source": [
    "a               # Mostramos/consultamos el valor de \"a\""
   ]
  },
  {
   "cell_type": "code",
   "execution_count": 82,
   "metadata": {},
   "outputs": [
    {
     "data": {
      "text/plain": [
       "11"
      ]
     },
     "execution_count": 82,
     "metadata": {},
     "output_type": "execute_result"
    }
   ],
   "source": [
    "a + b           # creamos una expresión, la cual es evaluada"
   ]
  },
  {
   "cell_type": "code",
   "execution_count": 83,
   "metadata": {},
   "outputs": [],
   "source": [
    "c = a + 2 * b   # creamos una expresión, se evalúa y se guarda en una variable\n",
    "                # de nombre \"c\""
   ]
  },
  {
   "cell_type": "code",
   "execution_count": 84,
   "metadata": {},
   "outputs": [
    {
     "data": {
      "text/plain": [
       "19"
      ]
     },
     "execution_count": 84,
     "metadata": {},
     "output_type": "execute_result"
    }
   ],
   "source": [
    "c               # Mostramos/consultamos el valor de \"c\""
   ]
  },
  {
   "cell_type": "code",
   "execution_count": 85,
   "metadata": {},
   "outputs": [],
   "source": [
    "a = 10          # redefinimos \"a\" (cambia su valor antiguo por el valor 10)"
   ]
  },
  {
   "cell_type": "code",
   "execution_count": 86,
   "metadata": {},
   "outputs": [
    {
     "data": {
      "text/plain": [
       "26"
      ]
     },
     "execution_count": 86,
     "metadata": {},
     "output_type": "execute_result"
    }
   ],
   "source": [
    "a + 2 * b       # si volvemos a calcular \"a + 2 * b\", ahora el valor resultante\n",
    "                # cambia respecto a la ultima vez que lo calculamos\n",
    "                # debido a que redefinimos \"a\" "
   ]
  },
  {
   "cell_type": "code",
   "execution_count": 87,
   "metadata": {},
   "outputs": [
    {
     "data": {
      "text/plain": [
       "19"
      ]
     },
     "execution_count": 87,
     "metadata": {},
     "output_type": "execute_result"
    }
   ],
   "source": [
    "c               # sin embargo, el valor de \"c\" (el cual fue calculado a\n",
    "                # partir de \"a\") no cambia, puesto que \"c\" fue definido\n",
    "                # y calculado antes de que redeninieramos \"a\""
   ]
  },
  {
   "cell_type": "markdown",
   "metadata": {},
   "source": [
    "### Nombres de variable descriptivos\n",
    "\n",
    "Por ejemplo, si vamos a calcular el área de un rectangulo, dados sus 2 lados:"
   ]
  },
  {
   "cell_type": "code",
   "execution_count": 88,
   "metadata": {},
   "outputs": [
    {
     "data": {
      "text/plain": [
       "24"
      ]
     },
     "execution_count": 88,
     "metadata": {},
     "output_type": "execute_result"
    }
   ],
   "source": [
    "a = 3\n",
    "b = 8\n",
    "a * b "
   ]
  },
  {
   "cell_type": "markdown",
   "metadata": {},
   "source": [
    "Puede que sea confuso reconocer que representan `a` y `b` respectivamente, o que es lo que se está intentando calcular.\n",
    "\n",
    "Por eso, se recomienda usar nombres descriptivos para nombrar sus variables, y así facilitar la lectura de su código y que es lo que hace"
   ]
  },
  {
   "cell_type": "code",
   "execution_count": 89,
   "metadata": {},
   "outputs": [
    {
     "data": {
      "text/plain": [
       "24"
      ]
     },
     "execution_count": 89,
     "metadata": {},
     "output_type": "execute_result"
    }
   ],
   "source": [
    "largo = 3\n",
    "ancho = 8\n",
    "largo * ancho "
   ]
  },
  {
   "cell_type": "markdown",
   "metadata": {},
   "source": [
    "---"
   ]
  },
  {
   "cell_type": "markdown",
   "metadata": {},
   "source": [
    "## Errores comunes\n",
    "\n",
    "**Error de operación de tipos incompatibles**\n",
    "\n",
    "Corresponde a cuando intentamos operar una expresión con tipos incompatibles entre si (como concatenar un texto con un número sin convertirlo a texto previamente)."
   ]
  },
  {
   "cell_type": "code",
   "execution_count": 90,
   "metadata": {},
   "outputs": [
    {
     "ename": "TypeError",
     "evalue": "can only concatenate str (not \"int\") to str",
     "output_type": "error",
     "traceback": [
      "\u001b[1;31m---------------------------------------------------------------------------\u001b[0m",
      "\u001b[1;31mTypeError\u001b[0m                                 Traceback (most recent call last)",
      "\u001b[1;32md:\\OneDrive\\Cursos - CC1002\\CC1002 2022-02\\python-vscode\\Clase01\\Clase01_Variables_y_expresiones.ipynb Celda 81\u001b[0m in \u001b[0;36m<cell line: 1>\u001b[1;34m()\u001b[0m\n\u001b[1;32m----> <a href='vscode-notebook-cell:/d%3A/OneDrive/Cursos%20-%20CC1002/CC1002%202022-02/python-vscode/Clase01/Clase01_Variables_y_expresiones.ipynb#Y145sZmlsZQ%3D%3D?line=0'>1</a>\u001b[0m \u001b[39m'\u001b[39;49m\u001b[39myo tengo \u001b[39;49m\u001b[39m'\u001b[39;49m \u001b[39m+\u001b[39;49m \u001b[39m9\u001b[39;49m \u001b[39m+\u001b[39m \u001b[39m'\u001b[39m\u001b[39m mascotas\u001b[39m\u001b[39m'\u001b[39m\n",
      "\u001b[1;31mTypeError\u001b[0m: can only concatenate str (not \"int\") to str"
     ]
    }
   ],
   "source": [
    "'yo tengo ' + 9 + ' mascotas'"
   ]
  },
  {
   "cell_type": "markdown",
   "metadata": {},
   "source": [
    "*Solución*: Revisar que los operandos dentro de una expresión sean del mismo tipo y/o operables entre si."
   ]
  },
  {
   "cell_type": "markdown",
   "metadata": {},
   "source": [
    "**Error de identación**\n",
    "\n",
    "Ocurre cuando una expresión no se enuentra orretamente alineada respecto a las demás instrucciones. Esto es porque Python usa los espacios para delimitar bloques de código"
   ]
  },
  {
   "cell_type": "code",
   "execution_count": 91,
   "metadata": {},
   "outputs": [
    {
     "ename": "IndentationError",
     "evalue": "unexpected indent (683281659.py, line 2)",
     "output_type": "error",
     "traceback": [
      "\u001b[1;36m  Input \u001b[1;32mIn [91]\u001b[1;36m\u001b[0m\n\u001b[1;33m    z\u001b[0m\n\u001b[1;37m    ^\u001b[0m\n\u001b[1;31mIndentationError\u001b[0m\u001b[1;31m:\u001b[0m unexpected indent\n"
     ]
    }
   ],
   "source": [
    "z = 8\n",
    "    z"
   ]
  },
  {
   "cell_type": "markdown",
   "metadata": {},
   "source": [
    "*Solución*: Revisar que los bloques de código se encuentren correctamente alineados (en las próximas clases veremos porque esto es importante)"
   ]
  },
  {
   "cell_type": "markdown",
   "metadata": {},
   "source": [
    "**Error de sintaxis**\n",
    "\n",
    "Ocurren cuando nos equivocamos al escribir una expresión. Dentro de lo posible, el editor de Python intenta marcar donde se puede encontrar el problema"
   ]
  },
  {
   "cell_type": "code",
   "execution_count": 92,
   "metadata": {},
   "outputs": [
    {
     "ename": "SyntaxError",
     "evalue": "unmatched ')' (1756361735.py, line 2)",
     "output_type": "error",
     "traceback": [
      "\u001b[1;36m  Input \u001b[1;32mIn [92]\u001b[1;36m\u001b[0m\n\u001b[1;33m    antecesor = (numero - 1))\u001b[0m\n\u001b[1;37m                            ^\u001b[0m\n\u001b[1;31mSyntaxError\u001b[0m\u001b[1;31m:\u001b[0m unmatched ')'\n"
     ]
    }
   ],
   "source": [
    "numero = 23\n",
    "antecesor = (numero - 1))"
   ]
  },
  {
   "cell_type": "markdown",
   "metadata": {},
   "source": [
    "*Solución*: Revisar que las instrucciones estén bien escritas"
   ]
  },
  {
   "cell_type": "markdown",
   "metadata": {},
   "source": [
    "**Error de nombre**\n",
    "\n",
    "Ocurren cuando invocamos un nombre de variable que no está previamente definido"
   ]
  },
  {
   "cell_type": "code",
   "execution_count": 93,
   "metadata": {},
   "outputs": [
    {
     "ename": "NameError",
     "evalue": "name 'lado2' is not defined",
     "output_type": "error",
     "traceback": [
      "\u001b[1;31m---------------------------------------------------------------------------\u001b[0m",
      "\u001b[1;31mNameError\u001b[0m                                 Traceback (most recent call last)",
      "\u001b[1;32md:\\OneDrive\\Cursos - CC1002\\CC1002 2022-02\\python-vscode\\Clase01\\Clase01_Variables_y_expresiones.ipynb Celda 90\u001b[0m in \u001b[0;36m<cell line: 2>\u001b[1;34m()\u001b[0m\n\u001b[0;32m      <a href='vscode-notebook-cell:/d%3A/OneDrive/Cursos%20-%20CC1002/CC1002%202022-02/python-vscode/Clase01/Clase01_Variables_y_expresiones.ipynb#Y160sZmlsZQ%3D%3D?line=0'>1</a>\u001b[0m lado1 \u001b[39m=\u001b[39m \u001b[39m3\u001b[39m\n\u001b[1;32m----> <a href='vscode-notebook-cell:/d%3A/OneDrive/Cursos%20-%20CC1002/CC1002%202022-02/python-vscode/Clase01/Clase01_Variables_y_expresiones.ipynb#Y160sZmlsZQ%3D%3D?line=1'>2</a>\u001b[0m area \u001b[39m=\u001b[39m lado1 \u001b[39m*\u001b[39m lado2\n",
      "\u001b[1;31mNameError\u001b[0m: name 'lado2' is not defined"
     ]
    }
   ],
   "source": [
    "lado1 = 3\n",
    "area = lado1 * lado2"
   ]
  },
  {
   "cell_type": "markdown",
   "metadata": {},
   "source": [
    "*Solución*: Revisar que las variables usadas en las expresiones estén definidas previamente"
   ]
  },
  {
   "cell_type": "markdown",
   "metadata": {},
   "source": [
    "**Error de Valor**\n",
    "\n",
    "Ocurren cuando aplicamos operaciones sobre valores que no corresponden a lo esperado por tal operación o función"
   ]
  },
  {
   "cell_type": "code",
   "execution_count": 94,
   "metadata": {},
   "outputs": [
    {
     "ename": "ValueError",
     "evalue": "invalid literal for int() with base 10: 'manzana'",
     "output_type": "error",
     "traceback": [
      "\u001b[1;31m---------------------------------------------------------------------------\u001b[0m",
      "\u001b[1;31mValueError\u001b[0m                                Traceback (most recent call last)",
      "\u001b[1;32md:\\OneDrive\\Cursos - CC1002\\CC1002 2022-02\\python-vscode\\Clase01\\Clase01_Variables_y_expresiones.ipynb Celda 93\u001b[0m in \u001b[0;36m<cell line: 1>\u001b[1;34m()\u001b[0m\n\u001b[1;32m----> <a href='vscode-notebook-cell:/d%3A/OneDrive/Cursos%20-%20CC1002/CC1002%202022-02/python-vscode/Clase01/Clase01_Variables_y_expresiones.ipynb#Y163sZmlsZQ%3D%3D?line=0'>1</a>\u001b[0m \u001b[39mint\u001b[39;49m(\u001b[39m\"\u001b[39;49m\u001b[39mmanzana\u001b[39;49m\u001b[39m\"\u001b[39;49m)\n",
      "\u001b[1;31mValueError\u001b[0m: invalid literal for int() with base 10: 'manzana'"
     ]
    }
   ],
   "source": [
    "int(\"manzana\")"
   ]
  },
  {
   "cell_type": "markdown",
   "metadata": {},
   "source": [
    "*Solución*: Revisar que las operaciones estén operando con los parámetros del tipo adecuado"
   ]
  }
 ],
 "metadata": {
  "kernelspec": {
   "display_name": "Python 3 (ipykernel)",
   "language": "python",
   "name": "python3"
  },
  "language_info": {
   "codemirror_mode": {
    "name": "ipython",
    "version": 3
   },
   "file_extension": ".py",
   "mimetype": "text/x-python",
   "name": "python",
   "nbconvert_exporter": "python",
   "pygments_lexer": "ipython3",
   "version": "3.10.5"
  },
  "vscode": {
   "interpreter": {
    "hash": "98b95ce4537a043c6c2f8047f97d2678115deb8444c76d437608d4f0db95d495"
   }
  }
 },
 "nbformat": 4,
 "nbformat_minor": 4
}
