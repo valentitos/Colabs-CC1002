{
 "cells": [
  {
   "cell_type": "markdown",
   "metadata": {},
   "source": [
    "<a href=\"https://colab.research.google.com/github/valentitos/Colabs-CC1002/blob/main/Clase_12_Arboles_Binarios/Clase12_Arboles_Binarios.ipynb\" target=\"_parent\"><img src=\"https://colab.research.google.com/assets/colab-badge.svg\" alt=\"Open In Colab\"/></a>"
   ]
  },
  {
   "cell_type": "markdown",
   "metadata": {},
   "source": [
    "---\n",
    "\n",
    "**Paso previo solo para colab**\n",
    "\n",
    "En la unidad 2 usaremos el módulo `estructura.py` y `lista.py` (entre otros), los cuales son módulos personalizados para este curso. Para poder usarlos en colab, tenemos que hacer lo siguiente:\n",
    "\n",
    "- Crear en nuestro Google Drive, una carpeta donde guardar estos módulos. Supongamos que creamos una carpeta llamada `\"CC1002_modulos\"` (sin comillas)\n",
    "- En esa carpeta, guardar estos módulos (los pueden descargar desde material docente de Ucursos, o usar estos links directos)\n",
    "  - `estructura.py`: https://drive.google.com/file/d/1CoJT4QqCOdWV12hhZACRt3YMlU5xjqQV/view?usp=drive_link\n",
    "  - `lista.py`: https://drive.google.com/file/d/1jeb516Ky5XVCePkW2M5Nwf6c-JLcF2yA/view?usp=sharing\n",
    "- Ejecutar la siguiente celda"
   ]
  },
  {
   "cell_type": "code",
   "execution_count": null,
   "metadata": {},
   "outputs": [],
   "source": [
    "from google.colab import drive\n",
    "drive.mount('/content/drive', force_remount=True)\n",
    "\n",
    "import sys\n",
    "sys.path.append('/content/drive/MyDrive/CC1002_modulos')"
   ]
  },
  {
   "cell_type": "markdown",
   "metadata": {},
   "source": [
    "Reemplacen la parte que dice: `\"CC1002_modulos\"` por la carpeta que uds. crearon en su Gdrive\n",
    "\n",
    "Puede que les pida permisos para que colab acceda a Gdrive, los cuales pueden aceptar nomas, ya que no estamos haciendo operaciones \"peligrosas\".\n",
    "\n",
    "Con esto, no debiesen tener problemas para usar estructuras en colab.\n",
    "\n",
    "---"
   ]
  },
  {
   "cell_type": "markdown",
   "metadata": {},
   "source": [
    "# Clase 12: Árboles Binarios"
   ]
  },
  {
   "cell_type": "markdown",
   "metadata": {},
   "source": [
    "## Repaso: Listas (parte 2)\n",
    "\n",
    "A partir de varios ejemplos sobre nombres de frutas, dedujimos y generalizamos tales ideas para crear las siguientes funciones:\n",
    "\n",
    "- Función `contiene(L,e)`, que dada una lista y un elemento, nos indica si el elemento se encuentra presente en la lista\n",
    "\n",
    "- Función `eliminar(L,e)`, que elimina la primera aparición del elemento indicado de la lista\n",
    "\n",
    "- Función `eliminarTodos(L,e)`, que elimina todas las apariciones del elemento indicado en la lista\n",
    "\n",
    "También vimos que las listas pueden contener/almacenar estructuras, y lo vimos a través de un ejemplo con Estructuras Dulce\n",
    "\n",
    "```python\n",
    "# Dulce: nombre(str) sabor(str) cantidad(int)\n",
    "estructura.crear(\"Dulce\",\"nombre sabor cantidad\")\n",
    "\n",
    "sunny = Dulce('suny', 'manjar', 22)\n",
    "frugeleN = Dulce('frugele', 'naranja', 36)\n",
    "frugeleM = Dulce('frugele', 'manzana', 8)\n",
    "masticableP = Dulce('masticable', 'naranja', 33)\n",
    "```\n",
    "\n",
    "Y con lo anterior, crear una lista de Estructuras Dulce\n",
    "\n",
    "```python\n",
    "Ldulces = lista(sunny, lista(frugeleN, lista(frugeleM, lista(masticableN, listaVacia))))\n",
    "```\n",
    "\n",
    "![](Ldulcesest.png)\n",
    "\n",
    "Con esto, dada una lista de Estructuras Dulce, programamos funciones que:\n",
    "\n",
    "- Contaban la cantidad de Dulces totales en la lista\n",
    "\n",
    "- Entregaban el Dulce con mayor cantidad\n",
    "\n",
    "- Entregaba una lista solo con los Dulces de cierto sabor\n",
    "\n",
    "\n",
    "La clave para resolverlas, fue operar de igual manera como si fuese una lista de elementos simples, pero luego de extraer la cabeza de la lista, teníamos que \"desempaquetar\" la estructura Dulce, para obtener y operar los datos relevantes para cada función.\n",
    "\n",
    "---\n"
   ]
  },
  {
   "cell_type": "markdown",
   "metadata": {},
   "source": [
    "## Árboles Binarios (AB)\n",
    "\n",
    "Las listas que vimos anteriormente almacenan elementos y son procesadas de manera secuencial.\n",
    "\n",
    "Sin embargo, existen otras formas de organizar y representar conjuntos de información.\n",
    "\n",
    "En particular, existen las organizaciones por jerarquía, o en distintos niveles (como las ramas de un árbol), que permiten organizar la información de una manera distinta, y también, permiten realizar ciertas operaciones con mayor eficiencia\n",
    "\n",
    "Un árbol binario es una estructura recursiva compuesta de nodos, tal que:\n",
    "\n",
    "- El nodo puede ser `vacio`\n",
    "\n",
    "- El nodo puede contiene un `valor`, y puede contener `referencias` a otros **dos** nodos de árbol binario\n",
    "\n",
    "    - Generalmente a estas referencias se les llama `izquierda` y `derecha` (debido a su posición al dibujarlo)\n",
    "\n",
    "![nodo_cuadrado.png](nodo_cuadrado.svg)\n",
    "\n",
    "Su definición en código es:"
   ]
  },
  {
   "cell_type": "code",
   "execution_count": 43,
   "metadata": {},
   "outputs": [],
   "source": [
    "# AB: valor(any) izq(AB) der(AB)\n",
    "estructura.crear('AB', 'valor izq der')"
   ]
  },
  {
   "cell_type": "markdown",
   "metadata": {},
   "source": [
    "Al igual que para listas, existe un comodín que denota el nodo vacío:\n",
    "\n",
    "![](arbolVacio.png)"
   ]
  },
  {
   "cell_type": "code",
   "execution_count": 44,
   "metadata": {},
   "outputs": [],
   "source": [
    "arbolVacio = None"
   ]
  },
  {
   "cell_type": "markdown",
   "metadata": {},
   "source": [
    "Al primer nodo del árbol se le suele llamar **raíz**\n",
    "\n",
    "![](nodoRaiz.svg)\n",
    "\n",
    "Y a los nodos que tanto su rama `izq` como `der` referencian al `arbolVacio`, se les suele llamar **hojas**\n",
    "\n",
    "![](nodoHoja.svg)\n",
    "\n",
    "Un ejemplo de árbol binario con los numeros 25, 16, 9, 39, 5, 31, 40 y 26 es:\n",
    "\n",
    "![AB_cuadrado_full.png](AB_cuadrado_full.svg)\n",
    "\n",
    "Por simplicidad, no se suelen dibujar los `arbolVacios` (se asume que si no sale ninguna flecha de un `izq` o un `der`, entonces referencia al `arbolVacio`)\n",
    "\n",
    "![AB_cuadrado.png](AB_cuadrado.svg)\n",
    "\n",
    "Mas aún, por mayor simplicidad, los nodos suelen dibujarse con esferas o cuadrados, y las flechas que salen en su respectiva dirección, representan la rama `izq` o `der`\n",
    "\n",
    "![nodo_circular.png](nodo_circular.svg)\n",
    "\n",
    "![AB_circular.png](AB_circular.svg)\n",
    "\n",
    "Y su definición en codigo es de la siguiente forma:"
   ]
  },
  {
   "cell_type": "code",
   "execution_count": 45,
   "metadata": {},
   "outputs": [],
   "source": [
    "raiz = AB(25, \n",
    "          AB(16, AB(26, arbolVacio, arbolVacio), \n",
    "                 AB(31, AB(40, arbolVacio, arbolVacio), \n",
    "                        AB(5, arbolVacio, arbolVacio))),\n",
    "          AB(9, AB(39, arbolVacio, arbolVacio), \n",
    "                arbolVacio))"
   ]
  },
  {
   "cell_type": "markdown",
   "metadata": {},
   "source": [
    "Las funciones clasicas que se realizan sobre un árbol binario son:\n",
    "\n",
    "- Verificar si *algo* es un árbol binario\n",
    "\n",
    "- Contar cuantos elementos (nodos) tiene el árbol\n",
    "\n",
    "- Calcular cual es la altura del árbol (niveles de profundidad)\n",
    "\n",
    "- Contar cuantos nodos del árbol no tienen rama derecha ni rama izquierda\n",
    "\n",
    "- Buscar si existe un elemento o no el algún nodo del árbol\n",
    "\n"
   ]
  },
  {
   "cell_type": "markdown",
   "metadata": {},
   "source": [
    "### Función `esAB`\n",
    "\n",
    "Para este caso, partimos desde la raíz del árbol:\n",
    "\n",
    "- Si nos encontramos con un `arbolVacio`, en particular es un árbol\n",
    "\n",
    "- Si es algo no nulo, tenemos que verificar\n",
    "\n",
    "  - Que sea de tipo AB\n",
    "  \n",
    "  - Sus ramas `izq` y `der` tienen que ser AB\n",
    "  \n",
    "  - No hay que verificar alguna condición sobre el valor almacenado\n",
    "\n"
   ]
  },
  {
   "cell_type": "code",
   "execution_count": 49,
   "metadata": {},
   "outputs": [],
   "source": [
    "# esAB: any -> bool\n",
    "# indica si lo entregado cumple con ser AB\n",
    "# ej: esAB(raiz) entrega True\n",
    "def esAB(A):\n",
    "    \n",
    "    # el nodo vacío se considera un árbol AB\n",
    "    if A == arbolVacio:\n",
    "        return True\n",
    "    \n",
    "    # El nodo actual debe ser de tipo AB, y \n",
    "    # sus ramas izq y der también deben serlo\n",
    "    return type(A) == AB and \\\n",
    "           esAB(A.izq) and \\\n",
    "           esAB(A.der)\n",
    "\n",
    "# Test\n",
    "assert esAB(raiz)\n",
    "assert esAB(arbolVacio)\n",
    "assert not esAB(\"gatito\")"
   ]
  },
  {
   "cell_type": "code",
   "execution_count": 50,
   "metadata": {},
   "outputs": [
    {
     "data": {
      "text/plain": [
       "True"
      ]
     },
     "execution_count": 50,
     "metadata": {},
     "output_type": "execute_result"
    }
   ],
   "source": [
    "esAB(raiz)"
   ]
  },
  {
   "cell_type": "markdown",
   "metadata": {},
   "source": [
    "### Función `valores`\n",
    "\n",
    "Para este caso, partimos desde la raiz del árbol:\n",
    "\n",
    "- Si nos encontramos con un `arbolVacio`, no se cuenta y terminamos de contar.\n",
    "\n",
    "- Si nos encontramos con un árbol no vacío, lo contamos, y luego:\n",
    "\n",
    "  - Contamos cuantos valores hay por la rama `izq`.\n",
    "\n",
    "  - Contamos cuantos valores hay por la rama `der`.\n",
    "\n",
    "  - Sumamos los resultados de ambas cuentas."
   ]
  },
  {
   "cell_type": "code",
   "execution_count": 51,
   "metadata": {},
   "outputs": [],
   "source": [
    "# valores: AB -> int\n",
    "# cuenta cuantos nodos tiene el arbol\n",
    "# ej: valores(raiz) entrega 8\n",
    "def valores(A):\n",
    "    assert esAB(A)\n",
    "\n",
    "    # el nodo vacío no tiene elementos\n",
    "    if A == arbolVacio:\n",
    "        return 0\n",
    "    \n",
    "    # Contamos el actual, y contamos cuantos \n",
    "    # valores hay en las ramas izq y der\n",
    "    return 1 + valores(A.izq) + valores(A.der)\n",
    "\n",
    "# test\n",
    "assert valores(raiz) == 8"
   ]
  },
  {
   "cell_type": "code",
   "execution_count": 52,
   "metadata": {},
   "outputs": [
    {
     "data": {
      "text/plain": [
       "8"
      ]
     },
     "execution_count": 52,
     "metadata": {},
     "output_type": "execute_result"
    }
   ],
   "source": [
    "valores(raiz)"
   ]
  },
  {
   "cell_type": "markdown",
   "metadata": {},
   "source": [
    "### Función `altura`\n",
    "\n",
    "Para este caso, hacemos algo similar a la función anterior:\n",
    "\n",
    "- Si nos encontramos con un `arbolVacio`, por def. tiene altura 0.\n",
    "\n",
    "- Si nos encontramos con un árbol no vacío, cuenta como un nivel, y luego:\n",
    "\n",
    "  - Contamos la altura del sub-árbol `izq`.\n",
    "\n",
    "  - Contamos la altura del sub-árbol `der`.\n",
    "  \n",
    "  - Nos quedamos con la mayor entre ambas cuentas.\n"
   ]
  },
  {
   "cell_type": "markdown",
   "metadata": {},
   "source": [
    "Para este caso, hacemos algo similar a la función anterior:\n",
    "\n",
    "- Si nos encontramos con un arbolVacio, por def. tiene altura 0.\n",
    "- Si nos encontramos con un árbol no vacío, cuenta como un nivel, y luego:\n",
    "  - Contamos la altura del sub-árbol izq.\n",
    "  - Contamos la altura del sub-árbol der.\n",
    "  - Nos quedamos con la mayor entre ambas cuentas.\n",
    "\n",
    "![](AB_altura_bot.svg)\n",
    "![](AB_altura_bot2.svg)\n",
    "![](AB_altura_bot3.svg)\n",
    "![](AB_altura_bot4.svg)"
   ]
  },
  {
   "cell_type": "code",
   "execution_count": 53,
   "metadata": {},
   "outputs": [],
   "source": [
    "# altura: AB -> int\n",
    "# cuenta cual es la profundidad del arbol\n",
    "# ej: altura(raiz) entrega 4\n",
    "def altura(A):\n",
    "    assert esAB(A)\n",
    "    \n",
    "    # el nodo vacío no tiene elementos\n",
    "    if A == arbolVacio:\n",
    "        return 0\n",
    "    \n",
    "    # Contamos el nivel actual y nos quedamos con el sub-árbol de mayor altura\n",
    "    return 1 + max(altura(A.izq), altura(A.der))\n",
    "\n",
    "# test\n",
    "assert altura(raiz) == 4"
   ]
  },
  {
   "cell_type": "code",
   "execution_count": 54,
   "metadata": {},
   "outputs": [
    {
     "data": {
      "text/plain": [
       "4"
      ]
     },
     "execution_count": 54,
     "metadata": {},
     "output_type": "execute_result"
    }
   ],
   "source": [
    "altura(raiz)"
   ]
  },
  {
   "cell_type": "markdown",
   "metadata": {},
   "source": [
    "### Función `hojas`\n",
    "\n",
    "Para este caso, hacemos algo similar a la función anterior:\n",
    "\n",
    "- Si nos encontramos con un `arbolVacio`, no es una hoja (ya que no tiene valor asociado)\n",
    "\n",
    "- Si nos encontramos con un árbol no vacío:\n",
    "\n",
    "  - Si no tiene rama `izq` ni `der`, entonces lo cuento como hoja\n",
    "\n",
    "  - Si tiene al menos una rama definida, entonces cuento cuantas hojas hay allí\n",
    "\n",
    "![](AB_hojas.svg)"
   ]
  },
  {
   "cell_type": "code",
   "execution_count": 55,
   "metadata": {},
   "outputs": [],
   "source": [
    "# hojas: AB -> int\n",
    "# cuenta cuantos nodos sin ramas hay en el arbol\n",
    "# ej: hojas(raiz) entrega 4\n",
    "def hojas(A):\n",
    "    assert esAB(A)\n",
    "    \n",
    "    if A == arbolVacio:\n",
    "        return 0\n",
    "    \n",
    "    if A.izq == arbolVacio and A.der == arbolVacio:\n",
    "        return 1\n",
    "    else: \n",
    "        return hojas(A.izq) + hojas(A.der)\n",
    "\n",
    "# Test\n",
    "assert hojas(raiz) == 4"
   ]
  },
  {
   "cell_type": "code",
   "execution_count": 56,
   "metadata": {},
   "outputs": [
    {
     "data": {
      "text/plain": [
       "4"
      ]
     },
     "execution_count": 56,
     "metadata": {},
     "output_type": "execute_result"
    }
   ],
   "source": [
    "hojas(raiz)"
   ]
  },
  {
   "cell_type": "markdown",
   "metadata": {},
   "source": [
    "### Función `buscar`\n",
    "\n",
    "Para este caso, hacemos algo similar a la función anterior:\n",
    "\n",
    "- Si nos encontramos con un `arbolVacio`, no hay mas donde buscar, por lo que el elemento no está... Entregamos `False`.\n",
    "\n",
    "- Si nos encontramos con un árbol no vacío, revisamos si coincide con el elemento buscado:\n",
    "\n",
    "  - Si coincide, entregamos `True`.\n",
    "\n",
    "  - Si no coincide, buscamos si existe en su rama `izq`, o bien, en su rama `der`."
   ]
  },
  {
   "cell_type": "code",
   "execution_count": 57,
   "metadata": {},
   "outputs": [],
   "source": [
    "# buscar: AB any -> bool\n",
    "# busca si existe el elemento buscado en el arbol\n",
    "# ej: buscar(raiz, 99) entrega False\n",
    "def buscar(A,elem):\n",
    "    assert esAB(A)\n",
    "    \n",
    "    # el nodo vacío no tiene valor, por lo que el elemento no existe\n",
    "    if A == arbolVacio:\n",
    "        return False\n",
    "    \n",
    "    # Si el valor del nodo actual coincide con el buscado, \n",
    "    # entonces si está en el árbol\n",
    "    if A.valor == elem:\n",
    "        return True\n",
    "    \n",
    "    # Si no, entonces buscamos si existe en las ramas izq o der\n",
    "    return buscar(A.izq, elem) or buscar(A.der,elem)\n",
    "\n",
    "# test\n",
    "assert buscar(raiz,31)\n",
    "assert not buscar(raiz,99)"
   ]
  },
  {
   "cell_type": "code",
   "execution_count": 58,
   "metadata": {},
   "outputs": [
    {
     "data": {
      "text/plain": [
       "True"
      ]
     },
     "execution_count": 58,
     "metadata": {},
     "output_type": "execute_result"
    }
   ],
   "source": [
    "buscar(raiz,31)"
   ]
  },
  {
   "cell_type": "code",
   "execution_count": 59,
   "metadata": {},
   "outputs": [
    {
     "data": {
      "text/plain": [
       "False"
      ]
     },
     "execution_count": 59,
     "metadata": {},
     "output_type": "execute_result"
    }
   ],
   "source": [
    "buscar(raiz,99)"
   ]
  },
  {
   "attachments": {},
   "cell_type": "markdown",
   "metadata": {},
   "source": [
    "### Propuesto\n",
    "\n",
    "Crear una función, que reciba un AB, y entregue cuantos elementos son nodos interiores. En otras palabras, que cuente cuantos nodos no-vacíos del AB, que no sean hojas.\n",
    "\n",
    "- Ej: `interiores(raiz)` entrega `4` \n",
    "\n"
   ]
  },
  {
   "cell_type": "markdown",
   "metadata": {},
   "source": [
    "### Follow-up\n",
    "\n",
    "Usualmente en los árboles, se utiliza información contextual para almacenar la información, y así no tener que anotarlo explícitamente. \n",
    "\n",
    "Por ejemplo, se le puede dar una significado especial a:\n",
    "\n",
    "- Las hojas de un árbol\n",
    "\n",
    "- Sus nodos interiores\n",
    "\n",
    "- La dirección (`izq` o `der`) por la cual avanza una rama del árbol\n",
    "\n",
    "- El tipo de datos que almacenan cada uno de sus nodos\n",
    "\n",
    "Veremos algunas aplicaciones particulares de AB's\n",
    "\n",
    "---"
   ]
  },
  {
   "attachments": {},
   "cell_type": "markdown",
   "metadata": {},
   "source": [
    "### Patrón\n",
    "\n",
    "Al igual que para el caso de funciones que operan con listas, para el caso de árboles, hay un patrón de operaciones similar:\n",
    "\n",
    "El caso base consiste en:\n",
    "- Decidir que hacer o que resultado entregar con el `arbolVacio`.\n",
    "- Decidir qué hacer cuando estamos en un nodo tipo hoja (rama `izq` y rama `der` son el `arbolVacio`)\n",
    "\n",
    "El caso recursivo consiste en:\n",
    "- Tomar el elemento actual, decidir qué hacer con él o como operarlo.\n",
    "- Luego decidir si hay que procesar los elementos de alguna de sus ramas `izq` o `der` (o ambas).\n",
    "- Finalmente entregar un resultado, o continuar la función en alguna rama en específico.\n"
   ]
  },
  {
   "cell_type": "code",
   "execution_count": null,
   "metadata": {},
   "outputs": [],
   "source": [
    "def funcionArbol(A):\n",
    "\n",
    "    if A es el arbolVacio:\n",
    "        ''' ver que hacer en este caso '''\n",
    "    \n",
    "    if A es una hoja:\n",
    "        ''' ver que hacer en este caso '''\n",
    "\n",
    "    ... A.valor ... \n",
    "\n",
    "    ... funcionArbol(A.izq) ...\n",
    "\n",
    "    ... funcionArbol(A.der) ...  \n",
    "\n",
    "    return resultado"
   ]
  },
  {
   "attachments": {},
   "cell_type": "markdown",
   "metadata": {},
   "source": [
    "Más aún, podemos manejar exhaustivamente todos los casos posibles de nodo de árbol"
   ]
  },
  {
   "cell_type": "code",
   "execution_count": null,
   "metadata": {},
   "outputs": [],
   "source": [
    "def funcionArbol(A):\n",
    "\n",
    "    if A == arbolVacio:\n",
    "        ''' ver que hacer en este caso '''\n",
    "    \n",
    "    ... A.valor ...\n",
    "\n",
    "    if A.izq == arbolVacio and A.der == arbolVacio:\n",
    "        ''' ver que hacer en este caso '''\n",
    "\n",
    "    if A.izq != arbolVacio and A.der == arbolVacio:\n",
    "        ... funcionArbol(A.izq) ...\n",
    "\n",
    "    if A.izq == arbolVacio and A.der != arbolVacio:\n",
    "        ... funcionArbol(A.der) ...\n",
    "\n",
    "    if A.izq != arbolVacio and A.der != arbolVacio:\n",
    "        ... funcionArbol(A.izq) ...\n",
    "        ... funcionArbol(A.der) ... \n",
    "    \n",
    "    return resultado "
   ]
  },
  {
   "cell_type": "markdown",
   "metadata": {},
   "source": [
    "Tales casos son:\n",
    "\n",
    "- Nodo Vacío\n",
    "- Nodo Hoja\n",
    "- Nodo solo rama izquierda\n",
    "- Nodo solo rama derecha\n",
    "- Nodo con ambas ramas"
   ]
  },
  {
   "cell_type": "markdown",
   "metadata": {},
   "source": [
    "## Árbol de Expresiones Matemáticas (AB-exp)\n",
    "\n",
    "Un caso particular de AB es el árbol de expresiones matemáticas (AB-exp), el cual permite representar una cadena de operaciones matemáticas\n",
    "\n",
    "En los arboles AB-exp:\n",
    "\n",
    "- Las **hojas** almacenan valores numéricos.\n",
    "\n",
    "- Los **nodos interiores** almacenan un string que representa la operación aritmética a realizar entre el valor de su rama `izq` y `der`\n",
    "\n",
    "- No hay nodos con una sola rama\n",
    "\n",
    "- Todas las operaciones se realizan con dos operandos\n",
    "\n",
    "- El objetivo es obtener el valor numérico final después de evaluar el árbol completo (con ayuda de una función)\n",
    "\n",
    "\n",
    "Por ejemplo, el AB-exp que representa la operación aritmetica:\n",
    "\n",
    "$$((26 - (40 + 5)) * 2)$$\n",
    "\n",
    "\n",
    "![AB_exp.png](AB_exp.svg)"
   ]
  },
  {
   "cell_type": "code",
   "execution_count": 60,
   "metadata": {},
   "outputs": [],
   "source": [
    "ABexp = AB('*', \n",
    "          AB('-', AB(26, arbolVacio, arbolVacio),\n",
    "                  AB('+', AB(40, arbolVacio, arbolVacio),\n",
    "                          AB(5, arbolVacio, arbolVacio))),\n",
    "           AB(2, arbolVacio, arbolVacio)\n",
    "          )"
   ]
  },
  {
   "cell_type": "markdown",
   "metadata": {},
   "source": [
    "Dado un AB-exp, creemos las siguientes funciones:\n",
    "\n",
    "- Validar que un AB cumple la propiedad de ser un AB-exp\n",
    "\n",
    "- Evaluar el resultado final de un AB-exp dado\n"
   ]
  },
  {
   "cell_type": "markdown",
   "metadata": {},
   "source": [
    "### Función `esABexp`\n",
    "\n",
    "Para validar si un AB en particular es un AB-exp, tenemos que verificar:\n",
    "\n",
    "- Si es un nodo interior, entonces su `valor` asociado tiene que ser una operación matemática y tanto sus ramas `izq` y `der` deben ser no-vacías\n",
    "\n",
    "- Si es una hoja, entonces su `valor` asociado tiene que ser numérico y sus ramas `izq` y `der` deben ser vacías\n"
   ]
  },
  {
   "cell_type": "code",
   "execution_count": 63,
   "metadata": {},
   "outputs": [],
   "source": [
    "# esABexp: AB -> bool\n",
    "# indica si un AB en particular es AB-exp\n",
    "# ej: esABexp(ABexp) entrega True\n",
    "def esABexp(A):\n",
    "    \n",
    "    # Si no es AB, entonces en particular no puede ser AB-exp\n",
    "    if not esAB(A):\n",
    "        return False\n",
    "    \n",
    "    # Un AB vacío por si solo, no cumple con ser AB-exp\n",
    "    if A == arbolVacio:\n",
    "        return False\n",
    "    \n",
    "    # Si es hoja, entonces su valor debe ser numérico\n",
    "    if A.izq == arbolVacio and A.der == arbolVacio:\n",
    "        return type(A.valor) == int or type(A.valor) == float\n",
    "    \n",
    "    # Si es nodo interior, entonces su valor debe ser una\n",
    "    #  operación y sus ramas deben ser AB-exp\n",
    "    return type(A.valor) == str and \\\n",
    "           esABexp(A.izq) and esABexp(A.der)\n",
    "\n",
    "# test\n",
    "assert esABexp(ABexp)\n",
    "assert not esABexp(raiz)"
   ]
  },
  {
   "cell_type": "code",
   "execution_count": 64,
   "metadata": {},
   "outputs": [
    {
     "data": {
      "text/plain": [
       "True"
      ]
     },
     "execution_count": 64,
     "metadata": {},
     "output_type": "execute_result"
    }
   ],
   "source": [
    "esABexp(ABexp)"
   ]
  },
  {
   "cell_type": "code",
   "execution_count": 65,
   "metadata": {},
   "outputs": [
    {
     "data": {
      "text/plain": [
       "False"
      ]
     },
     "execution_count": 65,
     "metadata": {},
     "output_type": "execute_result"
    }
   ],
   "source": [
    "esABexp(raiz)"
   ]
  },
  {
   "cell_type": "markdown",
   "metadata": {},
   "source": [
    "### Función `evaluar`\n",
    "\n",
    "Para evaluar el resultado final de un AB-exp tenemos que ver que hacer dependiendo del tipo de nodo:\n",
    "\n",
    "- Si es un nodo interior, entonces hay que evaluar el valor resultante de sus ramas `izq` y `der`, y luego operarlas con la operación guardada en el nodo actual\n",
    "\n",
    "- Si es una hoja, entonces entregamos su valor asociado, para que pueda ser operado mas arriba en el árbol\n",
    "\n",
    "![AB_exp.png](AB_exp.svg)\n",
    "![AB_exp_eval1.png](AB_exp_eval1.svg)\n",
    "![AB_exp_eval2.png](AB_exp_eval2.svg)\n",
    "![AB_exp_eval3.png](AB_exp_eval3.svg)\n"
   ]
  },
  {
   "cell_type": "code",
   "execution_count": 66,
   "metadata": {},
   "outputs": [],
   "source": [
    "# evaluar: AB -> num\n",
    "# obtiene el resultado final de evaluar un AB de exp. mat.\n",
    "# Ej: evaluar(ABexp) entrega -38\n",
    "def evaluar(AE):\n",
    "    assert esABexp(AE)\n",
    "    \n",
    "    # Si es hoja, entregamos su valor\n",
    "    if AE.izq == arbolVacio and AE.der == arbolVacio:\n",
    "        return AE.valor\n",
    "    \n",
    "    # Obtenemos el resultado de evaluar sus ramas der e izq\n",
    "    valorIzq = evaluar(AE.izq) \n",
    "    valorDer = evaluar(AE.der) \n",
    "    operador = AE.valor\n",
    "    \n",
    "    # Dependiendo del operador, aplicamos la operación adecuada\n",
    "    #  entre los valores finales de la rama izq y der\n",
    "    if operador == '+':\n",
    "        return valorIzq + valorDer\n",
    "    elif operador == '-':\n",
    "        return valorIzq - valorDer    \n",
    "    elif operador == '*':\n",
    "        return valorIzq * valorDer\n",
    "    elif operador == '/':\n",
    "        return valorIzq / valorDer\n",
    "\n",
    "# test\n",
    "assert evaluar(ABexp) == -38"
   ]
  },
  {
   "cell_type": "markdown",
   "metadata": {},
   "source": [
    "Disclaimer: okey, las operaciones anteriores solo consideraban los operadores básicos ``+ - * / ``, pero perfectamente se pueden agregar mas operadores en la cadena ``if-else`` para soportar mas operaciones\n",
    "\n",
    "---"
   ]
  },
  {
   "cell_type": "markdown",
   "metadata": {},
   "source": [
    "### Conclusiones"
   ]
  },
  {
   "cell_type": "markdown",
   "metadata": {},
   "source": [
    "La estructura de Árboles Binarios  nos permite almacenar elementos, tal que sigan cierta organización o jerarquía, o respeten propiedades tan detalladas o complejas como se desee\n",
    "\n",
    "Hoy en particular vimos que:\n",
    "\n",
    "- Los AB son parecidos a las listas, pero en vez de un vínculo \"siguiente\", tienen 2 vínculos (izquierda y derecha)\n",
    "\n",
    "- El caso particular de los Árboles de Expresiones Matemáticas, que son un caso particular de AB en que:\n",
    "  - La información está organizada de cierta manera\n",
    "  - Este orden permite realizar funciones u operaciones especializadas "
   ]
  }
 ],
 "metadata": {
  "kernelspec": {
   "display_name": "Python 3 (ipykernel)",
   "language": "python",
   "name": "python3"
  },
  "language_info": {
   "codemirror_mode": {
    "name": "ipython",
    "version": 3
   },
   "file_extension": ".py",
   "mimetype": "text/x-python",
   "name": "python",
   "nbconvert_exporter": "python",
   "pygments_lexer": "ipython3",
   "version": "3.10.6"
  },
  "vscode": {
   "interpreter": {
    "hash": "98b95ce4537a043c6c2f8047f97d2678115deb8444c76d437608d4f0db95d495"
   }
  }
 },
 "nbformat": 4,
 "nbformat_minor": 4
}
