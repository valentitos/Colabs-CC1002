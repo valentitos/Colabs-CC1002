{
 "cells": [
  {
   "cell_type": "markdown",
   "metadata": {},
   "source": [
    "<a href=\"https://colab.research.google.com/github/valentitos/Colabs-CC1002/blob/main/Clase_15_CasoEstudio_II/Clase15_Caso_Estudio_II.ipynb\" target=\"_parent\"><img src=\"https://colab.research.google.com/assets/colab-badge.svg\" alt=\"Open In Colab\"/></a>"
   ]
  },
  {
   "cell_type": "markdown",
   "metadata": {},
   "source": [
    "# Clase 15: Caso de Estudio II"
   ]
  },
  {
   "cell_type": "markdown",
   "metadata": {},
   "source": [
    "## Caso de estudio II\n",
    "\n",
    "Para una investigación sobre redes sociales, se están recopilando los siguientes datos de diversas cuentas de Instagram:\n",
    "\n",
    "- Tag de la cuenta (``@``)\n",
    "\n",
    "- Nombre de la cuenta\n",
    "\n",
    "- Cantidad de seguidores (Followers)\n",
    "\n",
    "Un grupo de investigadores le pide ayuda para poder almacenar todos estos datos y así realizar estudios interesantes. Para empezar, cuentan con la Estructura `Cuenta`, que permite almacenar los datos de una cuenta de Instagram en particular:\n"
   ]
  },
  {
   "cell_type": "code",
   "execution_count": 1,
   "metadata": {},
   "outputs": [],
   "source": [
    "import estructura\n",
    "from lista import *\n",
    "from arbol import *"
   ]
  },
  {
   "cell_type": "code",
   "execution_count": 2,
   "metadata": {},
   "outputs": [],
   "source": [
    "# Cuenta: tag(str) nombre(str) seguidores(int)\n",
    "estructura.crear('Cuenta','tag nombre seg')"
   ]
  },
  {
   "cell_type": "markdown",
   "metadata": {},
   "source": [
    "Y cuentan con varias cuentas ya registradas:"
   ]
  },
  {
   "cell_type": "code",
   "execution_count": 3,
   "metadata": {},
   "outputs": [],
   "source": [
    "Calma = Cuenta('alma.observatory', 'ALMA observatory' , 142000)\n",
    "Chaya = Cuenta('chayanne' , 'Chayanne' , 6800000)\n",
    "Conf  = Cuenta('noot.notbeaucheems','Confesiones NootNoot', 2400)\n",
    "Cval  = Cuenta('playvalorantofficial' , 'VALORANT' , 1100000)\n",
    "Cpok  = Cuenta('pokemon' , 'Pokemon' , 4100000)\n",
    "Cspy  = Cuenta('spyfamily_en' , 'SPY x FAMILY' , 199000)\n",
    "Cwill = Cuenta('willowthesquishycat' , 'Willow' , 57100)"
   ]
  },
  {
   "cell_type": "markdown",
   "metadata": {},
   "source": [
    "<div><img src=\"cuentas_sueltas.svg\" width=\"40%;\"/></div>\n",
    "\n",
    "Estas cuentas las tienen organizadas en un Árbol de Búsqueda Binaria (ABB), ordenado por `tags`\n",
    "\n",
    "\n",
    "<div><img src=\"ABB_instaV2.svg\" width=\"60%;\"/></div>"
   ]
  },
  {
   "cell_type": "code",
   "execution_count": 5,
   "metadata": {},
   "outputs": [],
   "source": [
    "ABBcuentas = AB(Cval, AB(Chaya, AB(Calma, arbolVacio, arbolVacio),\n",
    "                                AB(Conf, arbolVacio, arbolVacio)),\n",
    "                      AB(Cspy, AB(Cpok, arbolVacio, arbolVacio),\n",
    "                               AB(Cwill, arbolVacio, arbolVacio)))"
   ]
  },
  {
   "cell_type": "markdown",
   "metadata": {},
   "source": [
    "\n",
    "\n",
    "Con esto, nos piden ayuda para realizar las siguientes operaciones sobre un ABB de Cuentas\n",
    "\n",
    "- Agregar una Cuenta al árbol\n",
    "\n",
    "- Buscar un tag en el árbol, y entregar su Cuenta asociada\n",
    "\n",
    "- Editar el dato de seguidores de una Cuenta guardada en el árbol\n",
    "\n",
    "- Borrar una Cuenta del árbol, dado un tag\n",
    "\n",
    "También nos indican que podemos asumir que no hay cuentas repetidas en el ABB\n",
    "\n",
    "### Parentesis Cultural\n",
    "\n",
    "En el mundo de la computación (Ingeniería de Software), estas cuatro operaciones se conocen bajo el acrónimo **CRUD**\n",
    "\n",
    "- `Create`: Crear un nuevo registro\n",
    "\n",
    "- `Read`: Leer/obtener los datos asociados a un registro\n",
    "\n",
    "- `Update`: Cambiar la información de un registro\n",
    "\n",
    "- `Delete`: Borrar un registro\n",
    " \n",
    "Por lo que, en concreto, crearemos las siguientes 4 funciones:\n",
    "\n",
    "- `agregar(AC, NC)`: Agrega una nueva Cuenta `NC` al ABB de Cuentas `AC`\n",
    "\n",
    "- `buscar(AC, tag)`: Busca la información de la Cuenta asociada al `tag` entregado y entrega la Cuenta si la encuentra.\n",
    "\n",
    "- `cambiar(AC, tag, n)`: Busca la cuenta asociada al `tag` entregado, y modifica su cantidad de seguidores por el valor `n` entregado\n",
    "\n",
    "- `eliminar(AC,tag)`: Elimina del Árbol la cuenta asociada al `tag` indicado\n",
    "\n",
    "\n",
    "\n"
   ]
  },
  {
   "cell_type": "markdown",
   "metadata": {},
   "source": [
    "## ABB de Cuentas (función `buscar`)\n",
    "\n",
    "Como estamos trabajando sobre un ABB, podemos usar su propiedad de orden. En este caso, las cuentas se encuentran ordenadas por `tag`.\n",
    "\n",
    "- Revisamos el nodo actual, extrayendo el dato del `tag` guardado, y lo comparamos con el `tag` buscado\n",
    "\n",
    "  - Si coinciden, entonces ganamos y entregamos la Cuenta actual\n",
    "  \n",
    "  - Si el `tag` actual es **menor** que el buscado, entonces seguimos la búsqueda en la rama `izq` del ABB\n",
    "\n",
    "  - Si el `tag` actual es **mayor** que el buscado, entonces seguimos la búsqueda en la rama `der` del ABB\n",
    "\n",
    "- Si llegamos al `arbolVacio`, entonces la cuenta no existe \n",
    "\n",
    "En este ejemplo, por la propiedad de orden, sabemos que `\"pokemon\"` , si es que existe en el ABB, debe encontrarse a la derecha de `\"playvalorant…\"`, y a su vez, sabemos que `\"pokemon\"` , si es que existe en el ABB, debe encontrarse a la izquierda de `\"spyfamily…\"`. Como nos encontramos eventualmente con `\"pokemon\"`, entonces existe en el árbol, y entregamos la cuenta asociada \n",
    "\n",
    "\n",
    "\n",
    "<div><img src=\"ABB_insta_buscar1.svg\" width=\"50%;\"/><img src=\"ABB_insta_buscar2.svg\" width=\"50%;\"/></div>\n",
    "<div><img src=\"ABB_insta_buscar3.svg\" width=\"50%;\"/></div>\n",
    "\n",
    "En este ejemplo, por la propiedad de orden, sabemos que `\"mylittlepony\"` , si es que existe en el ABB, debe encontrarse a la izquierda de `\"playvalorant…\"`, y a su vez, sabemos que `\"mylittlepony\"` , si es que existe en el ABB, debe encontrarse a la derecha de `\"chayanne\"`, y a su vez, sabemos que `\"mylittlepony\"` , si es que existe en el ABB, debe encontrarse a la derecha de `\"confesiones_beaucheems\"`. Finalmente, como llegamos a un nodo vacío, el elemento buscado no existe, ya que si existiese, si o si tiene que estar acá.\n",
    "\n",
    "\n",
    "<div><img src=\"ABB_insta_buscarinf1.svg\" width=\"50%;\"/><img src=\"ABB_insta_buscarinf2.svg\" width=\"50%;\"/></div>\n",
    "<div><img src=\"ABB_insta_buscarinf3.svg\" width=\"50%;\"/><img src=\"ABB_insta_buscarinf4.svg\" width=\"50%;\"/></div>\n",
    "\n",
    "\n",
    "\n",
    "\n",
    "\n",
    "\n"
   ]
  },
  {
   "cell_type": "code",
   "execution_count": 11,
   "metadata": {},
   "outputs": [],
   "source": [
    "# buscar: AB(Cuenta) str -> Cuenta | None\n",
    "# busca un tag en el ABB y entrega sus datos asociados\n",
    "# Ej: buscar(ABBcuentas,'pewdiepie') entrega None\n",
    "def buscar(AC, tag):\n",
    "    assert esAB(AC) and type(tag) == str\n",
    "    \n",
    "    #CB: el nodo vacio nos dice que el elemento no existia\n",
    "    if AC == arbolVacio:\n",
    "        return None\n",
    "    \n",
    "    act = AC.valor\n",
    "    # Si el tag del nodo actual coincide con el buscado, \n",
    "    # entonces entregamos la cuenta completa\n",
    "    if act.tag == tag:\n",
    "        return act\n",
    "    # Si no coinciden, vemos por que rama hay que seguir la búsqueda\n",
    "    elif act.tag > tag:  \n",
    "        return buscar(AC.izq, tag)\n",
    "    else:\n",
    "        return buscar(AC.der, tag)\n",
    "\n",
    "# Test\n",
    "assert buscar(ABBcuentas, 'pewdiepie') == None \n",
    "assert buscar(ABBcuentas, 'pokemon') == Cpok"
   ]
  },
  {
   "cell_type": "code",
   "execution_count": 9,
   "metadata": {},
   "outputs": [
    {
     "name": "stdout",
     "output_type": "stream",
     "text": [
      "None\n"
     ]
    }
   ],
   "source": [
    "print(buscar(ABBcuentas, 'pewdiepie'))"
   ]
  },
  {
   "cell_type": "code",
   "execution_count": 10,
   "metadata": {},
   "outputs": [
    {
     "data": {
      "text/plain": [
       "Cuenta(tag='pokemon', nombre='Pokemon', seg=4100000)"
      ]
     },
     "execution_count": 10,
     "metadata": {},
     "output_type": "execute_result"
    }
   ],
   "source": [
    "buscar(ABBcuentas, 'pokemon')"
   ]
  },
  {
   "cell_type": "markdown",
   "metadata": {},
   "source": [
    "## ABB de Cuentas (función `agregar`)\n",
    "\n",
    "Cuando estamos modificando un ABB (en este caso agregando un nuevo elemento), tenemos que preservar la propiedad de orden. Para ello, realizamos algo similar a la búsqueda\n",
    "\n",
    "- Revisamos el nodo actual, extrayendo el dato del `tag` guardado, y lo comparamos con el `tag` de la cuenta a agregar\n",
    "\n",
    "  - Si coinciden, entonces la cuenta ya existía… no hacemos nada\n",
    "\n",
    "  - Si el `tag` actual es **menor** que el que será agregado, entonces la nueva cuenta debe ser agregada en la rama `izq` del ABB\n",
    "\n",
    "  - Si el `tag` actual es **mayor** que el buscado, entonces la nueva cuenta debe ser agregada en la rama `der` del ABB\n",
    "\n",
    "- Si llegamos al `arbolVacio`, entonces la cuenta debe ser agregada en este lugar\n",
    "\n",
    "\n",
    "\n",
    "En este ejemplo, por la propiedad de orden, sabemos que `\"burgerking…\"` , debe ser agregado a la izquierda de `\"playvalorant…\"`, y a su vez, sabemos que `\"burgerking…\"` , debe ser agregado a la izquierda de `\"chayanne\"`, y a su vez, sabemos que `\"burgerking…\"` , debe ser agregado a la derecha de `\"alma.observatory\"`. Eventualmente llegamos a un nodo vacío, y este es el lugar donde debe vivir la nueva cuenta\n",
    "\n",
    "\n",
    "<div><img src=\"ABB_insta_insert1.svg\" width=\"50%;\"/><img src=\"ABB_insta_insert2.svg\" width=\"50%;\"/></div>\n",
    "<div><img src=\"ABB_insta_insert3.svg\" width=\"50%;\"/><img src=\"ABB_insta_insert4.svg\" width=\"50%;\"/></div>\n",
    "\n",
    "\n",
    "\n",
    "\n"
   ]
  },
  {
   "cell_type": "code",
   "execution_count": 17,
   "metadata": {},
   "outputs": [],
   "source": [
    "# agregar: AB(Cuenta) Cuenta -> AB(Cuenta)\n",
    "# agrega una nueva cuenta al ABB\n",
    "# Ej: agregar(ABBcuentas, CBurger) agrega \n",
    "# un nuevo nodo a la derecha de \"alma...\"\n",
    "def agregar(AC, nuevaC):\n",
    "    assert esAB(AC) # and esCuenta(NC)\n",
    "    \n",
    "    # CB: Se agrega la nueva cuenta en el lugar vacío\n",
    "    if AC == arbolVacio:\n",
    "        return AB(nuevaC,arbolVacio,arbolVacio)\n",
    "    \n",
    "    act = AC.valor\n",
    "    # Dependiendo del tag actual y el tag de la nueva cuenta,\n",
    "    #  vemos en que dirección debe ser agregada la nueva cuenta\n",
    "    if act.tag > nuevaC.tag:  \n",
    "        return AB(act, agregar(AC.izq, nuevaC), AC.der)\n",
    "    elif act.tag < nuevaC.tag:\n",
    "        return AB(act, AC.izq, agregar(AC.der, nuevaC))\n",
    "    # Caso especial, por descarte, los tags son iguales… entregamos el árbol intacto\n",
    "    else:\n",
    "        return AC\n",
    "\n",
    "#test\n",
    "assert agregar(ABBcuentas, Chaya) == ABBcuentas\n",
    "\n",
    "CBurger = Cuenta('burgerking_chile', 'Burger King Chile', 100000) \n",
    "nuevoABB = AB(Cval, AB(Chaya, AB(Calma, arbolVacio, \n",
    "                                          AB(CBurger,arbolVacio,arbolVacio)),\n",
    "                                AB(Conf, arbolVacio, arbolVacio)),\n",
    "                      AB(Cspy, AB(Cpok, arbolVacio, arbolVacio),\n",
    "                               AB(Cwill, arbolVacio, arbolVacio)))\n",
    "assert agregar(ABBcuentas, CBurger) == nuevoABB"
   ]
  },
  {
   "cell_type": "code",
   "execution_count": 18,
   "metadata": {},
   "outputs": [
    {
     "data": {
      "text/plain": [
       "AB(valor=Cuenta(tag='playvalorantofficial', nombre='VALORANT', seg=1100000), izq=AB(valor=Cuenta(tag='chayanne', nombre='Chayanne', seg=6800000), izq=AB(valor=Cuenta(tag='alma.observatory', nombre='ALMA observatory', seg=142000), izq=None, der=None), der=AB(valor=Cuenta(tag='confesiones_beaucheems', nombre='Confesiones Beaucheems', seg=2645), izq=None, der=None)), der=AB(valor=Cuenta(tag='spyfamily_en', nombre='SPY x FAMILY', seg=199000), izq=AB(valor=Cuenta(tag='pokemon', nombre='Pokemon', seg=4100000), izq=None, der=None), der=AB(valor=Cuenta(tag='willowthesquishycat', nombre='Willow', seg=57100), izq=None, der=None)))"
      ]
     },
     "execution_count": 18,
     "metadata": {},
     "output_type": "execute_result"
    }
   ],
   "source": [
    "agregar(ABBcuentas, Chaya)"
   ]
  },
  {
   "cell_type": "code",
   "execution_count": 20,
   "metadata": {},
   "outputs": [],
   "source": [
    "CBurger = Cuenta('burgerking_chile', 'Burger King Chile', 100000) \n",
    "ABBcuentas = agregar(ABBcuentas, CBurger)"
   ]
  },
  {
   "cell_type": "markdown",
   "metadata": {},
   "source": [
    "## ABB de Cuentas (función `cambiar`)\n",
    "\n",
    "En este caso, editar el número de seguidores de una cuenta, no afecta la propiedad de orden, por lo que realizamos algo similar a la búsqueda:\n",
    "\n",
    "- Revisamos el nodo actual, extrayendo el dato del `tag` guardado, y lo comparamos con el `tag` de la cuenta a editar\n",
    "\n",
    "  - Si coinciden, este es el elemento a editar\n",
    "  \n",
    "  - Si el `tag` actual es **menor** que el que será agregado, entonces la cuenta a modificar está en la rama `izq` del ABB\n",
    "  \n",
    "  - Si el `tag` actual es **mayor** que el buscado, entonces la cuenta a modificar está en la rama `der` del ABB\n",
    "\n",
    "- Si llegamos al `arbolVacio`, entonces la cuenta a editar no existía desde un principio…\n",
    " \n",
    "En este ejemplo, por la propiedad de orden, sabemos que `\"willow\"` , se encuentra a la derecha de `\"playvalorant…\"`, y a su vez, sabemos que `\"willow\"` , se encuentra a la derecha de `\"spyfamily…\"`. Eventualmente encontramos a `\"willow\"` , por lo que editamos sus datos asociados.\n",
    "\n",
    "\n",
    "\n",
    "<div><img src=\"ABB_insta_update1.svg\" width=\"50%;\"/><img src=\"ABB_insta_update2.svg\" width=\"50%;\"/></div>\n",
    "<div><img src=\"ABB_insta_update3.svg\" width=\"50%;\"/><img src=\"ABB_insta_update4.svg\" width=\"50%;\"/></div>\n",
    "\n",
    "\n",
    "\n"
   ]
  },
  {
   "cell_type": "code",
   "execution_count": 27,
   "metadata": {},
   "outputs": [],
   "source": [
    "# cambiar: AB(Cuenta) str int -> AB(Cuenta)\n",
    "# modifica la cant. de seguidores de una cuenta dada\n",
    "# Ej: cambiar(ABBcuentas, 'willow', 60000) cambia \n",
    "# los seguidores de la cuenta willow por 60000\n",
    "def cambiar(AC, tag, n):\n",
    "    assert esAB(AC) and type(tag) == str\n",
    "    assert type(n) == int\n",
    "\n",
    "    # Caso especial: si llegamos al nodo vacío, \n",
    "    # entonces no había nada que editar\n",
    "    if AC == arbolVacio:\n",
    "        return arbolVacio\n",
    "    \n",
    "    # Dependiendo del tag actual y el tag de la cuenta\n",
    "    #  a editar, vemos en que dirección avanzar\n",
    "    act = AC.valor\n",
    "    if act.tag > tag:  \n",
    "        return AB(act, cambiar(AC.izq, tag, n), AC.der)\n",
    "    elif act.tag < tag:\n",
    "        return AB(act, AC.izq, cambiar(AC.der, tag, n))\n",
    "    # Si son iguales, entonces en este nodo se hace la edición\n",
    "    else:\n",
    "        nuevaC = Cuenta(act.tag, act.nombre, n)\n",
    "        return AB(nuevaC, AC.izq, AC.der)\n",
    "\n",
    "# Test \n",
    "assert cambiar(ABBcuentas, 'pewdiepie', 100) == ABBcuentas\n",
    "\n",
    "C2will = Cuenta('willowthesquishycat' , 'Willow' , 60000)\n",
    "nuevoABB = AB(Cval, AB(Chaya, AB(Calma, arbolVacio, \n",
    "                                          AB(CBurger,arbolVacio,arbolVacio)),\n",
    "                                AB(Conf, arbolVacio, arbolVacio)),\n",
    "                      AB(Cspy, AB(Cpok, arbolVacio, arbolVacio),\n",
    "                               AB(C2will, arbolVacio, arbolVacio)))\n",
    "\n",
    "assert cambiar(ABBcuentas, 'willowthesquishycat', 60000) == nuevoABB                              \n"
   ]
  },
  {
   "cell_type": "code",
   "execution_count": 28,
   "metadata": {},
   "outputs": [
    {
     "data": {
      "text/plain": [
       "AB(valor=Cuenta(tag='playvalorantofficial', nombre='VALORANT', seg=1100000), izq=AB(valor=Cuenta(tag='chayanne', nombre='Chayanne', seg=6800000), izq=AB(valor=Cuenta(tag='alma.observatory', nombre='ALMA observatory', seg=142000), izq=None, der=AB(valor=Cuenta(tag='burgerking_chile', nombre='Burger King Chile', seg=100000), izq=None, der=None)), der=AB(valor=Cuenta(tag='confesiones_beaucheems', nombre='Confesiones Beaucheems', seg=2645), izq=None, der=None)), der=AB(valor=Cuenta(tag='spyfamily_en', nombre='SPY x FAMILY', seg=199000), izq=AB(valor=Cuenta(tag='pokemon', nombre='Pokemon', seg=4100000), izq=None, der=None), der=AB(valor=Cuenta(tag='willowthesquishycat', nombre='Willow', seg=60000), izq=None, der=None)))"
      ]
     },
     "execution_count": 28,
     "metadata": {},
     "output_type": "execute_result"
    }
   ],
   "source": [
    "cambiar(ABBcuentas, 'willowthesquishycat', 60000)"
   ]
  },
  {
   "cell_type": "markdown",
   "metadata": {},
   "source": [
    "## ABB de Cuentas (función `eliminar`)\n",
    "\n",
    "Para eliminar una Cuenta del ABB, primero buscamos donde está el elemento a eliminar. Luego, al eliminar, tenemos que preservar la propiedad de búsqueda, por lo que hay varios casos, dependiendo de la forma del árbol\n",
    "\n",
    "- Si la cuenta a eliminar está en un **nodo hoja**, la eliminamos\n",
    "\n",
    "- Si la cuenta a eliminar está en un **nodo interior con 1 rama vacía**, entonces la eliminamos, y linkeamos su rama no-vacía\n",
    "\n",
    "- Si la cuenta a eliminar es un **nodo interior sin ramas vacías**:\n",
    "\n",
    "  - Buscamos la **mayor** Cuenta en la rama `izq` del ABB (llamémosla `MC`)\n",
    "  - Colocamos a `MC` en el espacio donde eliminaremos la cuenta\n",
    "  - Recursivamente eliminamos a `MC` de la rama `izq` del ABB\n",
    "\n",
    "En este ejemplo, por la propiedad de orden, sabemos que `\"pokemon\"` , se encuentra a la derecha de `\"playvalorant…\"`, y a su vez, sabemos que `\"pokemon\"` , se encuentra a la izquierda de `\"spyfamily…\"`. Eventualmente encontramos a `\"pokemon\"` , procedemos a eliminarlo, y como estaba en un nodo hoja, la eliminación es directa.\n",
    "\n",
    "\n",
    "<div><img src=\"ABB_insta_delete_hoja1.svg\" width=\"50%;\"/><img src=\"ABB_insta_delete_hoja2.svg\" width=\"50%;\"/></div>\n",
    "<div><img src=\"ABB_insta_delete_hoja3.svg\" width=\"50%;\"/><img src=\"ABB_insta_delete_hoja4.svg\" width=\"50%;\"/></div>\n",
    "\n",
    "\n",
    "En este ejemplo, por la propiedad de orden, sabemos que `\"alma.obs…\"` , se encuentra a la izquierda de `\"playvalorant…\"`, y a su vez, sabemos que `\"alma.obs…\"` , se encuentra a la izquierda de `\"chayanne…\"`. Eventualmente la encontramos y eliminamos `\"alma.obs…\"`, y como es un nodo con 1 sola rama, entonces esa rama no vacía, tiene que ascender a ocupar el espacio dejado por `\"alma.obs…\"`\n",
    "\n",
    "\n",
    "<div><img src=\"ABB_insta_delete_int1.svg\" width=\"50%;\"/><img src=\"ABB_insta_delete_int2.svg\" width=\"50%;\"/></div>\n",
    "<div><img src=\"ABB_insta_delete_int3.svg\" width=\"50%;\"/><img src=\"ABB_insta_delete_int4.svg\" width=\"50%;\"/></div>\n",
    "\n",
    "\n",
    "En este ejemplo, por la propiedad de orden, sabemos que… oh, justo nos encontramos con \"playvalorant…\" que queremos eliminar. Al ser un nodo con dos ramas no-vacías, tenemos que buscar a la mayor cuenta en la rama izquierda, para que tome este lugar. Luego eliminamos recursivamente ese nodo de la rama izquierda. Al ser un nodo hoja, la eliminación cae en el caso visto anteriormente\n",
    "\n",
    "\n",
    "<div><img src=\"ABB_insta_delete_hard1.svg\" width=\"50%;\"/><img src=\"ABB_insta_delete_hard2.svg\" width=\"50%;\"/></div>\n",
    "<div><img src=\"ABB_insta_delete_hard3.svg\" width=\"50%;\"/></div>\n"
   ]
  },
  {
   "cell_type": "code",
   "execution_count": 30,
   "metadata": {},
   "outputs": [],
   "source": [
    "# ABB(Cuenta) -> Cuenta\n",
    "def mayorABB(AC):\n",
    "    if AC.der == arbolVacio:\n",
    "        return AC.valor\n",
    "    else:\n",
    "        return mayorABB(AC.der)\n",
    "\n",
    "# eliminar: AB(Cuenta) str -> AB(Cuenta)\n",
    "# elimina la cuenta del ABB asociada al tag\n",
    "# Ej: eliminar(ABBcuentas, 'pokemon') entrega ...\n",
    "def eliminar(AC, tag):\n",
    "    assert esAB(AC) and type(tag) == str\n",
    "\n",
    "    if AC == arbolVacio:\n",
    "        return arbolVacio\n",
    "    \n",
    "    # Dependiendo de donde se encuentra la cuenta a eliminar,\n",
    "    # seguimos por la rama respectiva, dejando la otra intacta\n",
    "    act = AC.valor  \n",
    "    if act.tag > tag:\n",
    "        return AB(act, eliminar(AC.izq, tag), AC.der)\n",
    "    elif act.tag < tag:\n",
    "        return AB(act, AC.izq, eliminar(AC.der, tag))\n",
    "    else: \n",
    "        # Caso eliminación en una hoja\n",
    "        if AC.izq == arbolVacio and AC.der == arbolVacio:\n",
    "            return arbolVacio\n",
    "        # Caso eliminación en un nodo con 1 rama no-vacía\n",
    "        elif AC.izq == arbolVacio:\n",
    "            return AC.der\n",
    "        elif AC.der == arbolVacio:\n",
    "            return AC.izq\n",
    "        # Caso dificil: Buscamos la mayor cuenta en la rama izquierda,\n",
    "        #  para que ascienda a tomar este lugar. Luego eliminamos \n",
    "        # esa cuenta de la rama izquierda\n",
    "        else:\n",
    "            mayorC = mayorABB(AC.izq)\n",
    "            return AB(mayorC, eliminar(AC.izq, mayorC.tag), AC.der)\n",
    "\n",
    "# Test \n",
    "nuevoABB = AB(Cval, AB(Chaya, AB(Calma, arbolVacio, \n",
    "                                          AB(CBurger,arbolVacio,arbolVacio)),\n",
    "                                AB(Conf, arbolVacio, arbolVacio)),\n",
    "                      AB(Cspy, arbolVacio,\n",
    "                               AB(Cwill, arbolVacio, arbolVacio)))\n",
    "assert eliminar(ABBcuentas, 'pokemon') == nuevoABB"
   ]
  },
  {
   "cell_type": "code",
   "execution_count": 31,
   "metadata": {},
   "outputs": [
    {
     "data": {
      "text/plain": [
       "AB(valor=Cuenta(tag='playvalorantofficial', nombre='VALORANT', seg=1100000), izq=AB(valor=Cuenta(tag='chayanne', nombre='Chayanne', seg=6800000), izq=AB(valor=Cuenta(tag='alma.observatory', nombre='ALMA observatory', seg=142000), izq=None, der=AB(valor=Cuenta(tag='burgerking_chile', nombre='Burger King Chile', seg=100000), izq=None, der=None)), der=AB(valor=Cuenta(tag='confesiones_beaucheems', nombre='Confesiones Beaucheems', seg=2645), izq=None, der=None)), der=AB(valor=Cuenta(tag='spyfamily_en', nombre='SPY x FAMILY', seg=199000), izq=None, der=AB(valor=Cuenta(tag='willowthesquishycat', nombre='Willow', seg=57100), izq=None, der=None)))"
      ]
     },
     "execution_count": 31,
     "metadata": {},
     "output_type": "execute_result"
    }
   ],
   "source": [
    "eliminar(ABBcuentas, 'pokemon')"
   ]
  },
  {
   "cell_type": "markdown",
   "metadata": {},
   "source": [
    "## Propuestos\n",
    "\n",
    "- Recrear las mismas funciones CRUD, pero ahora suponiendo que las cuentas se encuentran agrupadas en una **lista ordenada por tag**\n",
    "\n",
    "- Recrear el ABB anterior, pero ahora el criterio de orden del ABB es por número de seguidores de una cuenta\n",
    "\n",
    "- Recrear las funcioens CRUD para el ABB ordenado por número de seguidores"
   ]
  },
  {
   "cell_type": "markdown",
   "metadata": {},
   "source": [
    "## Extras\n",
    "\n",
    "### Eliminación en un ABB\n",
    "\n",
    "Como observamos recién, el eliminar un nodo de un árbol puede ser difícil de abordar y entender. Este tema se aborda con detalle en el curso de algoritmos y estructuras de datos. De todos modos, una manera alternativa de resolver el problema es mediante composición funcional:\n",
    "\n",
    "- Pasar el ABB a una lista (en pre-orden)\n",
    "\n",
    "- Realizar la eliminación del elemento en la lista\n",
    "\n",
    "- Convertir la lista en ABB\n",
    "\n",
    "\n",
    "<div><img src=\"delete_way2.svg\" width=\"60%;\"/></div>\n",
    "\n",
    "### Criterio de Orden en ABB\n",
    "\n",
    "Dado que el ABB utilizado en el Caso de Estudio II, optimiza la búsqueda por tags, eventuales búsquedas u operaciones que realicemos sobre otros de sus parámetros no serán tan fáciles de abordar\n",
    "\n",
    "Por ejemplo, ¿obtener la cuenta con mayor cantidad de seguidores? Dado que el ABB no optimiza la búsqueda para seguidores, solo nos queda realizar una **búsqueda exhaustiva** en todo el árbol para encontrar lo pedido\n",
    "\n",
    "Por lo que, si decidimos usar un ABB para ordenar un conjunto de elementos, tenemos que elegir adecuadamente cual será la `\"llave\"` por la cual vamos a ordenar el árbol\n",
    "\n",
    "**Ordenado por tags**:\n",
    "\n",
    "\n",
    "<div><img src=\"ABB_insta_V2_8.svg\" width=\"50%;\"/></div>\n",
    "\n",
    "**Ordenado por seguidores**:\n",
    "\n",
    "<div><img src=\"ABB_insta_per_seg.svg\" width=\"60%;\"/></div>\n",
    "\n",
    "Y también evaluar los eventuales trade-off de elegir un criterio de orden por sobre otro (`tags` vs `seguidores`, en nuestro caso), ya que si bien pueden facilitar algunas operaciones, puede dificultar otras. Todo lo anterior, depende de cuales serán las operaciones recurrentes, o cual es el objetivo a cumplir\n"
   ]
  },
  {
   "cell_type": "markdown",
   "metadata": {},
   "source": [
    "### Cambiar elementos en un ABB\n",
    "\n",
    "Vimos que, cuando la operación de editar o cambiar un elemento no afecta la propiedad de orden, es relativamente directo de realizar\n",
    "\n",
    "Ahora… cuando este cambio potencialmente puede afectar el orden (ej: aumentar la cantidad de seguidores de una cuenta, lo que rompería la propiedad de ABB), una alternativa para \"simular\" un cambio es:\n",
    "\n",
    "- Eliminar el elemento del ABB\n",
    "\n",
    "- Agregar el elemento al ABB, con sus datos editados\n",
    "\n",
    "<div><img src=\"edit_way2.svg\" width=\"60%;\"/></div>"
   ]
  },
  {
   "cell_type": "markdown",
   "metadata": {},
   "source": [
    "## Conclusiones\n",
    "\n",
    "Hoy vimos una aplicación particular un ABB, que almacena una estructura que administra harta información\n",
    "\n",
    "En particular, revisamos las particularidades que hay que tener al agregar, cambiar, eliminar o buscar elementos en un árbol, sobre todo si es un árbol que almacena estructuras\n"
   ]
  }
 ],
 "metadata": {
  "kernelspec": {
   "display_name": "Python 3 (ipykernel)",
   "language": "python",
   "name": "python3"
  },
  "language_info": {
   "codemirror_mode": {
    "name": "ipython",
    "version": 3
   },
   "file_extension": ".py",
   "mimetype": "text/x-python",
   "name": "python",
   "nbconvert_exporter": "python",
   "pygments_lexer": "ipython3",
   "version": "3.10.5"
  },
  "vscode": {
   "interpreter": {
    "hash": "98b95ce4537a043c6c2f8047f97d2678115deb8444c76d437608d4f0db95d495"
   }
  }
 },
 "nbformat": 4,
 "nbformat_minor": 4
}
