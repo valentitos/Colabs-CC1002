{
  "cells": [
    {
      "cell_type": "markdown",
      "metadata": {
        "id": "view-in-github",
        "colab_type": "text"
      },
      "source": [
        "<a href=\"https://colab.research.google.com/github/valentitos/Colabs-CC1002/blob/main/Clase_01_ExpresionesV2/Clase01_Expresiones_y_Variables.ipynb\" target=\"_parent\"><img src=\"https://colab.research.google.com/assets/colab-badge.svg\" alt=\"Open In Colab\"/></a>"
      ]
    },
    {
      "cell_type": "markdown",
      "metadata": {
        "id": "hUVGhttqyNsN"
      },
      "source": [
        "# Clase 01: Expresiones y Variables\n",
        "\n",
        "## ¿Qué es un algoritmo?\n",
        "\n",
        "Un algoritmo es una secuencia **lógica, finita y ordenada** de pasos que permiten ejecutar cualquier tarea.\n",
        "\n",
        "El origen de la palabra viene de la transcripción al latín del nombre *Muhammad ibn Musa al-Khwarizmi*, un famoso matemático, astrónomo y geógrafo persa del siglo IX, considerado padre del álgebra y quien introdujo el concepto matemático de algoritmo.\n",
        "\n",
        "Para diseñar un algoritmo, tenemos que:\n",
        "\n",
        "- Identificar el problema\n",
        "- Contextualizar lso elementos que definen el problema\n",
        "- Relacionar los elementos mediante una secuencia lógica de pasos"
      ]
    },
    {
      "cell_type": "markdown",
      "metadata": {
        "id": "2HEjIqNyyNsN"
      },
      "source": [
        "\n",
        "### Ejemplo: \"cocinar un huevo frito\"\n",
        "\n",
        "**Problema?**\n",
        "Cocinar un huevo frito\n",
        "\n",
        "**Elementos?**\n",
        "- `huevo`\n",
        "- `aceite`\n",
        "- `sartén`\n",
        "- `cocina`\n",
        "- `fósforo`\n",
        "\n",
        "**Pasos de ejecución**\n",
        "Usualmente hay que *romper* el problema en unidades simples/básicas de ejecución:\n",
        "\n",
        "1. Encender un `fósforo`\n",
        "2. Usar el `fósforo` para prender un quemador de la `cocina`\n",
        "3. Colocar la `sartén` sobre el quemador de la `cocina`\n",
        "4. Poner unas gotas de `aceite` sobre la `sartén`\n",
        "5. Tomar un `huevo` y quebrarlo\n",
        "6. Colocar el huevo quebrado sobre la `sartén`\n",
        "7. Esperar hasta que el `huevo` esté listo"
      ]
    },
    {
      "cell_type": "markdown",
      "metadata": {
        "id": "houMrluZyNsN"
      },
      "source": [
        "Por supuesto, hay \"detalles\" que se nos pueden escapar:\n",
        "\n",
        "- Hay que apagar el fósforo luego de utilizarlo?\n",
        "- Hay que apagar el quemador de la cocina luego de que el huevo esté listo?\n",
        "- Hay que colocar el huevo con o sin cáscara dentro de la sartén?\n",
        "- Qué significa poner unas gotas de aceite?\n",
        "- Cómo saber cuando un huevo está listo?\n",
        "- Que hago si mi cocina es eléctrica?\n",
        "- etc...\n",
        "\n",
        "Todo esto depende de con cuanto detalle queremos describir nuestro algoritmo y/o que supuestos nos damos al momento de abordar la solución a un problema."
      ]
    },
    {
      "cell_type": "markdown",
      "metadata": {
        "id": "_y89NdxfyNsO"
      },
      "source": [
        "## ¿Que es un Programa?\n",
        "\n",
        "Es la especificación ejecutable de un algoritmo.\n",
        "\n",
        "Corresponde a la secuencia de pasos o instrucciones a ser ejecutadas en un computador.\n",
        "\n",
        "En este curso, usaremos el lenguaje Python 3.x (preferentemente versión 3.7 o superior).\n",
        "\n",
        "En material docente, dejaremos una guía de instalación, junto a una guía de los editores de código recomendados para trabajar en Python.\n",
        "\n",
        "**Disclaimer**\n",
        "\n",
        "Tengan en cuenta que el lenguaje Python es una herramienta, y no un fin en si mismo.\n",
        "\n",
        "El objetivo de este curso es aprender a resolver problemas, no un tutorial de como programar en Python."
      ]
    },
    {
      "cell_type": "markdown",
      "metadata": {
        "id": "SBU0Um4tyNsO"
      },
      "source": [
        "---"
      ]
    },
    {
      "cell_type": "markdown",
      "metadata": {
        "id": "EiuhFjUZyNsO"
      },
      "source": [
        "# Programas simples\n",
        "\n",
        "## Tipos de datos básicos\n",
        "\n",
        "Indica al computador las características de los datos con los que va a trabajar. Esto incluye imponer restricciones sobre los datos, tales como qué valores puede tomar o qué operaciones se pueden realizar sobre éste. Todos los valores en un programa tienen un tipo.\n",
        "\n",
        "Por ahora, identificaremos tres tipos de dato:\n",
        "\n",
        "- **Enteros (int)**: `0  1  2  -5  -33`\n",
        "\n",
        "- **Reales (float)**: `0.4873` (cualquier número con punto decimal)\n",
        "\n",
        "- **Texto (str)**: `'hola'` `\"Me gustan los gatitos\"` `'123'` (se pueden usar comillas simples o dobles)\n"
      ]
    },
    {
      "cell_type": "markdown",
      "metadata": {
        "id": "CSCRFtTHyNsO"
      },
      "source": [
        "## Evaluación de expresiones\n",
        "\n",
        "Comenzaremos a trabajar usando el interprete de Python (o en el caso de los documentos jupyter/colab, el interprete interactivo integrado del documento).\n",
        "\n",
        "El interprete permite leer expresiones, evaluarlas e imprimir (mostra en pantalla) su resultado.\n",
        "\n",
        "![idleshell](https://github.com/valentitos/Colabs-CC1002/blob/main/Clase_01_Expresiones_y_Variables/idle_shell.png?raw=true)"
      ]
    },
    {
      "cell_type": "markdown",
      "metadata": {
        "id": "jqXyH0yVyNsP"
      },
      "source": [
        "Con los tipos de dato anteriores, se pueden hacer operaciones con ellos y entre ellos, usando operadores especificos para cada caso.\n",
        "\n",
        "### Expresiones con int/float\n",
        "\n",
        "Para datos numéricos (enteros y reales) tenemos:"
      ]
    },
    {
      "cell_type": "markdown",
      "metadata": {
        "id": "daDeGNr1yNsP"
      },
      "source": [
        "**Positivo:**"
      ]
    },
    {
      "cell_type": "code",
      "execution_count": null,
      "metadata": {
        "id": "xVzf7BEoyNsP"
      },
      "outputs": [],
      "source": [
        "+3"
      ]
    },
    {
      "cell_type": "markdown",
      "metadata": {
        "id": "TO35zTVMyNsQ"
      },
      "source": [
        "**Negativo**"
      ]
    },
    {
      "cell_type": "code",
      "execution_count": null,
      "metadata": {
        "id": "OnkUBIzoyNsQ"
      },
      "outputs": [],
      "source": [
        "-3"
      ]
    },
    {
      "cell_type": "markdown",
      "metadata": {
        "id": "NR4MG1HIyNsQ"
      },
      "source": [
        "**Suma**"
      ]
    },
    {
      "cell_type": "code",
      "execution_count": null,
      "metadata": {
        "id": "jG_JJ1Z2yNsQ"
      },
      "outputs": [],
      "source": [
        "3+5"
      ]
    },
    {
      "cell_type": "markdown",
      "metadata": {
        "id": "WMCgGcNDyNsQ"
      },
      "source": [
        "**Resta**"
      ]
    },
    {
      "cell_type": "code",
      "execution_count": null,
      "metadata": {
        "id": "u2NLIC3dyNsQ"
      },
      "outputs": [],
      "source": [
        "3-5"
      ]
    },
    {
      "cell_type": "markdown",
      "metadata": {
        "id": "6yo5t4t0yNsQ"
      },
      "source": [
        "**Multiplicación**"
      ]
    },
    {
      "cell_type": "code",
      "execution_count": null,
      "metadata": {
        "id": "cLo31LHyyNsQ"
      },
      "outputs": [],
      "source": [
        "3 * 5"
      ]
    },
    {
      "cell_type": "markdown",
      "metadata": {
        "id": "LYlzSXRGyNsR"
      },
      "source": [
        "**Potencia (y raices)**"
      ]
    },
    {
      "cell_type": "code",
      "execution_count": null,
      "metadata": {
        "id": "wSFd6NM4yNsR"
      },
      "outputs": [],
      "source": [
        "3**5"
      ]
    },
    {
      "cell_type": "code",
      "execution_count": null,
      "metadata": {
        "id": "ZE3NJbwVyNsR"
      },
      "outputs": [],
      "source": [
        "4**0.5"
      ]
    },
    {
      "cell_type": "markdown",
      "metadata": {
        "id": "1sPlTLyXyNsR"
      },
      "source": [
        "**División**"
      ]
    },
    {
      "cell_type": "code",
      "execution_count": null,
      "metadata": {
        "id": "SzqgiwpfyNsR"
      },
      "outputs": [],
      "source": [
        "5/2"
      ]
    },
    {
      "cell_type": "markdown",
      "metadata": {
        "id": "MvcslX9cyNsR"
      },
      "source": [
        "**División Entera**"
      ]
    },
    {
      "cell_type": "code",
      "execution_count": null,
      "metadata": {
        "id": "u82DfHZIyNsR"
      },
      "outputs": [],
      "source": [
        "5//2"
      ]
    },
    {
      "cell_type": "markdown",
      "metadata": {
        "id": "-nnFxBtsyNsR"
      },
      "source": [
        "**Resto de división entera (o módulo)**"
      ]
    },
    {
      "cell_type": "code",
      "execution_count": null,
      "metadata": {
        "id": "56P_cFWYyNsR"
      },
      "outputs": [],
      "source": [
        "5%2"
      ]
    },
    {
      "cell_type": "markdown",
      "metadata": {
        "id": "NP5urO-MyNsR"
      },
      "source": [
        "#### Prioridad de operadores"
      ]
    },
    {
      "cell_type": "markdown",
      "metadata": {
        "id": "PDXaiUGByNsS"
      },
      "source": [
        "La prioridad de los operadores es la misma que se usa en álgebra:\n",
        "\n",
        "1. Operadores Unarios: `+  -` (positivo/negativo)\n",
        "2. Elevar a potencia: `**`\n",
        "3. Operadores multiplicativos: `*  /  //  %`\n",
        "4. Operadores aditivos: `+  -` (suma/resta)\n",
        "\n",
        "En caso de empate, se evalúan las expresiones de izquierda a derecha"
      ]
    },
    {
      "cell_type": "code",
      "execution_count": null,
      "metadata": {
        "id": "gE-IQa9nyNsS"
      },
      "outputs": [],
      "source": [
        "3 + 2 * 5 / 8"
      ]
    },
    {
      "cell_type": "markdown",
      "metadata": {
        "id": "SDHdG9hfyNsS"
      },
      "source": [
        "Si queremos garantizar que una operación se realice antres que otra, podemos usar paréntesis:"
      ]
    },
    {
      "cell_type": "code",
      "execution_count": null,
      "metadata": {
        "id": "6hj5WqVTyNsS"
      },
      "outputs": [],
      "source": [
        "3 + ((2 * 5) /8)"
      ]
    },
    {
      "cell_type": "code",
      "execution_count": null,
      "metadata": {
        "id": "p3nFkFHTyNsS"
      },
      "outputs": [],
      "source": [
        "(3 + 2) * (5 / 8)"
      ]
    },
    {
      "cell_type": "markdown",
      "metadata": {
        "id": "Yncc3W28yNsU"
      },
      "source": [
        "### Expresiones con str\n",
        "\n",
        "En el caso de operaciones con texto, tenemos:"
      ]
    },
    {
      "cell_type": "markdown",
      "metadata": {
        "id": "OGHuaExEyNsU"
      },
      "source": [
        "**Concatenar (unir)**"
      ]
    },
    {
      "cell_type": "code",
      "execution_count": null,
      "metadata": {
        "id": "ftZ_Xr1hyNsU"
      },
      "outputs": [],
      "source": [
        "'abra' + 'kadabra'"
      ]
    },
    {
      "cell_type": "markdown",
      "metadata": {
        "id": "65YDlSJkyNsU"
      },
      "source": [
        "**Repetir**"
      ]
    },
    {
      "cell_type": "code",
      "execution_count": null,
      "metadata": {
        "id": "p4yL9ht7yNsU"
      },
      "outputs": [],
      "source": [
        "'miau' * 4"
      ]
    },
    {
      "cell_type": "markdown",
      "metadata": {
        "id": "CroLdcf4yNsW"
      },
      "source": [
        "### Conversión de tipos\n",
        "\n",
        "El tipo de dato del resultado de evaluar una expresión, depende de los operandos\n",
        "\n",
        "Por ejemplo, si en una suma de dos números, ambos operandos son enteros, el resultado tambien será entero. Mientras que si uno de los operandos es real, entonces el resultado será real."
      ]
    },
    {
      "cell_type": "code",
      "execution_count": null,
      "metadata": {
        "id": "2idhz-pfyNsW"
      },
      "outputs": [],
      "source": [
        "1 + 2"
      ]
    },
    {
      "cell_type": "code",
      "execution_count": null,
      "metadata": {
        "id": "LbL3Xpx5yNsX"
      },
      "outputs": [],
      "source": [
        "1.0 + 2"
      ]
    },
    {
      "cell_type": "code",
      "execution_count": null,
      "metadata": {
        "id": "84XNnNVKyNsX"
      },
      "outputs": [],
      "source": [
        "1 + 2.0"
      ]
    },
    {
      "cell_type": "code",
      "execution_count": null,
      "metadata": {
        "id": "U5ueL7QwyNsX"
      },
      "outputs": [],
      "source": [
        "1.0 + 2.0"
      ]
    },
    {
      "cell_type": "markdown",
      "metadata": {
        "id": "6DrjphGwyNsX"
      },
      "source": [
        "Para los operadores numéricos, la regla anterior se cumple, excepto para el operador de división, el cual siempre producirá números reales/flotantes, sin importar el tipo de sus operandos."
      ]
    },
    {
      "cell_type": "code",
      "execution_count": null,
      "metadata": {
        "id": "CwVUVylJyNsX"
      },
      "outputs": [],
      "source": [
        "4 / 2"
      ]
    },
    {
      "cell_type": "code",
      "execution_count": null,
      "metadata": {
        "id": "FsOPupMCyNsX"
      },
      "outputs": [],
      "source": [
        "4.0 / 2"
      ]
    },
    {
      "cell_type": "code",
      "execution_count": null,
      "metadata": {
        "id": "sZ3427GvyNsX"
      },
      "outputs": [],
      "source": [
        "4 / 2.0"
      ]
    },
    {
      "cell_type": "code",
      "execution_count": null,
      "metadata": {
        "id": "2hDLxScWyNsX"
      },
      "outputs": [],
      "source": [
        "4.0 / 2.0"
      ]
    },
    {
      "cell_type": "markdown",
      "metadata": {
        "id": "GvHYiZMKyNsX"
      },
      "source": [
        "Si queremos juntar u operar valores de tipo texto con valores de tipo numérico, primero es necesario convertir los valores numéricos a valores de tipo texto\n",
        "\n",
        "Para esto, usamos la función de Python `str(numero)`"
      ]
    },
    {
      "cell_type": "code",
      "execution_count": null,
      "metadata": {
        "id": "8ed-SgnKyNsX"
      },
      "outputs": [],
      "source": [
        "'yo tengo ' + str(9) + ' mascotas'"
      ]
    },
    {
      "cell_type": "markdown",
      "metadata": {
        "id": "4kDchEjxyNsY"
      },
      "source": [
        "Si intentamos concatenar texto con número, sin realizar previamente la conversión, Python arrojará un error:"
      ]
    },
    {
      "cell_type": "code",
      "execution_count": null,
      "metadata": {
        "id": "_6UMGu8EyNsY"
      },
      "outputs": [],
      "source": [
        "'yo tengo ' + 9 + ' mascotas'"
      ]
    },
    {
      "cell_type": "markdown",
      "metadata": {
        "id": "TzeVDOcHyNsY"
      },
      "source": [
        "Por otro lado, si tenemos valores de tipo texto, que pueden ser interpretados o entendidos como un número, podemos convertirlo a un tipo numérico, usando las funciones `int(texto)` y `float(texto)`"
      ]
    },
    {
      "cell_type": "code",
      "execution_count": null,
      "metadata": {
        "id": "JCcrArOqyNsY"
      },
      "outputs": [],
      "source": [
        "'103' + '6'"
      ]
    },
    {
      "cell_type": "code",
      "execution_count": null,
      "metadata": {
        "id": "X29cf8e5yNsY"
      },
      "outputs": [],
      "source": [
        "int('103') + 6"
      ]
    },
    {
      "cell_type": "code",
      "execution_count": null,
      "metadata": {
        "id": "MGahOKnyyNsY"
      },
      "outputs": [],
      "source": [
        "'30.5' + '6'"
      ]
    },
    {
      "cell_type": "code",
      "execution_count": null,
      "metadata": {
        "id": "cjh5UKeUyNsY"
      },
      "outputs": [],
      "source": [
        "float('30.5') + 6"
      ]
    },
    {
      "cell_type": "markdown",
      "metadata": {
        "id": "OLKA2wTnyNsY"
      },
      "source": [
        "Si intentamos concatenar (sumar) texto con numero sin realizar previamente la conversión, Python arrojará un error"
      ]
    },
    {
      "cell_type": "code",
      "execution_count": null,
      "metadata": {
        "id": "4eb63MlFyNsY"
      },
      "outputs": [],
      "source": [
        "'103' + 6"
      ]
    },
    {
      "cell_type": "code",
      "execution_count": null,
      "metadata": {
        "id": "rmcSQRU2yNsY"
      },
      "outputs": [],
      "source": [
        "'30.5' + 6"
      ]
    },
    {
      "cell_type": "markdown",
      "metadata": {
        "id": "9KvUY9ZwyNsY"
      },
      "source": [
        "O si es que intentamos convertir un texto que no puede ser interpretado como número"
      ]
    },
    {
      "cell_type": "code",
      "execution_count": null,
      "metadata": {
        "id": "ooJrFQmMyNsZ"
      },
      "outputs": [],
      "source": [
        "int(\"manzana\")"
      ]
    },
    {
      "cell_type": "markdown",
      "metadata": {
        "id": "Bdz393jPyNsZ"
      },
      "source": [
        "---"
      ]
    },
    {
      "cell_type": "markdown",
      "metadata": {
        "id": "FjqPZgFGyNsZ"
      },
      "source": [
        "## Variables\n",
        "\n",
        "Sirven para guardar los resultados de la evaluación de expresiones\n",
        "\n",
        "`variable = expresión`\n",
        "\n",
        "**¿Como funciona?**\n",
        "- Se evalúa la `expresión`\n",
        "- El resultado se asigna/guarda en la `variable`\n",
        "- La `variable` queda guardada en memoria, para poder ser utilizada en otras expresiones u operaciones\n",
        "\n",
        "**Restricciones**\n",
        "- El nombre de variable puede contener letras de la a a la z (minúsculas o mayúsculas), números y guiones bajo\n",
        "- El nombre de variable no puede contener espacios\n",
        "- El nombre de variable no puedo empezar por un número"
      ]
    },
    {
      "cell_type": "markdown",
      "metadata": {
        "id": "TEgVSLWJyNsZ"
      },
      "source": [
        "Ejemplos:"
      ]
    },
    {
      "cell_type": "code",
      "execution_count": null,
      "metadata": {
        "id": "v8kqch6-yNsZ"
      },
      "outputs": [],
      "source": [
        "a = 3           # se asigna a una variable de nombre \"a\" el valor 3"
      ]
    },
    {
      "cell_type": "code",
      "execution_count": null,
      "metadata": {
        "id": "TisfGhIryNsZ"
      },
      "outputs": [],
      "source": [
        "b = 8           # se asigna a una variable de nombre \"b\" el valor 8"
      ]
    },
    {
      "cell_type": "code",
      "execution_count": null,
      "metadata": {
        "id": "fn-PJA3VyNsZ"
      },
      "outputs": [],
      "source": [
        "a               # Mostramos/consultamos el valor de \"a\""
      ]
    },
    {
      "cell_type": "code",
      "execution_count": null,
      "metadata": {
        "id": "itEt7W7CyNsZ"
      },
      "outputs": [],
      "source": [
        "a + b           # creamos una expresión, la cual es evaluada"
      ]
    },
    {
      "cell_type": "code",
      "execution_count": null,
      "metadata": {
        "id": "5kbraINPyNsZ"
      },
      "outputs": [],
      "source": [
        "c = a + 2 * b   # creamos una expresión, se evalúa y se guarda en una variable\n",
        "                # de nombre \"c\""
      ]
    },
    {
      "cell_type": "code",
      "execution_count": null,
      "metadata": {
        "id": "M5tDOCnhyNsZ"
      },
      "outputs": [],
      "source": [
        "c               # Mostramos/consultamos el valor de \"c\""
      ]
    },
    {
      "cell_type": "code",
      "execution_count": null,
      "metadata": {
        "id": "pCEsNV-DyNsa"
      },
      "outputs": [],
      "source": [
        "a = 10          # redefinimos \"a\" (cambia su valor antiguo por el valor 10)"
      ]
    },
    {
      "cell_type": "code",
      "execution_count": null,
      "metadata": {
        "id": "TQ1d6R6EyNsa"
      },
      "outputs": [],
      "source": [
        "a + 2 * b       # si volvemos a calcular \"a + 2 * b\", ahora el valor resultante\n",
        "                # cambia respecto a la ultima vez que lo calculamos\n",
        "                # debido a que redefinimos \"a\""
      ]
    },
    {
      "cell_type": "code",
      "execution_count": null,
      "metadata": {
        "id": "i9qPSaNxyNsa"
      },
      "outputs": [],
      "source": [
        "c               # sin embargo, el valor de \"c\" (el cual fue calculado a\n",
        "                # partir de \"a\") no cambia, puesto que \"c\" fue definido\n",
        "                # y calculado antes de que redeninieramos \"a\""
      ]
    },
    {
      "cell_type": "markdown",
      "metadata": {
        "id": "EY0-MSiIyNsa"
      },
      "source": [
        "### Nombres de variable descriptivos\n",
        "\n",
        "Por ejemplo, si vamos a calcular el área de un rectangulo, dados sus 2 lados:"
      ]
    },
    {
      "cell_type": "code",
      "execution_count": null,
      "metadata": {
        "id": "6l5uBfE7yNsa"
      },
      "outputs": [],
      "source": [
        "a = 3\n",
        "b = 8\n",
        "a * b"
      ]
    },
    {
      "cell_type": "markdown",
      "metadata": {
        "id": "5ULHytM2yNsa"
      },
      "source": [
        "Puede que sea confuso reconocer que representan `a` y `b` respectivamente, o que es lo que se está intentando calcular.\n",
        "\n",
        "Por eso, se recomienda usar nombres descriptivos para nombrar sus variables, y así facilitar la lectura de su código y que es lo que hace"
      ]
    },
    {
      "cell_type": "code",
      "execution_count": null,
      "metadata": {
        "id": "eFLmD5yjyNsa"
      },
      "outputs": [],
      "source": [
        "largo = 3\n",
        "ancho = 8\n",
        "largo * ancho"
      ]
    },
    {
      "cell_type": "markdown",
      "metadata": {
        "id": "ughco_bJyNsa"
      },
      "source": [
        "---"
      ]
    },
    {
      "cell_type": "markdown",
      "metadata": {
        "id": "WDxB5gGiyNsa"
      },
      "source": [
        "## Errores comunes\n",
        "\n",
        "**Error de operación de tipos incompatibles**\n",
        "\n",
        "Corresponde a cuando intentamos operar una expresión con tipos incompatibles entre si (como concatenar un texto con un número sin convertirlo a texto previamente)."
      ]
    },
    {
      "cell_type": "code",
      "execution_count": null,
      "metadata": {
        "id": "fOAMMp4byNsb"
      },
      "outputs": [],
      "source": [
        "'yo tengo ' + 9 + ' mascotas'"
      ]
    },
    {
      "cell_type": "markdown",
      "metadata": {
        "id": "QoRtPL1JyNsb"
      },
      "source": [
        "*Solución*: Revisar que los operandos dentro de una expresión sean del mismo tipo y/o operables entre si."
      ]
    },
    {
      "cell_type": "markdown",
      "metadata": {
        "id": "68TYdjdayNsb"
      },
      "source": [
        "**Error de identación**\n",
        "\n",
        "Ocurre cuando una expresión no se enuentra orretamente alineada respecto a las demás instrucciones. Esto es porque Python usa los espacios para delimitar bloques de código"
      ]
    },
    {
      "cell_type": "code",
      "execution_count": null,
      "metadata": {
        "id": "zt5YdTdxyNsb"
      },
      "outputs": [],
      "source": [
        "z = 8\n",
        "    z"
      ]
    },
    {
      "cell_type": "markdown",
      "metadata": {
        "id": "7BJCYDgKyNsb"
      },
      "source": [
        "*Solución*: Revisar que los bloques de código se encuentren correctamente alineados (en las próximas clases veremos porque esto es importante)"
      ]
    },
    {
      "cell_type": "markdown",
      "metadata": {
        "id": "87_1Qk3uyNsb"
      },
      "source": [
        "**Error de sintaxis**\n",
        "\n",
        "Ocurren cuando nos equivocamos al escribir una expresión. Dentro de lo posible, el editor de Python intenta marcar donde se puede encontrar el problema"
      ]
    },
    {
      "cell_type": "code",
      "execution_count": null,
      "metadata": {
        "id": "k29PdqIRyNsb"
      },
      "outputs": [],
      "source": [
        "numero = 23\n",
        "antecesor = (numero - 1))"
      ]
    },
    {
      "cell_type": "markdown",
      "metadata": {
        "id": "zeqdFTlYyNsb"
      },
      "source": [
        "*Solución*: Revisar que las instrucciones estén bien escritas"
      ]
    },
    {
      "cell_type": "markdown",
      "metadata": {
        "id": "mWARjkHQyNsb"
      },
      "source": [
        "**Error de nombre**\n",
        "\n",
        "Ocurren cuando invocamos un nombre de variable que no está previamente definido"
      ]
    },
    {
      "cell_type": "code",
      "execution_count": null,
      "metadata": {
        "id": "o_9eRDvFyNsb"
      },
      "outputs": [],
      "source": [
        "lado1 = 3\n",
        "area = lado1 * lado2"
      ]
    },
    {
      "cell_type": "markdown",
      "metadata": {
        "id": "WdL9W_iTyNsb"
      },
      "source": [
        "*Solución*: Revisar que las variables usadas en las expresiones estén definidas previamente"
      ]
    },
    {
      "cell_type": "markdown",
      "metadata": {
        "id": "7URKhm7syNsc"
      },
      "source": [
        "**Error de Valor**\n",
        "\n",
        "Ocurren cuando aplicamos operaciones sobre valores que no corresponden a lo esperado por tal operación o función"
      ]
    },
    {
      "cell_type": "code",
      "execution_count": null,
      "metadata": {
        "id": "aw7H8tw_yNsc"
      },
      "outputs": [],
      "source": [
        "int(\"manzana\")"
      ]
    },
    {
      "cell_type": "markdown",
      "metadata": {
        "id": "VDcgdkiRyNsc"
      },
      "source": [
        "*Solución*: Revisar que las operaciones estén operando con los parámetros del tipo adecuado"
      ]
    }
  ],
  "metadata": {
    "kernelspec": {
      "display_name": "Python 3 (ipykernel)",
      "language": "python",
      "name": "python3"
    },
    "language_info": {
      "codemirror_mode": {
        "name": "ipython",
        "version": 3
      },
      "file_extension": ".py",
      "mimetype": "text/x-python",
      "name": "python",
      "nbconvert_exporter": "python",
      "pygments_lexer": "ipython3",
      "version": "3.10.6 (tags/v3.10.6:9c7b4bd, Aug  1 2022, 21:53:49) [MSC v.1932 64 bit (AMD64)]"
    },
    "vscode": {
      "interpreter": {
        "hash": "98b95ce4537a043c6c2f8047f97d2678115deb8444c76d437608d4f0db95d495"
      }
    },
    "colab": {
      "provenance": [],
      "include_colab_link": true
    }
  },
  "nbformat": 4,
  "nbformat_minor": 0
}