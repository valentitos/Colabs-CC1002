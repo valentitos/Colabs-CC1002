{
 "cells": [
  {
   "cell_type": "markdown",
   "metadata": {},
   "source": [
    "<a href=\"https://colab.research.google.com/github/valentitos/Colabs-CC1002/blob/main/Clase_14_Abstraccion_Funcional/Clase14_Abstraccion_Funcional.ipynb\" target=\"_parent\"><img src=\"https://colab.research.google.com/assets/colab-badge.svg\" alt=\"Open In Colab\"/></a>"
   ]
  },
  {
   "cell_type": "markdown",
   "metadata": {},
   "source": [
    "# Clase 14: Abstracción Funcional"
   ]
  },
  {
   "cell_type": "markdown",
   "metadata": {},
   "source": [
    "## Abstracción Funcional (idea)\n",
    "\n",
    "En clases anteriores, vimos el ejemplo de la lista de nombres de frutas, en la cual creamos una función que indicaba si en la lista había al menos una manzana o no.\n"
   ]
  },
  {
   "cell_type": "code",
   "execution_count": 50,
   "metadata": {},
   "outputs": [],
   "source": [
    "from lista import *\n",
    "# lista frutas\n",
    "Lfrutas1 = lista('pera', lista('manzana', listaVacia))\n",
    "Lfrutas2 =  lista('naranja', lista('pera', lista('naranja', lista('kiwi', listaVacia))))"
   ]
  },
  {
   "cell_type": "code",
   "execution_count": 51,
   "metadata": {},
   "outputs": [],
   "source": [
    "# hayManzana: lista(str) -> bool\n",
    "# indica si la lista de frutas posee al menos una manzana\n",
    "# ej: lista(Lfrutas1) entrega True\n",
    "def hayManzana(L):\n",
    "    assert esLista(L)\n",
    "    \n",
    "    if L == listaVacia:\n",
    "        return False\n",
    "    \n",
    "    actual = cabeza(L)\n",
    "    if actual == fruta:\n",
    "        return True\n",
    "    else:\n",
    "        return hayFruta(cola(L), fruta)\n"
   ]
  },
  {
   "cell_type": "markdown",
   "metadata": {},
   "source": [
    "Luego generalizamos la función, para que indicara la existencia de cualquier fruta dada como parámetro"
   ]
  },
  {
   "cell_type": "code",
   "execution_count": 52,
   "metadata": {},
   "outputs": [],
   "source": [
    "# hayFruta: lista(str) str -> bool\n",
    "# indica si la lista de frutas posee al menos una de la fruta indicada\n",
    "# ej: lista(Lfrutas) entrega True\n",
    "def hayFruta(L, fruta):\n",
    "    assert esLista(L)\n",
    "    \n",
    "    if L == listaVacia:\n",
    "        return False\n",
    "    \n",
    "    actual = cabeza(L)\n",
    "    if actual == fruta:\n",
    "        return True\n",
    "    else:\n",
    "        return hayFruta(cola(L), fruta)\n"
   ]
  },
  {
   "cell_type": "markdown",
   "metadata": {},
   "source": [
    "Y luego la generalizamos aún más, para que la función verificara la existencia de cualquier elemento dentro de una lista de elementos simples (`int`, `str`, etc.)"
   ]
  },
  {
   "cell_type": "code",
   "execution_count": 53,
   "metadata": {},
   "outputs": [],
   "source": [
    "# contiene: lista(any) any -> bool\n",
    "# indica si la lista posee al menos un elemento del entregado como parametro\n",
    "# ej: contiene(Lnumeros, 8) entrega True\n",
    "def contiene(L, e):\n",
    "    assert esLista(L)\n",
    "    \n",
    "    if L == listaVacia:\n",
    "        return False\n",
    "    \n",
    "    actual = cabeza(L)\n",
    "    if actual == e:\n",
    "        return True\n",
    "    else:\n",
    "        return contiene(cola(L), e)\n"
   ]
  },
  {
   "cell_type": "markdown",
   "metadata": {},
   "source": [
    "Ahora, ¿Qué ocurre si quisiéramos usar esa función para verificar la existencia de una mascota en una lista de mascotas?"
   ]
  },
  {
   "cell_type": "code",
   "execution_count": 54,
   "metadata": {},
   "outputs": [],
   "source": [
    "import estructura\n",
    "\n",
    "# Mascota: nombre(str) edad(int) hambre(bool)\n",
    "estructura.crear('Mascota', 'nombre edad hambre')\n",
    "\n",
    "perrito = Mascota('dogoo', 5, False)\n",
    "gatito = Mascota('nekoo', 2, True)\n",
    "caballito = Mascota('flutter', 6, True)\n",
    "serpientita = Mascota('sneek', 1, False)\n",
    "\n",
    "listaMasc = lista(perrito, lista(gatito, lista(caballito, lista(serpientita, listaVacia))))"
   ]
  },
  {
   "cell_type": "markdown",
   "metadata": {},
   "source": [
    "<div><img src=\"img_listaMascotas.png\" width=\"80%;\"/></div>"
   ]
  },
  {
   "cell_type": "markdown",
   "metadata": {},
   "source": [
    "Por default, Python asume que dos estructuras son iguales, si tienen exactamente el mismo contenido, pero para nuestros fines ¿Qué define que dos mascotas sean iguales?\n",
    "\n",
    "Naturalmente tienen que tener el mismo nombre y edad, pero el factor de si tiene hambre o no, no es relevante para este caso ¿Cómo le indicamos eso a Python?\n",
    "\n",
    "Tenemos que definir nuestro propio \"operador\" de igualdad para estructuras Mascota, y así suplir la función del operador `==`. Esto lo hacemos mediante una función\n"
   ]
  },
  {
   "cell_type": "code",
   "execution_count": 55,
   "metadata": {},
   "outputs": [],
   "source": [
    "# mascotasIguales: Mascota Mascota -> bool\n",
    "# Indica si las dos Mascotas entregadas corresponden a la misma mascota\n",
    "# Ej: mascotasIguales(perrito, gatito) entrega False\n",
    "def mascotasIguales(M1, M2):\n",
    "    # assert esMascota(M1) and esMascota(M2)\n",
    "    if M1.nombre == M2.nombre and M1.edad == M2.edad:\n",
    "        return True\n",
    "    else:\n",
    "        return False\n",
    "\n",
    "assert not mascotasIguales(perrito, gatito)\n",
    "assert mascotasIguales(perrito, Mascota('dogoo', 5, True))"
   ]
  },
  {
   "cell_type": "markdown",
   "metadata": {},
   "source": [
    "Ahora, podemos crear la función `contieneMascota(L,m)`, que permite revisar si está cierta mascota en la lista de mascotas\n"
   ]
  },
  {
   "cell_type": "code",
   "execution_count": 56,
   "metadata": {},
   "outputs": [],
   "source": [
    "# contieneMascota: lista(Mascota) Mascota -> bool\n",
    "# indica la lista posee la mascota indicada\n",
    "# Ej: contieneMascota(LM, Mascota('nekoo',2,False)\n",
    "#      entrega True\n",
    "def contieneMascota(L,M):\n",
    "    assert esLista(L) #and esMascota(M)\n",
    "\n",
    "    if L == listaVacia:\n",
    "        return False\n",
    "        \n",
    "    actual = cabeza(L)\n",
    "    # La función de igualdad, decide si dos Mascotas\n",
    "    # se consideran equivalentes o no\n",
    "    if mascotasIguales(actual,M):\n",
    "        return True\n",
    "    else:\n",
    "        return contieneMascota(cola(L), M)"
   ]
  },
  {
   "cell_type": "code",
   "execution_count": 57,
   "metadata": {},
   "outputs": [
    {
     "data": {
      "text/plain": [
       "True"
      ]
     },
     "execution_count": 57,
     "metadata": {},
     "output_type": "execute_result"
    }
   ],
   "source": [
    "gatitoSinhambre = Mascota('nekoo',2,False)\n",
    "contieneMascota(listaMasc, gatitoSinhambre)"
   ]
  },
  {
   "cell_type": "markdown",
   "metadata": {},
   "source": [
    "¿Y si ahora queremos extender la idea anterior, para que funcione con cualquier tipo de estructura? Solo tendríamos que cambiar la función de comparación utilizada, por una que esté adaptada para trabajar con la estructura particular que se quiera utilizar\n",
    "\n",
    "En algunos lenguajes (como Python), está permitido entregar funciones como parámetro de otra función, lo que nos permite generalizar la función anterior\n",
    "\n"
   ]
  },
  {
   "cell_type": "code",
   "execution_count": 58,
   "metadata": {},
   "outputs": [],
   "source": [
    "# contieneEst: lista(any) any (f:x y -> bool) -> bool\n",
    "# indica la lista posee la estructura indicada\n",
    "# Ej: contieneEst(LM, \\\n",
    "#      Mascota('nekoo',2,False), mascotasIguales)\n",
    "#      entrega True\n",
    "def contieneEst(L,e,funIgualdad):\n",
    "    # se agregó un nuevo parametro, que representa una función\n",
    "    assert esLista(L)\n",
    "\n",
    "    if L == listaVacia:\n",
    "        return False\n",
    "        \n",
    "    actual = cabeza(L)\n",
    "    # usamos la función para determinar si dos estructuras son iguales\n",
    "    if funIgualdad(actual,e):\n",
    "        return True\n",
    "    else:\n",
    "        return contieneEst(cola(L), e, funIgualdad)"
   ]
  },
  {
   "cell_type": "code",
   "execution_count": 59,
   "metadata": {},
   "outputs": [
    {
     "data": {
      "text/plain": [
       "True"
      ]
     },
     "execution_count": 59,
     "metadata": {},
     "output_type": "execute_result"
    }
   ],
   "source": [
    "contieneEst(listaMasc, gatitoSinhambre, mascotasIguales)"
   ]
  },
  {
   "cell_type": "markdown",
   "metadata": {},
   "source": [
    "Así tenemos, por ejemplo, con una lista de Mascotas:"
   ]
  },
  {
   "cell_type": "code",
   "execution_count": 60,
   "metadata": {},
   "outputs": [],
   "source": [
    "listaMasc = lista(perrito, lista(gatito,lista(caballito, lista(serpientita, listaVacia))))\n",
    "\n",
    "# mascotasIguales : Mascota Mascota -> bool\n",
    "# ...\n",
    "def mascotasIguales(M1,M2):\n",
    "    return M1.nombre == M2.nombre and M1.edad == M2.edad "
   ]
  },
  {
   "cell_type": "code",
   "execution_count": 61,
   "metadata": {},
   "outputs": [
    {
     "data": {
      "text/plain": [
       "True"
      ]
     },
     "execution_count": 61,
     "metadata": {},
     "output_type": "execute_result"
    }
   ],
   "source": [
    "contieneEst(listaMasc, Mascota('nekoo',2,False), mascotasIguales)"
   ]
  },
  {
   "cell_type": "code",
   "execution_count": 62,
   "metadata": {},
   "outputs": [
    {
     "data": {
      "text/plain": [
       "False"
      ]
     },
     "execution_count": 62,
     "metadata": {},
     "output_type": "execute_result"
    }
   ],
   "source": [
    "contieneEst(listaMasc, Mascota('birb',8,False), mascotasIguales)"
   ]
  },
  {
   "cell_type": "markdown",
   "metadata": {},
   "source": [
    "O tambien, con una lista de Dulces:"
   ]
  },
  {
   "cell_type": "code",
   "execution_count": 63,
   "metadata": {},
   "outputs": [],
   "source": [
    "# Dulce: nombre(str) sabor(str) cantidad(int)\n",
    "estructura.crear('Dulce','nombre sabor cantidad')\n",
    "\n",
    "suny = Dulce('suny', 'manjar', 22)\n",
    "frugeleN = Dulce('frugele', 'naranja', 36)\n",
    "frugeleM = Dulce('frugele', 'manzana', 8)\n",
    "masticableN = Dulce('masticable', 'naranja', 33)\n",
    "Ldulces = lista(suny, lista(frugeleN, lista(frugeleM, lista(masticableN, listaVacia))))\n",
    "\n",
    "# dulcesIguales : Dulce Dulce -> bool\n",
    "# ...\n",
    "def dulcesIguales(D1,D2):\n",
    "    return D1.nombre == D2.nombre and D1.sabor == D2.sabor "
   ]
  },
  {
   "cell_type": "code",
   "execution_count": 64,
   "metadata": {},
   "outputs": [
    {
     "data": {
      "text/plain": [
       "True"
      ]
     },
     "execution_count": 64,
     "metadata": {},
     "output_type": "execute_result"
    }
   ],
   "source": [
    "contieneEst(Ldulces, Dulce('suny','manjar',33), dulcesIguales)"
   ]
  },
  {
   "cell_type": "code",
   "execution_count": 65,
   "metadata": {},
   "outputs": [
    {
     "data": {
      "text/plain": [
       "False"
      ]
     },
     "execution_count": 65,
     "metadata": {},
     "output_type": "execute_result"
    }
   ],
   "source": [
    "contieneEst(Ldulces, Dulce('caramelo','uva',50), dulcesIguales)"
   ]
  },
  {
   "cell_type": "markdown",
   "metadata": {},
   "source": [
    "## Abstracción Funcional (definición)\n",
    "\n",
    "Al proceso de combinar dos o mas funciones similares en una función generalizada, se le denomina **abstracción funcional**\n",
    "\n",
    "Los principales beneficios de abstraer funciones son:\n",
    "\n",
    "- Prevenir duplicación de código similar\n",
    "\n",
    "- Extender el rango/dominio de operación de una función\n",
    "\n",
    "- Realizar rápidamente operaciones recurrentes (como filtrar o buscar un elemento)\n",
    "\n",
    "Como vimos en los ejemplos anteriores, típicamente para generalizar una función, teníamos que agregar o modificar sus parámetros\n",
    "\n",
    "<div><img src=\"img_expandingbrain.png\" width=\"50%;\"/></div>\n",
    "\n",
    "Las tres abstracciones funcionales más utilizadas son:\n",
    "\n",
    "- `Filtro/Filter`\n",
    "\n",
    "- `Mapa/Map`\n",
    "\n",
    "- `Reductor/Reduce/Fold`"
   ]
  },
  {
   "cell_type": "markdown",
   "metadata": {},
   "source": [
    "## Filtro / Filter\n",
    "\n",
    "Supongamos que tenemos una lista simple de números:"
   ]
  },
  {
   "cell_type": "code",
   "execution_count": 66,
   "metadata": {},
   "outputs": [],
   "source": [
    "Lnum = lista(16, lista(33, lista(76, lista(23, lista(55, listaVacia)))))"
   ]
  },
  {
   "cell_type": "markdown",
   "metadata": {},
   "source": [
    "![](lista_compacta_5.svg)\n",
    "\n",
    "Con esto, nos gustaría crear funciones que nos permitan:\n",
    "\n",
    "- Obtener una lista con los números mayores a 50\n",
    "\n",
    "- Obtener una lista con los números menores a 30\n",
    "\n"
   ]
  },
  {
   "cell_type": "code",
   "execution_count": 67,
   "metadata": {},
   "outputs": [],
   "source": [
    "# mayoresA50: lista(num) -> lista(num)\n",
    "# entrega una lista con los valores mayores a 50\n",
    "# Ej: mayoresA50(Lnum) entrega lista(76, lista(55,listaVacia))\n",
    "def mayoresA50(L):\n",
    "    assert esLista(L)\n",
    "\n",
    "    if L == listaVacia:\n",
    "        return listaVacia\n",
    "    \n",
    "    actual = cabeza(L)\n",
    "    if actual > 50:\n",
    "        return lista(actual, mayoresA50(cola(L)))\n",
    "    else:\n",
    "        return mayoresA50(cola(L))\n",
    "\n",
    "# test\n",
    "assert mayoresA50(Lnum) == lista(76, lista(55, listaVacia))"
   ]
  },
  {
   "cell_type": "code",
   "execution_count": 68,
   "metadata": {},
   "outputs": [],
   "source": [
    "# menoresA30: lista(num) -> lista(num)\n",
    "# entrega una lista con los valores menores a 30\n",
    "# Ej: menoresA30(Lnum) entrega lista(16, lista(23,listaVacia))\n",
    "def menoresA30(L):\n",
    "    assert esLista(L)\n",
    "\n",
    "    if L == listaVacia:\n",
    "        return listaVacia\n",
    "    \n",
    "    actual = cabeza(L)\n",
    "    if actual < 30:\n",
    "        return lista(actual, menoresA30(cola(L)))\n",
    "    else:\n",
    "        return menoresA30(cola(L))\n",
    "\n",
    "# test\n",
    "assert menoresA30(Lnum) == lista(16, lista(23, listaVacia))"
   ]
  },
  {
   "cell_type": "markdown",
   "metadata": {},
   "source": [
    "Las funciones anteriores, poseen un comportamiento similar, solo cambia el criterio con el cual deciden quedarse o no con un elemento. La generalización funcional de esta idea se conoce como **filtro**\n",
    "\n",
    "Un filtro es una función que opera sobre una lista de elementos cualquiera, tal que dado un `criterio`, entrega una sub-lista con los elementos que pasaron dicho criterio\n",
    "\n",
    "<div><img src=\"absfun_filtro.svg\" width=\"60%;\"/></div>\n",
    "\n",
    "\n",
    "Tal `criterio`, viene dado por una función booleana, que nos indica si nos quedamos o no con tal elemento"
   ]
  },
  {
   "cell_type": "code",
   "execution_count": 71,
   "metadata": {},
   "outputs": [],
   "source": [
    "# filtro: (any->bool) lista(any) -> lista(any)\n",
    "# entrega una lista con los elementos que pasen un criterio\n",
    "def filtro(funCriterio, L):\n",
    "    # El orden de los parámetros es la función de criterio, \n",
    "    # y luego la Lista donde se aplicará la función\n",
    "    assert esLista(L)\n",
    "\n",
    "    if L == listaVacia:\n",
    "        return listaVacia\n",
    "    \n",
    "    actual = cabeza(L)\n",
    "    # La función de criterio, determina si el elemento actual se queda o no en la lista final\n",
    "    if funCriterio(actual):\n",
    "        return lista(actual, filtro(funCriterio, cola(L)))\n",
    "    else:\n",
    "        return filtro(funCriterio, cola(L))"
   ]
  },
  {
   "cell_type": "markdown",
   "metadata": {},
   "source": [
    "La función de criterio (`funCriterio`), debe respetar el contrato `X -> bool`, donde `X` representa el tipo de dato de la lista a operar, y entrega `True` si nos quedamos con el elemento y `False` si lo descartamos\n",
    "\n",
    "Con esto, podemos resolver los problemas anteriores de manera generalizada, por ejemplo, para obtener los números mayores a 50\n",
    "\n",
    "\n",
    "<div><img src=\"lista_filtro1.svg\" width=\"45%;\"/><img src=\"lista_filtro2.svg\" width=\"45%;\"/></div>\n",
    "<div><img src=\"lista_filtro3.svg\" width=\"45%;\"/><img src=\"lista_filtro4.svg\" width=\"45%;\"/></div>\n",
    "<div><img src=\"lista_filtro5.svg\" width=\"45%;\"/><img src=\"lista_filtro6.svg\" width=\"45%;\"/></div>\n",
    "<div><img src=\"lista_filtro7.svg\" width=\"45%;\"/></div>"
   ]
  },
  {
   "cell_type": "code",
   "execution_count": 72,
   "metadata": {},
   "outputs": [],
   "source": [
    "# mayorQue50: num -> bool\n",
    "# indica si un numero es mayor a 50\n",
    "# ej: mayorQue50(77) entrega True\n",
    "def mayorQue50(n):\n",
    "    if n > 50:\n",
    "        return True\n",
    "    else:\n",
    "        return False\n",
    "\n",
    "# test\n",
    "assert mayorQue50(77)\n",
    "assert not mayorQue50(42)"
   ]
  },
  {
   "cell_type": "markdown",
   "metadata": {},
   "source": [
    "Y luego usamos filtro con la función de criterio anterior"
   ]
  },
  {
   "cell_type": "code",
   "execution_count": 74,
   "metadata": {},
   "outputs": [
    {
     "data": {
      "text/plain": [
       "lista(valor=76, siguiente=lista(valor=55, siguiente=None))"
      ]
     },
     "execution_count": 74,
     "metadata": {},
     "output_type": "execute_result"
    }
   ],
   "source": [
    "filtro(mayorQue50, Lnum)"
   ]
  },
  {
   "cell_type": "markdown",
   "metadata": {},
   "source": [
    "Ahora... ¿Qué pasa si nos piden encontrar los números mayores a 60? ¿o menores que 30? ¿o los que sean pares? Siguiendo la idea anterior, tendríamos que definir una función de criterio para cada uno de esos casos:\n",
    "\n",
    "```python\n",
    "# mayorQue50: num -> bool \n",
    "# ...                      \n",
    "def mayorQue60(n):         \n",
    "if n > 60:\n",
    "    return True\n",
    "else:\n",
    "    return False\n",
    "```\n",
    "\n",
    "```python\n",
    "# menorQue30: num -> bool\n",
    "# ...\n",
    "def menorQue30(n):\n",
    "if n < 30:\n",
    "    return True\n",
    "else:\n",
    "    return False\n",
    "```\n",
    "\n",
    "```python\n",
    "# esPar: num -> bool\n",
    "# ...\n",
    "def esPar(n):\n",
    "if n%2 == 0:\n",
    "    return True\n",
    "else:\n",
    "    return False\n",
    "```\n"
   ]
  },
  {
   "cell_type": "markdown",
   "metadata": {},
   "source": [
    "Esto en la práctica es engorroso, ya que tenemos que diseñar una nueva función de criterio (con toda su receta de diseño) para cada caso, y en general, son funciones que usaremos solo una vez, como contexto del filtro que queremos aplicar\n",
    "\n",
    "Para simplificar las definiciones de funciones que se usan en un contexto acotado, existen las **funciones anónimas**\n"
   ]
  },
  {
   "cell_type": "markdown",
   "metadata": {},
   "source": [
    "## Funciones anónimas\n",
    "\n",
    "Una función anónima, se define como un predicado, que aplica una operación sobre uno o mas parámetros dados. Su notación es:\n",
    "\n",
    "```python\n",
    "lambda x, y, ..., z: expresion\n",
    "```\n",
    "- ``lambda`` es la palabra clave que denota que crearemos una función anónima\n",
    "\n",
    "- `x,y,...,z` son los parámetros que recibe la función\n",
    "\n",
    "- \"expresion\" es la operación que se realiza con esos parámetros.\n",
    "\n",
    "Esta definición, es equivalente a:\n",
    "\n",
    "```python\n",
    "def funcion(x, y, ..., z):\n",
    "    expresion\n",
    "    return ...\n",
    "```\n",
    "\n",
    "Así, podemos definir rápidamente funciones para usar como parámetros de las funciones de abstracción funcional.\n",
    "\n",
    "Por ejemplo, la función ``esPar`` se puede definir de esta manera como\n",
    "(Notar como cambia la sintaxis de la instrucción if en funciones anónimas):\n",
    "```python\n",
    "lambda x: True if x%2 == 0 else False\n",
    "```\n",
    "\n",
    "O equivalentemente:\n",
    "\n",
    "```python\n",
    "lambda x: x%2 == 0\n",
    "```\n"
   ]
  },
  {
   "cell_type": "markdown",
   "metadata": {},
   "source": [
    "## Filtro / Filter (cont.)"
   ]
  },
  {
   "cell_type": "markdown",
   "metadata": {},
   "source": [
    "Con lo anterior, podemos representar, por ejemplo:\n",
    "\n",
    "```python\n",
    "# menorQue30: num -> bool\n",
    "# ...\n",
    "def menorQue30(n):\n",
    "if n < 30:\n",
    "    return True\n",
    "else:\n",
    "    return False\n",
    "```\n",
    "\n",
    "como:\n",
    "\n",
    "```python\n",
    "lambda x: x < 30\n",
    "```\n",
    "\n",
    "y:\n",
    "\n",
    "```python\n",
    "# esPar: num -> bool\n",
    "# ...\n",
    "def esPar(n):\n",
    "if n%2 == 0:\n",
    "    return True\n",
    "else:\n",
    "    return False\n",
    "```\n",
    "\n",
    "como:\n",
    "\n",
    "```python\n",
    "lambda x: x%2 == 0\n",
    "```\n",
    "\n",
    "y las usamos de la siguiente manera:"
   ]
  },
  {
   "cell_type": "code",
   "execution_count": 76,
   "metadata": {},
   "outputs": [
    {
     "data": {
      "text/plain": [
       "lista(valor=16, siguiente=lista(valor=76, siguiente=None))"
      ]
     },
     "execution_count": 76,
     "metadata": {},
     "output_type": "execute_result"
    }
   ],
   "source": [
    "fun = lambda x: x%2 == 0 # x representa un numero\n",
    "filtro(fun, Lnum)\n"
   ]
  },
  {
   "cell_type": "code",
   "execution_count": 77,
   "metadata": {},
   "outputs": [
    {
     "data": {
      "text/plain": [
       "lista(valor=16, siguiente=lista(valor=23, siguiente=None))"
      ]
     },
     "execution_count": 77,
     "metadata": {},
     "output_type": "execute_result"
    }
   ],
   "source": [
    "fun = lambda x: x<30 # x representa un numero\n",
    "filtro(fun, Lnum)\n"
   ]
  },
  {
   "cell_type": "markdown",
   "metadata": {},
   "source": [
    "Con esto, podemos resolver el problema original de la siguiente manera:"
   ]
  },
  {
   "cell_type": "code",
   "execution_count": 79,
   "metadata": {},
   "outputs": [],
   "source": [
    "# mayoresA50: lista(num) -> lista(num)\n",
    "# entrega una lista con los valores mayores a 50\n",
    "# Ej: mayoresA50(Lnum) entrega lista(76, lista(55,listaVacia))\n",
    "def mayoresA50(L):\n",
    "    assert esLista(L)\n",
    "    \n",
    "    fun = lambda x: x>50\n",
    "    Lf = filtro(fun,L)\n",
    "    return Lf\n",
    "\n",
    "# test\n",
    "assert mayoresA50(Lnum) == lista(76, lista(55, listaVacia))"
   ]
  },
  {
   "cell_type": "code",
   "execution_count": 80,
   "metadata": {},
   "outputs": [],
   "source": [
    "# menoresA30: lista(num) -> lista(num)\n",
    "# entrega una lista con los valores menores a 30\n",
    "# Ej: menoresA30(Lnum) entrega lista(16, lista(23,listaVacia))\n",
    "def menoresA30(L):\n",
    "    assert esLista(L)\n",
    "    \n",
    "    fun = lambda x: x<30\n",
    "    Lf = filtro(fun,L)\n",
    "    return Lf\n",
    "\n",
    "# test\n",
    "assert menoresA30(Lnum) == lista(16, lista(23,listaVacia))"
   ]
  },
  {
   "cell_type": "markdown",
   "metadata": {},
   "source": [
    "Las funciones anónimas también pueden operar con estructuras. Por ejemplo, si queremos obtener todas las mascotas que tienen hambre, desde una lista de mascotas:"
   ]
  },
  {
   "cell_type": "code",
   "execution_count": 81,
   "metadata": {},
   "outputs": [
    {
     "data": {
      "text/plain": [
       "lista(valor=Mascota(nombre='nekoo', edad=2, hambre=True), siguiente=lista(valor=Mascota(nombre='flutter', edad=6, hambre=True), siguiente=None))"
      ]
     },
     "execution_count": 81,
     "metadata": {},
     "output_type": "execute_result"
    }
   ],
   "source": [
    "fun = lambda x: x.hambre == True\n",
    "filtro(fun, listaMasc)"
   ]
  },
  {
   "cell_type": "markdown",
   "metadata": {},
   "source": [
    "O por ejemplo, obtener todos los Dulces sabor manjar de una listas de Dulces\n"
   ]
  },
  {
   "cell_type": "code",
   "execution_count": 82,
   "metadata": {},
   "outputs": [
    {
     "data": {
      "text/plain": [
       "lista(valor=Dulce(nombre='suny', sabor='manjar', cantidad=22), siguiente=None)"
      ]
     },
     "execution_count": 82,
     "metadata": {},
     "output_type": "execute_result"
    }
   ],
   "source": [
    "fun = lambda x: x.sabor == 'manjar'\n",
    "filtro(fun, Ldulces)"
   ]
  },
  {
   "cell_type": "markdown",
   "metadata": {},
   "source": [
    "### Bonus\n",
    "\n",
    "Ahora se pide crear la función ``mayores(L,n)``, que dada una lista de numeros, entrega todos los numeros mayores a un ``n`` dado. ¿Cuales son los cambios a realizar?"
   ]
  },
  {
   "cell_type": "code",
   "execution_count": 83,
   "metadata": {},
   "outputs": [],
   "source": [
    "# mayores: lista(num) num -> lista(num)\n",
    "# entrega una lista con los valores mayores a un cierto valor dado\n",
    "# ej: mayores(Lnum, 60) entrega lista(76, listaVacia)\n",
    "def mayores(L, n):\n",
    "    assert esLista(L)\n",
    "    return filtro(lambda x: x > n, L) # x representa un numero de la lista\n",
    "    \n",
    "# test\n",
    "assert mayores(Lnum, 30) == lista(33, lista(76, lista(55, listaVacia)))"
   ]
  },
  {
   "cell_type": "markdown",
   "metadata": {},
   "source": [
    "Con lo anterior, descubrimos que le podemos pasar parametros de la función principal a la función anónima (en este caso, ``n``)"
   ]
  },
  {
   "cell_type": "markdown",
   "metadata": {},
   "source": [
    "## Mapa / Map\n",
    "\n",
    "Supongamos que tenemos una ya conocida lista simple de números:\n"
   ]
  },
  {
   "cell_type": "code",
   "execution_count": null,
   "metadata": {},
   "outputs": [],
   "source": [
    "Lnum = lista(16, lista(33, lista(76, lista(23, lista(55, listaVacia)))))"
   ]
  },
  {
   "cell_type": "markdown",
   "metadata": {},
   "source": [
    "![](lista_compacta_5.svg)\n",
    "\n",
    "Y queremos una función que, dada una lista de números, nos entregue la lista, a la cual le sumaron 3 a todos los números en ella.\n",
    "\n",
    "También, supongamos que tenemos una conocida lista de estructuras mascota:\n"
   ]
  },
  {
   "cell_type": "code",
   "execution_count": 84,
   "metadata": {},
   "outputs": [],
   "source": [
    "listaMasc = lista(perrito, lista(gatito, lista(caballito, lista(serpientita, listaVacia))))"
   ]
  },
  {
   "cell_type": "markdown",
   "metadata": {},
   "source": [
    "<div><img src=\"img_listaMascotas.png\" width=\"60%;\"/></div>\n",
    "\n",
    "Y queremos una función que nos entregue la lista de mascotas, a la cual le agregaron 1 año de edad a las mascotas"
   ]
  },
  {
   "cell_type": "code",
   "execution_count": 85,
   "metadata": {},
   "outputs": [],
   "source": [
    "# sumar3: lista(num) -> lista(num)\n",
    "# suma 3 a los números de una lista\n",
    "# Ej: sumar3(Lnum) entrega:\n",
    "# 19 -> 36 -> 79 -> 26 -> 58 -> listaVacia\n",
    "def sumar3(L):\n",
    "    assert esLista(L)\n",
    "\n",
    "    if L  == listaVacia:\n",
    "        return listaVacia\n",
    "    \n",
    "    actual = cabeza(L)\n",
    "    nuevo = actual + 3    \n",
    "    return lista(nuevo, sumar3(cola(L)))\n",
    "\n",
    "# test\n",
    "assert sumar3(Lnum) == lista(19, lista(36, lista(79, lista(26, lista(58, listaVacia)))))"
   ]
  },
  {
   "cell_type": "code",
   "execution_count": 87,
   "metadata": {},
   "outputs": [],
   "source": [
    "# edadMas1: lista(Mascota) -> lista(Mascota)\n",
    "# le suma 1 año de edad a todas las mascotas\n",
    "# Ej: edadMas1(listaMasc) entrega:\n",
    "# dogoo:6 -> nekoo:3 -> flutter:7 -> sneek:2\n",
    "def edadMas1(LM):\n",
    "    assert esLista(LM)\n",
    "\n",
    "    if LM == listaVacia:\n",
    "        return listaVacia\n",
    "    \n",
    "    actual = cabeza(LM)\n",
    "    nueva = Mascota(actual.nombre, actual.edad + 1, actual.hambre)\n",
    "    return lista(nueva, edadMas1(cola(LM)))\n",
    "\n",
    "# test\n",
    "LM1 = lista(Mascota('dogoo', 6, False), lista(Mascota('nekoo', 3, True), \\\n",
    "       lista(Mascota('flutter', 7, True), lista(Mascota('sneek', 2, False), \\\n",
    "        listaVacia))))\n",
    "assert edadMas1(listaMasc) == LM1"
   ]
  },
  {
   "cell_type": "markdown",
   "metadata": {},
   "source": [
    "Las funciones anteriores, poseen un comportamiento similar, solo cambia la operación que se realiza sobre cada uno de los elementos en la lista. La generalización funcional de esta idea se conoce como **mapa**\n",
    "\n",
    "Un mapa es una función que opera sobre una lista de elementos cualquiera, tal que dada una `operación`, entrega una nueva lista, a la cual se le aplicó tal operación a todos sus elementos\n",
    "\n",
    "\n",
    "<div><img src=\"absfun_mapa.svg\" width=\"60%;\"/></div>\n",
    "\n",
    "\n",
    "Tal `operación`, corresponde a una función que hace algo sobre un elemento dado\n"
   ]
  },
  {
   "cell_type": "code",
   "execution_count": 88,
   "metadata": {},
   "outputs": [],
   "source": [
    "# mapa: (any->any) lista(any) -> lista(any)\n",
    "# entrega una lista sobre la cual se aplicó una operación\n",
    "# a sus elementos\n",
    "def mapa(funOperacion, L):\n",
    "    # El orden de los parámetros es la función de operación, \n",
    "    # y luego la Lista donde se aplicará la función\n",
    "    assert esLista(L)\n",
    "\n",
    "    if L == listaVacia:\n",
    "        return listaVacia\n",
    "    \n",
    "    actual = cabeza(L)\n",
    "    # La función de operación, determina que operación hay que aplicar al elemento en la lista\n",
    "    nuevo = funOperacion(actual)\n",
    "    return lista(nuevo, mapa(funOperacion, cola(L)))\n"
   ]
  },
  {
   "cell_type": "markdown",
   "metadata": {},
   "source": [
    "La función de operación (`funOperacion`), debe respetar el contrato `X -> X` , o bien, `X -> Y` \n",
    "\n",
    "Donde el tipo de dato (`X`) que entra y sale de la función puede ser del mismo tipo (ej: recibir un `int` y entregar un `int`), o bien, el dato que sale de la función puede ser de distinto tipo que el original (ej: recibir un `int` y convertirlo a `str`)\n",
    "\n",
    "\n",
    "\n",
    "<div><img src=\"lista_mapa1.svg\" width=\"45%;\"/><img src=\"lista_mapa2.svg\" width=\"45%;\"/></div>\n",
    "<div><img src=\"lista_mapa3.svg\" width=\"45%;\"/><img src=\"lista_mapa4.svg\" width=\"45%;\"/></div>\n",
    "<div><img src=\"lista_mapa5.svg\" width=\"45%;\"/><img src=\"lista_mapa6.svg\" width=\"45%;\"/></div>\n",
    "<div><img src=\"lista_mapa7.svg\" width=\"45%;\"/></div>\n",
    "Luego, podemos usar el mapa de la siguiente manera:\n"
   ]
  },
  {
   "cell_type": "code",
   "execution_count": 89,
   "metadata": {},
   "outputs": [
    {
     "data": {
      "text/plain": [
       "lista(valor=32, siguiente=lista(valor=66, siguiente=lista(valor=152, siguiente=lista(valor=46, siguiente=lista(valor=110, siguiente=None)))))"
      ]
     },
     "execution_count": 89,
     "metadata": {},
     "output_type": "execute_result"
    }
   ],
   "source": [
    "fun = lambda x: x*2     # x representa un número\n",
    "mapa(fun, Lnum)"
   ]
  },
  {
   "cell_type": "code",
   "execution_count": 90,
   "metadata": {},
   "outputs": [
    {
     "data": {
      "text/plain": [
       "lista(valor='16', siguiente=lista(valor='33', siguiente=lista(valor='76', siguiente=lista(valor='23', siguiente=lista(valor='55', siguiente=None)))))"
      ]
     },
     "execution_count": 90,
     "metadata": {},
     "output_type": "execute_result"
    }
   ],
   "source": [
    "fun = lambda x: str(x)  # x representa un número\n",
    "mapa(fun, Lnum)"
   ]
  },
  {
   "cell_type": "markdown",
   "metadata": {},
   "source": [
    "Con esto, podemos resolver los problemas originales de la siguiente manera:"
   ]
  },
  {
   "cell_type": "code",
   "execution_count": 91,
   "metadata": {},
   "outputs": [],
   "source": [
    "# sumar3: lista(num) -> lista(num)\n",
    "# suma 3 a los números de una lista\n",
    "# Ej: sumar3(Lnum) entrega:\n",
    "# 19 -> 36 -> 79 -> 26 -> 58 -> listaVacia\n",
    "def sumar3(L):\n",
    "    assert esLista(L)\n",
    "    \n",
    "    # x representa un número\n",
    "    fun = lambda x: x+3\n",
    "    return mapa(fun, L)\n",
    "\n",
    "# test\n",
    "assert sumar3(Lnum) == lista(19, lista(36, lista(79, lista(26, lista(58, listaVacia)))))"
   ]
  },
  {
   "cell_type": "code",
   "execution_count": 92,
   "metadata": {},
   "outputs": [],
   "source": [
    "# edadMas1: lista(Mascota) -> lista(Mascota)\n",
    "# le suma 1 año de edad a todas las mascotas\n",
    "# Ej: edadMas1(listaMasc) entrega:\n",
    "# dogoo:6 -> nekoo:3 -> flutter:7 -> sneek:2\n",
    "def edadMas1(LM):\n",
    "    assert esLista(LM)\n",
    "    \n",
    "    # x representa una estructura Mascota\n",
    "    fun = lambda x: Mascota(x.nombre, x.edad + 1, x.hambre)\n",
    "    return mapa(fun, LM)\n",
    "\n",
    "# test\n",
    "LM1 = lista(Mascota('dogoo', 6, False), lista(Mascota('nekoo', 3, True), \\\n",
    "       lista(Mascota('flutter', 7, True), lista(Mascota('sneek', 2, False), \\\n",
    "        listaVacia))))\n",
    "assert edadMas1(listaMasc) == LM1"
   ]
  },
  {
   "cell_type": "code",
   "execution_count": 93,
   "metadata": {},
   "outputs": [
    {
     "data": {
      "text/plain": [
       "lista(valor=19, siguiente=lista(valor=36, siguiente=lista(valor=79, siguiente=lista(valor=26, siguiente=lista(valor=58, siguiente=None)))))"
      ]
     },
     "execution_count": 93,
     "metadata": {},
     "output_type": "execute_result"
    }
   ],
   "source": [
    "sumar3(Lnum)"
   ]
  },
  {
   "cell_type": "code",
   "execution_count": 96,
   "metadata": {},
   "outputs": [
    {
     "data": {
      "text/plain": [
       "lista(valor=Mascota(nombre='dogoo', edad=6, hambre=False), siguiente=lista(valor=Mascota(nombre='nekoo', edad=3, hambre=True), siguiente=lista(valor=Mascota(nombre='flutter', edad=7, hambre=True), siguiente=lista(valor=Mascota(nombre='sneek', edad=2, hambre=False), siguiente=None))))"
      ]
     },
     "execution_count": 96,
     "metadata": {},
     "output_type": "execute_result"
    }
   ],
   "source": [
    "edadMas1(listaMasc)"
   ]
  },
  {
   "cell_type": "markdown",
   "metadata": {},
   "source": [
    "### Bonus ¿Como se usa mapa en el siguiente caso?\n",
    "En una lista de numeros, queremos:\n",
    "\n",
    "- Si el numero es par: dividirlo por 2 y sumarle 1.\n",
    "\n",
    "- Si el numero es impar: multiplicarlo por 3 y restarle 1.\n",
    "\n",
    "Podemos utilizar un ``if-else``, y realizar una operación distinta dependiendo del caso: "
   ]
  },
  {
   "cell_type": "code",
   "execution_count": 98,
   "metadata": {},
   "outputs": [
    {
     "data": {
      "text/plain": [
       "lista(valor=9.0, siguiente=lista(valor=100, siguiente=lista(valor=39.0, siguiente=lista(valor=70, siguiente=lista(valor=166, siguiente=None)))))"
      ]
     },
     "execution_count": 98,
     "metadata": {},
     "output_type": "execute_result"
    }
   ],
   "source": [
    "fun = lambda x: (x/2 + 1) if x%2==0 else (x*3 + 1)\n",
    "mapa(fun, Lnum)"
   ]
  },
  {
   "cell_type": "markdown",
   "metadata": {},
   "source": [
    "## Reductor / Fold\n",
    "\n",
    "Supongamos que tenemos (again) cierta lista simple de números:\n"
   ]
  },
  {
   "cell_type": "code",
   "execution_count": 99,
   "metadata": {},
   "outputs": [],
   "source": [
    "Lnum = lista(16, lista(33, lista(76, lista(23, lista(55, listaVacia)))))"
   ]
  },
  {
   "cell_type": "markdown",
   "metadata": {},
   "source": [
    "![](lista_compacta_5.svg)\n",
    "\n",
    "Y queremos una función que entregue la suma de todos ellos\n",
    "\n",
    "También, supongamos que tenemos una conocida lista de estructuras Dulce:\n",
    "\n",
    "<div><img src=\"Ldulcesest.png\" width=\"60%;\"/></div>"
   ]
  },
  {
   "cell_type": "code",
   "execution_count": 101,
   "metadata": {},
   "outputs": [],
   "source": [
    "Ldulces = lista(suny, lista(frugeleN, lista(frugeleM, \\\n",
    "           lista(masticableN, listaVacia))))"
   ]
  },
  {
   "cell_type": "markdown",
   "metadata": {},
   "source": [
    "Y queremos una función que nos diga cuantos dulces hay en total en la lista"
   ]
  },
  {
   "cell_type": "code",
   "execution_count": null,
   "metadata": {},
   "outputs": [],
   "source": [
    "# sumaNumeros: lista(num) -> num\n",
    "# entrega la suma de todos los números de una lista\n",
    "# Ej: sumaNumeros(Lnum) entrega 203\n",
    "def sumaNumeros(L, total = 0):\n",
    "    assert esLista(L)\n",
    "\n",
    "    if L  == listaVacia:\n",
    "        return total\n",
    "    \n",
    "    actual = cabeza(L)\n",
    "    nuevoTot = total + actual\n",
    "    return sumaNumeros(cola(L), nuevoTot)\n",
    "\n",
    "# test\n",
    "assert sumaNumeros(Lnum) == 203"
   ]
  },
  {
   "cell_type": "code",
   "execution_count": 102,
   "metadata": {},
   "outputs": [],
   "source": [
    "# contarDulces: lista(Dulce) -> num\n",
    "# entrega cuantos dulces hay en total en una lista\n",
    "# Ej: contarDulces(Ldulces) entrega 99\n",
    "def contarDulces(LD, total = 0):\n",
    "    assert esLista(LD)\n",
    "\n",
    "    if LD == listaVacia:\n",
    "        return total\n",
    "    \n",
    "    actual = cabeza(LD)\n",
    "    nuevoTot = total + actual.cantidad\n",
    "    return contarDulces(cola(LD), nuevoTot)\n",
    "\n",
    "# test\n",
    "assert contarDulces(Ldulces) == 99"
   ]
  },
  {
   "cell_type": "markdown",
   "metadata": {},
   "source": [
    "Las funciones anteriores, poseen un comportamiento similar, solo cambia la `operación` que se realiza sobre cada uno de los elementos en la lista, y como se `operan los elementos entre si`. La generalización funcional de esta idea se conoce como **reductor / fold / reduce**\n",
    "\n",
    "Un reductor es una función que opera sobre una lista de elementos cualquiera, tal que dada una `operación entre elementos`, entrega el resultado de aplicar consecutivamente la operación sobre todos los elementos de la lista\n",
    "\n",
    "<div><img src=\"absfun_reductor.svg\" width=\"60%;\"/></div>\n",
    "\n",
    "Tal ``operación entre elementos``, corresponde a una función que opera dos valores y entrega un resultado\n",
    "\n",
    "\n"
   ]
  },
  {
   "cell_type": "code",
   "execution_count": 103,
   "metadata": {},
   "outputs": [],
   "source": [
    "# reductor: (any any -> any) lista(any) any -> any\n",
    "# opera todos los elementos de la lista entre si, reduciéndolo\n",
    "# a un solo valor\n",
    "def reductor(funOperacion, L, init):\n",
    "    # El orden de los parámetros es la función de operación, luego \n",
    "    # la Lista donde se aplicará la función y finalmente el valor inicial \n",
    "    # del resultado de la operación\n",
    "    assert esLista(L)\n",
    "\n",
    "    if L == listaVacia:\n",
    "        return init\n",
    "    \n",
    "    actual = cabeza(L)\n",
    "    # La función de operación, determina que operación hay que aplicar entre el elemento\n",
    "    # actual de la lista y el resultado parcial que se lleva hasta el momento\n",
    "    nuevoInit = funOperacion(init, actual)\n",
    "    return reductor(funOperacion, cola(L), nuevoInit)\n"
   ]
  },
  {
   "cell_type": "markdown",
   "metadata": {},
   "source": [
    "``init`` es la variable donde se va a ir construyendo el resultado final de la reducción, de manera similar a como usamos las variables por omisión para guardar resultados parciales. Inicialmente, se debe ingresar un valor que sea \"neutro\" para la operación a realizar. Por ejemplo:\n",
    "\n",
    "- `0` si estamos sumando números\n",
    "\n",
    "- `1` si estamos multiplicado números\n",
    "\n",
    "- `''` si estamos concatenando Strings\n",
    "\n",
    "- `False` si estamos realizando una búsqueda de un elemento\n",
    "\n",
    "La función de operación (`funOperacion`), debe respetar el contrato `X X -> X`, o bien, `X Y -> X`\n",
    "\n",
    "Donde el primer parámetro corresponde al tipo de dato de `init`, y el segundo al tipo de dato de los elementos en la lista. El resultado generalmente es del mismo tipo que `init`. El reductor asume que la lista ingresada debe tener al menos un elemento\n",
    "\n",
    "\n",
    "<div><img src=\"lista_reductor1.svg\" width=\"45%;\"/><img src=\"lista_reductor2.svg\" width=\"45%;\"/></div>\n",
    "<div><img src=\"lista_reductor3.svg\" width=\"45%;\"/><img src=\"lista_reductor4.svg\" width=\"45%;\"/></div>\n",
    "<div><img src=\"lista_reductor5.svg\" width=\"45%;\"/><img src=\"lista_reductor6.svg\" width=\"45%;\"/></div>\n",
    "<div><img src=\"lista_reductor7.svg\" width=\"45%;\"/></div>\n",
    "Luego, podemos usar el reductor de la siguiente manera:"
   ]
  },
  {
   "cell_type": "code",
   "execution_count": 105,
   "metadata": {},
   "outputs": [
    {
     "data": {
      "text/plain": [
       "50761920"
      ]
     },
     "execution_count": 105,
     "metadata": {},
     "output_type": "execute_result"
    }
   ],
   "source": [
    "# y representa un número; x representa el dato inicial del reductor\n",
    "fun = lambda x,y: x*y \n",
    "reductor(fun, Lnum, 1)"
   ]
  },
  {
   "cell_type": "code",
   "execution_count": 106,
   "metadata": {},
   "outputs": [
    {
     "data": {
      "text/plain": [
       "' 16 33 76 23 55'"
      ]
     },
     "execution_count": 106,
     "metadata": {},
     "output_type": "execute_result"
    }
   ],
   "source": [
    "# y representa un número; x representa el dato inicial del reductor\n",
    "fun = lambda x,y: x +' '+str(y)\n",
    "reductor(fun, Lnum, '')"
   ]
  },
  {
   "cell_type": "markdown",
   "metadata": {},
   "source": [
    "Así, podemos resolver los problemas originales"
   ]
  },
  {
   "cell_type": "code",
   "execution_count": 107,
   "metadata": {},
   "outputs": [],
   "source": [
    "# sumaNumeros: lista(num) -> num\n",
    "# entrega la suma de todos los números de una lista\n",
    "# Ej: sumaNumeros(Lnum) entrega 203\n",
    "def sumaNumeros(L, total = 0):\n",
    "    assert esLista(L)\n",
    "\n",
    "    fun = lambda x,y: x+y\n",
    "    return reductor(fun, L, 0)\n",
    "\n",
    "# test\n",
    "assert sumaNumeros(Lnum) == 203"
   ]
  },
  {
   "cell_type": "code",
   "execution_count": 108,
   "metadata": {},
   "outputs": [],
   "source": [
    "# contarDulces: lista(Dulce) -> num\n",
    "# entrega cuantos dulces hay en total en una lista\n",
    "# Ej: contarDulces(Ldulces) entrega 99\n",
    "def contarDulces(LD, total = 0):\n",
    "    assert esLista(LD)\n",
    "\n",
    "    fun = lambda x,y: x + y.cantidad\n",
    "    return reductor(fun, LD, 0)\n",
    "\n",
    "# test\n",
    "assert contarDulces(Ldulces) == 99"
   ]
  },
  {
   "cell_type": "code",
   "execution_count": 109,
   "metadata": {},
   "outputs": [
    {
     "data": {
      "text/plain": [
       "203"
      ]
     },
     "execution_count": 109,
     "metadata": {},
     "output_type": "execute_result"
    }
   ],
   "source": [
    "sumaNumeros(Lnum)"
   ]
  },
  {
   "cell_type": "code",
   "execution_count": 110,
   "metadata": {},
   "outputs": [
    {
     "data": {
      "text/plain": [
       "99"
      ]
     },
     "execution_count": 110,
     "metadata": {},
     "output_type": "execute_result"
    }
   ],
   "source": [
    "contarDulces(Ldulces)"
   ]
  },
  {
   "cell_type": "markdown",
   "metadata": {},
   "source": [
    "### Bonus 1: ¿Como encontrar el maximo valor en una lista de numeros? \n",
    "\n",
    "Podemos usar ``if-else`` en el reductor, tal que comparamos el valor actual con el que se encuentre guardado en ``init``, y nos quedamos con el mayor entre ellos. Inicialmente, como ``init``, necesitamos un valor que siempre pierda contra cualquier numero. Un numero super pequeño nos puede servir.\n"
   ]
  },
  {
   "cell_type": "code",
   "execution_count": 112,
   "metadata": {},
   "outputs": [
    {
     "data": {
      "text/plain": [
       "76"
      ]
     },
     "execution_count": 112,
     "metadata": {},
     "output_type": "execute_result"
    }
   ],
   "source": [
    "fun = lambda x,y: x if x>y else y\n",
    "reductor(fun, Lnum, -99999)"
   ]
  },
  {
   "cell_type": "markdown",
   "metadata": {},
   "source": [
    "### Bonus 2: ¿Como saber si existe un elemento en una lista? \n",
    "\n",
    "Usamos un ``if-else`` en el reductor. Inicialmente, asumimos que el elemento no se encuentra (``init = False``). Si eventualmente nos topamos con el valor buscado, cambiamos ``init`` a ``True``. Si no, mantenemos la respuesta que se encuentre guardada en ``init``."
   ]
  },
  {
   "cell_type": "code",
   "execution_count": 114,
   "metadata": {},
   "outputs": [
    {
     "data": {
      "text/plain": [
       "True"
      ]
     },
     "execution_count": 114,
     "metadata": {},
     "output_type": "execute_result"
    }
   ],
   "source": [
    "fun = lambda x,y: True if y==33 else x\n",
    "reductor(fun, Lnum, False)"
   ]
  },
  {
   "cell_type": "code",
   "execution_count": 115,
   "metadata": {},
   "outputs": [
    {
     "data": {
      "text/plain": [
       "False"
      ]
     },
     "execution_count": 115,
     "metadata": {},
     "output_type": "execute_result"
    }
   ],
   "source": [
    "fun = lambda x,y: True if y==88 else x\n",
    "reductor(fun, Lnum, False)"
   ]
  },
  {
   "cell_type": "markdown",
   "metadata": {},
   "source": [
    "### Bonus 3: ¿Como contar los numeros que están dentro de un intervalo fijo?\n",
    "\n",
    "Usamos un ``if-else`` en el reductor, tal que solo contamos los numeros que cumplan el criterio indicado (estar dentro de un rango):"
   ]
  },
  {
   "cell_type": "code",
   "execution_count": 116,
   "metadata": {},
   "outputs": [
    {
     "data": {
      "text/plain": [
       "2"
      ]
     },
     "execution_count": 116,
     "metadata": {},
     "output_type": "execute_result"
    }
   ],
   "source": [
    "fun = lambda x,y: x+1 if (y > 30 and y < 70) else x\n",
    "reductor(fun, Lnum, 0)"
   ]
  },
  {
   "cell_type": "markdown",
   "metadata": {},
   "source": [
    "## Conclusiones\n",
    "\n",
    "Las herramientas de abstracción funcional permiten dar una generalización a la solución de problemas recurrentes que sean similares. Así, podemos resolver rápidamente problemas cuya mecánica se pueda abstraer al uso de un **filtro, mapa y/o reductor** para llegar a su solución\n",
    "\n",
    "Tales funciones se encuentran en el módulo ``absfun.py`` disponible en material docente\n",
    "\n",
    "Para ello es importante observar el \"tamaño\" del problema, y el \"tamaño\" esperado de la solución\n",
    "\n",
    "- Si la lista tiene `n` elementos, y el resultado de la función es un subconjunto de la lista (entre `0` y `n` elementos), entonces probablemente se pueda aplicar un ``filtro``\n",
    "\n",
    "- Si la lista tiene `n` elementos, y el resultado de la función es una lista de tamaño `n`, entonces probablemente se pueda aplicar un `mapa`\n",
    "\n",
    "- Si la lista tiene `n` elementos, y el resultado de la función es un solo valor/resultado, entonces probablemente se pueda aplicar un `reductor`\n",
    "\n",
    "\n",
    "\n",
    "\n"
   ]
  }
 ],
 "metadata": {
  "kernelspec": {
   "display_name": "Python 3 (ipykernel)",
   "language": "python",
   "name": "python3"
  },
  "language_info": {
   "codemirror_mode": {
    "name": "ipython",
    "version": 3
   },
   "file_extension": ".py",
   "mimetype": "text/x-python",
   "name": "python",
   "nbconvert_exporter": "python",
   "pygments_lexer": "ipython3",
   "version": "3.10.5"
  },
  "vscode": {
   "interpreter": {
    "hash": "98b95ce4537a043c6c2f8047f97d2678115deb8444c76d437608d4f0db95d495"
   }
  }
 },
 "nbformat": 4,
 "nbformat_minor": 4
}
