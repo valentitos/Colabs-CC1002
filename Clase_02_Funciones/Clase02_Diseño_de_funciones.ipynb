{
 "cells": [
  {
   "attachments": {},
   "cell_type": "markdown",
   "metadata": {},
   "source": [
    "<a href=\"https://colab.research.google.com/github/valentitos/Colabs-CC1002/blob/main/Clase_02_Funciones/Clase02_Diseño_de_funciones.ipynb\" target=\"_parent\"><img src=\"https://colab.research.google.com/assets/colab-badge.svg\" alt=\"Open In Colab\"/></a>"
   ]
  },
  {
   "attachments": {},
   "cell_type": "markdown",
   "metadata": {},
   "source": [
    "# Clase 02: Diseño de Funciones"
   ]
  },
  {
   "cell_type": "markdown",
   "metadata": {},
   "source": [
    "## Repaso Clase 01\n",
    "\n",
    "### ¿Qué es un algoritmo?\n",
    "\n",
    "Un algoritmo es una secuencia **lógica, finita y ordenada** de pasos que permiten ejecutar cualquier tarea.\n",
    "\n",
    "Para diseñar un algoritmo, tenemos que:\n",
    "\n",
    "- Identificar el problema\n",
    "- Contextualizar lso elementos que definen el problema\n",
    "- Relacionar los elementos mediante una secuencia lógica de pasos\n",
    "\n",
    "### Tipos de datos básicos \n",
    "\n",
    "Indica al computador las características de los datos con los que va a trabajar. Esto incluye imponer restricciones sobre los datos, tales como qué valores puede tomar o qué operaciones se pueden realizar sobre éste. Todos los valores en un programa tienen un tipo.\n",
    "\n",
    "Por ahora, identificaremos tres tipos de dato:\n",
    "\n",
    "- **Enteros (int)**: `0  1  2  -5  -33`\n",
    "\n",
    "- **Reales (float)**: `0.4873` (cualquier número con punto decimal)\n",
    "\n",
    "- **Texto (str)**: `'hola'` `\"Me gustan los gatitos\"` `'123'` (se pueden usar comillas simples o dobles)\n",
    "\n",
    "\n",
    "### Evaluación de Expresiones\n",
    "La prioridad de los operadores es la misma que se usa en álgebra:\n",
    "\n",
    "1. Operadores Unarios: `+  -` (positivo/negativo)\n",
    "2. Elevar a potencia: `**` \n",
    "3. Operadores multiplicativos: `*  /  //  %`\n",
    "4. Operadores aditivos: `+  -` (suma/resta)\n",
    "\n",
    "En caso de empate, se evalúan las expresiones de izquierda a derecha y podemos usar paréntesis para garantizar un cierto orden de evaluación\n",
    "\n",
    "```python\n",
    ">>> 3 + 2 * 5 / 8\n",
    "    4.25\n",
    ">>> (3 + 2) * (5 / 8)\n",
    "    3.125\n",
    "```\n",
    "\n",
    "En operaciones con texto, podemos\n",
    "\n",
    "```python\n",
    ">>> 'abra' + 'kadabra'          (concatenar)\n",
    "    'abrakadabra'\n",
    "\n",
    ">>> 'miau' * 4                  (repetir)\n",
    "    'miaumiaumiaumiau'    \n",
    "```\n",
    "\n",
    "Para juntar valores de tipo texto con valores de tipo numérico, primero es necesario convertir los valores numéricos a valores de tipo texto. Para esto, usamos la función ``str(numero)``\n",
    "\n",
    "```python\n",
    ">>> 'yo tengo ' + str(9) + ' mascotas'\n",
    "    'yo tengo 9 mascotas'\n",
    "```\n",
    "\n",
    "Por otro lado, si tenemos valores de tipo texto, que pueden ser interpretados o entendidos como un número, podemos convertirlo a un tipo numérico, usando las funciones ``int(texto)`` y ``float(texto)``\n",
    "\n",
    "```python\n",
    ">>> '103' + '6'\n",
    "    '1036'\n",
    ">>> int('103') + 6\n",
    "    109\n",
    "```\n",
    "\n",
    "### Variables\n",
    "\n",
    "Sirven para guardar los resultados de la evaluación de expresiones\n",
    "\n",
    "`variable = expresión`\n",
    "\n",
    "**¿Como funciona?**\n",
    "- Se evalúa la `expresión`\n",
    "- El resultado se asigna/guarda en la `variable`\n",
    "- La `variable` queda guardada en memoria, para poder ser utilizada en otras expresiones u operaciones\n",
    "\n",
    "**Restricciones**\n",
    "- El nombre de variable puede contener letras de la a a la z (minúsculas o mayúsculas), números y guiones bajo\n",
    "- El nombre de variable no puede contener espacios\n",
    "- El nombre de variable no puedo empezar por un número\n",
    "\n",
    "Intenten usar nombres de variables descriptivos!"
   ]
  },
  {
   "cell_type": "markdown",
   "metadata": {},
   "source": [
    "## Motivación\n",
    "\n",
    "Supongamos que queremos calcular el área de un circulo. Sabemos que la relación para obtener el área en función del radio viene dada por:\n",
    "\n",
    "$$area = \\pi * r^2$$\n",
    "\n",
    "Luego, podemos calcular el área de un circulo, mediante las siguientes expresiones:"
   ]
  },
  {
   "cell_type": "code",
   "execution_count": null,
   "metadata": {},
   "outputs": [],
   "source": [
    "r = 5\n",
    "pi = 3.14\n",
    "area = pi * r**2"
   ]
  },
  {
   "cell_type": "code",
   "execution_count": null,
   "metadata": {},
   "outputs": [],
   "source": [
    "area"
   ]
  },
  {
   "cell_type": "markdown",
   "metadata": {},
   "source": [
    "Super!\n",
    "¿Pero que ocurre si ahora nos piden calcular el área de un circulo con distinto radio?\n",
    "\n",
    "La solución \"fácil\" es volver a calcular las expresiones, con un valor distinto del radio"
   ]
  },
  {
   "cell_type": "code",
   "execution_count": null,
   "metadata": {},
   "outputs": [],
   "source": [
    "r = 8\n",
    "pi = 3.14\n",
    "area = pi * r**2"
   ]
  },
  {
   "cell_type": "code",
   "execution_count": null,
   "metadata": {},
   "outputs": [],
   "source": [
    "area"
   ]
  },
  {
   "cell_type": "markdown",
   "metadata": {},
   "source": [
    "Ya... ¿y si ahora nos piden calcular el área del circulo varias veces? ¿Con radios distintos?\n",
    "\n",
    "Cuando estamos resolviendo problemas, puede que sea necesario *encapsular* bloques de código que repiten o realizan instrucciones recurrentes. Para esto existen las **funciones**"
   ]
  },
  {
   "cell_type": "markdown",
   "metadata": {},
   "source": [
    "## Funciones\n",
    "\n",
    "Las funciones en computación se definen con la misma noción que existe en matemáticas.\n",
    "\n",
    "Son una estructura que recibe un conjunto de **parametros de entrada**, los procesa y genera un **resultado de salida**\n",
    "\n",
    "![funciones](img1_fun.svg)"
   ]
  },
  {
   "cell_type": "markdown",
   "metadata": {},
   "source": [
    "### Sintaxis\n",
    "\n",
    "```python\n",
    "def nombre(parámetros)          (1)\n",
    "    instrucciones               (2)\n",
    "    return expresion            (3)\n",
    "```\n",
    "\n",
    "(1) Una función se define con la palabra clave ``def``, lleva un **nombre**, un conjunto de cero o mas **parámetros** de entrada, y termina con el simbolo ``:`` (dos puntos). Es importante que la función tenga un nombre que esté directamente relacionado con el objetivo que cumple, al igual que sus parámetros.\n",
    "\n",
    "(2) Luego viene el conjunto de **instrucciones**, que generalmente procesan los parámetros de entrada para producir un resultado. Este conjunto de **instrucciones**, debe respetar un **bloque de identación** para indicar al interprete de Python, que dicho conjunto forma parte del cuerpo de la función, y no del programa principal.\n",
    "En Python, un bloque de identación usualmente son 4 espacios o 1 tab.\n",
    "\n",
    "(3) Cuando la función está en condiciones de entregar un valor o resultado al programa principal, se indica con la palabra clave ``return``. Cuando el interprete llega a esta palabra clave, la función termina de ejecutarse, entrega el resultado de la expresión final como respuesta, y todos los parámetros y variables utilizadas dentro de la función **desaparecen**"
   ]
  },
  {
   "cell_type": "markdown",
   "metadata": {},
   "source": [
    "### Problema inicial\n",
    "\n",
    "Con esto, volvamos al problema inicial de escribir una función que nos permita calcular el área de un circulo dado su radio."
   ]
  },
  {
   "cell_type": "code",
   "execution_count": null,
   "metadata": {},
   "outputs": [],
   "source": [
    "def areaCirculo(radio):\n",
    "    pi = 3.14\n",
    "    area = pi * radio ** 2\n",
    "    return area"
   ]
  },
  {
   "cell_type": "code",
   "execution_count": null,
   "metadata": {},
   "outputs": [],
   "source": [
    "areaCirculo(5)"
   ]
  },
  {
   "cell_type": "code",
   "execution_count": null,
   "metadata": {},
   "outputs": [],
   "source": [
    "areaCirculo(8)"
   ]
  },
  {
   "cell_type": "markdown",
   "metadata": {},
   "source": [
    "De esta manera, logramos tener una función que permite calcular el área de un circulo para cualquier* numero, sin necesidad de repetir código.\n",
    "\n",
    "*okey… en verdad no para cualquier numero. Algunos detalles como por ejemplo ¿Qué pasa si nos ingresan un numero negativo? ¿o una cadena de texto?, los abordaremos en el transcurso de esta y las siguientes clases."
   ]
  },
  {
   "cell_type": "markdown",
   "metadata": {},
   "source": [
    "### Extras\n",
    "\n",
    "¿Que ocurre si no respetamos las reglas de identación del cuerpo de la función?\n"
   ]
  },
  {
   "cell_type": "code",
   "execution_count": null,
   "metadata": {},
   "outputs": [],
   "source": [
    "def areaCirculo(radio):\n",
    "pi = 3.14\n",
    "area = pi * radio ** 2 \n",
    "return area"
   ]
  },
  {
   "cell_type": "code",
   "execution_count": null,
   "metadata": {},
   "outputs": [],
   "source": [
    "def areaCirculo(radio):\n",
    "    pi = 3.14\n",
    "    area = pi * radio ** 2 \n",
    "        return area\n"
   ]
  },
  {
   "cell_type": "markdown",
   "metadata": {},
   "source": [
    "No olviden indentar los bloques de código que pertenecen a una función de forma adecuada."
   ]
  },
  {
   "cell_type": "markdown",
   "metadata": {},
   "source": [
    "---"
   ]
  },
  {
   "cell_type": "markdown",
   "metadata": {},
   "source": [
    "## Funciones dentro de funciones\n",
    "\n",
    "Ya vimos que una función puede estar compuesta de operaciones, valores, variables. También puede contener otras funciones que hayan sido definidas previamente.\n",
    "\n",
    "Como ejemplo, creemos una función que nos permita calcular el área de un anillo.\n",
    "\n",
    "### Ejemplo: área de un anillo\n",
    "\n",
    "Ya tenemos una función que nos permite calcular el área de un circulo. Luego, conocido el radio de los circulos interior y exterior de tal anillo, podemos calcular el area pedida como la diferencia entre ambas áreas.\n",
    "\n",
    "![funciones](img2_ring.svg)\n",
    "\n",
    "**Pasos a seguir**\n",
    "\n",
    "- En el encabezado de la nueva función, especificar que necesitamos como parámetros el dato del radio interior y el radio exterior\n",
    "- Calcular el área del circulo interior y el área del circulo exterior (usando la función ``areaCirculo`` creada previamente)\n",
    "- Entregar como resultado la diferencia entre ambas áreas\n",
    "\n"
   ]
  },
  {
   "cell_type": "code",
   "execution_count": null,
   "metadata": {},
   "outputs": [],
   "source": [
    "def areaAnillo(r_exterior, r_interior):\n",
    "    area_ext = areaCirculo(r_exterior)\n",
    "    area_int = areaCirculo(r_interior)\n",
    "    return area_ext - area_int"
   ]
  },
  {
   "cell_type": "code",
   "execution_count": null,
   "metadata": {},
   "outputs": [],
   "source": [
    "areaAnillo(6,3)"
   ]
  },
  {
   "cell_type": "markdown",
   "metadata": {},
   "source": [
    "Un uso típico de usar funciones dentro de funciones, es que un problema grande, lo podemos ir descomponiendo en problemas mas pequeños. Luego, cada subproblema lo resolvemos usando una función auxiliar, y luego juntamos todo en una función que use la ayuda de las funciones auxiliares, y así resolvemos el problema principal."
   ]
  },
  {
   "cell_type": "markdown",
   "metadata": {},
   "source": [
    "---"
   ]
  },
  {
   "cell_type": "markdown",
   "metadata": {},
   "source": [
    "## Alcance de Variables\n",
    "\n",
    "Previamente mencionamos que cuando una función termina de ejecutarse, todos los parámetros y variables utilizadas dentro de la función **desaparecen**. Esto es porque la definición de una variable dentro de una función tiene un alcance **local**\n",
    "\n",
    "Veamos que significa esto a través de ejemplos\n"
   ]
  },
  {
   "cell_type": "markdown",
   "metadata": {},
   "source": [
    "**Escenario 1**"
   ]
  },
  {
   "cell_type": "code",
   "execution_count": null,
   "metadata": {},
   "outputs": [],
   "source": [
    "caja1 = 300\n",
    "\n",
    "def sumarCajas(caja2):\n",
    "    return caja2 + caja1"
   ]
  },
  {
   "cell_type": "markdown",
   "metadata": {},
   "source": [
    "Fuera de la función, se definió ``caja1``.\n",
    "Como dentro de la función no está definido quien es ``caja1``, entonces se usa la definición de ``caja1`` que existe fuera de la función (en lo que se llama el entorno **global**)\n"
   ]
  },
  {
   "cell_type": "code",
   "execution_count": null,
   "metadata": {},
   "outputs": [],
   "source": [
    "sumarCajas(800)"
   ]
  },
  {
   "cell_type": "markdown",
   "metadata": {},
   "source": [
    "**Escenario 2**"
   ]
  },
  {
   "cell_type": "code",
   "execution_count": null,
   "metadata": {},
   "outputs": [],
   "source": [
    "caja1 = 300\n",
    "\n",
    "def sumarCajas(caja2):\n",
    "    caja1 = 1000\n",
    "    return caja2 + caja1"
   ]
  },
  {
   "cell_type": "markdown",
   "metadata": {},
   "source": [
    "Luego, si definimos ``caja1`` dentro de la función, entonces acá adentro solo se crea/modifica una versión local de ``caja1``. Una función intentará siempre usar una definición local antes de buscar una definición global de una variable.\n",
    "\n",
    "Todos los cambios que hagamos localmente con ``caja1`` no afectan el valor de ``caja1`` a nivel global."
   ]
  },
  {
   "cell_type": "code",
   "execution_count": null,
   "metadata": {},
   "outputs": [],
   "source": [
    "sumarCajas(800)"
   ]
  },
  {
   "cell_type": "code",
   "execution_count": null,
   "metadata": {},
   "outputs": [],
   "source": [
    "caja1"
   ]
  },
  {
   "cell_type": "markdown",
   "metadata": {},
   "source": [
    "**Escenario 3**"
   ]
  },
  {
   "cell_type": "code",
   "execution_count": null,
   "metadata": {},
   "outputs": [],
   "source": [
    "caja1 = 300\n",
    "caja2 = 500\n",
    "def sumarCajas(caja2):\n",
    "    caja1 = 1000\n",
    "    return caja2 + caja1"
   ]
  },
  {
   "cell_type": "markdown",
   "metadata": {},
   "source": [
    "Ahora, si definimos ``caja2`` fuera de la función, tendremos un ``caja2`` global que almacena un valor, y un ``caja2`` local que cumple el rol de ser el parámetro de la función\n",
    "\n",
    "Al igual que en el caso anterior, la función preferirá usar la definición que tenga mas a su alcance (la local), antes de buscar globalmente que es ``caja2``\n"
   ]
  },
  {
   "cell_type": "code",
   "execution_count": null,
   "metadata": {},
   "outputs": [],
   "source": [
    "sumarCajas(800)"
   ]
  },
  {
   "cell_type": "code",
   "execution_count": null,
   "metadata": {},
   "outputs": [],
   "source": [
    "caja2"
   ]
  },
  {
   "cell_type": "markdown",
   "metadata": {},
   "source": [
    "**Escenario 4**"
   ]
  },
  {
   "cell_type": "code",
   "execution_count": null,
   "metadata": {},
   "outputs": [],
   "source": [
    "caja1 = 300\n",
    "caja2 = 500\n",
    "def sumarCajas():\n",
    "    return caja2 + caja1"
   ]
  },
  {
   "cell_type": "markdown",
   "metadata": {},
   "source": [
    "Si ahora la función no recibe parámetros de entrada, ni tiene las definiciones locales de las variables que usa en sus cálculos, entonces buscará las definiciones globales para operar"
   ]
  },
  {
   "cell_type": "code",
   "execution_count": null,
   "metadata": {},
   "outputs": [],
   "source": [
    "sumarCajas()"
   ]
  },
  {
   "cell_type": "markdown",
   "metadata": {},
   "source": [
    "**Escenario 5**"
   ]
  },
  {
   "cell_type": "code",
   "execution_count": null,
   "metadata": {},
   "outputs": [],
   "source": [
    "def sumarCajas(caja2):\n",
    "    caja1 = 1000\n",
    "    return caja2 + caja1"
   ]
  },
  {
   "cell_type": "markdown",
   "metadata": {},
   "source": [
    "Finalmente, si solo hay definiciones locales de variables, tales variables no se encontrarán disponibles fuera de la función."
   ]
  },
  {
   "cell_type": "code",
   "execution_count": null,
   "metadata": {},
   "outputs": [],
   "source": [
    "sumarCajas(800)"
   ]
  },
  {
   "cell_type": "code",
   "execution_count": null,
   "metadata": {},
   "outputs": [],
   "source": [
    "caja1"
   ]
  },
  {
   "cell_type": "markdown",
   "metadata": {},
   "source": [
    "**Escenario 6**"
   ]
  },
  {
   "cell_type": "code",
   "execution_count": null,
   "metadata": {},
   "outputs": [],
   "source": [
    "def sumarCajas(caja2):\n",
    "    caja1 = 1000\n",
    "    return caja2 + caja1"
   ]
  },
  {
   "cell_type": "markdown",
   "metadata": {},
   "source": [
    "¿y si llamamos a una función con la cantidad incorrecta de parámetros?"
   ]
  },
  {
   "cell_type": "code",
   "execution_count": null,
   "metadata": {},
   "outputs": [],
   "source": [
    "sumarCajas(800,1200)"
   ]
  },
  {
   "cell_type": "markdown",
   "metadata": {},
   "source": [
    "---"
   ]
  },
  {
   "cell_type": "markdown",
   "metadata": {},
   "source": [
    "## Receta de Diseño\n",
    "\n",
    "Es una receta/guía para ayudarnos a escribir correctamente funciones. Se preocupa de ayudarnos a extraer la información importante de un problema, entenderlo, y tener un orden al momento de programar una función\n",
    "\n",
    "Nos ayuda a:\n",
    "\n",
    "- Entender el propósito de la función (¿Para que sirve?)\n",
    "- Dar ejemplos de uso de la función (¿Cómo se usa?)\n",
    "- Probar/verificar la función (\"Demostrar\" que funciona)\n",
    "- Especificar el cuerpo de la función (Programarla)\n",
    "\n",
    "Veámoslo con un ejemplo.\n",
    "\n",
    "### Ejemplo: área de un rectangulo\n",
    "\n",
    "Calculemos el área de un rectángulo, dadas las medidas de sus lados\n",
    "\n",
    "![funciones](img3_rect.svg)\n"
   ]
  },
  {
   "cell_type": "code",
   "execution_count": null,
   "metadata": {},
   "outputs": [],
   "source": [
    "#areaRectangulo: num num -> num\n",
    "#calcula el area de un rectángulo dados sus lados\n",
    "#ejemplo: areaRectangulo(3,4) entrega 12\n",
    "def areaRectangulo(largo,ancho):\n",
    "    return largo * ancho\n",
    "\n",
    "#Test\n",
    "assert areaRectangulo(3,4) == 12\n"
   ]
  },
  {
   "cell_type": "markdown",
   "metadata": {},
   "source": [
    "En Python, todo lo que se escriba luego de un símbolo ``#`` se considera como comentarios del programa. Los comentarios sirven para dejar mensajes en el código, los cuales no serán interpretados como parte propiamente tal del programa.\n",
    "\n",
    "Ahora veamos las partes de la Receta de Diseño\n",
    "\n",
    "#### **Contrato**\n",
    "Especificación de los tipos que recibe y produce una función\n",
    "\n",
    "```python\n",
    "#areaRectangulo: num num -> num\n",
    "```\n",
    "Por ahora, solo identificaremos los siguientes tipos de dato en la entrada y salida de la función (a futuro agregaremos más)\n",
    "- int\n",
    "- float\n",
    "- str\n",
    "-num \n",
    "\n",
    "num sirve para indicar que la función está preparada para recibir/entregar tanto enteros como reales (es decir, un tipo de dato numérico cualquiera)\n",
    "\n",
    "Ojo: formalmente el tipo de dato num no existe, solo lo usamos en la receta de diseño para facilitar la presentación de la función\n",
    "\n",
    "#### **Descripción o Propósito**\n",
    "Indicación verbal de qué hace la función\n",
    "\n",
    "```python\n",
    "#calcula el area de un rectángulo dados sus lados\n",
    "```\n",
    "\n",
    "#### **Ejemplos de uso**\n",
    "Ejemplos concretos de como usar la función\n",
    "\n",
    "```python\n",
    "#ejemplo: areaRectangulo(3,4) entrega 12\n",
    "```\n",
    "\n",
    "#### **Firma**\n",
    "Representación formal (código) del encabezado de la función\n",
    "\n",
    "```python\n",
    "def areaRectangulo(largo,ancho):\n",
    "```\n",
    "\n",
    "#### **Cuerpo**\n",
    "Código propiamente tal de la función\n",
    "\n",
    "```python\n",
    "    return largo * ancho\n",
    "```\n",
    "\n",
    "#### **Test**\n",
    "Verificación formal de la correctitud de la función \n",
    "\n",
    "```python\n",
    "#Test\n",
    "assert areaRectangulo(3,4) == 12\n",
    "```\n",
    "\n",
    "La palabra clave assert se utiliza para verificar/afirmar la validez de una expresión escrita inmediatamente a su derecha\n",
    "\n",
    "En este ejemplo, estamos afirmando que si ingresamos como parámetros de la función, largo y ancho igual a 3 y 4 respectivamente, entonces el resultado entregado si o si será 12.\n",
    "\n",
    "### Extras\n",
    "\n",
    "Siguiendo la receta de diseño, estamos en condiciones de abordar los problemas de una manera fina y elegante, ya que nos permite pensar en abstracto sobre que es lo que queremos hacer, y luego aterrizarlo/formalizarlo.\n",
    "\n",
    "A partir de ahora, todas las funciones que fabriquemos, deberán seguir la receta de diseño\n",
    "\n",
    "Es recomendable que los test se diseñen antes de escribir el cuerpo de la función\n",
    "\n",
    "\n"
   ]
  },
  {
   "cell_type": "markdown",
   "metadata": {},
   "source": [
    "## Otro ejemplo\n",
    "\n",
    "Diseñemos una función que reciba un número entero de dos dígitos y como resultado entregue los dígitos en orden inverso.\n",
    "\n",
    "Por ejemplo, si se recibe el número 27, el resultado a entregar es 72\n",
    "\n",
    "![ej_inv](img4_inv1.svg)\n",
    "\n",
    "**¿Como lo abordamos?**\n",
    "\n",
    "Usando la receta de diseño e identificando la información importante para resolver el problema\n",
    "\n",
    "Nos dicen que nos entregarán un número, y tal número si o si tiene 2 cifras, por lo que nos podemos despreocupar de otros casos de borde\n",
    "\n",
    "Para dar vuelta el numero, nos puede servir separar las decenas de las unidades, y luego operarlas... División entera!\n",
    "\n",
    "![ej_inv2](img5_inv2.svg)\n",
    "\n",
    "**Programando la solución**\n",
    "\n"
   ]
  },
  {
   "cell_type": "code",
   "execution_count": null,
   "metadata": {},
   "outputs": [],
   "source": [
    "#invertir: int -> int\n",
    "#invierte un numero entero de dos cifras\n",
    "#ej: invertir(27) entrega 72\n",
    "def invertir(numero):\n",
    "    decenas = numero // 10\n",
    "    unidades = numero % 10\n",
    "    return unidades * 10 + decenas\n",
    "\n",
    "#Test\n",
    "assert invertir(27) == 72\n",
    "assert invertir(88) == 88"
   ]
  },
  {
   "cell_type": "markdown",
   "metadata": {},
   "source": [
    "### Extras\n",
    "\n",
    "**Operadores de división entera**\n",
    "\n",
    "Una segunda lectura que se le puede dar a los operadores de división entera con potencias de 10 es:\n",
    "- ``//`` nos sirve para \"cortar\" tantos dígitos, de derecha a izquierda, como ``0's`` tenga la potencia de 10 con la que se está dividiendo\n",
    "- ``%`` nos sirve para \"extraer/rescatar\" tantos dígitos, de derecha a izquierda, como ``0's`` tenga la potencia de 10 con la que se está dividiendo\n",
    "- ``*`` nos sirve para agregar tantos ``0's`` a la derecha de un número, como ``0's`` tenga la potencia de 10 con la que se está multiplicando\n"
   ]
  },
  {
   "cell_type": "code",
   "execution_count": null,
   "metadata": {},
   "outputs": [],
   "source": [
    "123//10"
   ]
  },
  {
   "cell_type": "code",
   "execution_count": null,
   "metadata": {},
   "outputs": [],
   "source": [
    "123//100"
   ]
  },
  {
   "cell_type": "code",
   "execution_count": null,
   "metadata": {},
   "outputs": [],
   "source": [
    "123%10"
   ]
  },
  {
   "cell_type": "code",
   "execution_count": null,
   "metadata": {},
   "outputs": [],
   "source": [
    "123%100"
   ]
  },
  {
   "cell_type": "code",
   "execution_count": null,
   "metadata": {},
   "outputs": [],
   "source": [
    "123*10"
   ]
  },
  {
   "cell_type": "code",
   "execution_count": null,
   "metadata": {},
   "outputs": [],
   "source": [
    "123*100"
   ]
  },
  {
   "cell_type": "markdown",
   "metadata": {},
   "source": [
    "**¿Qué ocurre si un test falla?**\n",
    "\n",
    "Ya sea por que la función no entrega lo que se esperaba, o nos equivocamos al escribir el test, al ejecutar el archivo, si hay problema con un test, Python entregará un mensaje de error.\n"
   ]
  },
  {
   "cell_type": "code",
   "execution_count": null,
   "metadata": {},
   "outputs": [],
   "source": [
    "#invertir: int -> int\n",
    "#invierte un numero entero de dos cifras\n",
    "#ej: invertir(27) entrega 72\n",
    "def invertir(numero):\n",
    "    decenas = numero // 10\n",
    "    unidades = numero % 10\n",
    "    return unidades * 10 + decenas\n",
    "\n",
    "#Test\n",
    "assert invertir(27) == 74       # a proposito hacemos que el test falle\n",
    "assert invertir(88) == 88"
   ]
  },
  {
   "cell_type": "markdown",
   "metadata": {},
   "source": [
    "**AssertionError**: cuando un test que afirmábamos que se cumplía en verdad no se cumple\n"
   ]
  }
 ],
 "metadata": {
  "kernelspec": {
   "display_name": "Python 3 (ipykernel)",
   "language": "python",
   "name": "python3"
  },
  "language_info": {
   "codemirror_mode": {
    "name": "ipython",
    "version": 3
   },
   "file_extension": ".py",
   "mimetype": "text/x-python",
   "name": "python",
   "nbconvert_exporter": "python",
   "pygments_lexer": "ipython3",
   "version": "3.10.6 (tags/v3.10.6:9c7b4bd, Aug  1 2022, 21:53:49) [MSC v.1932 64 bit (AMD64)]"
  },
  "vscode": {
   "interpreter": {
    "hash": "98b95ce4537a043c6c2f8047f97d2678115deb8444c76d437608d4f0db95d495"
   }
  }
 },
 "nbformat": 4,
 "nbformat_minor": 4
}
