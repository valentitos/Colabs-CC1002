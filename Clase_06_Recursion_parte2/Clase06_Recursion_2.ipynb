{
 "cells": [
  {
   "cell_type": "markdown",
   "metadata": {},
   "source": [
    "<a href=\"https://colab.research.google.com/github/valentitos/Colabs-CC1002/blob/main/Clase_06_Recursion_parte2/Clase06_Recursion_2.ipynb\" target=\"_parent\"><img src=\"https://colab.research.google.com/assets/colab-badge.svg\" alt=\"Open In Colab\"/></a>"
   ]
  },
  {
   "cell_type": "markdown",
   "metadata": {},
   "source": [
    "# Clase 06: Recursión (parte 2)"
   ]
  },
  {
   "cell_type": "markdown",
   "metadata": {},
   "source": [
    "## Repaso Clase 05\n",
    "\n",
    "### Recursión\n",
    "\n",
    "Recursión es la forma en la cual se especifica o define un proceso o función, **basado en su propia definición**.\n",
    "\n",
    "\n",
    "Un problema que puede ser definido en función de su tamaño (ej: $N$), es resuelto de manera recursiva, si este problema es dividido en instancias más pequeñas (de tamaño menor a $N$) del mismo problema, y se conoce una solución explicita para sus instancias más simples o pequeñas (por ej: para $N = 0$, o $N = 1$)\n",
    "\n",
    "### Idea\n",
    "\n",
    "Problema: Comer una torta entera...\n",
    "\n",
    "- Si bien no puedo comer una torta entera, puedo comer un trozo\n",
    "\n",
    "- Luego, puedo delegarle el problema a otra persona, pasándole lo que queda de torta y que intente comérsela\n",
    "\n",
    "- Las personas seguirán esta misma lógica, recibir la torta, comer lo que mas puedan (1 trozo) y luego \"patear\" el problema a otra persona\n",
    "\n",
    "- Eventualmente, el problema terminará cuando ya no queden trozos de torta y me avisen que se acabó\n",
    "\n",
    "Con esto:\n",
    "\n",
    "- La situación en donde se reduce el problema y se delega a alguien más (sacar un trozo de torta y pasar lo que queda de torta a otra persona), se conoce como el **paso recursivo**\n",
    "\n",
    "- La situación donde se observa una situación fácil de resolver (si no quedan trozos de torta, entonces el problema inicial fue resuelto), se conoce como el **caso base**\n",
    "\n",
    "### Ej: Factorial\n",
    "\n",
    "Calculemos el factorial de un número $n$ dado, sin usar la función factorial del módulo `math`\n",
    "\n",
    "Recordemos que el factorial se define como:\n",
    "\n",
    "$$\n",
    "n! = n*(n-1)*(n-2)*...*2*1\n",
    "$$\n",
    "\n",
    "Por ej: $4! = 4*3*2*1$\n",
    "\n",
    "Notemos que:\n",
    "\n",
    "$$\n",
    "n! = n * \\underbrace{(n-1)*(n-2)*...*2*1}_{(n-1)!}\n",
    "$$\n",
    "\n",
    "Con lo cual podemos deducir la siguiente definición recursiva de factorial:\n",
    "\n",
    "$$\n",
    "  n!=\\begin{cases}\n",
    "               n*(n-1)! & \\text{si $n>0$} \\\\\n",
    "               1 & \\text{si $n=0$}\n",
    "            \\end{cases}\n",
    "$$\n",
    "\n",
    "Con esto:\n",
    "\n",
    "- Podemos ir descomponiendo el factorial en instancias mas simples del mismo factorial\n",
    "- **Caso Recursivo**: \"me quedo con n, y lo multiplico con lo que resulte de calcular el factorial de $(n-1)$. Ese calculo se lo delegaré a alguien más\"\n",
    "- **Caso Base**: \"Si me piden calcular el factorial de 0, yo sé que la respuesta es 1, y la entrego de vuelta\"\n",
    "\n",
    "```python\n",
    "#factorial: int -> int\n",
    "#entrega el factorial de un numero entero\n",
    "#ej: factorial(4) entrega 24\n",
    "def factorial(n):\n",
    "\n",
    "    if n == 0:\n",
    "        return 1\n",
    "\n",
    "    return n * factorial(n-1)\n",
    "\n",
    "#test\n",
    "assert factorial(0) == 1\n",
    "assert factorial(4) == 24\n",
    "```\n",
    "- En el caso base, entregamos una solución explicita para un escenario en que conocemos la solución\n",
    "\n",
    "- En el caso recursivo, invocamos a la misma función, pero reduciendo el problema\n",
    "\n",
    "**¿Que es lo que está ocurriendo?**\n",
    "\n",
    "<div><img src=\"img5_factorial1.svg\" width=\"50%;\"/></div>\n",
    "\n",
    "\n",
    "Luego:\n",
    "\n",
    "<div><img src=\"img6_factorial2.svg\" width=\"50%;\"/></div>\n",
    "\n",
    "**¿ Que ocurre si se nos olvida colocar el caso base, o no reducir el tamaño del problema en la recursión?**\n",
    "\n",
    "Exacto! un bonito **Loop Recursivo**, donde el programa se queda pegado en el mismo estado, y no avanzará más\n",
    "\n",
    "Python en general, nos advierte con un error de recursión:\n",
    "\n",
    "```python\n",
    "Traceback (most recent call last):\n",
    "  File \"C:/.../factorial.py\", line 10, in <module>\n",
    "    assert factorial(0) == 1\n",
    "  File \"C:/.../factorial.py\", line 7, in factorial\n",
    "    return n * factorial(n-1)\n",
    "  File \"C:/.../factorial.py\", line 7, in factorial\n",
    "    return n * factorial(n-1)\n",
    "  File \"C:/.../factorial.py\", line 7, in factorial\n",
    "    return n * factorial(n-1)\n",
    "  [Previous line repeated 1022 more times]\n",
    "RecursionError: maximum recursion depth exceeded\n",
    "```\n",
    "\n",
    "---"
   ]
  },
  {
   "cell_type": "markdown",
   "metadata": {},
   "source": [
    "## Las Torres de Hanoi\n",
    "\n",
    "Cuenta la leyenda, que existe un templo en Kashi Vishwanath (India), que contiene una gran sala con tres postes, en donde inicialmente habían 64 discos dorados en uno de esos postes\n",
    "\n",
    "Los monjes del templo, actuando bajo el mandato de una antigua profecía, deben mover toda la torre de discos de un poste a otro, con las siguientes restricciones:\n",
    "\n",
    "- Solo pueden mover 1 disco a la vez\n",
    "\n",
    "- No pueden colocar un disco grande sobre un disco de menor tamaño\n",
    "\n",
    "La leyenda dice que cuando estos monjes terminen de mover todos los discos... entonces el mundo terminará!!\n",
    "\n",
    "Contemos cuantos movimientos se necesitan para mover una torre de un pilar a otro\n",
    "\n",
    "- Para el caso de una torre de 1 disco, la solución es 1 movimiento\n",
    "\n",
    "<div><img src=\"img1_hanoi1.svg\" width=\"50%;\"/></div>\n",
    "\n",
    "Ahora veamos un ejemplo con 4 discos:\n",
    "\n",
    "- Primero hay que mover una subtorre de 3 discos a un pilar intermedio\n",
    "\n",
    "<div><img src=\"img2_hanoi2.svg\" width=\"50%;\"/></div>\n",
    "\n",
    "- Luego, podemos mover el disco inferior al pilar final\n",
    "\n",
    "<div><img src=\"img3_hanoi3.svg\" width=\"50%;\"/></div>\n",
    "\n",
    "- Finalmente, podemos mover la sub-torre de 3 discos sobre el disco mayor\n",
    "\n",
    "<div><img src=\"img4_hanoi4.svg\" width=\"50%;\"/></div>\n",
    "\n",
    "\n",
    "Por lo que, para mover una torre de 4 discos, necesitamos:\n",
    "\n",
    "- Mover una torre de 3 discos a otro pilar\n",
    "\n",
    "- Mover el disco más grande al pilar objetivo\n",
    "\n",
    "- Mover una torre de 3 discos sobre el disco más grande\n",
    "\n",
    "`mover(4) = 1 + 2 * mover(3)`\n",
    "\n",
    "Okey, ¿y cuantos movimientos se necesitan en total?. Notemos que:\n",
    "\n",
    "<div><img src=\"img5_hanoi5.svg\" width=\"40%;\"/></div>\n",
    "\n",
    "Luego...\n",
    "\n",
    "<div><img src=\"img6_hanoi6.svg\" width=\"40%;\"/></div>\n",
    "\n",
    "Así, podemos deducir la siguiente definición recursiva:\n",
    "\n",
    "$$\n",
    "hanoi(n) = \\begin{cases}\n",
    "               1 + 2*hanoi(n-1) & \\text{si $n>1$} \\\\\n",
    "               1 & \\text{si $n=1$}\n",
    "            \\end{cases}\n",
    "$$\n",
    "\n",
    "\n",
    "En el link `http://towersofhanoi.info/Animate.aspx` se encuentra una versión animada del problema.\n"
   ]
  },
  {
   "cell_type": "code",
   "execution_count": 1,
   "metadata": {},
   "outputs": [],
   "source": [
    "# hanoi: int -> int\n",
    "# calcula la cantidad de movimientos necesarios para\n",
    "# resolver las torres de Hanoi\n",
    "# Ej: hanoi(4) entrega 15\n",
    "def hanoi(n):\n",
    "    #completar\n",
    "\n",
    "# test\n",
    "assert hanoi(1) == 1\n",
    "assert hanoi(4) == 15\n"
   ]
  },
  {
   "cell_type": "markdown",
   "metadata": {},
   "source": [
    "- Caso base: Si la torre es de tamaño 1, entonces me \"cuesta\" 1 movimiento\n",
    "\n",
    "- Caso recursivo: Calculamos cuanto \"cuesta\" el viaje de ida y vuelta de la torre de tamaño menor\n",
    "\n",
    "---"
   ]
  },
  {
   "cell_type": "markdown",
   "metadata": {},
   "source": [
    "Si volvemos a la inquietud inicial...\n",
    "\n",
    "- Para 4 discos, necesitamos 15 movimientos\n",
    "\n",
    "- Para 10 discos, necesitamos 1023 movimientos\n",
    "\n",
    "- Para 25 discos, necesitamos 33554431 movimientos\n",
    "\n",
    "- Para 64 discos, necesitamos aprox. $2^{64}$ movimientos\n",
    "\n",
    "Si suponemos que cada movimiento demora 1 segundo, entonces el mundo se acabará en 585 mil millones de años (El universo tiene ~14 mil millones de años)\n",
    "\n"
   ]
  },
  {
   "cell_type": "markdown",
   "metadata": {},
   "source": [
    "## Un problema curioso...\n",
    "\n",
    "- Una pareja de conejos bebé se escapó al bosque\n",
    "\n",
    "- En un mes ya son adultos\n",
    "\n",
    "- Al mes siguiente tienen un par de crías\n",
    "\n",
    "<div><img src=\"img7_fib1.svg\" width=\"50%;\"/></div>\n",
    "\n",
    "\n",
    "- Al mes siguiente, la pareja inicial vuelve a tener un par de crías, y la primera pareja de hijos ya es adulta\n",
    "\n",
    "- Al mes siguiente, la pareja inicial vuelven a tener un par de crías, la primera pareja de hijos ya tienen su primer par de crías, y la segunda pareja de hijos ya es adulta…\n",
    "\n",
    "\n",
    "Siguiendo esta lógica ¿Es posible saber cuantos conejos habrán en un mes dado?\n",
    "\n",
    "Notemos que las parejas de conejos van aumentando en: `1, 1, 2, 3, 5, 8, 13...`\n",
    "\n",
    "<div><img src=\"img8_fib2.svg\" width=\"40%;\"/></div>\n",
    "\n",
    "Esta serie de números fue descrita por Leonardo de Pisa, Matemático Italiano del siglo XIII, también conocido como Fibonacci. Estos números son una secuencia de la forma:\n",
    "\n",
    "`0, 1, 1, 2, 3, 5, 8, 13, 21, 34, 55...`\n",
    "\n",
    "Donde notamos que cada elemento es la suma de los 2 anteriores. Con esto, podemos dar la siguiente definición de esta serie de números\n",
    "\n",
    "$$\n",
    "Fib_{n} = \\begin{cases}\n",
    "               0 & \\text{si $n=0$} \\\\\n",
    "               1 & \\text{si $n=1$} \\\\\n",
    "               Fib_{n-1} + Fib_{n-2}  & \\text{si $n>=2$}\n",
    "            \\end{cases}\n",
    "$$"
   ]
  },
  {
   "cell_type": "code",
   "execution_count": 2,
   "metadata": {},
   "outputs": [],
   "source": [
    "# fibonacci: int -> int\n",
    "# calcula el n-esimo numero de la sucesión de fibonacci\n",
    "# ej: fibonacci(7) entrega 13\n",
    "def fibonacci(n):\n",
    "    # completar\n",
    "\n",
    "# Test\n",
    "assert fibonacci(1) == 1\n",
    "assert fibonacci(7) == 13"
   ]
  },
  {
   "cell_type": "markdown",
   "metadata": {},
   "source": [
    "- Caso Base: Está permitido tener más de un caso base\n",
    "\n",
    "- Caso Recursivo: Podemos invocar más de una recursión a la vez\n",
    "\n",
    "---"
   ]
  },
  {
   "cell_type": "markdown",
   "metadata": {},
   "source": [
    "## Sumar números\n",
    "\n",
    "Escribamos una función recursiva, que le pida a una persona ingresar números positivos sucesivamente. Cuando la persona ingrese un número negativo, entonces se muestra en pantalla la suma de todos los números ingresados previamente (sin considerar el número negativo) Ej:\n",
    "\n",
    "```\n",
    ">>> sumainteractiva()\n",
    "    número? 7\n",
    "    número? 3\n",
    "    número? 4\n",
    "    número? 8\n",
    "    número? -2\n",
    "    la suma es: 22 \n",
    ">>> \n",
    "```\n",
    "\n",
    "Podemos usar una variable por omisión, para ir guardando la suma parcial que llevamos hasta el momento. La responsabilidad de la función es:\n",
    "\n",
    "- Pedir que ingresen un número\n",
    "\n",
    "- Caso Base: Si ingresan un número negativo, entonces mostramos la suma en pantalla y termina el programa\n",
    "\n",
    "- Caso Recursivo: Si ingresan un número positivo, entonces lo agregamos a la suma parcial, y re-invocamos a la función para repetir el proceso\n",
    "\n",
    "\n",
    "<div><img src=\"img9_suma.svg\" width=\"50%;\"/></div>\n",
    "\n"
   ]
  },
  {
   "cell_type": "code",
   "execution_count": 3,
   "metadata": {},
   "outputs": [],
   "source": [
    "# sumainteractiva: None (num) -> None\n",
    "# pregunta a una persona por numeros positivos\n",
    "# hasta queingresan un numero negativo.\n",
    "# Luego, imprime la suma de los numeros\n",
    "# ej: sumainteractiva() inicia el programa\n",
    "def sumainteractiva(suma = 0):\n",
    "\n",
    "    n = float(input(\"número? \"))\n",
    "\n",
    "    # caso base\n",
    "    if n < 0:\n",
    "        print(\"la suma es: \", suma)\n",
    "        return None\n",
    "\n",
    "    #caso recursivo\n",
    "    return sumainteractiva(suma + n)"
   ]
  },
  {
   "cell_type": "markdown",
   "metadata": {},
   "source": [
    "- Usamos una variable por omisión para guardar la suma parcial\n",
    "(inicialmente es 0)\n",
    "\n",
    "- Caso Base: Mostramos en pantalla el valor de suma que tenemos guardado y terminamos el programa\n",
    "\n",
    "- Caso Recursivo: Hacemos un llamado recursivo para repetir la pregunta, y actualizamos el valor de la suma\n",
    "\n",
    "---\n",
    "\n"
   ]
  },
  {
   "cell_type": "markdown",
   "metadata": {},
   "source": [
    "## Módulo Turtle\n",
    "\n",
    "Idea original del lenguaje de programación Logo, desarrollado en 1996 por Wally Feurzig y Seymour Papert. Consiste en una tortuga que puede moverse por la pantalla, dibujando (o no) su trayecto\n",
    "\n",
    "<div><img src=\"img10_turtle.svg\" width=\"50%;\"/></div>\n",
    "\n",
    "- La tortuga parte siempre mirando hacia la derecha\n",
    "\n",
    "- Los movimientos de giro siempre son relativos hacia donde se encuentra mirando la tortuga\n",
    "\n",
    "Las funciones básicas del módulo son:\n",
    "\n",
    "| Función | Significado |\n",
    "|--|--|\n",
    "| `turtle.forward(x)`| La tortuga avanza `x` pasos |\n",
    "| `turtle.left(ang)`| La tortuga gira a la izquierda `ang` grados |\n",
    "| `turtle.right(ang)`| La tortuga gira a la derecha `ang` grados |\n",
    "| `turtle.penup()`| Levanta el lápiz de dibujo (no pinta el camino) |\n",
    "| `turtle.pendown()`| Baja el lápiz de dibujo (pinta el camino) |\n",
    "| `turtle.shape('turtle')`| Cambia la figura a una tortuga (solo estético) |\n",
    "| `turtle.speed(n)`| Cambia la velocidad de dibujo |\n",
    "| `turtle.done()`| Cuando queremos dejar de dibujar definitivamente |"
   ]
  },
  {
   "cell_type": "markdown",
   "metadata": {},
   "source": [
    "---\n",
    "### Turtle en colab\n",
    "\n",
    "Para ejecutar Turtle en colab, tenemos que ejecutar las siguientes 2 celdas:"
   ]
  },
  {
   "cell_type": "code",
   "execution_count": 7,
   "metadata": {},
   "outputs": [
    {
     "name": "stdout",
     "output_type": "stream",
     "text": [
      "Requirement already satisfied: ColabTurtle in c:\\users\\titox\\python\\python310\\lib\\site-packages (2.1.0)\n"
     ]
    },
    {
     "name": "stderr",
     "output_type": "stream",
     "text": [
      "\n",
      "[notice] A new release of pip available: 22.2.1 -> 23.2.1\n",
      "[notice] To update, run: python.exe -m pip install --upgrade pip\n"
     ]
    }
   ],
   "source": [
    "!pip3 install ColabTurtle\n",
    "import ColabTurtle.Turtle as turtle"
   ]
  },
  {
   "cell_type": "markdown",
   "metadata": {},
   "source": [
    "Y cada vez, que necesitemos ejecutar un código turtle en colab, tenemos que escribir la siguiente linea antes de empezar a dibujar\n",
    "```\n",
    "initializeTurtle(initial_speed=5)\n",
    "```\n",
    "\n",
    "Y otro detalle... la tortuga de colab, parte mirando hacia arriba, asi que previamente tambien tenemos que decirle que gire 90° a la derecha\n",
    "\n",
    "---"
   ]
  },
  {
   "cell_type": "markdown",
   "metadata": {},
   "source": [
    "Ejemplo: dibujar un cuadrado de tamaño 50"
   ]
  },
  {
   "cell_type": "code",
   "execution_count": 10,
   "metadata": {},
   "outputs": [
    {
     "data": {
      "text/html": [
       "\n",
       "      <svg width=\"800\" height=\"500\">\n",
       "        <rect width=\"100%\" height=\"100%\" fill=\"black\"/>\n",
       "        <line x1=\"400\" y1=\"250\" x2=\"450.0\" y2=\"250.0\" stroke-linecap=\"round\" style=\"stroke:white;stroke-width:4\"/><line x1=\"450.0\" y1=\"250.0\" x2=\"450.0\" y2=\"200.0\" stroke-linecap=\"round\" style=\"stroke:white;stroke-width:4\"/><line x1=\"450.0\" y1=\"200.0\" x2=\"400.0\" y2=\"200.0\" stroke-linecap=\"round\" style=\"stroke:white;stroke-width:4\"/><line x1=\"400.0\" y1=\"200.0\" x2=\"400.0\" y2=\"250.0\" stroke-linecap=\"round\" style=\"stroke:white;stroke-width:4\"/>\n",
       "        <g visibility=visible transform=\"rotate(90,400.0,250.0) translate(382.0, 232.0)\">\n",
       "<path style=\" stroke:none;fill-rule:evenodd;fill:white;fill-opacity:1;\" d=\"M 18.214844 0.632812 C 16.109375 1.800781 15.011719 4.074219 15.074219 7.132812 L 15.085938 7.652344 L 14.785156 7.496094 C 13.476562 6.824219 11.957031 6.671875 10.40625 7.066406 C 8.46875 7.550781 6.515625 9.15625 4.394531 11.992188 C 3.0625 13.777344 2.679688 14.636719 3.042969 15.027344 L 3.15625 15.152344 L 3.519531 15.152344 C 4.238281 15.152344 4.828125 14.886719 8.1875 13.039062 C 9.386719 12.378906 10.371094 11.839844 10.378906 11.839844 C 10.386719 11.839844 10.355469 11.929688 10.304688 12.035156 C 9.832031 13.09375 9.257812 14.820312 8.96875 16.078125 C 7.914062 20.652344 8.617188 24.53125 11.070312 27.660156 C 11.351562 28.015625 11.363281 27.914062 10.972656 28.382812 C 8.925781 30.84375 7.945312 33.28125 8.238281 35.1875 C 8.289062 35.527344 8.28125 35.523438 8.917969 35.523438 C 10.941406 35.523438 13.074219 34.207031 15.136719 31.6875 C 15.359375 31.417969 15.328125 31.425781 15.5625 31.574219 C 16.292969 32.042969 18.023438 32.964844 18.175781 32.964844 C 18.335938 32.964844 19.941406 32.210938 20.828125 31.71875 C 20.996094 31.625 21.136719 31.554688 21.136719 31.558594 C 21.203125 31.664062 21.898438 32.414062 22.222656 32.730469 C 23.835938 34.300781 25.5625 35.132812 27.582031 35.300781 C 27.90625 35.328125 27.9375 35.308594 28.007812 34.984375 C 28.382812 33.242188 27.625 30.925781 25.863281 28.425781 L 25.542969 27.96875 L 25.699219 27.785156 C 28.945312 23.960938 29.132812 18.699219 26.257812 11.96875 L 26.207031 11.84375 L 27.945312 12.703125 C 31.53125 14.476562 32.316406 14.800781 33.03125 14.800781 C 33.976562 14.800781 33.78125 13.9375 32.472656 12.292969 C 28.519531 7.355469 25.394531 5.925781 21.921875 7.472656 L 21.558594 7.636719 L 21.578125 7.542969 C 21.699219 6.992188 21.761719 5.742188 21.699219 5.164062 C 21.496094 3.296875 20.664062 1.964844 19.003906 0.855469 C 18.480469 0.503906 18.457031 0.5 18.214844 0.632812\"/>\n",
       "</g>\n",
       "      </svg>\n",
       "    "
      ],
      "text/plain": [
       "<IPython.core.display.HTML object>"
      ]
     },
     "metadata": {},
     "output_type": "display_data"
    }
   ],
   "source": [
    "# import turtle\n",
    "turtle.initializeTurtle(initial_speed=5)\n",
    "turtle.right(90)\n",
    "\n",
    "turtle.forward(50)\n",
    "turtle.left(90)\n",
    "turtle.forward(50)\n",
    "turtle.left(90)\n",
    "turtle.forward(50)\n",
    "turtle.left(90)\n",
    "turtle.forward(50)\n",
    "turtle.left(90)"
   ]
  },
  {
   "cell_type": "markdown",
   "metadata": {},
   "source": [
    "Ejemplo: generalizando lo anterior a una función para dibujar un cuadrado de tamaño `L`"
   ]
  },
  {
   "cell_type": "code",
   "execution_count": 12,
   "metadata": {},
   "outputs": [],
   "source": [
    "#import turtle\n",
    "import ColabTurtle.Turtle as turtle\n",
    "\n",
    "# cuadrado: int -> None\n",
    "# dibuja un cuadrado de lado L\n",
    "# ej: cuadrado(100)\n",
    "def cuadrado(L):\n",
    "\n",
    "    turtle.forward(L)\n",
    "    turtle.left(90)\n",
    "    turtle.forward(L)\n",
    "    turtle.left(90)\n",
    "    turtle.forward(L)\n",
    "    turtle.left(90)\n",
    "    turtle.forward(L)\n",
    "    turtle.left(90)\n"
   ]
  },
  {
   "cell_type": "code",
   "execution_count": 13,
   "metadata": {},
   "outputs": [
    {
     "data": {
      "text/html": [
       "\n",
       "      <svg width=\"800\" height=\"500\">\n",
       "        <rect width=\"100%\" height=\"100%\" fill=\"black\"/>\n",
       "        <line x1=\"400\" y1=\"250\" x2=\"500.0\" y2=\"250.0\" stroke-linecap=\"round\" style=\"stroke:white;stroke-width:4\"/><line x1=\"500.0\" y1=\"250.0\" x2=\"500.0\" y2=\"150.0\" stroke-linecap=\"round\" style=\"stroke:white;stroke-width:4\"/><line x1=\"500.0\" y1=\"150.0\" x2=\"400.0\" y2=\"150.0\" stroke-linecap=\"round\" style=\"stroke:white;stroke-width:4\"/><line x1=\"400.0\" y1=\"150.0\" x2=\"400.0\" y2=\"250.0\" stroke-linecap=\"round\" style=\"stroke:white;stroke-width:4\"/>\n",
       "        <g visibility=visible transform=\"rotate(90,400.0,250.0) translate(382.0, 232.0)\">\n",
       "<path style=\" stroke:none;fill-rule:evenodd;fill:white;fill-opacity:1;\" d=\"M 18.214844 0.632812 C 16.109375 1.800781 15.011719 4.074219 15.074219 7.132812 L 15.085938 7.652344 L 14.785156 7.496094 C 13.476562 6.824219 11.957031 6.671875 10.40625 7.066406 C 8.46875 7.550781 6.515625 9.15625 4.394531 11.992188 C 3.0625 13.777344 2.679688 14.636719 3.042969 15.027344 L 3.15625 15.152344 L 3.519531 15.152344 C 4.238281 15.152344 4.828125 14.886719 8.1875 13.039062 C 9.386719 12.378906 10.371094 11.839844 10.378906 11.839844 C 10.386719 11.839844 10.355469 11.929688 10.304688 12.035156 C 9.832031 13.09375 9.257812 14.820312 8.96875 16.078125 C 7.914062 20.652344 8.617188 24.53125 11.070312 27.660156 C 11.351562 28.015625 11.363281 27.914062 10.972656 28.382812 C 8.925781 30.84375 7.945312 33.28125 8.238281 35.1875 C 8.289062 35.527344 8.28125 35.523438 8.917969 35.523438 C 10.941406 35.523438 13.074219 34.207031 15.136719 31.6875 C 15.359375 31.417969 15.328125 31.425781 15.5625 31.574219 C 16.292969 32.042969 18.023438 32.964844 18.175781 32.964844 C 18.335938 32.964844 19.941406 32.210938 20.828125 31.71875 C 20.996094 31.625 21.136719 31.554688 21.136719 31.558594 C 21.203125 31.664062 21.898438 32.414062 22.222656 32.730469 C 23.835938 34.300781 25.5625 35.132812 27.582031 35.300781 C 27.90625 35.328125 27.9375 35.308594 28.007812 34.984375 C 28.382812 33.242188 27.625 30.925781 25.863281 28.425781 L 25.542969 27.96875 L 25.699219 27.785156 C 28.945312 23.960938 29.132812 18.699219 26.257812 11.96875 L 26.207031 11.84375 L 27.945312 12.703125 C 31.53125 14.476562 32.316406 14.800781 33.03125 14.800781 C 33.976562 14.800781 33.78125 13.9375 32.472656 12.292969 C 28.519531 7.355469 25.394531 5.925781 21.921875 7.472656 L 21.558594 7.636719 L 21.578125 7.542969 C 21.699219 6.992188 21.761719 5.742188 21.699219 5.164062 C 21.496094 3.296875 20.664062 1.964844 19.003906 0.855469 C 18.480469 0.503906 18.457031 0.5 18.214844 0.632812\"/>\n",
       "</g>\n",
       "      </svg>\n",
       "    "
      ],
      "text/plain": [
       "<IPython.core.display.HTML object>"
      ]
     },
     "metadata": {},
     "output_type": "display_data"
    }
   ],
   "source": [
    "turtle.initializeTurtle(initial_speed=5)\n",
    "turtle.right(90)\n",
    "cuadrado(100)"
   ]
  },
  {
   "cell_type": "markdown",
   "metadata": {},
   "source": [
    "---"
   ]
  },
  {
   "cell_type": "markdown",
   "metadata": {},
   "source": [
    "## Fractales\n",
    "\n",
    "Objeto geométrico cuya estructura principal se repite a distintas escalas. Es decir, su forma está hecha de copias más pequeñas de su misma figura.\n",
    "\n",
    "<div><img src=\"img11_fractal1.svg\" width=\"50%;\"/></div>\n",
    "\n",
    "<div><img src=\"img12_fractal2.svg\" width=\"50%;\"/></div>\n",
    "\n",
    "### Triángulo de Sierpinski\n",
    "\n",
    "Escribamos una función que nos permita construir el Triángulo de Sierpinski. \n",
    "Esta función recibe 2 parámetros: la medida del Lado de la figura base, y la profundidad fractal.\n",
    "\n",
    "La forma base corresponde a un triángulo equilátero, y en cada llamado recursivo, el Largo disminuye a la mitad.\n",
    "\n",
    "<div><img src=\"img13_triangulo.svg\" width=\"50%;\"/></div>\n",
    "\n",
    "\n",
    "\n",
    "**Caso Base**: Hay que decirle a la tortuga que dibuje:\n",
    "\n",
    "- El trazo de 1 a 2\n",
    "\n",
    "- Girar 120° hacia la izq\n",
    "\n",
    "- El trazo de 2 a 3\n",
    "\n",
    "- Girar 120° hacia la izq\n",
    "\n",
    "- El trazo de 3 a 1\n",
    "\n",
    "- Girar 120° hacia la izq\n",
    "\n",
    "<div><img src=\"img14_triangulo2.svg\" width=\"50%;\"/></div>\n",
    "\n",
    "Es \"buena costumbre\" dejar que la tortuga quede mirando en la misma dirección en la cual empezó\n",
    "\n",
    "\n",
    "**Caso Recursivo**: Hay que decirle a la tortuga que dibuje:\n",
    "\n",
    "- Desde 1, dibujar recursivamente el trazo verde\n",
    "\n",
    "- Avanzar de 1 a 2\n",
    "\n",
    "- Dibujar recursivamente el trazo azul\n",
    "\n",
    "- Girar 120° a la izq\n",
    "\n",
    "- Avanzar de 2 a 3\n",
    "\n",
    "- Girar 120° a la der\n",
    "\n",
    "- Dibujar recursivamente el trazo rojo\n",
    "\n",
    "- Girar 120° a la der\n",
    "\n",
    "- Avanzar de 3 a 1\n",
    "\n",
    "- Girar 120° a la izq\n",
    "\n",
    "<div><img src=\"img15_triangulo3.svg\" width=\"50%;\"/></div>\n",
    "\n",
    "\n"
   ]
  },
  {
   "cell_type": "code",
   "execution_count": 15,
   "metadata": {},
   "outputs": [],
   "source": [
    "# import turtle\n",
    "import ColabTurtle.Turtle as turtle\n",
    "\n",
    "# fractal_triangulo: num int -> None\n",
    "# dibuja un triangulo de sierpinski de tamaño L y\n",
    "# profundidad \"nivel\"\n",
    "# Ej: fractal_triangulo(100,2)\n",
    "def fractal_triangulo(L, nivel):\n",
    "\n",
    "    # Caso Base\n",
    "    if nivel == 1:\n",
    "        turtle.forward(L)\n",
    "        turtle.left(120)\n",
    "        turtle.forward(L)\n",
    "        turtle.left(120)\n",
    "        turtle.forward(L)\n",
    "        turtle.left(120)\n",
    "        return None\n",
    "\n",
    "    # Caso Recursivo\n",
    "    L = L/2\n",
    "    nivel = nivel - 1\n",
    "    fractal_triangulo(L, nivel)\n",
    "    turtle.forward(L)\n",
    "    fractal_triangulo(L, nivel)\n",
    "    turtle.left(120)\n",
    "    turtle.forward(L)\n",
    "    turtle.right(120)\n",
    "    fractal_triangulo(L, nivel)\n",
    "    turtle.right(120)\n",
    "    turtle.forward(L)\n",
    "    turtle.left(120) "
   ]
  },
  {
   "cell_type": "code",
   "execution_count": 16,
   "metadata": {},
   "outputs": [
    {
     "data": {
      "text/html": [
       "\n",
       "      <svg width=\"800\" height=\"500\">\n",
       "        <rect width=\"100%\" height=\"100%\" fill=\"black\"/>\n",
       "        <line x1=\"400\" y1=\"250\" x2=\"475.0\" y2=\"250.0\" stroke-linecap=\"round\" style=\"stroke:white;stroke-width:4\"/><line x1=\"475.0\" y1=\"250.0\" x2=\"437.5\" y2=\"185.048\" stroke-linecap=\"round\" style=\"stroke:white;stroke-width:4\"/><line x1=\"437.5\" y1=\"185.048\" x2=\"400.0\" y2=\"250.0\" stroke-linecap=\"round\" style=\"stroke:white;stroke-width:4\"/><line x1=\"400.0\" y1=\"250.0\" x2=\"475.0\" y2=\"250.0\" stroke-linecap=\"round\" style=\"stroke:white;stroke-width:4\"/><line x1=\"475.0\" y1=\"250.0\" x2=\"550.0\" y2=\"250.0\" stroke-linecap=\"round\" style=\"stroke:white;stroke-width:4\"/><line x1=\"550.0\" y1=\"250.0\" x2=\"512.5\" y2=\"185.048\" stroke-linecap=\"round\" style=\"stroke:white;stroke-width:4\"/><line x1=\"512.5\" y1=\"185.048\" x2=\"475.0\" y2=\"250.0\" stroke-linecap=\"round\" style=\"stroke:white;stroke-width:4\"/><line x1=\"475.0\" y1=\"250.0\" x2=\"437.5\" y2=\"185.048\" stroke-linecap=\"round\" style=\"stroke:white;stroke-width:4\"/><line x1=\"437.5\" y1=\"185.048\" x2=\"512.5\" y2=\"185.048\" stroke-linecap=\"round\" style=\"stroke:white;stroke-width:4\"/><line x1=\"512.5\" y1=\"185.048\" x2=\"475.0\" y2=\"120.096\" stroke-linecap=\"round\" style=\"stroke:white;stroke-width:4\"/><line x1=\"475.0\" y1=\"120.096\" x2=\"437.5\" y2=\"185.048\" stroke-linecap=\"round\" style=\"stroke:white;stroke-width:4\"/><line x1=\"437.5\" y1=\"185.048\" x2=\"400.0\" y2=\"250.0\" stroke-linecap=\"round\" style=\"stroke:white;stroke-width:4\"/><line x1=\"400.0\" y1=\"250.0\" x2=\"550.0\" y2=\"250.0\" stroke-linecap=\"round\" style=\"stroke:white;stroke-width:4\"/><line x1=\"550.0\" y1=\"250.0\" x2=\"625.0\" y2=\"250.0\" stroke-linecap=\"round\" style=\"stroke:white;stroke-width:4\"/><line x1=\"625.0\" y1=\"250.0\" x2=\"587.5\" y2=\"185.048\" stroke-linecap=\"round\" style=\"stroke:white;stroke-width:4\"/><line x1=\"587.5\" y1=\"185.048\" x2=\"550.0\" y2=\"250.0\" stroke-linecap=\"round\" style=\"stroke:white;stroke-width:4\"/><line x1=\"550.0\" y1=\"250.0\" x2=\"625.0\" y2=\"250.0\" stroke-linecap=\"round\" style=\"stroke:white;stroke-width:4\"/><line x1=\"625.0\" y1=\"250.0\" x2=\"700.0\" y2=\"250.0\" stroke-linecap=\"round\" style=\"stroke:white;stroke-width:4\"/><line x1=\"700.0\" y1=\"250.0\" x2=\"662.5\" y2=\"185.048\" stroke-linecap=\"round\" style=\"stroke:white;stroke-width:4\"/><line x1=\"662.5\" y1=\"185.048\" x2=\"625.0\" y2=\"250.0\" stroke-linecap=\"round\" style=\"stroke:white;stroke-width:4\"/><line x1=\"625.0\" y1=\"250.0\" x2=\"587.5\" y2=\"185.048\" stroke-linecap=\"round\" style=\"stroke:white;stroke-width:4\"/><line x1=\"587.5\" y1=\"185.048\" x2=\"662.5\" y2=\"185.048\" stroke-linecap=\"round\" style=\"stroke:white;stroke-width:4\"/><line x1=\"662.5\" y1=\"185.048\" x2=\"625.0\" y2=\"120.096\" stroke-linecap=\"round\" style=\"stroke:white;stroke-width:4\"/><line x1=\"625.0\" y1=\"120.096\" x2=\"587.5\" y2=\"185.048\" stroke-linecap=\"round\" style=\"stroke:white;stroke-width:4\"/><line x1=\"587.5\" y1=\"185.048\" x2=\"550.0\" y2=\"250.0\" stroke-linecap=\"round\" style=\"stroke:white;stroke-width:4\"/><line x1=\"550.0\" y1=\"250.0\" x2=\"475.0\" y2=\"120.096\" stroke-linecap=\"round\" style=\"stroke:white;stroke-width:4\"/><line x1=\"475.0\" y1=\"120.096\" x2=\"550.0\" y2=\"120.096\" stroke-linecap=\"round\" style=\"stroke:white;stroke-width:4\"/><line x1=\"550.0\" y1=\"120.096\" x2=\"512.5\" y2=\"55.144\" stroke-linecap=\"round\" style=\"stroke:white;stroke-width:4\"/><line x1=\"512.5\" y1=\"55.144\" x2=\"475.0\" y2=\"120.096\" stroke-linecap=\"round\" style=\"stroke:white;stroke-width:4\"/><line x1=\"475.0\" y1=\"120.096\" x2=\"550.0\" y2=\"120.096\" stroke-linecap=\"round\" style=\"stroke:white;stroke-width:4\"/><line x1=\"550.0\" y1=\"120.096\" x2=\"625.0\" y2=\"120.096\" stroke-linecap=\"round\" style=\"stroke:white;stroke-width:4\"/><line x1=\"625.0\" y1=\"120.096\" x2=\"587.5\" y2=\"55.144\" stroke-linecap=\"round\" style=\"stroke:white;stroke-width:4\"/><line x1=\"587.5\" y1=\"55.144\" x2=\"550.0\" y2=\"120.096\" stroke-linecap=\"round\" style=\"stroke:white;stroke-width:4\"/><line x1=\"550.0\" y1=\"120.096\" x2=\"512.5\" y2=\"55.144\" stroke-linecap=\"round\" style=\"stroke:white;stroke-width:4\"/><line x1=\"512.5\" y1=\"55.144\" x2=\"587.5\" y2=\"55.144\" stroke-linecap=\"round\" style=\"stroke:white;stroke-width:4\"/><line x1=\"587.5\" y1=\"55.144\" x2=\"550.0\" y2=\"-9.808\" stroke-linecap=\"round\" style=\"stroke:white;stroke-width:4\"/><line x1=\"550.0\" y1=\"-9.808\" x2=\"512.5\" y2=\"55.144\" stroke-linecap=\"round\" style=\"stroke:white;stroke-width:4\"/><line x1=\"512.5\" y1=\"55.144\" x2=\"475.0\" y2=\"120.096\" stroke-linecap=\"round\" style=\"stroke:white;stroke-width:4\"/><line x1=\"475.0\" y1=\"120.096\" x2=\"400.0\" y2=\"250.0\" stroke-linecap=\"round\" style=\"stroke:white;stroke-width:4\"/>\n",
       "        <g visibility=visible transform=\"rotate(90,400.0,250.0) translate(382.0, 232.0)\">\n",
       "<path style=\" stroke:none;fill-rule:evenodd;fill:white;fill-opacity:1;\" d=\"M 18.214844 0.632812 C 16.109375 1.800781 15.011719 4.074219 15.074219 7.132812 L 15.085938 7.652344 L 14.785156 7.496094 C 13.476562 6.824219 11.957031 6.671875 10.40625 7.066406 C 8.46875 7.550781 6.515625 9.15625 4.394531 11.992188 C 3.0625 13.777344 2.679688 14.636719 3.042969 15.027344 L 3.15625 15.152344 L 3.519531 15.152344 C 4.238281 15.152344 4.828125 14.886719 8.1875 13.039062 C 9.386719 12.378906 10.371094 11.839844 10.378906 11.839844 C 10.386719 11.839844 10.355469 11.929688 10.304688 12.035156 C 9.832031 13.09375 9.257812 14.820312 8.96875 16.078125 C 7.914062 20.652344 8.617188 24.53125 11.070312 27.660156 C 11.351562 28.015625 11.363281 27.914062 10.972656 28.382812 C 8.925781 30.84375 7.945312 33.28125 8.238281 35.1875 C 8.289062 35.527344 8.28125 35.523438 8.917969 35.523438 C 10.941406 35.523438 13.074219 34.207031 15.136719 31.6875 C 15.359375 31.417969 15.328125 31.425781 15.5625 31.574219 C 16.292969 32.042969 18.023438 32.964844 18.175781 32.964844 C 18.335938 32.964844 19.941406 32.210938 20.828125 31.71875 C 20.996094 31.625 21.136719 31.554688 21.136719 31.558594 C 21.203125 31.664062 21.898438 32.414062 22.222656 32.730469 C 23.835938 34.300781 25.5625 35.132812 27.582031 35.300781 C 27.90625 35.328125 27.9375 35.308594 28.007812 34.984375 C 28.382812 33.242188 27.625 30.925781 25.863281 28.425781 L 25.542969 27.96875 L 25.699219 27.785156 C 28.945312 23.960938 29.132812 18.699219 26.257812 11.96875 L 26.207031 11.84375 L 27.945312 12.703125 C 31.53125 14.476562 32.316406 14.800781 33.03125 14.800781 C 33.976562 14.800781 33.78125 13.9375 32.472656 12.292969 C 28.519531 7.355469 25.394531 5.925781 21.921875 7.472656 L 21.558594 7.636719 L 21.578125 7.542969 C 21.699219 6.992188 21.761719 5.742188 21.699219 5.164062 C 21.496094 3.296875 20.664062 1.964844 19.003906 0.855469 C 18.480469 0.503906 18.457031 0.5 18.214844 0.632812\"/>\n",
       "</g>\n",
       "      </svg>\n",
       "    "
      ],
      "text/plain": [
       "<IPython.core.display.HTML object>"
      ]
     },
     "metadata": {},
     "output_type": "display_data"
    }
   ],
   "source": [
    "turtle.initializeTurtle(initial_speed=5)\n",
    "turtle.right(90)\n",
    "fractal_triangulo(300,3)"
   ]
  },
  {
   "cell_type": "markdown",
   "metadata": {},
   "source": [
    "- Caso base: Si me piden dibujar un fractal de nivel 1, entonces dibujo un triángulo simple\n",
    "\n",
    "- Caso Recursivo: Disminuimos el lado a la mitad, y el nivel en 1, y dibujamos de acuerdo a la descripción anterior\n",
    "\n",
    "---"
   ]
  },
  {
   "cell_type": "markdown",
   "metadata": {},
   "source": [
    "## Propuestos:\n",
    "\n",
    "- Programe una función que le pida a una persona ingresar números indeterminadamente. Cuando la persona ingrese el número 0, entonces muestra en pantalla el mayor número ingresado\n",
    "\n",
    "- Programe la función `fractal_arbol(L,n)` que recibe el largo del trazo base y la profundidad fractal. En cada llamada recursiva, el largo del trazo disminuye en `2/3`, y los giros para avanzar a las ramas son de `30°`\n",
    "\n",
    "<div><img src=\"img16_propuesto.svg\" width=\"50%;\"/></div>\n",
    "\n",
    "- Programe la función `multiplicarDigitos(n)` que dado un número entero positivo, entrega el resultado de multiplicar todos sus dígitos. \n",
    "ej: `multiplicarDigitos(456)` entrega 120\n",
    "\n",
    "- Programe la función `ocurrencias(n, b)` que dado un número entero positivo `n` y una cifra entera `b` entre 0 y 9, entrega cuantas veces aparece la cifra `b` en el número n\n",
    "ej: `ocurrencias(234355323, 3)` entrega 4\n",
    "\n",
    "- Programe la función `invertir(n)` que dado un número entero positivo de tamaño arbitrario, entregue el resultado de invertir todas sus cifras. \n",
    "ej: `invertir(43512)` entrega `21534`\n",
    "\n",
    "Hint: puede usar la función `digitos(n)`, que permite contar cuantos dígitos tiene un número\n",
    "\n",
    "\n",
    "\n"
   ]
  }
 ],
 "metadata": {
  "kernelspec": {
   "display_name": "Python 3 (ipykernel)",
   "language": "python",
   "name": "python3"
  },
  "language_info": {
   "codemirror_mode": {
    "name": "ipython",
    "version": 3
   },
   "file_extension": ".py",
   "mimetype": "text/x-python",
   "name": "python",
   "nbconvert_exporter": "python",
   "pygments_lexer": "ipython3",
   "version": "3.10.6"
  },
  "vscode": {
   "interpreter": {
    "hash": "98b95ce4537a043c6c2f8047f97d2678115deb8444c76d437608d4f0db95d495"
   }
  }
 },
 "nbformat": 4,
 "nbformat_minor": 4
}
