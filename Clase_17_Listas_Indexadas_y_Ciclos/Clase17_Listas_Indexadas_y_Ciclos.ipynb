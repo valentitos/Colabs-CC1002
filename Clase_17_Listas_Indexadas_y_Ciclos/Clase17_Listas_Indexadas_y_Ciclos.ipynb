{
 "cells": [
  {
   "cell_type": "markdown",
   "metadata": {},
   "source": [
    "<a href=\"https://colab.research.google.com/github/valentitos/Colabs-CC1002/blob/main/Clase_17_Listas_Indexadas_y_Ciclos/Clase17_Listas_Indexadas_y_Ciclos.ipynb\" target=\"_parent\"><img src=\"https://colab.research.google.com/assets/colab-badge.svg\" alt=\"Open In Colab\"/></a>"
   ]
  },
  {
   "cell_type": "markdown",
   "metadata": {},
   "source": [
    "# Clase 17: Listas (indexadas) y Ciclos"
   ]
  },
  {
   "cell_type": "markdown",
   "metadata": {},
   "source": [
    "## Unidad 3: Programación Imperativa\n",
    "\n",
    "A partir de ahora, podemos hacer un cambio de switch, y olvidarnos temporalmente de:\n",
    "\n",
    "- Recursión\n",
    "\n",
    "- Estructuras\n",
    "\n",
    "## Listas Indexadas\n",
    "\n",
    "Primero, es necesario definir el concepto de arreglos. Un arreglo es una estructura de datos abstracta, que permite almacenar un conjunto de datos. Es una secuencia continua de datos, que se almacenan en una sola variable, y cada dato se representa por un índice, que indica la posición donde se encuentra en el arreglo (de izquierda a derecha).\n",
    "\n",
    "![array_example.png](array_example.svg)\n",
    "\n",
    "Notar que los índices se empiezan a contar desde 0.\n",
    "\n",
    "En Python, la implementación de los arreglos se conoce como listas. Son estructuras mutables definidas en el lenguaje, que indexan los elementos que se insertan en ella. Los índices son números enteros correlativos que parten en 0.  \n",
    "\n",
    "En particular, a partir de ahora, nos referiremos a:\n",
    "\n",
    "- Las listas de la unidad 2 como listas recursivas/enlazadas\n",
    "\n",
    "- Las listas de Python como listas\n",
    "\n",
    "Ejemplos de listas:\n"
   ]
  },
  {
   "cell_type": "code",
   "execution_count": 1,
   "metadata": {},
   "outputs": [],
   "source": [
    "# lista con 5 ints\n",
    "L1 = [ 7, 4, 9, -2, 0] "
   ]
  },
  {
   "cell_type": "code",
   "execution_count": 2,
   "metadata": {},
   "outputs": [],
   "source": [
    "# lista con 2 strigns\n",
    "L2 = ['Fluttershy', 'Pinkie Pie']"
   ]
  },
  {
   "cell_type": "code",
   "execution_count": 3,
   "metadata": {},
   "outputs": [],
   "source": [
    "# lista con 0 elementos (lista vacía)\n",
    "L3 = [ ]"
   ]
  },
  {
   "cell_type": "markdown",
   "metadata": {},
   "source": [
    "La notación para crear una lista es colocar los elementos entre paréntesis cuadrados `[ ]`, y separar los elementos mediante comas `,`\n",
    "\n",
    "A diferencias de los arreglos tradicionales (definición formal), las listas de Python permiten insertar cualquier tipo de datos en sus casilleros:\n"
   ]
  },
  {
   "cell_type": "code",
   "execution_count": 4,
   "metadata": {},
   "outputs": [],
   "source": [
    "L4 = ['manzana', 42, -3.7, True]"
   ]
  },
  {
   "cell_type": "markdown",
   "metadata": {},
   "source": [
    "Para acceder a los elementos de una lista, realizamos lo siguiente:"
   ]
  },
  {
   "cell_type": "code",
   "execution_count": 5,
   "metadata": {},
   "outputs": [
    {
     "data": {
      "text/plain": [
       "'manzana'"
      ]
     },
     "execution_count": 5,
     "metadata": {},
     "output_type": "execute_result"
    }
   ],
   "source": [
    "L4[0]"
   ]
  },
  {
   "cell_type": "code",
   "execution_count": 6,
   "metadata": {},
   "outputs": [
    {
     "data": {
      "text/plain": [
       "-3.7"
      ]
     },
     "execution_count": 6,
     "metadata": {},
     "output_type": "execute_result"
    }
   ],
   "source": [
    "L4[2]"
   ]
  },
  {
   "cell_type": "markdown",
   "metadata": {},
   "source": [
    "Indicamos la variable que almacena la lista, y entre paréntesis cuadrados, indicamos el índice del elemento que queremos obtener\n",
    "\n",
    "Si intentamos acceder a un índice que no existe, nos arrojará un error"
   ]
  },
  {
   "cell_type": "code",
   "execution_count": 7,
   "metadata": {},
   "outputs": [
    {
     "ename": "IndexError",
     "evalue": "list index out of range",
     "output_type": "error",
     "traceback": [
      "\u001b[1;31m---------------------------------------------------------------------------\u001b[0m",
      "\u001b[1;31mIndexError\u001b[0m                                Traceback (most recent call last)",
      "\u001b[1;32mc:\\Users\\titox\\OneDrive\\Cursos - CC1002\\CC1002 2022-02\\python-vscode\\Clase16\\Clase16_listas_y_ciclos.ipynb Celda 12\u001b[0m in \u001b[0;36m<cell line: 1>\u001b[1;34m()\u001b[0m\n\u001b[1;32m----> <a href='vscode-notebook-cell:/c%3A/Users/titox/OneDrive/Cursos%20-%20CC1002/CC1002%202022-02/python-vscode/Clase16/Clase16_listas_y_ciclos.ipynb#Y150sZmlsZQ%3D%3D?line=0'>1</a>\u001b[0m L4[\u001b[39m88\u001b[39;49m]\n",
      "\u001b[1;31mIndexError\u001b[0m: list index out of range"
     ]
    }
   ],
   "source": [
    "L4[88]"
   ]
  },
  {
   "cell_type": "markdown",
   "metadata": {},
   "source": [
    "Si intentamos acceder a un índice negativo, nos entregará el elemento como si estuviese contando los índices de derecha a izquierda"
   ]
  },
  {
   "cell_type": "code",
   "execution_count": 8,
   "metadata": {},
   "outputs": [
    {
     "data": {
      "text/plain": [
       "True"
      ]
     },
     "execution_count": 8,
     "metadata": {},
     "output_type": "execute_result"
    }
   ],
   "source": [
    "L4[-1]"
   ]
  },
  {
   "cell_type": "code",
   "execution_count": 9,
   "metadata": {},
   "outputs": [
    {
     "data": {
      "text/plain": [
       "-3.7"
      ]
     },
     "execution_count": 9,
     "metadata": {},
     "output_type": "execute_result"
    }
   ],
   "source": [
    "L4[-2]"
   ]
  },
  {
   "cell_type": "markdown",
   "metadata": {},
   "source": [
    "Se puede interpretar como intentar acceder al último elemento, o al antepenúltimo elemento, etc…\n",
    "\n",
    "Aunque también arrojará un error si intentamos acceder a un índice negativo fuera de rango\n"
   ]
  },
  {
   "cell_type": "code",
   "execution_count": 10,
   "metadata": {},
   "outputs": [
    {
     "ename": "IndexError",
     "evalue": "list index out of range",
     "output_type": "error",
     "traceback": [
      "\u001b[1;31m---------------------------------------------------------------------------\u001b[0m",
      "\u001b[1;31mIndexError\u001b[0m                                Traceback (most recent call last)",
      "\u001b[1;32mc:\\Users\\titox\\OneDrive\\Cursos - CC1002\\CC1002 2022-02\\python-vscode\\Clase16\\Clase16_listas_y_ciclos.ipynb Celda 17\u001b[0m in \u001b[0;36m<cell line: 1>\u001b[1;34m()\u001b[0m\n\u001b[1;32m----> <a href='vscode-notebook-cell:/c%3A/Users/titox/OneDrive/Cursos%20-%20CC1002/CC1002%202022-02/python-vscode/Clase16/Clase16_listas_y_ciclos.ipynb#Y155sZmlsZQ%3D%3D?line=0'>1</a>\u001b[0m L4[\u001b[39m-\u001b[39;49m\u001b[39m5\u001b[39;49m]\n",
      "\u001b[1;31mIndexError\u001b[0m: list index out of range"
     ]
    }
   ],
   "source": [
    "L4[-5]"
   ]
  },
  {
   "cell_type": "markdown",
   "metadata": {},
   "source": [
    "## Operaciones típicas sobre listas\n",
    "\n",
    "Las operaciones típicas sobre listas son:\n",
    "\n",
    "| Operación     | Significado                                                                     |\n",
    "|---------------|---------------------------------------------------------------------------------|\n",
    "| ``[ ]``           | Crea una lista vacía (con 0 elementos)                                          |\n",
    "| ``[1, 5 ,2]``     | Crea una lista con 3 elementos predefinidos                                     |\n",
    "| ``len(L)``        | Entrega la cantidad de elementos que posee ``L``                                    |\n",
    "| ``L[i]``          | Entrega el elemento guardado en la posición ``i`` de la lista                       |\n",
    "| ``L > [4,5,6]``   | Compara uno por uno los elementos y entrega ``True`` si cumple la condicion         |\n",
    "| ``L[a:b]``        | Entrega una sublista con los elementos entre las posiciones ``a`` y ``b-1`` (inclusive) |\n",
    "| ``L1 + L2``         | Junta (concatena) el contenido de las listas ``L1`` y ``L2``                            |\n",
    "| ``L * n``       | Repite el contenido de ``L``, ``n`` veces                                               |\n",
    "| ``x in L``        | Entrega ``True`` si ``x`` se encuentra presente en ``L`` (``False`` si no)                      |\n",
    "| ``list(L)``       | Crea una copia de la lista ``L``                                                    |\n",
    "| ``sum(L)``        | Si ``L`` tiene solo números, suma los elementos en ``L``                                |\n",
    "| ``min(L) / max(L)`` | Entrega el menor (mayor) elemento en la lista ``L``                                 |\n",
    "\n",
    "\n",
    "Ya vimos algunos ejemplos de la creación de listas y como acceder a sus elementos. Veamos algunos ejemplos para las operaciones restantes"
   ]
  },
  {
   "cell_type": "markdown",
   "metadata": {},
   "source": [
    "### Largo\n",
    "\n",
    "Para conocer el largo de una lista, podemos usar la función predefinida de Python ``len(L)`` (nombre corto de *length*)"
   ]
  },
  {
   "cell_type": "code",
   "execution_count": 11,
   "metadata": {},
   "outputs": [
    {
     "name": "stdout",
     "output_type": "stream",
     "text": [
      "5\n"
     ]
    }
   ],
   "source": [
    "L1 = [ 7, 4, 9, -2, 0]\n",
    "n = len(L1)\n",
    "print(n)"
   ]
  },
  {
   "cell_type": "code",
   "execution_count": 12,
   "metadata": {},
   "outputs": [
    {
     "name": "stdout",
     "output_type": "stream",
     "text": [
      "2\n"
     ]
    }
   ],
   "source": [
    "L2 = ['Fluttershy', 'Pinkie Pie']\n",
    "n = len(L2)\n",
    "print(n)"
   ]
  },
  {
   "cell_type": "markdown",
   "metadata": {},
   "source": [
    "### Concatenación y Repetir\n",
    "\n",
    "Dos o más listas se pueden juntar/concatenar, usando el operador ``+``"
   ]
  },
  {
   "cell_type": "code",
   "execution_count": 13,
   "metadata": {},
   "outputs": [
    {
     "name": "stdout",
     "output_type": "stream",
     "text": [
      "[20, 30, 50, 70]\n"
     ]
    }
   ],
   "source": [
    "L1 = [20, 30]\n",
    "L2 = [50, 70]\n",
    "L3 = L1 + L2\n",
    "print(L3)"
   ]
  },
  {
   "cell_type": "markdown",
   "metadata": {},
   "source": [
    "También se pueden repetir, usando el operador ``*`` con un `int`"
   ]
  },
  {
   "cell_type": "code",
   "execution_count": 14,
   "metadata": {},
   "outputs": [
    {
     "name": "stdout",
     "output_type": "stream",
     "text": [
      "[20, 30, 20, 30, 20, 30]\n"
     ]
    }
   ],
   "source": [
    "L1 = [20, 30]\n",
    "L3 = L1 * 3\n",
    "print(L3)"
   ]
  },
  {
   "cell_type": "markdown",
   "metadata": {},
   "source": [
    "Y podemos agregar elementos al principio o al final de la lista"
   ]
  },
  {
   "cell_type": "code",
   "execution_count": 15,
   "metadata": {},
   "outputs": [
    {
     "name": "stdout",
     "output_type": "stream",
     "text": [
      "['Fluttershy', 'Pinkie Pie', 'Apple Jack']\n"
     ]
    }
   ],
   "source": [
    "L1 = ['Fluttershy', 'Pinkie Pie']\n",
    "L1 = L1 + ['Apple Jack']   \n",
    "print(L1)"
   ]
  },
  {
   "cell_type": "code",
   "execution_count": 16,
   "metadata": {},
   "outputs": [
    {
     "name": "stdout",
     "output_type": "stream",
     "text": [
      "['Apple Jack', 'Fluttershy', 'Pinkie Pie']\n"
     ]
    }
   ],
   "source": [
    "L1 = ['Fluttershy', 'Pinkie Pie']\n",
    "L1 = ['Apple Jack'] + L1   \n",
    "print(L1)"
   ]
  },
  {
   "cell_type": "markdown",
   "metadata": {},
   "source": [
    "### Comparación\n",
    "\n",
    "La comparación entre listas se realiza componente a componente, de izquierda a derecha. \n",
    "\n",
    "Entrega `True` si la primera comparación es verdadera y `False` si la primera comparación es falsa. En caso de empate en alguna comparación, se entra a comparar las siguientes componentes en la lista.\n"
   ]
  },
  {
   "cell_type": "code",
   "execution_count": 18,
   "metadata": {},
   "outputs": [
    {
     "data": {
      "text/plain": [
       "True"
      ]
     },
     "execution_count": 18,
     "metadata": {},
     "output_type": "execute_result"
    }
   ],
   "source": [
    "L1 = [20, 30, 40]\n",
    "L2 = [5, 7, 6]\n",
    "L1 > L2\n",
    "# True, porque 20 > 5"
   ]
  },
  {
   "cell_type": "code",
   "execution_count": 19,
   "metadata": {},
   "outputs": [
    {
     "data": {
      "text/plain": [
       "False"
      ]
     },
     "execution_count": 19,
     "metadata": {},
     "output_type": "execute_result"
    }
   ],
   "source": [
    "L1 = [20, 30, 40]\n",
    "L2 = [30, 7, 6]\n",
    "L1 > L2\n",
    "# False, porque 30 > 20"
   ]
  },
  {
   "cell_type": "code",
   "execution_count": 20,
   "metadata": {},
   "outputs": [
    {
     "data": {
      "text/plain": [
       "True"
      ]
     },
     "execution_count": 20,
     "metadata": {},
     "output_type": "execute_result"
    }
   ],
   "source": [
    "L1 = [20, 30, 40]\n",
    "L2 = [20, 7, 6]\n",
    "L1 > L2\n",
    "# True, porque a pesar de que 20 == 20, se tiene que 30 > 7"
   ]
  },
  {
   "cell_type": "markdown",
   "metadata": {},
   "source": [
    "### Sublista (slice)\n",
    "\n",
    "La notación ``L[a:b]`` entrega una lista con todos los elementos entre los índices ``a`` y ``b-1`` (inclusive ``a`` y ``b-1``, pero no considera a ``b``)"
   ]
  },
  {
   "cell_type": "code",
   "execution_count": 21,
   "metadata": {},
   "outputs": [
    {
     "name": "stdout",
     "output_type": "stream",
     "text": [
      "[21, 67, 18]\n"
     ]
    }
   ],
   "source": [
    "L1 = [59, 34, 21, 67, 18, 42]\n",
    "L2 = L1[2:5] # todos los elementos entre indices 2 y 4\n",
    "print(L2)"
   ]
  },
  {
   "cell_type": "markdown",
   "metadata": {},
   "source": [
    "### Pertenencia\n",
    "\n",
    "Usamos el operador ``in`` para verificar la existencia de un elemento en un conjunto de datos:"
   ]
  },
  {
   "cell_type": "code",
   "execution_count": 22,
   "metadata": {},
   "outputs": [
    {
     "data": {
      "text/plain": [
       "True"
      ]
     },
     "execution_count": 22,
     "metadata": {},
     "output_type": "execute_result"
    }
   ],
   "source": [
    "L1 = ['Fluttershy', 'Pinkie Pie']\n",
    "'Fluttershy' in L1"
   ]
  },
  {
   "cell_type": "code",
   "execution_count": 23,
   "metadata": {},
   "outputs": [
    {
     "data": {
      "text/plain": [
       "False"
      ]
     },
     "execution_count": 23,
     "metadata": {},
     "output_type": "execute_result"
    }
   ],
   "source": [
    "L1 = ['Fluttershy', 'Pinkie Pie']\n",
    "'Celestia' in L1"
   ]
  },
  {
   "cell_type": "markdown",
   "metadata": {},
   "source": [
    "### Suma, Minimo y Maximo\n",
    "\n",
    "Si la lista contiene solo números, podemos usar la función predefinida de Python ``sum(L)``"
   ]
  },
  {
   "cell_type": "code",
   "execution_count": 24,
   "metadata": {},
   "outputs": [
    {
     "name": "stdout",
     "output_type": "stream",
     "text": [
      "241\n"
     ]
    }
   ],
   "source": [
    "L1 = [59, 34, 21, 67, 18, 42]\n",
    "n = sum(L1)\n",
    "print(n)"
   ]
  },
  {
   "cell_type": "markdown",
   "metadata": {},
   "source": [
    "Por otro lado, las funciones predefininas ``min(L)`` y ``max(L)`` intentan aplicar el mejor criterio dependiendo del contexto:"
   ]
  },
  {
   "cell_type": "code",
   "execution_count": 25,
   "metadata": {},
   "outputs": [
    {
     "name": "stdout",
     "output_type": "stream",
     "text": [
      "67\n"
     ]
    }
   ],
   "source": [
    "L1 = [59, 34, 21, 67, 18, 42]\n",
    "n = max(L1)\n",
    "print(n)"
   ]
  },
  {
   "cell_type": "code",
   "execution_count": 26,
   "metadata": {},
   "outputs": [
    {
     "name": "stdout",
     "output_type": "stream",
     "text": [
      "Celestia\n"
     ]
    }
   ],
   "source": [
    "L2 = ['Fluttershy', 'Pinkie Pie', 'Celestia']\n",
    "n = min(L2)\n",
    "print(n)"
   ]
  },
  {
   "cell_type": "markdown",
   "metadata": {},
   "source": [
    "## Operaciones que modifican listas\n",
    "\n",
    "\n",
    "De la siguiente tabla, salvo las dos primeras funciones/operaciones, todas modifican/mutan la lista ``L`` original donde se aplican.\n",
    "\n",
    "| Función    | Significado                                                                               |\n",
    "|---------------|-------------------------------------------------------------------------------------------|\n",
    "| ``L.count(x)``    | Entrega cuantas veces aparece el elemento ``x`` en la lista ``L``                                          |\n",
    "| ``L.index(x)``    | Entrega el índice de la primera aparición de ``x`` en la lista ``L``  |\n",
    "| ``L[i] = x``      | cambia el contenido en el indice ``i``, por el valor ``x``                                        |\n",
    "| ``L.append(x)``   | Agrega ``x`` al final de ``L``                                                                    |\n",
    "| ``L.insert(i,x)`` | Inserta el elemento ``x`` en la posición ``i`` (y desplaza al resto de los elementos a la derecha) |\n",
    "| ``L.remove(x)``   | Elimina la primera aparición de ``x`` encontrada en ``L``                                        |\n",
    "| ``L.pop(i)``      | Elimina (y entrega) el elemento en la posición ``i``                                          |\n",
    "| ``L.reverse()``   | Invierte de posición los elementos de ``L``                                                   |\n",
    "| ``L.sort()``      | Ordena los elementos en ``L``                                                                 |\n",
    "\n",
    "Veamos algunos ejemplos\n"
   ]
  },
  {
   "cell_type": "markdown",
   "metadata": {},
   "source": [
    "### contar\n",
    "\n",
    "La operación ``.count`` sobre una lista, permite contar la cantidad de repeticiones de un elemento dado."
   ]
  },
  {
   "cell_type": "code",
   "execution_count": 27,
   "metadata": {},
   "outputs": [
    {
     "name": "stdout",
     "output_type": "stream",
     "text": [
      "3\n"
     ]
    }
   ],
   "source": [
    "L1 = [23, 34, 21, 23, 18, 23]\n",
    "n = L1.count(23)\n",
    "print(n)"
   ]
  },
  {
   "cell_type": "markdown",
   "metadata": {},
   "source": [
    "Si el elemento buscado no existe en la lista, entrega 0"
   ]
  },
  {
   "cell_type": "code",
   "execution_count": 28,
   "metadata": {},
   "outputs": [
    {
     "name": "stdout",
     "output_type": "stream",
     "text": [
      "0\n"
     ]
    }
   ],
   "source": [
    "L1 = [23, 34, 21, 23, 18, 23]\n",
    "n = L1.count('gatito')\n",
    "print(n)"
   ]
  },
  {
   "cell_type": "markdown",
   "metadata": {},
   "source": [
    "### Índice\n",
    "\n",
    "La operación ``.index`` sobre una lista, permite obtener el índice donde se encuentra la primera aparición del elemento buscado"
   ]
  },
  {
   "cell_type": "code",
   "execution_count": 30,
   "metadata": {},
   "outputs": [
    {
     "name": "stdout",
     "output_type": "stream",
     "text": [
      "0\n"
     ]
    }
   ],
   "source": [
    "L1 = [23, 34, 21, 23, 18, 23]\n",
    "n = L1.index(23)\n",
    "print(n)\n",
    "# La primera aparición del 23 se encuentra en el índice 0 de la lista"
   ]
  },
  {
   "cell_type": "code",
   "execution_count": 31,
   "metadata": {},
   "outputs": [
    {
     "name": "stdout",
     "output_type": "stream",
     "text": [
      "4\n"
     ]
    }
   ],
   "source": [
    "L1 = [23, 34, 21, 23, 18, 23]\n",
    "n = L1.index(18)\n",
    "print(n)\n",
    "# la primera aparición del 18, se encuentra en el índice 4 de la lista"
   ]
  },
  {
   "cell_type": "markdown",
   "metadata": {},
   "source": [
    "Si el elemento a buscar no existe en la lista, arroja un error."
   ]
  },
  {
   "cell_type": "code",
   "execution_count": 32,
   "metadata": {},
   "outputs": [
    {
     "ename": "ValueError",
     "evalue": "'gatito' is not in list",
     "output_type": "error",
     "traceback": [
      "\u001b[1;31m---------------------------------------------------------------------------\u001b[0m",
      "\u001b[1;31mValueError\u001b[0m                                Traceback (most recent call last)",
      "\u001b[1;32mc:\\Users\\titox\\OneDrive\\Cursos - CC1002\\CC1002 2022-02\\python-vscode\\Clase16\\Clase16_listas_y_ciclos.ipynb Celda 52\u001b[0m in \u001b[0;36m<cell line: 2>\u001b[1;34m()\u001b[0m\n\u001b[0;32m      <a href='vscode-notebook-cell:/c%3A/Users/titox/OneDrive/Cursos%20-%20CC1002/CC1002%202022-02/python-vscode/Clase16/Clase16_listas_y_ciclos.ipynb#Y235sZmlsZQ%3D%3D?line=0'>1</a>\u001b[0m L1 \u001b[39m=\u001b[39m [\u001b[39m23\u001b[39m, \u001b[39m34\u001b[39m, \u001b[39m21\u001b[39m, \u001b[39m23\u001b[39m, \u001b[39m18\u001b[39m, \u001b[39m23\u001b[39m]\n\u001b[1;32m----> <a href='vscode-notebook-cell:/c%3A/Users/titox/OneDrive/Cursos%20-%20CC1002/CC1002%202022-02/python-vscode/Clase16/Clase16_listas_y_ciclos.ipynb#Y235sZmlsZQ%3D%3D?line=1'>2</a>\u001b[0m n \u001b[39m=\u001b[39m L1\u001b[39m.\u001b[39;49mindex(\u001b[39m'\u001b[39;49m\u001b[39mgatito\u001b[39;49m\u001b[39m'\u001b[39;49m)\n",
      "\u001b[1;31mValueError\u001b[0m: 'gatito' is not in list"
     ]
    }
   ],
   "source": [
    "L1 = [23, 34, 21, 23, 18, 23]\n",
    "n = L1.index('gatito')"
   ]
  },
  {
   "cell_type": "markdown",
   "metadata": {},
   "source": [
    "### Asignación\n",
    "\n",
    "Para modificar un elemento en una lista, indicamos su índice y el contenido por el que queremos reemplazarlo:\n"
   ]
  },
  {
   "cell_type": "code",
   "execution_count": 33,
   "metadata": {},
   "outputs": [
    {
     "name": "stdout",
     "output_type": "stream",
     "text": [
      "['Fluttershy', 'Applejack', 'Rarity']\n"
     ]
    }
   ],
   "source": [
    "L1 = ['Fluttershy', 'Pinkie Pie', 'Rarity']\n",
    "# cambiamos el elemento en el índice 1\n",
    "L1[1] = 'Applejack'\n",
    "print(L1)"
   ]
  },
  {
   "cell_type": "code",
   "execution_count": 34,
   "metadata": {},
   "outputs": [
    {
     "name": "stdout",
     "output_type": "stream",
     "text": [
      "['Fluttershy', 'Applejack', 'Rainbow Dash']\n"
     ]
    }
   ],
   "source": [
    "# ahora cambiamos el elemento en el índice 2\n",
    "L1[2] = 'Rainbow Dash'\n",
    "print(L1)\n"
   ]
  },
  {
   "cell_type": "markdown",
   "metadata": {},
   "source": [
    "**Cuidado**, si creamos un alias de la lista, los cambios aplicados sobre una, afectan a la otra:"
   ]
  },
  {
   "cell_type": "code",
   "execution_count": 35,
   "metadata": {},
   "outputs": [],
   "source": [
    "L1 = ['Fluttershy', 'Pinkie Pie', 'Rarity']\n",
    "L2 = L1\n",
    "L2[1] = 'Applejack'"
   ]
  },
  {
   "cell_type": "code",
   "execution_count": 36,
   "metadata": {},
   "outputs": [
    {
     "name": "stdout",
     "output_type": "stream",
     "text": [
      "['Fluttershy', 'Applejack', 'Rarity']\n"
     ]
    }
   ],
   "source": [
    "print(L2)"
   ]
  },
  {
   "cell_type": "code",
   "execution_count": 37,
   "metadata": {},
   "outputs": [
    {
     "name": "stdout",
     "output_type": "stream",
     "text": [
      "['Fluttershy', 'Applejack', 'Rarity']\n"
     ]
    }
   ],
   "source": [
    "print(L1)"
   ]
  },
  {
   "cell_type": "markdown",
   "metadata": {},
   "source": [
    "Como `L2` es un alias de `L1`, los cambios aplicados sobre una de las listas, afectan a la otra. Para evitarlo, tenemos que crear una **copia efectiva** de la lista (con ayuda de la función predefinida ``list(L)``), para evitar que los cambios afecten nuestra lista original:"
   ]
  },
  {
   "cell_type": "code",
   "execution_count": 38,
   "metadata": {},
   "outputs": [],
   "source": [
    "L1 = ['Fluttershy', 'Pinkie Pie', 'Rarity']\n",
    "L2 = list(L1)\n",
    "L2[1] = 'Applejack'"
   ]
  },
  {
   "cell_type": "code",
   "execution_count": 39,
   "metadata": {},
   "outputs": [
    {
     "name": "stdout",
     "output_type": "stream",
     "text": [
      "['Fluttershy', 'Applejack', 'Rarity']\n"
     ]
    }
   ],
   "source": [
    "print(L2)"
   ]
  },
  {
   "cell_type": "code",
   "execution_count": 40,
   "metadata": {},
   "outputs": [
    {
     "name": "stdout",
     "output_type": "stream",
     "text": [
      "['Fluttershy', 'Pinkie Pie', 'Rarity']\n"
     ]
    }
   ],
   "source": [
    "print(L1)"
   ]
  },
  {
   "cell_type": "markdown",
   "metadata": {},
   "source": [
    "Como ``L2`` es una copia efectiva de ``L1``, los cambios aplicados sobre ``L2``  no afectan a ``L1``\n"
   ]
  },
  {
   "cell_type": "markdown",
   "metadata": {},
   "source": [
    "### Agregar (``append``)\n",
    "\n",
    "Para agregar elementos a la lista, podemos usar la operación `.append(x)` si queremos agregarlo al final."
   ]
  },
  {
   "cell_type": "code",
   "execution_count": 41,
   "metadata": {},
   "outputs": [
    {
     "name": "stdout",
     "output_type": "stream",
     "text": [
      "['Fluttershy', 'Pinkie Pie', 'Rarity', 'Celestia']\n"
     ]
    }
   ],
   "source": [
    "L1 = ['Fluttershy', 'Pinkie Pie', 'Rarity']\n",
    "L1.append('Celestia')\n",
    "print(L1)"
   ]
  },
  {
   "cell_type": "markdown",
   "metadata": {},
   "source": [
    "### Agregar (`insert`)\n",
    "\n",
    "Otra forma de agregar elementos es con la operación `.insert(i,x)`, que agrega el elemento en la posición `i`, y desplaza a la derecha todos los elementos que estaban mas adelante de `i`:\n"
   ]
  },
  {
   "cell_type": "code",
   "execution_count": 42,
   "metadata": {},
   "outputs": [
    {
     "name": "stdout",
     "output_type": "stream",
     "text": [
      "['Fluttershy', 'Celestia', 'Pinkie Pie', 'Rarity']\n"
     ]
    }
   ],
   "source": [
    "L1 = ['Fluttershy', 'Pinkie Pie', 'Rarity']\n",
    "L1.insert(1, 'Celestia')\n",
    "print(L1)"
   ]
  },
  {
   "cell_type": "markdown",
   "metadata": {},
   "source": [
    "El caso particular de insertar en el índice 0, funciona como un agregar al principio"
   ]
  },
  {
   "cell_type": "code",
   "execution_count": 43,
   "metadata": {},
   "outputs": [
    {
     "name": "stdout",
     "output_type": "stream",
     "text": [
      "['Celestia', 'Fluttershy', 'Pinkie Pie', 'Rarity']\n"
     ]
    }
   ],
   "source": [
    "L1 = ['Fluttershy', 'Pinkie Pie', 'Rarity']\n",
    "L1.insert(0, 'Celestia')\n",
    "print(L1)\n"
   ]
  },
  {
   "cell_type": "markdown",
   "metadata": {},
   "source": [
    "Si intentamos insertar en un índice que no existe, agregará el elemento al extremo mas cercano de la lista:"
   ]
  },
  {
   "cell_type": "code",
   "execution_count": 44,
   "metadata": {},
   "outputs": [
    {
     "name": "stdout",
     "output_type": "stream",
     "text": [
      "['Fluttershy', 'Pinkie Pie', 'Rarity', 'Celestia']\n"
     ]
    }
   ],
   "source": [
    "L1 = ['Fluttershy', 'Pinkie Pie', 'Rarity']\n",
    "L1.insert(88, 'Celestia')\n",
    "print(L1)"
   ]
  },
  {
   "cell_type": "markdown",
   "metadata": {},
   "source": [
    "### Eliminar(`remove`)\n",
    "\n",
    "Para eliminar elementos de una lista, podemos usar la operación ``.remove(x)``, que remueve la primera aparición del elemento ``x`` que encuentre en la lista:"
   ]
  },
  {
   "cell_type": "code",
   "execution_count": 45,
   "metadata": {},
   "outputs": [
    {
     "name": "stdout",
     "output_type": "stream",
     "text": [
      "['Fluttershy', 'Rarity']\n"
     ]
    }
   ],
   "source": [
    "L1 = ['Fluttershy', 'Pinkie Pie', 'Rarity']\n",
    "L1.remove('Pinkie Pie')\n",
    "print (L1)"
   ]
  },
  {
   "cell_type": "markdown",
   "metadata": {},
   "source": [
    "Si intentamos remover un elemento que (ya) no existe, arrojará un error:"
   ]
  },
  {
   "cell_type": "code",
   "execution_count": 46,
   "metadata": {},
   "outputs": [
    {
     "ename": "ValueError",
     "evalue": "list.remove(x): x not in list",
     "output_type": "error",
     "traceback": [
      "\u001b[1;31m---------------------------------------------------------------------------\u001b[0m",
      "\u001b[1;31mValueError\u001b[0m                                Traceback (most recent call last)",
      "\u001b[1;32mc:\\Users\\titox\\OneDrive\\Cursos - CC1002\\CC1002 2022-02\\python-vscode\\Clase16\\Clase16_listas_y_ciclos.ipynb Celda 76\u001b[0m in \u001b[0;36m<cell line: 2>\u001b[1;34m()\u001b[0m\n\u001b[0;32m      <a href='vscode-notebook-cell:/c%3A/Users/titox/OneDrive/Cursos%20-%20CC1002/CC1002%202022-02/python-vscode/Clase16/Clase16_listas_y_ciclos.ipynb#Y301sZmlsZQ%3D%3D?line=0'>1</a>\u001b[0m L1 \u001b[39m=\u001b[39m [\u001b[39m'\u001b[39m\u001b[39mFluttershy\u001b[39m\u001b[39m'\u001b[39m, \u001b[39m'\u001b[39m\u001b[39mPinkie Pie\u001b[39m\u001b[39m'\u001b[39m, \u001b[39m'\u001b[39m\u001b[39mRarity\u001b[39m\u001b[39m'\u001b[39m]\n\u001b[1;32m----> <a href='vscode-notebook-cell:/c%3A/Users/titox/OneDrive/Cursos%20-%20CC1002/CC1002%202022-02/python-vscode/Clase16/Clase16_listas_y_ciclos.ipynb#Y301sZmlsZQ%3D%3D?line=1'>2</a>\u001b[0m L1\u001b[39m.\u001b[39;49mremove(\u001b[39m'\u001b[39;49m\u001b[39mApplejack\u001b[39;49m\u001b[39m'\u001b[39;49m)\n",
      "\u001b[1;31mValueError\u001b[0m: list.remove(x): x not in list"
     ]
    }
   ],
   "source": [
    "L1 = ['Fluttershy', 'Pinkie Pie', 'Rarity']\n",
    "L1.remove('Applejack')"
   ]
  },
  {
   "cell_type": "markdown",
   "metadata": {},
   "source": [
    "### Eliminar (`pop`)\n",
    "\n",
    "Otra forma de eliminar elementos es por índice, usando la operación ``.pop(i)``, que remueve el elemento en la posición ``i`` de la lista:"
   ]
  },
  {
   "cell_type": "code",
   "execution_count": 47,
   "metadata": {},
   "outputs": [
    {
     "name": "stdout",
     "output_type": "stream",
     "text": [
      "['Fluttershy', 'Rarity']\n"
     ]
    }
   ],
   "source": [
    "L1 = ['Fluttershy', 'Pinkie Pie', 'Rarity']\n",
    "L1.pop(1)\n",
    "print(L1)"
   ]
  },
  {
   "cell_type": "markdown",
   "metadata": {},
   "source": [
    "Si no le damos la posición ``i``, la función asume que queremos eliminar el ultimo elemento:"
   ]
  },
  {
   "cell_type": "code",
   "execution_count": 48,
   "metadata": {},
   "outputs": [
    {
     "name": "stdout",
     "output_type": "stream",
     "text": [
      "['Fluttershy', 'Pinkie Pie']\n"
     ]
    }
   ],
   "source": [
    "L1 = ['Fluttershy', 'Pinkie Pie', 'Rarity']\n",
    "L1.pop()\n",
    "print(L1)"
   ]
  },
  {
   "cell_type": "markdown",
   "metadata": {},
   "source": [
    "Opcionalmente, podemos \"rescatar\" el elemento que fue eliminado, asignando el resultado de la operación ``.pop`` a una variable:"
   ]
  },
  {
   "cell_type": "code",
   "execution_count": 54,
   "metadata": {},
   "outputs": [
    {
     "name": "stdout",
     "output_type": "stream",
     "text": [
      "['Fluttershy', 'Rarity']\n"
     ]
    }
   ],
   "source": [
    "L1 = ['Fluttershy', 'Pinkie Pie', 'Rarity']\n",
    "e = L1.pop(1)\n",
    "print(L1)"
   ]
  },
  {
   "cell_type": "code",
   "execution_count": 55,
   "metadata": {},
   "outputs": [
    {
     "name": "stdout",
     "output_type": "stream",
     "text": [
      "Pinkie Pie\n"
     ]
    }
   ],
   "source": [
    "print(e)"
   ]
  },
  {
   "cell_type": "markdown",
   "metadata": {},
   "source": [
    "Si ingresamos un índice fuera del rango, arroja un error:"
   ]
  },
  {
   "cell_type": "code",
   "execution_count": 56,
   "metadata": {},
   "outputs": [
    {
     "ename": "IndexError",
     "evalue": "pop index out of range",
     "output_type": "error",
     "traceback": [
      "\u001b[1;31m---------------------------------------------------------------------------\u001b[0m",
      "\u001b[1;31mIndexError\u001b[0m                                Traceback (most recent call last)",
      "\u001b[1;32mc:\\Users\\titox\\OneDrive\\Cursos - CC1002\\CC1002 2022-02\\python-vscode\\Clase16\\Clase16_listas_y_ciclos.ipynb Celda 85\u001b[0m in \u001b[0;36m<cell line: 2>\u001b[1;34m()\u001b[0m\n\u001b[0;32m      <a href='vscode-notebook-cell:/c%3A/Users/titox/OneDrive/Cursos%20-%20CC1002/CC1002%202022-02/python-vscode/Clase16/Clase16_listas_y_ciclos.ipynb#Y314sZmlsZQ%3D%3D?line=0'>1</a>\u001b[0m L1 \u001b[39m=\u001b[39m [\u001b[39m'\u001b[39m\u001b[39mFluttershy\u001b[39m\u001b[39m'\u001b[39m, \u001b[39m'\u001b[39m\u001b[39mPinkie Pie\u001b[39m\u001b[39m'\u001b[39m, \u001b[39m'\u001b[39m\u001b[39mRarity\u001b[39m\u001b[39m'\u001b[39m]\n\u001b[1;32m----> <a href='vscode-notebook-cell:/c%3A/Users/titox/OneDrive/Cursos%20-%20CC1002/CC1002%202022-02/python-vscode/Clase16/Clase16_listas_y_ciclos.ipynb#Y314sZmlsZQ%3D%3D?line=1'>2</a>\u001b[0m L1\u001b[39m.\u001b[39;49mpop(\u001b[39m88\u001b[39;49m)\n",
      "\u001b[1;31mIndexError\u001b[0m: pop index out of range"
     ]
    }
   ],
   "source": [
    "L1 = ['Fluttershy', 'Pinkie Pie', 'Rarity']\n",
    "L1.pop(88)"
   ]
  },
  {
   "cell_type": "markdown",
   "metadata": {},
   "source": [
    "### Invertir\n",
    "\n",
    "Para invertir de posición los elementos de una lista, usamos la operación ``.reverse()``:"
   ]
  },
  {
   "cell_type": "code",
   "execution_count": 57,
   "metadata": {},
   "outputs": [
    {
     "name": "stdout",
     "output_type": "stream",
     "text": [
      "[42, 18, 67, 21, 34, 59]\n"
     ]
    }
   ],
   "source": [
    "L1 = [59, 34, 21, 67, 18, 42]\n",
    "L1.reverse()\n",
    "print(L1)"
   ]
  },
  {
   "cell_type": "markdown",
   "metadata": {},
   "source": [
    "### Ordenar\n",
    "\n",
    "Para ordenar de menor a mayor los elementos de una lista, usamos la función ``.sort()``"
   ]
  },
  {
   "cell_type": "code",
   "execution_count": 58,
   "metadata": {},
   "outputs": [
    {
     "name": "stdout",
     "output_type": "stream",
     "text": [
      "[18, 21, 34, 42, 59, 67]\n"
     ]
    }
   ],
   "source": [
    "L1 = [59, 34, 21, 67, 18, 42]\n",
    "L1.sort()\n",
    "print(L1)"
   ]
  },
  {
   "cell_type": "markdown",
   "metadata": {},
   "source": [
    "Para ordenar de mayor a menor, le agregamos el parámetro: ``.sort(reverse=True)``"
   ]
  },
  {
   "cell_type": "code",
   "execution_count": 59,
   "metadata": {},
   "outputs": [
    {
     "name": "stdout",
     "output_type": "stream",
     "text": [
      "[67, 59, 42, 34, 21, 18]\n"
     ]
    }
   ],
   "source": [
    "L1 = [59, 34, 21, 67, 18, 42]\n",
    "L1.sort(reverse=True)\n",
    "print(L1)\n"
   ]
  },
  {
   "cell_type": "markdown",
   "metadata": {},
   "source": [
    "## Abstracción Funcional (electric boogaloo)\n",
    "\n",
    "Nuestras ya conocidas funciones ``filtro``, ``mapa`` y ``reductor`` se encuentran implementadas nativamente en Python, para operar con listas indexadas. \n",
    "\n",
    "Estas funciones no modifican la lista original. Respectivamente, se llaman ``filter``, ``map`` y ``reduce``.\n",
    "\n",
    "\n",
    "Para el caso particular de `reduce`, hay que invocar previamente al modulo `functools`\n"
   ]
  },
  {
   "cell_type": "markdown",
   "metadata": {},
   "source": [
    "\n",
    "### Ejemplo Filtro"
   ]
  },
  {
   "cell_type": "code",
   "execution_count": 60,
   "metadata": {},
   "outputs": [
    {
     "name": "stdout",
     "output_type": "stream",
     "text": [
      "[59, 67, 42]\n"
     ]
    }
   ],
   "source": [
    "L1 = [59, 34, 21, 67, 18, 42]\n",
    "L2 = list(filter(lambda x: x>40, L1))\n",
    "print(L2)"
   ]
  },
  {
   "cell_type": "markdown",
   "metadata": {},
   "source": [
    "### Ejemplo Mapa"
   ]
  },
  {
   "cell_type": "code",
   "execution_count": 61,
   "metadata": {},
   "outputs": [
    {
     "name": "stdout",
     "output_type": "stream",
     "text": [
      "[64, 39, 26, 72, 23, 47]\n"
     ]
    }
   ],
   "source": [
    "L1 = [59, 34, 21, 67, 18, 42]\n",
    "L2 = list(map(lambda x: x+5, L1))\n",
    "print(L2)\n"
   ]
  },
  {
   "cell_type": "markdown",
   "metadata": {},
   "source": [
    "### Ejemplo Reductor"
   ]
  },
  {
   "cell_type": "code",
   "execution_count": 62,
   "metadata": {},
   "outputs": [
    {
     "name": "stdout",
     "output_type": "stream",
     "text": [
      "241\n"
     ]
    }
   ],
   "source": [
    "from functools import reduce\n",
    "L1 = [59, 34, 21, 67, 18, 42]\n",
    "n = reduce(lambda x,y: x+y, L1, 0)\n",
    "print(n)"
   ]
  },
  {
   "cell_type": "markdown",
   "metadata": {},
   "source": [
    "## Ciclos iterativos\n",
    "\n",
    "Supongamos que queremos crear una función llamada `cuentaRegresiva(n)`, tal que recibe un entero que representa segundos, e inicia una cuenta regresiva, que al llegar a 0, muestra en pantalla el mensaje \"Feliz año nuevo uwu!!!\"\n",
    "\n",
    "```python\n",
    ">>> cuentaRegresiva(3)\n",
    "    faltan 3 segundos!\n",
    "    faltan 2 segundos!\n",
    "    faltan 1 segundos!\n",
    "    Feliz año nuevo uwu!!!\n",
    ">>>\n",
    "```\n",
    "\n",
    "En esencia, lo que queremos hacer es **repetir una serie de instrucciones**, hasta que ocurra un determinado evento. En este caso, ir mostrando el estado de la cuenta regresiva, hasta que eventualmente llegamos a una condición de termino, ante la cual cerramos con un mensaje final\n",
    "\n",
    "\n",
    "Ahora, veremos dos instrucciones, que nos permiten repetir una secuencia de instrucciones (de forma mucho mas natural a como lo hemos hecho hasta ahora con recursión)\n",
    "\n",
    "\n",
    "\n"
   ]
  },
  {
   "cell_type": "markdown",
   "metadata": {},
   "source": [
    "### Ciclo `while`\n",
    "\n",
    "```python\n",
    "while condicion:\n",
    "    instrucciones\n",
    "    mas instrucciones\n",
    "otras instrucciones\n",
    "```\n",
    "\n",
    "La instrucción ``while`` nos permite repetir `instrucciones` mientras se cumpla una `condición` (es decir, mientras se siga evaluando a ``True``). Eventualmente, cuando la `condición` se deje de cumplir (se evalúa a `False`), el ciclo terminara, continuando la ejecución de `otras instrucciones`\n",
    "\n",
    "Para asegurarse de entrar al ciclo, es importante establecer una `condición` adecuada, de tal manera que se **cumpla al menos al principio** de la ejecución del programa. Para asegurarse de salir del ciclo, es importante ir **modificando la condición** dentro del ciclo, de tal manera que en algún momento se pueda romper (evaluándose a `False`)\n",
    "\n",
    "Resolviendo la inquietud inicial:"
   ]
  },
  {
   "cell_type": "code",
   "execution_count": 64,
   "metadata": {},
   "outputs": [],
   "source": [
    "# cuentaRegresiva: int -> None\n",
    "# ...\n",
    "def cuentaRegresiva(n):\n",
    "    assert n>=0\n",
    "\n",
    "    i = n\n",
    "    while i > 0:\n",
    "        print('faltan', i, 'segundos!')\n",
    "        i = i - 1\n",
    "    \n",
    "    print('Feliz año nuevo uwu!!!')\n",
    "    return None"
   ]
  },
  {
   "cell_type": "markdown",
   "metadata": {},
   "source": [
    "- Establecemos una variable estilo \"índice\", que ayudará a monitorear en que parte vamos del ciclo\n",
    "\n",
    "- mientras se cumpla que nuestro índice sea mayor a 0, se ejecutan las instrucciones para este valor, y se actualiza el valor del índice\n",
    "\n",
    "- Eventualmente cuando se rompe la condición del ciclo, se ejecutan las instrucciones que vengan después\n"
   ]
  },
  {
   "cell_type": "code",
   "execution_count": 65,
   "metadata": {},
   "outputs": [
    {
     "name": "stdout",
     "output_type": "stream",
     "text": [
      "faltan 3 segundos!\n",
      "faltan 2 segundos!\n",
      "faltan 1 segundos!\n",
      "Feliz año nuevo uwu!!!\n"
     ]
    }
   ],
   "source": [
    "cuentaRegresiva(3)"
   ]
  },
  {
   "cell_type": "markdown",
   "metadata": {},
   "source": [
    "También es posible establecer que el ciclo se **repita por siempre**, pero teniendo la consideración de especificar una **condición de quiebre**"
   ]
  },
  {
   "cell_type": "code",
   "execution_count": 67,
   "metadata": {},
   "outputs": [],
   "source": [
    "# cuentaRegresiva: int -> None\n",
    "# ...\n",
    "def cuentaRegresiva(n):\n",
    "    assert n>=0\n",
    "    \n",
    "    i = n\n",
    "    while True:\n",
    "        print('faltan', i, 'segundos!')\n",
    "        i = i - 1\n",
    "        \n",
    "        if i <= 0:\n",
    "            break\n",
    "          \n",
    "    print('Feliz año nuevo uwu!!!')\n",
    "    return None"
   ]
  },
  {
   "cell_type": "markdown",
   "metadata": {},
   "source": [
    "- Establecemos una variable estilo \"índice\", que ayudará a monitorear en que parte vamos del ciclo\n",
    "\n",
    "- Luego, repetimos por siempre... las instrucciones para este valor, y se actualiza el valor del índice\n",
    "\n",
    "- Condición de quiebre: cuando el índice sea menor o igual a 0\n",
    "\n",
    "- Eventualmente cuando se rompe la condición del ciclo, se ejecutan las instrucciones que vengan después"
   ]
  },
  {
   "cell_type": "code",
   "execution_count": 68,
   "metadata": {},
   "outputs": [
    {
     "name": "stdout",
     "output_type": "stream",
     "text": [
      "faltan 3 segundos!\n",
      "faltan 2 segundos!\n",
      "faltan 1 segundos!\n",
      "Feliz año nuevo uwu!!!\n"
     ]
    }
   ],
   "source": [
    "cuentaRegresiva(3)"
   ]
  },
  {
   "cell_type": "markdown",
   "metadata": {},
   "source": [
    "¿Qué ocurre si se nos olvida?\n",
    "\n",
    "- Establecer una condición de termino adecuada del ciclo\n",
    "\n",
    "- Ir modificando la condición dentro del ciclo \n",
    "\n",
    "Exacto! el programa se quedará pegado en un bonito loop iterativo\n",
    "\n",
    "\n",
    "```python\n",
    ">>> cuentaRegresiva(3)\n",
    "    faltan 3 segundos!\n",
    "    faltan 3 segundos!\n",
    "    faltan 3 segundos!\n",
    "    ...\n",
    "    faltan 3 segundos!\n",
    "    faltan 3 segundos!\n",
    "    ...\n",
    "```\n",
    "En el caso de un loop, se puede usar la combinación de teclas ``Ctrl + C`` para cortar la ejecución del programa\n",
    "\n"
   ]
  },
  {
   "cell_type": "markdown",
   "metadata": {},
   "source": [
    "### Ciclo `for`\n",
    "\n",
    "```python\n",
    "for elemento in conjunto:\n",
    "    instrucciones\n",
    "    mas instrucciones\n",
    "otras instrucciones\n",
    "```\n",
    "\n",
    "La instrucción `for` nos permite iterar/recorrer los `elementos` de un `conjunto` de datos, como una lista\n",
    "\n",
    "Donde `elemento` es una variable que representa un valor singular del `conjunto`. En cada ciclo, se va tomando consecutivamente los `elementos` en el `conjunto`, y para cada uno de ellos ejecuta las `instrucciones` especificadas. \n",
    "\n",
    "`for` generalmente se usa de la mano con la función `range`. `range(fin)`, genera un conjunto iterable de números consecutivos, desde `0` hasta `fin-1`\n"
   ]
  },
  {
   "cell_type": "code",
   "execution_count": 69,
   "metadata": {},
   "outputs": [
    {
     "data": {
      "text/plain": [
       "range(0, 4)"
      ]
     },
     "execution_count": 69,
     "metadata": {},
     "output_type": "execute_result"
    }
   ],
   "source": [
    "range(4)"
   ]
  },
  {
   "cell_type": "markdown",
   "metadata": {},
   "source": [
    "Y este conjunto, puede ser convertido a lista, para trabajarlo con las otras funciones que ya conocemos"
   ]
  },
  {
   "cell_type": "code",
   "execution_count": 70,
   "metadata": {},
   "outputs": [
    {
     "data": {
      "text/plain": [
       "[0, 1, 2, 3]"
      ]
     },
     "execution_count": 70,
     "metadata": {},
     "output_type": "execute_result"
    }
   ],
   "source": [
    "list(range(4))"
   ]
  },
  {
   "cell_type": "markdown",
   "metadata": {},
   "source": [
    "`range(inicio,fin)`, genera un conjunto iterable de números consecutivos, desde `inicio` hasta `fin-1`\n"
   ]
  },
  {
   "cell_type": "code",
   "execution_count": 71,
   "metadata": {},
   "outputs": [
    {
     "data": {
      "text/plain": [
       "[1, 2, 3]"
      ]
     },
     "execution_count": 71,
     "metadata": {},
     "output_type": "execute_result"
    }
   ],
   "source": [
    "list(range(1,4))"
   ]
  },
  {
   "cell_type": "markdown",
   "metadata": {},
   "source": [
    "`range(inicio,fin,s)`, genera un conjunto iterable de números consecutivos, desde `inicio` hasta `fin-1`, en saltos de `s` en `s`"
   ]
  },
  {
   "cell_type": "code",
   "execution_count": 72,
   "metadata": {},
   "outputs": [
    {
     "data": {
      "text/plain": [
       "[1, 3, 5, 7]"
      ]
     },
     "execution_count": 72,
     "metadata": {},
     "output_type": "execute_result"
    }
   ],
   "source": [
    "list(range(1,8,2))"
   ]
  },
  {
   "cell_type": "markdown",
   "metadata": {},
   "source": [
    "El salto `s` puede ser negativo, en cuyo caso hay que tener la precaución de que `inicio > fin`\n"
   ]
  },
  {
   "cell_type": "code",
   "execution_count": 73,
   "metadata": {},
   "outputs": [
    {
     "data": {
      "text/plain": [
       "[7, 6, 5, 4, 3]"
      ]
     },
     "execution_count": 73,
     "metadata": {},
     "output_type": "execute_result"
    }
   ],
   "source": [
    "list(range(7,2,-1))"
   ]
  },
  {
   "cell_type": "markdown",
   "metadata": {},
   "source": [
    "Con esto, volviendo al problema inicial:"
   ]
  },
  {
   "cell_type": "code",
   "execution_count": 74,
   "metadata": {},
   "outputs": [],
   "source": [
    "# cuentaRegresiva: int -> None\n",
    "# ...\n",
    "def cuentaRegresiva(n):\n",
    "    assert n>=0\n",
    "\n",
    "    L = list(range(1,n+1))\n",
    "    L.reverse()\n",
    "\n",
    "    for n in L:\n",
    "        print('faltan', n, 'segundos!')\n",
    "          \n",
    "    print('Feliz año nuevo uwu!!!')\n",
    "\n",
    "    return None"
   ]
  },
  {
   "cell_type": "markdown",
   "metadata": {},
   "source": [
    "- Creamos una lista con los números `[1,2,..., n-1]` y luego la invertimos, para que represente nuestra cuenta regresiva\n",
    "\n",
    "- Para cada elemento de la lista... se ejecutan las instrucciones para este elemento\n",
    "\n",
    "- Eventualmente cuando se procesaron todos los elementos del ciclo, se ejecutan las instrucciones que vengan después\n"
   ]
  },
  {
   "cell_type": "code",
   "execution_count": 75,
   "metadata": {},
   "outputs": [
    {
     "name": "stdout",
     "output_type": "stream",
     "text": [
      "faltan 3 segundos!\n",
      "faltan 2 segundos!\n",
      "faltan 1 segundos!\n",
      "Feliz año nuevo uwu!!!\n"
     ]
    }
   ],
   "source": [
    "cuentaRegresiva(3)"
   ]
  },
  {
   "cell_type": "markdown",
   "metadata": {},
   "source": [
    "Alternativamente, se puede usar `range` directamente como el conjunto a iterar por la instrucción `for`"
   ]
  },
  {
   "cell_type": "code",
   "execution_count": 76,
   "metadata": {},
   "outputs": [],
   "source": [
    "# cuentaRegresiva: int -> None\n",
    "# ...\n",
    "def cuentaRegresiva(n):\n",
    "    assert n>=0\n",
    "\n",
    "    for i in range(n,0,-1):\n",
    "        print('faltan', i, 'segundos!')\n",
    "          \n",
    "    print('Feliz año nuevo uwu!!!')\n",
    "\n",
    "    return None"
   ]
  },
  {
   "cell_type": "markdown",
   "metadata": {},
   "source": [
    "- Para cada elemento en el conjunto del rango desde `n` hasta `1`, Se ejecutan las instrucciones para este elemento\n",
    "\n",
    "- Eventualmente cuando se procesaron todos los elementos del ciclo, se ejecutan las instrucciones que vengan después"
   ]
  },
  {
   "cell_type": "code",
   "execution_count": 77,
   "metadata": {},
   "outputs": [
    {
     "name": "stdout",
     "output_type": "stream",
     "text": [
      "faltan 3 segundos!\n",
      "faltan 2 segundos!\n",
      "faltan 1 segundos!\n",
      "Feliz año nuevo uwu!!!\n"
     ]
    }
   ],
   "source": [
    "cuentaRegresiva(3)"
   ]
  },
  {
   "cell_type": "markdown",
   "metadata": {},
   "source": [
    "## Recorridos usando ciclos\n",
    "\n",
    "Usualmente se utilizan ciclos iterativos para recorrer/visitar los elementos de una estructura indexada (en nuestro caso, listas), y así poder procesar uno por uno sus elementos\n",
    "\n",
    "Por ejemplo, supongamos que tenemos la siguiente lista:"
   ]
  },
  {
   "cell_type": "code",
   "execution_count": 78,
   "metadata": {},
   "outputs": [],
   "source": [
    "L1 = ['Fluttershy', 'Pinkie Pie', 'Rarity', 'Rainbow Dash'] "
   ]
  },
  {
   "cell_type": "markdown",
   "metadata": {},
   "source": [
    "Y queremos mostrar en pantalla los elementos de la lista, en líneas separadas\n",
    "\n",
    "```python\n",
    ">>> imprimir(L1)\n",
    "    'Fluttershy'\n",
    "    'Pinkie Pie'\n",
    "    'Rarity'\n",
    "    'Rainbow Dash'\n",
    ">>>\n",
    "```"
   ]
  },
  {
   "cell_type": "markdown",
   "metadata": {},
   "source": [
    "### `while` recorriendo por índices\n",
    "\n",
    "La primera alternativa, es usar un ciclo `while`, recorriendo la **lista por índices**"
   ]
  },
  {
   "cell_type": "code",
   "execution_count": 79,
   "metadata": {},
   "outputs": [],
   "source": [
    "# imprimir: list -> None\n",
    "# ...\n",
    "def imprimir(L):\n",
    "    assert type(L) == list\n",
    " \n",
    "    i = 0\n",
    "    while i < len(L):\n",
    "        print(L[i])\n",
    "        i = i + 1\n",
    "        \n",
    "    return None"
   ]
  },
  {
   "cell_type": "markdown",
   "metadata": {},
   "source": [
    "Mientras no hayamos recorrido todos los índices de la lista:\n",
    "\n",
    "- Mostramos el elemento en pantalla que se encuentre en tal índice\n",
    "\n",
    "- Incrementamos el índice-contador\n"
   ]
  },
  {
   "cell_type": "code",
   "execution_count": 80,
   "metadata": {},
   "outputs": [
    {
     "name": "stdout",
     "output_type": "stream",
     "text": [
      "Fluttershy\n",
      "Pinkie Pie\n",
      "Rarity\n",
      "Rainbow Dash\n"
     ]
    }
   ],
   "source": [
    "imprimir(L1)"
   ]
  },
  {
   "cell_type": "markdown",
   "metadata": {},
   "source": [
    "### `for` recorriendo por valores\n",
    "\n",
    "La segunda alternativa, es usar un ciclo `for`, recorriendo la **lista por valores**\n"
   ]
  },
  {
   "cell_type": "code",
   "execution_count": 81,
   "metadata": {},
   "outputs": [],
   "source": [
    "# imprimir: list -> None\n",
    "# ...\n",
    "def imprimir(L):\n",
    "    assert type(L) == list\n",
    " \n",
    "    for elem in L:\n",
    "        print(elem)\n",
    "                \n",
    "    return None"
   ]
  },
  {
   "cell_type": "markdown",
   "metadata": {},
   "source": [
    "Para cada elemento de la lista\n",
    "\n",
    "- Mostramos el elemento en pantalla"
   ]
  },
  {
   "cell_type": "code",
   "execution_count": 82,
   "metadata": {},
   "outputs": [
    {
     "name": "stdout",
     "output_type": "stream",
     "text": [
      "Fluttershy\n",
      "Pinkie Pie\n",
      "Rarity\n",
      "Rainbow Dash\n"
     ]
    }
   ],
   "source": [
    "imprimir(L1)"
   ]
  },
  {
   "cell_type": "markdown",
   "metadata": {},
   "source": [
    "### `for` recorriendo por índices\n",
    "\n",
    "La tercera alternativa, es usar un ciclo `for`, recorriendo la **lista por índices**\n"
   ]
  },
  {
   "cell_type": "code",
   "execution_count": 83,
   "metadata": {},
   "outputs": [],
   "source": [
    "# imprimir: list -> None\n",
    "# ...\n",
    "def imprimir(L):\n",
    "    assert type(L) == list\n",
    " \n",
    "    for i in range(len(L)):\n",
    "        print(L[i])\n",
    "                \n",
    "    return None"
   ]
  },
  {
   "cell_type": "markdown",
   "metadata": {},
   "source": [
    "Para cada índice de la lista:\n",
    "\n",
    "- Mostramos el elemento en pantalla que se encuentre en tal índice\n"
   ]
  },
  {
   "cell_type": "markdown",
   "metadata": {},
   "source": [
    "### Consejos para recorridos\n",
    "\n",
    "Usualmente los 3 tipos de recorridos son intercambiables, y se pueden usar indistintamente en la mayoría de los casos. Incluso se pueden combinar, para recorrer estructuras mas complejas (como una lista que contiene listas)\n",
    "\n",
    "De todos modos, y dependiendo del problema que nos enfrentemos, es recomendable escoger el tipo de recorrido que mas nos acomode\n",
    "\n",
    "Usualmente se usa `while` para:\n",
    "\n",
    "- Recorrer elementos por índice\n",
    "    \n",
    "    - Es útil cuando tenemos que modificar los valores de una lista, o realizar operaciones que requieran acceder a más de un elemento en la lista al mismo tiempo (calcular el promedio de 3 casilleros consecutivos)\n",
    "\n",
    "- Cuando no se conoce a priori cuantas veces hay que repetir las instrucciones\n",
    "  \n",
    "  - Programas interactivos\n",
    "  \n",
    "  - Procesar hasta llegar a un criterio de convergencia\n",
    "\n",
    "Usualmente se usa `for` para:\n",
    "\n",
    "- Recorrer elementos por valor\n",
    "  - Es cómodo si solo hay que procesar elementos uno por uno\n",
    "\n",
    "- Recorrer elementos por índice\n",
    "\n",
    "- Cuando el numero de veces a repetir las instrucciones es conocido \n",
    "  - Cuentas regresivas o hasta cierto número conocido\n",
    "  - Procesar todos los elementos de una lista (que tiene largo finito)\n"
   ]
  },
  {
   "cell_type": "markdown",
   "metadata": {},
   "source": [
    "---\n",
    "## Listas de listas"
   ]
  },
  {
   "cell_type": "markdown",
   "metadata": {},
   "source": [
    "Habíamos visto que las listas indexadas pueden almacenar casi cualquier cosa en sus casilleros\n",
    "\n",
    "Bueno… también pueden almacenar otras listas, lo que se conoce como una lista de dos dimensiones, tabla o matriz\n",
    "\n",
    "Dependiendo de los dados que se almacenen, le tenemos que dar contexto al significado de filas y columnas"
   ]
  },
  {
   "cell_type": "markdown",
   "metadata": {},
   "source": [
    "Por ejemplo, la matriz/tabla:\n",
    "\n",
    "| 8 | 1  | 2 |\n",
    "|---|----|---|\n",
    "| 3 | 10 | 7 |\n",
    "| 4 | 9  | 2 |\n",
    "| 5 | 11 | 9 |\n",
    "\n",
    "Se puede escribir en python como:\n",
    "\n",
    "```python\n",
    "M = [[8,  1, 2],\n",
    "     [3, 10, 7],\n",
    "     [4,  9, 2],\n",
    "     [5, 11, 9]]\n",
    "```\n",
    "\n",
    "- En particular, todas las operaciones y funciones vistas para listas aplican también para listas de listas\n",
    "\n",
    "- Para que tenga sentido trabajar con listas de listas, se espera que todas las sub-listas tengan el mismo largo\n",
    "\n"
   ]
  },
  {
   "cell_type": "code",
   "execution_count": 1,
   "metadata": {},
   "outputs": [],
   "source": [
    "M = [[8,  1, 2],\n",
    "     [3, 10, 7],\n",
    "     [4,  9, 2],\n",
    "     [5, 11, 9]]"
   ]
  },
  {
   "cell_type": "markdown",
   "metadata": {},
   "source": [
    "### Acceso\n",
    "\n",
    "Si usamos la notación de índice para acceder a sus elementos, nos entrega la sub-lista indicada (es decir, nos entrega una \"fila\")"
   ]
  },
  {
   "cell_type": "code",
   "execution_count": 2,
   "metadata": {},
   "outputs": [
    {
     "data": {
      "text/plain": [
       "[4, 9, 2]"
      ]
     },
     "execution_count": 2,
     "metadata": {},
     "output_type": "execute_result"
    }
   ],
   "source": [
    "M[2]"
   ]
  },
  {
   "cell_type": "code",
   "execution_count": 3,
   "metadata": {},
   "outputs": [
    {
     "data": {
      "text/plain": [
       "[5, 11, 9]"
      ]
     },
     "execution_count": 3,
     "metadata": {},
     "output_type": "execute_result"
    }
   ],
   "source": [
    "M[3]"
   ]
  },
  {
   "cell_type": "markdown",
   "metadata": {},
   "source": [
    "Para acceder directamente a un elemento, usamos la notación de índice 2 veces"
   ]
  },
  {
   "cell_type": "code",
   "execution_count": 4,
   "metadata": {},
   "outputs": [
    {
     "data": {
      "text/plain": [
       "9"
      ]
     },
     "execution_count": 4,
     "metadata": {},
     "output_type": "execute_result"
    }
   ],
   "source": [
    "M[2][1]"
   ]
  },
  {
   "cell_type": "markdown",
   "metadata": {},
   "source": [
    "- Es como indicar las coordenadas de la fila y la columna que se quiere acceder"
   ]
  },
  {
   "cell_type": "markdown",
   "metadata": {},
   "source": [
    "### Largo\n",
    "\n",
    "Para el caso de listas de listas, la función `len` solo nos entrega la cantidad de filas"
   ]
  },
  {
   "cell_type": "code",
   "execution_count": 5,
   "metadata": {},
   "outputs": [
    {
     "data": {
      "text/plain": [
       "4"
      ]
     },
     "execution_count": 5,
     "metadata": {},
     "output_type": "execute_result"
    }
   ],
   "source": [
    "len(M)"
   ]
  },
  {
   "cell_type": "markdown",
   "metadata": {},
   "source": [
    "Si queremos conocer la cantidad de columnas, tenemos que aplicar `len` sobre una sub-lista en particular"
   ]
  },
  {
   "cell_type": "code",
   "execution_count": 6,
   "metadata": {},
   "outputs": [
    {
     "data": {
      "text/plain": [
       "3"
      ]
     },
     "execution_count": 6,
     "metadata": {},
     "output_type": "execute_result"
    }
   ],
   "source": [
    "len(M[0])"
   ]
  },
  {
   "cell_type": "markdown",
   "metadata": {},
   "source": [
    "### Recorridos: `while` por índices\n",
    "\n",
    "Para recorrer los elementos de una lista de listas, necesitamos usar dos ciclos, uno para las \"filas\", y otro para las \"columnas\" dentro de cada fila"
   ]
  },
  {
   "cell_type": "code",
   "execution_count": 7,
   "metadata": {},
   "outputs": [
    {
     "name": "stdout",
     "output_type": "stream",
     "text": [
      "( 0 0 ) -> 8\n",
      "( 0 1 ) -> 1\n",
      "( 0 2 ) -> 2\n",
      "( 1 0 ) -> 3\n",
      "( 1 1 ) -> 10\n",
      "( 1 2 ) -> 7\n",
      "( 2 0 ) -> 4\n",
      "( 2 1 ) -> 9\n",
      "( 2 2 ) -> 2\n",
      "( 3 0 ) -> 5\n",
      "( 3 1 ) -> 11\n",
      "( 3 2 ) -> 9\n"
     ]
    }
   ],
   "source": [
    "i = 0\n",
    "while i < len(M):\n",
    "    j = 0\n",
    "    while j < len(M[0]):\n",
    "        print('(', i, j, ')', '->', M[i][j])\n",
    "        j = j + 1\n",
    "    i = i + 1 "
   ]
  },
  {
   "cell_type": "markdown",
   "metadata": {},
   "source": [
    "### Recorridos: `for` por índices"
   ]
  },
  {
   "cell_type": "code",
   "execution_count": 8,
   "metadata": {},
   "outputs": [
    {
     "name": "stdout",
     "output_type": "stream",
     "text": [
      "( 0 0 ) -> 8\n",
      "( 0 1 ) -> 1\n",
      "( 0 2 ) -> 2\n",
      "( 1 0 ) -> 3\n",
      "( 1 1 ) -> 10\n",
      "( 1 2 ) -> 7\n",
      "( 2 0 ) -> 4\n",
      "( 2 1 ) -> 9\n",
      "( 2 2 ) -> 2\n",
      "( 3 0 ) -> 5\n",
      "( 3 1 ) -> 11\n",
      "( 3 2 ) -> 9\n"
     ]
    }
   ],
   "source": [
    "for fila in range(len(M)):\n",
    "    for columna in range(len(M[0])):\n",
    "        print('(', fila, columna, ')', '->', M[fila][columna])"
   ]
  },
  {
   "cell_type": "markdown",
   "metadata": {},
   "source": [
    "### Recorridos: `for` por valores"
   ]
  },
  {
   "cell_type": "code",
   "execution_count": 9,
   "metadata": {},
   "outputs": [
    {
     "name": "stdout",
     "output_type": "stream",
     "text": [
      "-> 8\n",
      "-> 1\n",
      "-> 2\n",
      "-> 3\n",
      "-> 10\n",
      "-> 7\n",
      "-> 4\n",
      "-> 9\n",
      "-> 2\n",
      "-> 5\n",
      "-> 11\n",
      "-> 9\n"
     ]
    }
   ],
   "source": [
    "for fila in M:\n",
    "    for valor in fila:\n",
    "        print('->', valor)"
   ]
  },
  {
   "cell_type": "markdown",
   "metadata": {},
   "source": [
    "- Notar que, al acceder por valores, no tenemos acceso a los índices de donde vive cada valor"
   ]
  },
  {
   "cell_type": "markdown",
   "metadata": {},
   "source": [
    "### Aliasing y copia efectiva\n",
    "\n",
    "Para listas de listas, también tenemos el problema de aliasing, el cual está acrecentado por ser una entidad mutable que almacena otras entidades mutables\n",
    "\n",
    "Para hacer una copia efectiva, tenemos que hacer una **copia en profundidad** (con ayuda del módulo `copy`)\n",
    "\n",
    "\n"
   ]
  },
  {
   "cell_type": "code",
   "execution_count": 10,
   "metadata": {},
   "outputs": [],
   "source": [
    "from copy import deepcopy\n",
    "M2 = deepcopy(M)\n",
    "M2[0][0] = 99"
   ]
  },
  {
   "cell_type": "code",
   "execution_count": 11,
   "metadata": {},
   "outputs": [
    {
     "name": "stdout",
     "output_type": "stream",
     "text": [
      "[[99, 1, 2], [3, 10, 7], [4, 9, 2], [5, 11, 9]]\n"
     ]
    }
   ],
   "source": [
    "print(M2)"
   ]
  },
  {
   "cell_type": "code",
   "execution_count": 13,
   "metadata": {},
   "outputs": [
    {
     "name": "stdout",
     "output_type": "stream",
     "text": [
      "[[8, 1, 2], [3, 10, 7], [4, 9, 2], [5, 11, 9]]\n"
     ]
    }
   ],
   "source": [
    "print(M)"
   ]
  },
  {
   "cell_type": "markdown",
   "metadata": {},
   "source": [
    "## Errores recurrentes\n",
    "\n",
    "### Error 1\n",
    "\n",
    "Un error común es intentar eliminar cosas de una lista mientras se recorre con un ciclo for por valores. Por ejemplo, eliminar todos los 1 de una lista de números"
   ]
  },
  {
   "cell_type": "code",
   "execution_count": 14,
   "metadata": {},
   "outputs": [],
   "source": [
    "L = [1, 1, 1, 2, 3, 1]\n",
    "for n in L:\n",
    "    if n == 1:\n",
    "        L.remove(n)"
   ]
  },
  {
   "cell_type": "markdown",
   "metadata": {},
   "source": [
    "Intuitivamente, esperaríamos que la lista final sea:\n",
    "\n",
    "```python\n",
    "[2, 3]\n",
    "```\n",
    "\n",
    "pero en realidad obtenemos:"
   ]
  },
  {
   "cell_type": "code",
   "execution_count": 15,
   "metadata": {},
   "outputs": [
    {
     "name": "stdout",
     "output_type": "stream",
     "text": [
      "[2, 3, 1]\n"
     ]
    }
   ],
   "source": [
    "print(L)"
   ]
  },
  {
   "cell_type": "markdown",
   "metadata": {},
   "source": [
    "Eso ocurre porque estamos modificando el tamaño del conjunto sobre el que estamos iterando, mientras lo estamos iterando, lo que produce inconsistencias (usualmente relacionado a que los índices de los elementos van variando)\n",
    "\n",
    "Para prevenirlo, podemos crear una copia de la lista, e ir editando la copia dentro de un ciclo `for` por valores"
   ]
  },
  {
   "cell_type": "code",
   "execution_count": 16,
   "metadata": {},
   "outputs": [],
   "source": [
    "L = [1, 1, 1, 2, 3, 1]\n",
    "L2 = list(L)\n",
    "for n in L:\n",
    "    if n == 1:\n",
    "        L2.remove(n)"
   ]
  },
  {
   "cell_type": "markdown",
   "metadata": {},
   "source": [
    "- Esto genera una copia modificada de la lista original"
   ]
  },
  {
   "cell_type": "markdown",
   "metadata": {},
   "source": [
    "O podemos usar un ciclo `while`, si queremos modificar la lista original, y especificamos que la condición sea eliminar un 1, mientras existan 1's en la lista"
   ]
  },
  {
   "cell_type": "code",
   "execution_count": null,
   "metadata": {},
   "outputs": [],
   "source": [
    "L = [1, 1, 1, 2, 3, 1]\n",
    "while 1 in L:\n",
    "    L.remove(1)"
   ]
  },
  {
   "cell_type": "markdown",
   "metadata": {},
   "source": [
    "- Esto genera que la lista original sea modificada\n"
   ]
  },
  {
   "cell_type": "markdown",
   "metadata": {},
   "source": [
    "### Error 2\n",
    "\n",
    "Otro error común es usar mal un return dentro de un ciclo, al intentar verificar una condición. Por ejemplo, si queremos verificar si una lista solo tiene números pares"
   ]
  },
  {
   "cell_type": "code",
   "execution_count": 17,
   "metadata": {},
   "outputs": [],
   "source": [
    "L = [2, 4, 5, 2, 3, 1]\n",
    "\n",
    "def soloPares(L):\n",
    "    for n in L:\n",
    "        if n%2 == 0:\n",
    "            return True\n",
    "        else:\n",
    "            return False"
   ]
  },
  {
   "cell_type": "markdown",
   "metadata": {},
   "source": [
    "Intuitivamente, esperaríamos que nos entregue `False`, pero en realidad nos entrega `True`"
   ]
  },
  {
   "cell_type": "code",
   "execution_count": 18,
   "metadata": {},
   "outputs": [
    {
     "data": {
      "text/plain": [
       "True"
      ]
     },
     "execution_count": 18,
     "metadata": {},
     "output_type": "execute_result"
    }
   ],
   "source": [
    "soloPares(L)"
   ]
  },
  {
   "cell_type": "markdown",
   "metadata": {},
   "source": [
    "Esto ocurre porque revisa el primer elemento, y como ese elemento cumple la condición, entonces pasa el criterio y retorna `True`, sin revisar los demás elementos\n",
    "\n",
    "Para prevenirlo, podemos cambiar ligeramente el enfoque. Si nos encontramos con un número impar, no es necesario seguir verificando. Si eventualmente llegamos al final del ciclo, entonces todos los elementos cumplieron la condición"
   ]
  },
  {
   "cell_type": "code",
   "execution_count": 20,
   "metadata": {},
   "outputs": [],
   "source": [
    "L = [2, 4, 5, 2, 3, 1]\n",
    "\n",
    "def soloPares(L):\n",
    "    for n in L:\n",
    "        if n%2 != 0:\n",
    "            return False\n",
    "    return True"
   ]
  },
  {
   "cell_type": "code",
   "execution_count": 21,
   "metadata": {},
   "outputs": [
    {
     "data": {
      "text/plain": [
       "False"
      ]
     },
     "execution_count": 21,
     "metadata": {},
     "output_type": "execute_result"
    }
   ],
   "source": [
    "soloPares(L)"
   ]
  },
  {
   "cell_type": "markdown",
   "metadata": {},
   "source": [
    "### Error 3\n",
    "\n",
    "Recuerden que algunas operaciones sobre listas son mutables, modificando directamente la lista en la memoria, y no necesariamente entregan un resultado. Por ejemplo:"
   ]
  },
  {
   "cell_type": "code",
   "execution_count": 22,
   "metadata": {},
   "outputs": [],
   "source": [
    "L = [2, 4, 5, 2, 3, 1]\n",
    "L2 = L.sort()\n",
    "L3 = L.append(8)"
   ]
  },
  {
   "cell_type": "code",
   "execution_count": 23,
   "metadata": {},
   "outputs": [
    {
     "name": "stdout",
     "output_type": "stream",
     "text": [
      "None\n"
     ]
    }
   ],
   "source": [
    "print(L2)"
   ]
  },
  {
   "cell_type": "code",
   "execution_count": 24,
   "metadata": {},
   "outputs": [
    {
     "name": "stdout",
     "output_type": "stream",
     "text": [
      "None\n"
     ]
    }
   ],
   "source": [
    "print(L3)"
   ]
  },
  {
   "cell_type": "code",
   "execution_count": 25,
   "metadata": {},
   "outputs": [
    {
     "name": "stdout",
     "output_type": "stream",
     "text": [
      "[1, 2, 2, 3, 4, 5, 8]\n"
     ]
    }
   ],
   "source": [
    "print(L)"
   ]
  },
  {
   "cell_type": "markdown",
   "metadata": {},
   "source": [
    "# Conclusiones\n",
    "\n",
    "En esta ocasión, aprendimos:\n",
    "\n",
    "- La estructura indexada Lista (de Python), que permite almacenar elementos de forma secuencial y permite mutación\n",
    "\n",
    "- Diversas operaciones que permiten trabajar con listas\n",
    "\n",
    "- Ciclos while y for para recorrer y operar con estructuras indexadas\n",
    "\n",
    "- Las listas pueden almacenar otras listas, creando estructuras más complejas\n",
    "\n",
    "- Cuidado al trabajar con listas y ciclos!"
   ]
  }
 ],
 "metadata": {
  "kernelspec": {
   "display_name": "Python 3 (ipykernel)",
   "language": "python",
   "name": "python3"
  },
  "language_info": {
   "codemirror_mode": {
    "name": "ipython",
    "version": 3
   },
   "file_extension": ".py",
   "mimetype": "text/x-python",
   "name": "python",
   "nbconvert_exporter": "python",
   "pygments_lexer": "ipython3",
   "version": "3.10.6"
  },
  "vscode": {
   "interpreter": {
    "hash": "98b95ce4537a043c6c2f8047f97d2678115deb8444c76d437608d4f0db95d495"
   }
  }
 },
 "nbformat": 4,
 "nbformat_minor": 4
}
