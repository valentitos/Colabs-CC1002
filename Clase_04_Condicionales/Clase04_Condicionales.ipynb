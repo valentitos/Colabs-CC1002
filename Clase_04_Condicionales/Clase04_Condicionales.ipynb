{
 "cells": [
  {
   "cell_type": "markdown",
   "metadata": {},
   "source": [
    "<a href=\"https://colab.research.google.com/github/valentitos/Colabs-CC1002/blob/main/Clase_04_Condicionales/Clase04_Condicionales.ipynb\" target=\"_parent\"><img src=\"https://colab.research.google.com/assets/colab-badge.svg\" alt=\"Open In Colab\"/></a>"
   ]
  },
  {
   "cell_type": "code",
   "execution_count": null,
   "metadata": {},
   "outputs": [],
   "source": [
    "# Descomentar las siguientes lineas para usar modulos propios cargados en Gdrive\n",
    "# reemplazar [carpeta_con_modulos] por el nombre de la carpeta que uds hayan creado en su Gdrive donde subirán sus módulos propios\n",
    "\n",
    "#from google.colab import drive\n",
    "#drive.mount('/content/drive', force_remount=True)\n",
    "\n",
    "#import sys\n",
    "#sys.path.append('/content/drive/MyDrive/[carpeta_con_modulos])"
   ]
  },
  {
   "cell_type": "markdown",
   "metadata": {},
   "source": [
    "# Clase 04: Condicionales"
   ]
  },
  {
   "cell_type": "markdown",
   "metadata": {},
   "source": [
    "## Repaso Clase 03\n",
    "\n",
    "### Módulos\n",
    "\n",
    "La programación usando módulos (programación modular) es una técnica de diseño que separa las funciones de un programa en módulos, generando una **separación de intereses o responsabilidades**.\n",
    "\n",
    "- Un módulo tiene una finalidad única, y contienen todo lo necesario para llevar a cabo esa funcionalidad (código, variables, etc.)\n",
    "\n",
    "- Mejoran la mantenibilidad del software, ya que delimitan los límites lógicos de sus componentes\n",
    "\n",
    "- Facilita la búsqueda de eventuales errores, ya que existe una segmentación clara de funcionalidades y responsabilidades\n",
    "\n",
    "Así, es posible encapsular funcionalidades especificas de un programa en un compilado/recopilación de funciones, que pueden ser usadas en otros programas\n",
    "\n",
    "En particular:\n",
    "\n",
    "- Podemos usar los que vienen predefinidos en Python\n",
    "\n",
    "- Podemos crearlos nosotros(as) mismas\n",
    "\n",
    "Para invocar un módulo, usamos la palabra clave **import**\n",
    "\n",
    "Para invocar una variable o función de un módulo, se usa la notación:\n",
    "\n",
    "```\n",
    "<nombre_modulo>.<nombre_funcion>\n",
    "```\n",
    "\n",
    "### Módulo math\n",
    "\n",
    "El módulo math nos provee un gran abanico de funciones para trabajar con operaciones matemáticas, en particular:\n",
    "\n",
    "| Función  | Significado   | Ejemplo  | Resultado | \n",
    "|---|---|---|---|\n",
    "| ``math.sqrt(x)``  | $\\sqrt{x}$  | ``math.sqrt(4)``  | ``2.0``  |  \n",
    "| ``math.pow(x,y)``  | $x^{x}$  | ``math.pow(4, 0.5)``  | ``2.0``  |   \n",
    "| ``math.exp(x)``  | $e^{x}$  | ``math.exp(1)``  | ``2.7182...``  |\n",
    "| ``math.log(x)``  | $ln(x)$  | ``math.log(math.e)``  | ``1.0``  |\n",
    "| ``math.sin(x)``  | $sin(x)$  | ``math.sin(math.pi)``  | ``0.0``  |\n",
    "| ``math.cos(x)``  | $cos(x)$  | ``math.cos(math.pi)``  | ``-1.0``  |\n",
    "| ``math.tan(x)``  | $tan(x)$  | ``math.tan(math.pi)``  | ``0.0``  |\n",
    "\n",
    "\n"
   ]
  },
  {
   "cell_type": "markdown",
   "metadata": {},
   "source": [
    "Ejemplos:"
   ]
  },
  {
   "cell_type": "code",
   "execution_count": null,
   "metadata": {},
   "outputs": [],
   "source": [
    "import math\n",
    "\n",
    "math.pi     #Constante pi"
   ]
  },
  {
   "cell_type": "code",
   "execution_count": null,
   "metadata": {},
   "outputs": [],
   "source": [
    "math.sqrt(25) #Raiz cuadrada"
   ]
  },
  {
   "cell_type": "code",
   "execution_count": null,
   "metadata": {},
   "outputs": [],
   "source": [
    "math.pow(3,9)   #Potencia"
   ]
  },
  {
   "cell_type": "code",
   "execution_count": null,
   "metadata": {},
   "outputs": [],
   "source": [
    "math.trunc(3.9856)  #Truncar un numero al entero mas cercano a 0"
   ]
  },
  {
   "cell_type": "markdown",
   "metadata": {},
   "source": [
    "### Módulo Random\n",
    "\n",
    "El módulo random nos provee un gran abanico de funciones para trabajar con generación de valores aleatorios, permutaciones, distribuciones de probabilidad, entre otros. En particular:\n",
    "\n",
    "| Función  | Significado   | \n",
    "|---|---|\n",
    "| ``random.random()``  | numero `float` al azar en el intervalo $[0,1[$  | \n",
    "| ``random.randint(x,y)``  | número `int` al azar en el intervalo $[x,y]$  | \n"
   ]
  },
  {
   "cell_type": "markdown",
   "metadata": {},
   "source": [
    "### Módulos Propios\n",
    "\n",
    "También podemos crear nuestros propios módulos. Para esto, creamos un archivo `.py`, le damos un nombre, y dentro creamos las funciones que queremos encapsular."
   ]
  },
  {
   "cell_type": "markdown",
   "metadata": {},
   "source": [
    "\n",
    "`Archivo triangulo.py`"
   ]
  },
  {
   "cell_type": "code",
   "execution_count": null,
   "metadata": {},
   "outputs": [],
   "source": [
    "#perimetro: num num -> num\n",
    "#calcula el perimetro de un triangulo de lados a b y c \n",
    "#ejemplo: perimetro(3,4,5) entrega 12\n",
    "def perimetro(a,b,c):\n",
    "    return a + b +c \n",
    "\n",
    "#Test\n",
    "assert perimetro(3,4,5) == 12\n",
    "\n",
    "\n",
    "#area: num num -> float\n",
    "#calcula el area de un triangulo de lados a b y c\n",
    "#ejemplo: area(3,4,5) entrega 6\n",
    "def area(a,b,c):\n",
    "    semi = perimetro(a,b,c)/2\n",
    "    return (semi*(semi-a)*(semi-b)*(semi-c))**0.5\n",
    "\n",
    "#Test\n",
    "assert area(3,4,5) == 6.0\n"
   ]
  },
  {
   "cell_type": "markdown",
   "metadata": {},
   "source": [
    "### Extras\n",
    "\n",
    "Hay funciones que vienen incluidas en Python, y no es necesario invocar un módulo para usarlas. Algunas de ellas son:\n",
    "\n",
    "| Función  | Significado   | Ejemplo  | Resultado | \n",
    "|---|---|---|---|\n",
    "| ``abs(x)``  | $\\lvert x \\rvert$ valor absoluto de $x$  | ``abs(-4)``  | ``4``  |  \n",
    "| ``max(x, y, ...)``  | máximo entre todos los valores ingresados  | ``max(4, 3,-2,8)``  | ``8``  |   \n",
    "| ``min(x, y, ...)``  | mínimo entre todos los valores ingresados  | ``min(4, 3,-2,8)``  | ``-2``  |   \n",
    "| ``round(x,z)``  | Redondea un número decimal $x$, aproximándolo con $z$ decimales | ``round(2.73555,2)``  | ``2.74``  |\n",
    "| | |  ``round(2.73345)``  | ``3``  |"
   ]
  },
  {
   "cell_type": "markdown",
   "metadata": {},
   "source": [
    "### Programas interactivos\n",
    "\n",
    "Muchas veces un programa necesita interactuar con quien utiliza tal programa \n",
    "\n",
    "Por ejemplo, una persona ingresa los lados de un triangulo de 3 lados, y el programa responde con el área y perímetro de tal triangulo\n",
    "\n",
    "Para esto, Python nos provee las funciones ``input`` y ``print``\n",
    "\n",
    "``input(mensaje)``, permite que un programa pueda preguntar por datos a una persona, y guardarlos en variables\n",
    "\n",
    "```python\n",
    ">>> n = input('Ingrese un número: ')\n",
    "    ingrese un número: 4\n",
    ">>> n\n",
    "    '4'\n",
    "```\n",
    "\n",
    "``print(mensaje, ...)`` permite mostrar en pantalla un mensaje compuesto de una o más partes\n",
    "\n",
    "```python>>> print('La suma de 3+5 es ', 3+5)\n",
    "    La suma de 3+5 es  8\n",
    "```"
   ]
  },
  {
   "cell_type": "markdown",
   "metadata": {},
   "source": [
    "\n",
    "### import alternativo\n",
    "\n",
    "Una forma alternativa de invocar módulos es con la notación:\n",
    "\n",
    "``from <modulo> import <funciones>``\n",
    "\n",
    "Lo cual nos permite invocar el subconjunto de funciones que indiquemos. Si queremos invocar a todas las funciones del módulo, se puede colocar `*`\n",
    "\n",
    "``from <modulo> import *``\n",
    "\n",
    "Con esta forma, ya no es necesario anteponer el nombre del módulo al usar una función"
   ]
  },
  {
   "cell_type": "markdown",
   "metadata": {},
   "source": [
    "\n",
    "``triangulo_programainteractivo_v2.py``"
   ]
  },
  {
   "cell_type": "code",
   "execution_count": null,
   "metadata": {},
   "outputs": [],
   "source": [
    "from triangulo import *\n",
    "\n",
    "print(\"Calculemos el Área y Perímetro de un triangulo\")\n",
    "\n",
    "lado1 = input(\"Ingrese largo del primer lado: \")\n",
    "lado2 = input(\"Ingrese largo del segundo lado: \")\n",
    "lado3 = input(\"Ingrese largo del tercer lado: \")\n",
    "\n",
    "lado1 = float(lado1)\n",
    "lado2 = float(lado2)\n",
    "lado3 = float(lado3)\n",
    "\n",
    "print(\"El perímetro es: \", perimetro(lado1,lado2,lado3))\n",
    "print(\"El área es: \", area(lado1,lado2,lado3))"
   ]
  },
  {
   "cell_type": "markdown",
   "metadata": {},
   "source": [
    "---"
   ]
  },
  {
   "cell_type": "markdown",
   "metadata": {},
   "source": [
    "## Expresiones Condicionales\n",
    "\n",
    "Existen expresiones, que al ser evaluadas, retornan valores:\n",
    "\n",
    "- `True` (verdadero)\n",
    "\n",
    "- `False` (falso)\n",
    "\n",
    "Estos valores son de tipo lógico, o `bool` (booleanos). En particular, una expresión que da como resultado un valor de tipo lógico, se llama condición\n",
    "\n",
    "\n",
    "En cierto curso de álgebra, se hablaba de proposiciones verdaderas o falsas. En nuestro caso, para un par de números `x` e `y`, existen las siguientes comparaciones, las cuales se evalúan a `True` o `False`\n",
    "\n",
    "|Expresión | Significado | Ejemplo | Resultado |\n",
    "|---|---|---|---|\n",
    "| `x == y` | ¿Es `x` igual a `y`? | `5 == 7` | `False` | \n",
    "| `x < y` | ¿Es `x` menor que `y`? | `6 < 9` | `True` | \n",
    "| `x > y` | ¿Es `x` mayor que `y`? | `6 > 9` | `False` |\n",
    "| `x <= y` | ¿Es `x` menor o igual que `y`? | `8 <= 4` | `False` | \n",
    "| `x >= y` | ¿Es `x` mayor o igual que `y`? | `8 >= 8` | `True` |\n",
    "| `x != y` | ¿Es `x` distinto de `y`? | `5 != 7` | `True` |  "
   ]
  },
  {
   "cell_type": "markdown",
   "metadata": {},
   "source": [
    "Ejemplos:"
   ]
  },
  {
   "cell_type": "code",
   "execution_count": null,
   "metadata": {},
   "outputs": [],
   "source": [
    "5 > 7"
   ]
  },
  {
   "cell_type": "markdown",
   "metadata": {},
   "source": [
    "Tambíen podemos comparar valores almacenadados en variables"
   ]
  },
  {
   "cell_type": "code",
   "execution_count": null,
   "metadata": {},
   "outputs": [],
   "source": [
    "x = 3\n",
    "y = 6\n",
    "z = 6"
   ]
  },
  {
   "cell_type": "code",
   "execution_count": null,
   "metadata": {},
   "outputs": [],
   "source": [
    "z == 3"
   ]
  },
  {
   "cell_type": "code",
   "execution_count": null,
   "metadata": {},
   "outputs": [],
   "source": [
    "z == y "
   ]
  },
  {
   "cell_type": "code",
   "execution_count": null,
   "metadata": {},
   "outputs": [],
   "source": [
    "y >= z"
   ]
  },
  {
   "cell_type": "markdown",
   "metadata": {},
   "source": [
    "Tambíen podemos comparar cadenas de texto, en cuyo caso se usa la *comparación lexicográfica* o *comparación de diccionario (`A < Z < a < z`), en donde cada carácter adquiere un valor de acuerdo a su posición en la tabla *Unicode*"
   ]
  },
  {
   "cell_type": "code",
   "execution_count": null,
   "metadata": {},
   "outputs": [],
   "source": [
    "x = 'gatito'\n",
    "y = 'perrito'\n",
    "z = 'gatito'"
   ]
  },
  {
   "cell_type": "code",
   "execution_count": null,
   "metadata": {},
   "outputs": [],
   "source": [
    "z == y"
   ]
  },
  {
   "cell_type": "code",
   "execution_count": null,
   "metadata": {},
   "outputs": [],
   "source": [
    "z == x "
   ]
  },
  {
   "cell_type": "code",
   "execution_count": null,
   "metadata": {},
   "outputs": [],
   "source": [
    "x > y "
   ]
  },
  {
   "cell_type": "markdown",
   "metadata": {},
   "source": [
    "### Condiciones Compuestas\n",
    "\n",
    "Es posible obtener condiciones compuestas, mediante conectores lógicos:\n",
    "\n",
    "\n",
    "| Conector | Interpretación |\n",
    "|---|---|\n",
    "| `x and y` | Es `True` si tanto `x` como `y` son `True`| \n",
    "| `x or y` | Es `True` al menos `x` o `y` es `True`|\n",
    "| `not y` | Niega el resultado de la expresión inmediatamente a su derecha|\n",
    "\n",
    "La prioridad de evaluación es: primero `not`, luego `and` y finalmente `or`\n",
    "\n",
    "Por ejemplo, la expresión:\n",
    "\n",
    "```python\n",
    "not x == y and y <= z or y < z\n",
    "```\n",
    "\n",
    "Es equivalente a:\n",
    "\n",
    "```python\n",
    "((not x == y) and (y <= z)) or (y < z)\n",
    "```"
   ]
  },
  {
   "cell_type": "markdown",
   "metadata": {},
   "source": [
    "Ejemplos:"
   ]
  },
  {
   "cell_type": "code",
   "execution_count": null,
   "metadata": {},
   "outputs": [],
   "source": [
    "x = 5\n",
    "y = 5\n",
    "z = 6"
   ]
  },
  {
   "cell_type": "code",
   "execution_count": null,
   "metadata": {},
   "outputs": [],
   "source": [
    "x == y and y < z    #ambas se cumplen por separado"
   ]
  },
  {
   "cell_type": "code",
   "execution_count": null,
   "metadata": {},
   "outputs": [],
   "source": [
    "z = 4\n",
    "x == y and y < z    #ahora solo 1 se cumple"
   ]
  },
  {
   "cell_type": "code",
   "execution_count": null,
   "metadata": {},
   "outputs": [],
   "source": [
    "x == y or y < z     #con or, solo basta que 1 se cumpla"
   ]
  },
  {
   "cell_type": "markdown",
   "metadata": {},
   "source": [
    "## Instrucción `if`\n",
    "\n",
    "La instrucción `if` corresponde a una sentencia de control de flujo, que nos permite decidir que es lo que hará un programa, dependiendo si se cumple o no una condición\n",
    "\n",
    "### Sintaxis\n",
    "\n",
    "```python\n",
    "if condición:\n",
    "    instrucciones1\n",
    "else:\n",
    "    instrucciones2\n",
    "```\n",
    "\n",
    "El bloque de `instrucciones1` se ejecutará solo si la `condición` es `True`. Si la `condición` se evalúa a `False`, entonces se ejecutará el bloque de `instrucciones2`. (notar que **else no lleva condición**)\n",
    "\n",
    "Todas las instrucciones que pertenezcan a un `if-else`, deben ir en un nivel de identación mas a la derecha.\n",
    "\n",
    "Con ayuda de la instrucción `if-else`, podemos construir funciones condicionales, que entregan un resultado distinto, dependiendo de los parámetros de entrada ingresados\n",
    "\n",
    "---\n",
    "\n",
    "### Ejemplo 1: función esPar\n",
    "\n",
    "Veamos como ejemplo, una función para determinar si un número entero dado es par o impar\n",
    "\n",
    "![](img1_espar.svg)\n",
    "\n",
    "**¿Qué consideraciones hay que tener al aplicar la receta de diseño sobre funciones condicionales?**\n",
    "\n",
    "- Identificar cada una de las situaciones posibles que pueden ocurrir en la función, dependiendo de los valores de entrada\n",
    "\n",
    "- Dar ejemplos de uso y test para cada escenario anterior\n",
    "\n",
    "- Diseñar las condiciones adecuadas para cada escenario\n",
    "\n",
    "- Ver si es posible simplificar condiciones o agrupar escenarios\n"
   ]
  },
  {
   "cell_type": "markdown",
   "metadata": {},
   "source": [
    "``Función esPar``"
   ]
  },
  {
   "cell_type": "code",
   "execution_count": null,
   "metadata": {},
   "outputs": [],
   "source": [
    "#esPar: int -> bool\n",
    "#True si un numero entero es par\n",
    "#ej: esPar(4) entrega True\n",
    "#    esPar(7) entrega False\n",
    "def esPar(n):\n",
    "    # completar\n",
    "\n",
    "# Test\n",
    "assert esPar(4) == True\n",
    "assert esPar(7) == False "
   ]
  },
  {
   "cell_type": "markdown",
   "metadata": {},
   "source": [
    "Cuando una función recibe o entrega valores lógicos, se usa el tipo de dato ``bool``\n",
    "\n",
    "``Función esPar v2``\n",
    "\n",
    "Caso especial: se puede simplificar el cuerpo de función que entrega `bool`, si es que está depende del resultado de una evaluación lógica. Tambien se pueden simplificar los test, si es que se trata de una función que entrega ``bool``"
   ]
  },
  {
   "cell_type": "code",
   "execution_count": null,
   "metadata": {},
   "outputs": [],
   "source": [
    "#esPar: int -> bool\n",
    "#True si un numero entero es par\n",
    "#ej: esPar(4) entrega True\n",
    "#    esPar(7) entrega False\n",
    "def esPar(n):\n",
    "    return n%2 == 0\n",
    "\n",
    "# Test\n",
    "assert esPar(4)\n",
    "assert not esPar(7)"
   ]
  },
  {
   "cell_type": "markdown",
   "metadata": {},
   "source": [
    "``assert not esPar(7)`` se puede leer como \"Afirmamos que NO se cumple que 7 sea par\"\n",
    "\n",
    "---"
   ]
  },
  {
   "cell_type": "markdown",
   "metadata": {},
   "source": [
    "### Ejemplo 2: función mayorDe3\n",
    "\n",
    "Escribamos una función que recibe tres números enteros, y nos entregue el mayor de ellos, con la restricción de que no podemos usar las funciones `min` y `max`.\n",
    "\n",
    "Podemos usar condicionales, para determinar que número es mayor que otro, y así llegar al resultado final.\n",
    "\n",
    "\n",
    "![](img2_mayor3.svg)\n",
    "\n"
   ]
  },
  {
   "cell_type": "markdown",
   "metadata": {},
   "source": [
    "``Función mayorDe3 (Receta de diseño)``"
   ]
  },
  {
   "cell_type": "code",
   "execution_count": null,
   "metadata": {},
   "outputs": [],
   "source": [
    "#mayorDe3: int int int -> int\n",
    "#devuelve el mayor de tres numeros\n",
    "#ej: mayorDe3(4,7,1) entrega 7\n",
    "#    mayorDe3(7,7,7) entrega 7\n",
    "def mayorDe3(x,y,z):\n",
    "    ...\n",
    "    \n",
    "# Test\n",
    "assert mayorDe3(4,7,1) == 7\n",
    "assert mayorDe3(7,7,7) == 7"
   ]
  },
  {
   "cell_type": "markdown",
   "metadata": {},
   "source": [
    "``Función mayorDe3 (solución v1)``\n",
    "\n",
    "Comparamos dos de los números. Dependiendo de quien de ellos es el mayor, lo comparamos con el número restante"
   ]
  },
  {
   "cell_type": "code",
   "execution_count": null,
   "metadata": {},
   "outputs": [],
   "source": [
    "def mayorDe3(x,y,z):\n",
    "    if x >= y:\n",
    "        if x >= z:\n",
    "            return x\n",
    "        else:\n",
    "            return z\n",
    "    else:\n",
    "        if y >= z:\n",
    "            return y\n",
    "        else:\n",
    "            return z"
   ]
  },
  {
   "cell_type": "markdown",
   "metadata": {},
   "source": [
    "Con esto notamos que:\n",
    "\n",
    "- Está permitido colocar una rama `if-else` dentro de un `if-else`\n",
    "\n",
    "- Si se cumple la condición, entonces solo se ejecuta el primer sub-bloque de instrucciones\n",
    "\n",
    "- Si no se cumple la condición, entonces solo se ejecuta el segundo sub-bloque de instrucciones\n",
    "\n"
   ]
  },
  {
   "cell_type": "markdown",
   "metadata": {},
   "source": [
    "`Función mayorDe3 (solución v2)`\n",
    "\n",
    "Arbitrariamente elegimos uno de los números como el mayor, y lo comparamos con los demás. Si encontramos alguien que es mayor que el que tenemos guardado, entonces lo remplazamos\n"
   ]
  },
  {
   "cell_type": "code",
   "execution_count": null,
   "metadata": {},
   "outputs": [],
   "source": [
    "def mayorDe3(x,y,z):\n",
    "    mayor = x    \n",
    "    \n",
    "    if y >= mayor:\n",
    "        mayor = y\n",
    "    \n",
    "    if z >= mayor:\n",
    "        mayor = z\n",
    "\n",
    "    return mayor\n"
   ]
  },
  {
   "cell_type": "markdown",
   "metadata": {},
   "source": [
    "Con esto notamos que:\n",
    "\n",
    "- No es obligatorio colocar un `else`\n",
    "\n",
    "- Si `y` es mayor que `x`, entonces reemplazamos el mayor por `y`. En caso contrario no hacemos nada\n",
    "\n",
    "\n"
   ]
  },
  {
   "cell_type": "markdown",
   "metadata": {},
   "source": [
    "`Función mayorDe3 (solución v3)`\n",
    "\n",
    "Podemos usar condiciones compuestas para descartar una rama de una sola vez\n"
   ]
  },
  {
   "cell_type": "code",
   "execution_count": null,
   "metadata": {},
   "outputs": [],
   "source": [
    "def mayorDe3(x,y,z):\n",
    "    if x >= y and x >= z:\n",
    "        return x\n",
    "    else:\n",
    "        if y >= z:\n",
    "            return y\n",
    "        else:\n",
    "            return z"
   ]
  },
  {
   "cell_type": "markdown",
   "metadata": {},
   "source": [
    "Con esto notamos que:\n",
    "\n",
    "- Podemos usar `and`, `or` y `not` para hacer preguntas condicionales mas complejas\n",
    "\n",
    "- A partir del primer `else`, podemos olvidarnos de `x`... El mayor solo se encontará entre `y` o `z`\n",
    "\n",
    "- Si... el segundo `else` puede omitirse\n",
    "\n",
    "---\n"
   ]
  },
  {
   "cell_type": "markdown",
   "metadata": {},
   "source": [
    "\n",
    "### Ejemplo 3: Programa interactivo nota final\n",
    "\n",
    "Escribamos un programa interactivo, que dada la nota del examen de grado, nos indique la calificación apropiada, de acuerdo al siguiente dialogo:\n",
    "\n",
    "```python\n",
    "Nota? ___\n",
    "Calificación = ___\n",
    "```\n",
    "Donde la calificación viene dada por:\n",
    "\n",
    "| Nota | Calificación |\n",
    "|---|---|\n",
    "|`1.0 - 3.9`| Reprobado(a)|\n",
    "|`4.0 - 4.9`| Aprobado(a)|\n",
    "|`5.0 - 5.9`| Aprobado(a) con Distinción|\n",
    "|`6.0 - 7.0`| Aprobado(a) con Distinción Máxima|\n",
    "|`<1.0 o >7.0`| Fuera de rango|"
   ]
  },
  {
   "cell_type": "markdown",
   "metadata": {},
   "source": [
    "`Programa interactivo (solución v1)`\n",
    "\n",
    "Dependiendo de la nota que nos ingresen, determinamos cual es la calificación que corresponde"
   ]
  },
  {
   "cell_type": "code",
   "execution_count": null,
   "metadata": {},
   "outputs": [],
   "source": [
    "nota = float(input(\"nota?\"))\n",
    "print(\"Calificación = \", end=\"\")\n",
    "\n",
    "if 1.0 <= nota and nota <= 3.9:\n",
    "    print(\"Reprobado(a)\")\n",
    "if 4.0 <= nota and nota <= 4.9:\n",
    "    print(\"Aprobado(a)\")\n",
    "if 5.0 <= nota and nota <= 5.9:\n",
    "    print(\"Aprobado(a) con Distinción\")\n",
    "if 6.0 <= nota and nota <= 7.0:\n",
    "    print(\"Aprobado(a) con Distinción Máxima\")\n",
    "if nota < 1.0 or nota > 7.0:\n",
    "    print(\"Fuera de Rango\")"
   ]
  },
  {
   "cell_type": "markdown",
   "metadata": {},
   "source": [
    "Notamos que:\n",
    "\n",
    "- Al colocar `end=\"\"`, permite que el siguiente `print` se muestre en la misma línea que ese `print`\n",
    "\n",
    "\n",
    "El problema de la solución anterior, es que siempre evaluaremos todas las condiciones. Eventualmente esto puede ser costoso computacionalmente, si tenemos que buscar una respuesta entre múltiples opciones.\n",
    "\n",
    "Una forma de evitar esto, es evaluar condiciones hasta que nos encontremos con la primera opción verdadera:\n",
    "\n",
    "```python\n",
    "if 1.0 <= nota and nota <= 3.9:\n",
    "    print(\"Reprobado(a)\")\n",
    "else:\n",
    "    if 4.0 <= nota and nota <= 4.9:\n",
    "        print(\"Aprobado(a)\")\n",
    "    else:\n",
    "        if 5.0 <= nota and nota <= 5.9:\n",
    "            ...\n",
    "```\n",
    "\n",
    "Sin embargo, este approach se puede volver inmanejable y difícil de leer, entender y mantener rápidamente. Algunos lenguajes (como Python) nos permiten abreviar bloques `else-if` con la instrucción `elif`\n",
    "\n",
    "```python\n",
    "if condición1:\n",
    "    instrucciones01\n",
    "else:\n",
    "    if condición2:\n",
    "        instrucciones02\n",
    "    else:\n",
    "        if condición3:\n",
    "            instrucciones03\n",
    "        else:\n",
    "            instrucciones04\n",
    "```\n",
    "\n",
    "Es equivalente a:\n",
    "\n",
    "```python\n",
    "if condición1:\n",
    "    instrucciones01\n",
    "elif condición2:\n",
    "    instrucciones02\n",
    "elif condición3:\n",
    "    instrucciones03\n",
    "else:\n",
    "    instrucciones04\n",
    "```\n",
    "\n",
    "`Programa interactivo (solución v2)`\n",
    "\n",
    "Usamos `elif` para generar el efecto de \"selección múltiple\", y simplificamos las condiciones\n",
    "\n"
   ]
  },
  {
   "cell_type": "code",
   "execution_count": null,
   "metadata": {},
   "outputs": [],
   "source": [
    "nota = float(input(\"nota?\"))\n",
    "print(\"Calificación = \", end=\"\")\n",
    "\n",
    "if nota < 1.0 or nota > 7.0:\n",
    "    print(\"Fuera de Rango\")\n",
    "elif nota < 4.0:\n",
    "    print(\"Reprobado(a)\")\n",
    "elif nota < 5.0:\n",
    "    print(\"Aprobado(a)\")\n",
    "elif nota < 6.0:\n",
    "    print(\"Aprobado(a) con Distinción\")\n",
    "else:\n",
    "    print(\"Aprobado(a) con Distinción Máxima\")"
   ]
  },
  {
   "cell_type": "markdown",
   "metadata": {},
   "source": [
    "Notamos que:\n",
    "\n",
    "- Si llegamos a alguna de las condiciones (ej: ``nota < 5.0``), podemos asumir que esa nota ya es sobre 4.0 (o hubiese sido capturada en el paso anterior), por lo que no es necesario volver a preguntarlo\n",
    "\n",
    "- Por descarte, si la nota no fue abordada por ninguno de los casos anteriores, entonces si o si está entre 6 y 7.\n",
    "\n",
    "---"
   ]
  },
  {
   "cell_type": "markdown",
   "metadata": {},
   "source": [
    "### Ejemplo 4: Función jaliscoCachipun\n",
    "\n",
    "Escribamos una función \"tramposa\", que siempre entregue la jugada ganadora del juego del cachipún, dada una jugada conocida (piedra, papel o tijera)\n",
    "\n",
    "![](img3_cachipun.svg)\n",
    "\n",
    "``Función jaliscoCachipun (solución)``\n",
    "\n",
    "Dependiendo de la jugada ingresada, entregamos la jugada que le gana"
   ]
  },
  {
   "cell_type": "code",
   "execution_count": null,
   "metadata": {},
   "outputs": [],
   "source": [
    "# jaliscoCachipun: str -> str\n",
    "# entrega la jugada ganadora del cachipun\n",
    "# ej: jaliscoCachipun(\"papel\") entrega \"tijera\"\n",
    "def jaliscoCachipun(jugada):\n",
    "    # completar\n",
    "\n",
    "# Test\n",
    "assert jaliscoCachipun(\"papel\") == \"tijera\""
   ]
  },
  {
   "cell_type": "markdown",
   "metadata": {},
   "source": [
    "Este es un caso de función donde realizamos comparaciones entre *strings/textos*\n",
    "\n",
    "---"
   ]
  },
  {
   "cell_type": "markdown",
   "metadata": {},
   "source": [
    "### Propuestos\n",
    "\n",
    "- Sin usar `min` y `max`, escriba una función que permita obtener el mayor de 4 números dados\n",
    "\n",
    "- Cree una función, que simule el lanzamiento de una moneda, y entregue \"cara\" o \"sello\" de manera aleatoria"
   ]
  }
 ],
 "metadata": {
  "kernelspec": {
   "display_name": "Python 3 (ipykernel)",
   "language": "python",
   "name": "python3"
  },
  "language_info": {
   "codemirror_mode": {
    "name": "ipython",
    "version": 3
   },
   "file_extension": ".py",
   "mimetype": "text/x-python",
   "name": "python",
   "nbconvert_exporter": "python",
   "pygments_lexer": "ipython3",
   "version": "3.10.5"
  },
  "vscode": {
   "interpreter": {
    "hash": "98b95ce4537a043c6c2f8047f97d2678115deb8444c76d437608d4f0db95d495"
   }
  }
 },
 "nbformat": 4,
 "nbformat_minor": 4
}
