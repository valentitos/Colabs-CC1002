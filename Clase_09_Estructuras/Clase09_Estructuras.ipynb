{
 "cells": [
  {
   "cell_type": "markdown",
   "metadata": {},
   "source": [
    "<a href=\"https://colab.research.google.com/github/valentitos/Colabs-CC1002/blob/main/Clase_09_Estructuras/Clase09_Estructuras.ipynb\" target=\"_parent\"><img src=\"https://colab.research.google.com/assets/colab-badge.svg\" alt=\"Open In Colab\"/></a>"
   ]
  },
  {
   "cell_type": "markdown",
   "metadata": {},
   "source": [
    "---\n",
    "\n",
    "**Paso previo solo para colab**\n",
    "\n",
    "En la unidad 2 usaremos el módulo `estructura.py` y `lista.py` (entre otros), los cuales son módulos personalizados para este curso. Para poder usarlos en colab, tenemos que hacer lo siguiente:\n",
    "\n",
    "- Crear en nuestro Google Drive, una carpeta donde guardar estos módulos. Supongamos que creamos una carpeta llamada `\"CC1002_modulos\"` (sin comillas)\n",
    "- En esa carpeta, guardar estos módulos (los pueden descargar desde material docente de Ucursos, o usar estos links directos)\n",
    "  - `estructura.py`: https://drive.google.com/file/d/1CoJT4QqCOdWV12hhZACRt3YMlU5xjqQV/view?usp=drive_link\n",
    "- Ejecutar la siguiente celda"
   ]
  },
  {
   "cell_type": "code",
   "execution_count": null,
   "metadata": {},
   "outputs": [],
   "source": [
    "from google.colab import drive\n",
    "drive.mount('/content/drive', force_remount=True)\n",
    "\n",
    "import sys\n",
    "sys.path.append('/content/drive/MyDrive/CC1002_modulos')"
   ]
  },
  {
   "cell_type": "markdown",
   "metadata": {},
   "source": [
    "Reemplacen la parte que dice: `\"CC1002_modulos\"` por la carpeta que uds. crearon en su Gdrive\n",
    "\n",
    "Puede que les pida permisos para que colab acceda a Gdrive, los cuales pueden aceptar nomas, ya que no estamos haciendo operaciones \"peligrosas\".\n",
    "\n",
    "Con esto, no debiesen tener problemas para usar estructuras en colab.\n",
    "\n",
    "---"
   ]
  },
  {
   "cell_type": "markdown",
   "metadata": {},
   "source": [
    "# Clase 09: Estructuras\n",
    "\n",
    "## Datos Compuestos\n",
    "\n",
    "Hasta ahora, hemos visto únicamente como operar con tipos de datos \"simples\" (`int`, `float`, `str`, `bool`, etc.). Sin embargo, es recurrente tener que manipular valores compuestos, que corresponden a combinaciones de estos tipos de datos simples.\n",
    "\n",
    "### Ejemplo: suma entre dos fracciones dadas. \n",
    "\n",
    "Por ejemplo, supongamos que queremos crear una función que nos permita sumar dos fracciones ¿Cómo podemos representar una fracción?\n",
    "\n",
    "- ¿Dos variables `int`, asociadas por conveniencia?\n",
    "\n",
    "- ¿Un número `float`, indicando el valor de tal fracción?\n",
    "\n",
    "Con lo que sabemos hasta ahora, podríamos, por ejemplo, crear una función que recibe 4 `ints` (que representan el numerador y denominador de las fracciones) y entrega como resultado el valor `float` de tal suma\n"
   ]
  },
  {
   "cell_type": "code",
   "execution_count": 4,
   "metadata": {},
   "outputs": [],
   "source": [
    "from cerca import *\n",
    "\n",
    "# sumaFracciones: int int int int -> float\n",
    "# calcula la suma entre 2 fracciones a/b y c/d\n",
    "# ej: sumaFracciones(1,2,3,4) entrega 1.25\n",
    "def sumaFracciones(a, b, c, d):\n",
    "    assert type(a) == int and type(b) == int\n",
    "    assert type(c) == int and type(d) == int\n",
    "    assert b != 0 and d!=0\n",
    "\n",
    "    return (a*d + b*c)/(b*d)\n",
    "\n",
    "# Test\n",
    "assert cerca(sumaFracciones(1,2,3,4), 1.25, 0.01)"
   ]
  },
  {
   "cell_type": "code",
   "execution_count": 5,
   "metadata": {},
   "outputs": [
    {
     "data": {
      "text/plain": [
       "1.2375"
      ]
     },
     "execution_count": 5,
     "metadata": {},
     "output_type": "execute_result"
    }
   ],
   "source": [
    "sumaFracciones(4,5,7,16)   # suma 4/5 + 7/16"
   ]
  },
  {
   "cell_type": "markdown",
   "metadata": {},
   "source": [
    "Lo anterior es poco práctico, pues necesitamos 2 variables separadas para referirnos a un único \"objeto\" (en este caso, una fracción).\n",
    "\n",
    "Además, tenemos un problema \"conceptual\", puesto que si bien la función recibe 2 \"fracciones\" bajo un tipo de representación, entrega como resultado una \"fracción\" bajo otro esquema de representación\n",
    "\n",
    "Para poder trabajar con agrupaciones de tipos de datos simples, que en su conjunto representen algo mas complejo, existen las **estructuras**\n"
   ]
  },
  {
   "cell_type": "markdown",
   "metadata": {},
   "source": [
    "## Estructuras\n",
    "\n",
    "Una estructura es una agrupación de un número fijo de valores (componentes), que permiten encapsular un determinado comportamiento, para formar un único valor compuesto.\n",
    "\n",
    "Para trabajar con estructuras en este curso, disponemos del módulo `estructura.py`, que contiene las definiciones para poder crear estructuras\n",
    "\n",
    "```python\n",
    "import estructura\n",
    "\n",
    "estructura.crear(\"nombre\",\"atributo1 atributo2 ... atributoN\")\n",
    "```\n",
    "\n",
    "Este modulo provee la función `crear`, que recibe dos strings: \n",
    "\n",
    "- El primero corresponde al nombre que recibirá la estructura/tipo de dato compuesto\n",
    "\n",
    "- El segundo corresponde a los atributos que tendrá la estructura, separados por espacio\n",
    "\n",
    "Luego, la receta de diseño para estructuras, indica que hay que incluir:\n",
    "\n",
    "- **Contrato de estructuras**: nombre de la estructura, junto a los nombres de sus atributos y el tipo de dato de ellos\n",
    "\n",
    "- **Definición**: Creación de la estructura, entregando su nombre como ``str``, y todos los nombres de los atributos en un ``str`` separado por espacios\n",
    "\n",
    "### Ejemplo: Estructura Fraccion"
   ]
  },
  {
   "cell_type": "code",
   "execution_count": 6,
   "metadata": {},
   "outputs": [],
   "source": [
    "import estructura\n",
    "\n",
    "# fraccion: numerador (int) denominador(int)\n",
    "estructura.crear(\"Fraccion\", \"numerador denominador\")"
   ]
  },
  {
   "cell_type": "markdown",
   "metadata": {},
   "source": [
    "Por razones de conveniencia, conviene guardar en un mismo archivo/módulo, la definición de la estructura, junto a las eventuales funciones que operen con este nuevo tipo de dato.\n",
    "\n",
    "Ahora que tenemos la definición de Fraccion, podemos crear estructuras Fraccion y operar con ella"
   ]
  },
  {
   "cell_type": "code",
   "execution_count": 7,
   "metadata": {},
   "outputs": [
    {
     "data": {
      "text/plain": [
       "estructura.Fraccion"
      ]
     },
     "execution_count": 7,
     "metadata": {},
     "output_type": "execute_result"
    }
   ],
   "source": [
    "Fraccion"
   ]
  },
  {
   "cell_type": "code",
   "execution_count": 8,
   "metadata": {},
   "outputs": [],
   "source": [
    "f = Fraccion(5,8)"
   ]
  },
  {
   "cell_type": "code",
   "execution_count": 9,
   "metadata": {},
   "outputs": [
    {
     "data": {
      "text/plain": [
       "estructura.Fraccion"
      ]
     },
     "execution_count": 9,
     "metadata": {},
     "output_type": "execute_result"
    }
   ],
   "source": [
    "type(f)"
   ]
  },
  {
   "cell_type": "code",
   "execution_count": 10,
   "metadata": {},
   "outputs": [
    {
     "data": {
      "text/plain": [
       "Fraccion(numerador=5, denominador=8)"
      ]
     },
     "execution_count": 10,
     "metadata": {},
     "output_type": "execute_result"
    }
   ],
   "source": [
    "f"
   ]
  },
  {
   "cell_type": "code",
   "execution_count": 11,
   "metadata": {},
   "outputs": [
    {
     "data": {
      "text/plain": [
       "5"
      ]
     },
     "execution_count": 11,
     "metadata": {},
     "output_type": "execute_result"
    }
   ],
   "source": [
    "f.numerador"
   ]
  },
  {
   "cell_type": "code",
   "execution_count": 12,
   "metadata": {},
   "outputs": [
    {
     "data": {
      "text/plain": [
       "8"
      ]
     },
     "execution_count": 12,
     "metadata": {},
     "output_type": "execute_result"
    }
   ],
   "source": [
    "f.denominador"
   ]
  },
  {
   "cell_type": "markdown",
   "metadata": {},
   "source": [
    "**Warning**: Las estructuras **no son mutables**, es decir, una vez creado el dato compuesto, no es posible modificar sus atributos."
   ]
  },
  {
   "cell_type": "code",
   "execution_count": 13,
   "metadata": {},
   "outputs": [
    {
     "ename": "AttributeError",
     "evalue": "can't set attribute",
     "output_type": "error",
     "traceback": [
      "\u001b[1;31m---------------------------------------------------------------------------\u001b[0m",
      "\u001b[1;31mAttributeError\u001b[0m                            Traceback (most recent call last)",
      "\u001b[1;32md:\\OneDrive\\Cursos - CC1002\\CC1002 2022-02\\python-vscode\\Clase09\\Clase09_Estructuras.ipynb Celda 15\u001b[0m in \u001b[0;36m<cell line: 2>\u001b[1;34m()\u001b[0m\n\u001b[0;32m      <a href='vscode-notebook-cell:/d%3A/OneDrive/Cursos%20-%20CC1002/CC1002%202022-02/python-vscode/Clase09/Clase09_Estructuras.ipynb#X56sZmlsZQ%3D%3D?line=0'>1</a>\u001b[0m f \u001b[39m=\u001b[39m Fraccion(\u001b[39m5\u001b[39m, \u001b[39m8\u001b[39m)\n\u001b[1;32m----> <a href='vscode-notebook-cell:/d%3A/OneDrive/Cursos%20-%20CC1002/CC1002%202022-02/python-vscode/Clase09/Clase09_Estructuras.ipynb#X56sZmlsZQ%3D%3D?line=1'>2</a>\u001b[0m f\u001b[39m.\u001b[39;49mdenominador \u001b[39m=\u001b[39m \u001b[39m9\u001b[39m\n",
      "\u001b[1;31mAttributeError\u001b[0m: can't set attribute"
     ]
    }
   ],
   "source": [
    "f = Fraccion(5, 8)\n",
    "f.denominador = 9"
   ]
  },
  {
   "cell_type": "markdown",
   "metadata": {},
   "source": [
    "Si queremos sobrescribir un atributo, tenemos que crear nuevamente el dato compuesto, con los campos modificados"
   ]
  },
  {
   "cell_type": "code",
   "execution_count": 16,
   "metadata": {},
   "outputs": [
    {
     "name": "stdout",
     "output_type": "stream",
     "text": [
      "Fraccion(numerador=5, denominador=9)\n"
     ]
    }
   ],
   "source": [
    "f = Fraccion(f.numerador, 9)\n",
    "print(f)"
   ]
  },
  {
   "cell_type": "markdown",
   "metadata": {},
   "source": [
    "Las estructuras son solo una agrupación de valores, así que nada impide que podamos crear una \"fracción\" con atributos que no vienen al caso"
   ]
  },
  {
   "cell_type": "code",
   "execution_count": 17,
   "metadata": {},
   "outputs": [
    {
     "name": "stdout",
     "output_type": "stream",
     "text": [
      "Fraccion(numerador='gatito', denominador='ocho')\n"
     ]
    }
   ],
   "source": [
    "f2 = Fraccion(\"gatito\",\"ocho\")\n",
    "print(f2)\n"
   ]
  },
  {
   "cell_type": "markdown",
   "metadata": {},
   "source": [
    "Por lo que típicamente, la primera función que se crea, es una que permita verificar las **precondiciones** que debe cumplir la estructura, lo que se conoce como **función validadora**"
   ]
  },
  {
   "cell_type": "code",
   "execution_count": 18,
   "metadata": {},
   "outputs": [],
   "source": [
    "# esFraccion: any -> bool\n",
    "# entrega True si el parametro es una fracción valida\n",
    "# ej: esFraccion( Fraccion(5,8) ) entrega True\n",
    "#     esFraccion( \"gatito\" ) entrega False\n",
    "def esFraccion(F):\n",
    "\n",
    "    return type(F) == Fraccion and \\\n",
    "           type(F.numerador) == int and \\\n",
    "           type(F.denominador) == int and \\\n",
    "           F.denominador != 0\n",
    "\n",
    "# Test\n",
    "assert esFraccion(Fraccion(5,8))\n",
    "assert not esFraccion(\"gatito\")\n",
    "assert not esFraccion(Fraccion(\"gatito\",0))"
   ]
  },
  {
   "cell_type": "markdown",
   "metadata": {},
   "source": [
    "Validamos:\n",
    "\n",
    "- Que sea Fracción\n",
    "\n",
    "- Que numerador y denominador sean enteros\n",
    "\n",
    "- Que el denominador no sea 0\n",
    "\n",
    "Además, con `\\` es posible escribir una línea en varias líneas\n"
   ]
  },
  {
   "cell_type": "markdown",
   "metadata": {},
   "source": [
    "Alternativamente, podemos ir verificando paso por paso si no cumple alguna de las propiedades. Luego, por descarte, si lo recibido como parámetro no fue descartado en los pasos anteriores, entonces cumple con ser Fracción"
   ]
  },
  {
   "cell_type": "code",
   "execution_count": null,
   "metadata": {},
   "outputs": [],
   "source": [
    "# esFraccion: any -> bool\n",
    "# entrega True si el parametro es una fracción valida\n",
    "# ej: esFraccion( Fraccion(5,8) ) entrega True\n",
    "#     esFraccion( \"gatito\" ) entrega False\n",
    "def esFraccion(F):\n",
    "\n",
    "    if type(F) != Fraccion:\n",
    "        return False\n",
    "    elif type(F.numerador) != int:\n",
    "        return False\n",
    "    elif type(F.denominador) != int:\n",
    "        return False\n",
    "    elif F.denominador == 0:\n",
    "        return False\n",
    "\n",
    "    return True\n",
    "# Test\n",
    "assert esFraccion(Fraccion(5,8))\n",
    "assert not esFraccion(\"gatito\")\n",
    "assert not esFraccion(Fraccion(\"gatito\",0))"
   ]
  },
  {
   "cell_type": "markdown",
   "metadata": {},
   "source": [
    "## Funciones que operan con Fracciones\n",
    "\n",
    "Ahora que tenemos una estructura `Fraccion` y su función validadora, podemos crear algunas funciones que operan con fracciones:\n",
    "\n",
    "- Sumar dos fracciones\n",
    "- Obtener su valor decimal\n",
    "\n",
    "### Función `suma(F1,F2)`\n",
    "\n",
    "![](img1_frac1.svg)"
   ]
  },
  {
   "cell_type": "code",
   "execution_count": 19,
   "metadata": {},
   "outputs": [],
   "source": [
    "# suma: Fraccion Fraccion -> Fraccion\n",
    "# devuelve una Fracción que representa la suma de dos Fracciones\n",
    "# ej: suma( Fraccion(5,8), Fraccion(1,2)) entrega Fraccion(18,16)\n",
    "def suma(F1,F2):\n",
    "    assert esFraccion(F1) and esFraccion(F2)\n",
    "\n",
    "    # extraemos de las fracciones los datos necesarios\n",
    "    # para calcular el nuevo numerador y denominador\n",
    "    num = F1.numerador * F2.denominador + \\\n",
    "          F2.numerador * F1.denominador\n",
    "    den = F1.denominador * F2.denominador\n",
    "    \n",
    "    # Construimos una nueva Fracción con la respuesta final\n",
    "    return Fraccion(num, den)\n",
    "\n",
    "# Test\n",
    "assert suma(Fraccion(5,8), Fraccion(1,2)) == Fraccion(18,16)"
   ]
  },
  {
   "cell_type": "markdown",
   "metadata": {},
   "source": [
    "### Función `valorDec(F)`\n",
    "\n",
    "![](img2_frac2.svg)"
   ]
  },
  {
   "cell_type": "code",
   "execution_count": 20,
   "metadata": {},
   "outputs": [],
   "source": [
    "# valorDec: Fraccion -> float\n",
    "# entrega el valor decimal de una fracción\n",
    "# ej: valorDec(Fraccion(5,8)) entrega 0.625\n",
    "def valorDec(F):\n",
    "    assert esFraccion(F)\n",
    "    # extraemos los datos para calcular el valor\n",
    "    # decimal y lo entregamos\n",
    "    d = F.numerador / F.denominador\n",
    "    \n",
    "    return d\n",
    "\n",
    "# test\n",
    "assert cerca(valorDec(Fraccion(5,8)), 0.625, 0.01)\n",
    "assert cerca(valorDec(Fraccion(1,3)), 0.33, 0.01)"
   ]
  },
  {
   "cell_type": "markdown",
   "metadata": {},
   "source": [
    "## Ejemplo 2: Frutas\n",
    "\n",
    "Supongamos que tenemos distintas frutas, y cada una tiene asociada un valor nutricional. Primero queremos representarlas mediante estructuras, para poder trabajar con ellas.\n",
    "\n",
    "Supondremos que representaremos una fruta como:\n",
    "\n",
    "- Nombre de la fruta\n",
    "\n",
    "- Valor nutricional\n",
    "\n",
    "Lo que traducido a estructuras, queda:"
   ]
  },
  {
   "cell_type": "code",
   "execution_count": 21,
   "metadata": {},
   "outputs": [],
   "source": [
    "import estructura\n",
    "\n",
    "# Fruta: nombre(str) nutrientes(num)\n",
    "estructura.crear(\"Fruta\",\"nombre nutrientes\")"
   ]
  },
  {
   "cell_type": "markdown",
   "metadata": {},
   "source": [
    "Luego creamos la función validadora de Frutas"
   ]
  },
  {
   "cell_type": "code",
   "execution_count": 22,
   "metadata": {},
   "outputs": [],
   "source": [
    "# esFruta: any -> bool\n",
    "# entrega True si el parametro es una Fruta valida\n",
    "# ej: esFruta( Fruta(\"manzana\", 44.5) ) entrega True\n",
    "#     esFruta( \"gatito\" ) entrega False\n",
    "def esFruta(F):\n",
    "\n",
    "    if type(F) != Fruta:\n",
    "        return False\n",
    "    elif type(F.nombre) != str:\n",
    "        return False\n",
    "    elif type(F.nutrientes) != int and type(F.nutrientes) != float:\n",
    "        return False\n",
    "    elif F.nutrientes < 0:\n",
    "        return False\n",
    "\n",
    "    return True\n",
    "# Test\n",
    "assert esFruta(Fruta(\"manzana\", 44.5))\n",
    "assert not esFruta(\"gatito\")"
   ]
  },
  {
   "cell_type": "markdown",
   "metadata": {},
   "source": [
    "Validamos:\n",
    "\n",
    "- Que sea Fruta\n",
    "\n",
    "- Tenga nombre\n",
    "\n",
    "- Su valor nutricional sea numerico y mayor a 0"
   ]
  },
  {
   "cell_type": "markdown",
   "metadata": {},
   "source": [
    "Ahora que tenemos la estructura Fruta y su función validadora, podemos crear funciones que operen con ellas:\n",
    "\n",
    "- Mostrar la información de la fruta\n",
    "\n",
    "- Comparar dos frutas y quedarse con la de mayor valor nutricional\n",
    "\n",
    "y algunos ejemplos de frutas en forma de estructura. Por ejemplo:\n",
    "\n",
    "![](img3_frutas1.svg)"
   ]
  },
  {
   "cell_type": "code",
   "execution_count": 23,
   "metadata": {},
   "outputs": [],
   "source": [
    "fPlatano = Fruta(\"platano\", 21)\n",
    "fPera = Fruta(\"pera\", 33.3)\n",
    "fPiña = Fruta(\"piña\", 22.88)\n",
    "fNaranja = Fruta(\"naranja\", 44)"
   ]
  },
  {
   "cell_type": "markdown",
   "metadata": {},
   "source": [
    "### Función `info(F)`\n",
    "\n",
    "Nos gustaría crear una función que, dada una Fruta, nos muestre en pantalla un resumen con su información\n",
    "\n",
    "\n",
    "```python\n",
    ">>> info(fNaranja)\n",
    "    Soy un(a) naranja y aporto 44 nutrientes\n",
    ">>> info(fPiña)\n",
    "    Soy un(a) piña y aporto 22.88 nutrientes\n",
    "```\n",
    "\n",
    "![](img4_frutas2.svg)"
   ]
  },
  {
   "cell_type": "code",
   "execution_count": 24,
   "metadata": {},
   "outputs": [],
   "source": [
    "# info: Fruta -> None\n",
    "# muestra en pantalla la información de la fruta\n",
    "# Ej: info(fPlatano) muestra su info en pantalla\n",
    "def info(F):\n",
    "    assert esFruta(F)\n",
    "\n",
    "    print(\"Soy un(a)\",F.nombre,\"y aporto\",F.nutrientes,\"nutrientes\")\n",
    "\n",
    "    return None"
   ]
  },
  {
   "cell_type": "markdown",
   "metadata": {},
   "source": [
    "### Función `mejor(F1,F2)`\n",
    "\n",
    "Nos gustaría crear una función que, dada dos Frutas, nos entregue la Fruta que tiene la mayor cantidad de nutrientes\n",
    "\n",
    "```python\n",
    ">>> mejor(fPiña, fNaranja)\n",
    "    Fruta(nombre='naranja', nutrientes=44)\n",
    "```\n",
    "\n",
    "![](img5_frutas3.svg)"
   ]
  },
  {
   "cell_type": "code",
   "execution_count": 25,
   "metadata": {},
   "outputs": [],
   "source": [
    "# mejor: Fruta Fruta -> Fruta\n",
    "# entrega la Fruta que tiene mas nutrientes\n",
    "# Ej: mejor(fPiña, fNaranja) entrega fNaranja\n",
    "def mejor(F1,F2):\n",
    "    assert esFruta(F1) and esFruta(F2)\n",
    "\n",
    "    mejorFruta = None\n",
    "\n",
    "    if F1.nutrientes > F2. nutrientes:\n",
    "        mejorFruta = F1\n",
    "    else:\n",
    "        mejorFruta = F2        \n",
    "\n",
    "    return mejorFruta\n",
    "\n",
    "# Test\n",
    "assert mejor(fPiña, fNaranja) == fNaranja\n",
    "assert mejor(fPera, fPera) == fPera"
   ]
  },
  {
   "cell_type": "markdown",
   "metadata": {},
   "source": [
    "## Estructuras (conclusiones)\n",
    "\n",
    "Las estructuras nos permiten agrupar un conjunto de datos simples, para generar tipos de datos personalizados y mas complejos. En las próximas clases, trabajaremos definiendo y creando **estructuras recursivas**\n"
   ]
  }
 ],
 "metadata": {
  "kernelspec": {
   "display_name": "Python 3 (ipykernel)",
   "language": "python",
   "name": "python3"
  },
  "language_info": {
   "codemirror_mode": {
    "name": "ipython",
    "version": 3
   },
   "file_extension": ".py",
   "mimetype": "text/x-python",
   "name": "python",
   "nbconvert_exporter": "python",
   "pygments_lexer": "ipython3",
   "version": "3.10.6"
  },
  "vscode": {
   "interpreter": {
    "hash": "98b95ce4537a043c6c2f8047f97d2678115deb8444c76d437608d4f0db95d495"
   }
  }
 },
 "nbformat": 4,
 "nbformat_minor": 4
}
