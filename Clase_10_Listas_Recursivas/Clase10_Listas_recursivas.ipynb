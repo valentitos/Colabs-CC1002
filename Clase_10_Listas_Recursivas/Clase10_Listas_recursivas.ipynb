{
 "cells": [
  {
   "cell_type": "markdown",
   "metadata": {},
   "source": [
    "<a href=\"https://colab.research.google.com/github/valentitos/Colabs-CC1002/blob/main/Clase_10_Listas_Recursivas/Clase10_Listas_recursivas.ipynb\" target=\"_parent\"><img src=\"https://colab.research.google.com/assets/colab-badge.svg\" alt=\"Open In Colab\"/></a>"
   ]
  },
  {
   "cell_type": "markdown",
   "metadata": {},
   "source": [
    "---\n",
    "\n",
    "**Paso previo solo para colab**\n",
    "\n",
    "En la unidad 2 usaremos el módulo `estructura.py` y `lista.py` (entre otros), los cuales son módulos personalizados para este curso. Para poder usarlos en colab, tenemos que hacer lo siguiente:\n",
    "\n",
    "- Crear en nuestro Google Drive, una carpeta donde guardar estos módulos. Supongamos que creamos una carpeta llamada `\"CC1002_modulos\"` (sin comillas)\n",
    "- En esa carpeta, guardar estos módulos (los pueden descargar desde material docente de Ucursos, o usar estos links directos)\n",
    "  - `estructura.py`: https://drive.google.com/file/d/1CoJT4QqCOdWV12hhZACRt3YMlU5xjqQV/view?usp=drive_link\n",
    "  - `lista.py`: https://drive.google.com/file/d/1jeb516Ky5XVCePkW2M5Nwf6c-JLcF2yA/view?usp=sharing\n",
    "- Ejecutar la siguiente celda"
   ]
  },
  {
   "cell_type": "code",
   "execution_count": null,
   "metadata": {},
   "outputs": [],
   "source": [
    "from google.colab import drive\n",
    "drive.mount('/content/drive', force_remount=True)\n",
    "\n",
    "import sys\n",
    "sys.path.append('/content/drive/MyDrive/CC1002_modulos')"
   ]
  },
  {
   "cell_type": "markdown",
   "metadata": {},
   "source": [
    "Reemplacen la parte que dice: `\"CC1002_modulos\"` por la carpeta que uds. crearon en su Gdrive\n",
    "\n",
    "Puede que les pida permisos para que colab acceda a Gdrive, los cuales pueden aceptar nomas, ya que no estamos haciendo operaciones \"peligrosas\".\n",
    "\n",
    "Con esto, no debiesen tener problemas para usar estructuras en colab.\n",
    "\n",
    "---"
   ]
  },
  {
   "cell_type": "markdown",
   "metadata": {},
   "source": [
    "# Clase 10: Listas (parte 1)\n",
    "\n",
    "## Repaso: Estructuras\n",
    "\n",
    "Para poder trabajar con agrupaciones de tipos de datos simples, que en conjunto representan algo más complejo, existen las **estructuras**. Una estructura es una agrupación de un número fijo de valores (componentes), que permiten encapsular un determinado comportamiento, para formar un único valor compuesto.\n",
    "\n",
    "```python\n",
    "import estructura\n",
    "\n",
    "estructura.crear(\"nombre\", \"atributo1 atributo2 ... atributoN\")\n",
    "```\n",
    "\n",
    "La receta de diseño aplicada a estructuras, indica que hay que incluir:\n",
    "\n",
    "- **Contrato de estructuras**: Nombre de la estructura, junto a los nombres de los atributos y el tipo de dato de ellos\n",
    "\n",
    "- **Definición**: Creación de la estructura, entregando su nombre como `str` y todos los nombres de sus atributos en un `str` separado por espacios\n",
    "\n",
    "Por ejemplo, para crear una estructura de Frutas, hacemos lo siguiente:\n",
    "\n",
    "```python\n",
    "import estructura\n",
    "\n",
    "# Fruta: nombre(str) nutrientes(num)\n",
    "estructura.crear(\"Fruta\", \"nombre nutrientes\")\n",
    "```\n",
    "\n",
    "En general, por razones de conveniencia, conviene guardar en un mismo archivo/módulo, la definición de la estructura, junto a las eventuales funciones que operen con este **nuevo tipo de dato**. \n",
    "\n",
    "Hay que tener en cuenta, que las estructuras son solo una agrupación de valores, por lo que nada impide que podamos crear una \"fruta\" con atributos que no vienen al caso:\n",
    "\n",
    "```python\n",
    ">>> f2 = Fruta(\"Manzana\", \"ocho\")\n",
    ">>> f2\n",
    "    Fruta(nombre='Manzana', nutrientes='ocho')\n",
    "```\n",
    "\n",
    "Por lo que típicamente, la primera función que se crea, es una que permita verificar las **precondiciones** que debe cumplir la estructura, lo que se conoce como **función validadora**\n",
    "\n",
    "```python\n",
    "# esFruta: any -> bool\n",
    "# entrega True si el parametro es una Fruta valida\n",
    "# ej: esFruta( Fruta(\"manzana\", 44.5) ) entrega True\n",
    "#     esFruta( \"gatito\" ) entrega False\n",
    "def esFruta(F):\n",
    "\n",
    "    return type(F) == Fruta and \\\n",
    "       type(F.nombre) == str and \\\n",
    "       (type(F.nutrientes) == int or \\\n",
    "        type(F.nutrientes) == float) and \\\n",
    "       F.nutrientes >= 0\n",
    "\n",
    "# Test\n",
    "assert esFruta(Fruta(\"manzana\", 44.5))\n",
    "assert not esFruta(\"gatito\")\n",
    "```\n",
    "\n",
    "También, las estructuras **no son mutables**, es decir, una vez creado el dato compuesto, no es posible modificar sus atributos. Si queremos sobreescribir un atributo, tenemos que crear nuevamente el dato compuesto, con los datos modificados:\n",
    "\n",
    "```python\n",
    ">>> f = Fruta(f.nombre,88)\n",
    "```\n",
    "\n",
    "También se recomienda tener ejemplos prefabricados, para facilitar los ejemplos y test\n",
    "\n",
    "```python\n",
    "fPlatano = Fruta(\"platano\", 21)\n",
    "fPera = Fruta(\"pera\", 33.3)\n",
    "fPiña = Fruta(\"piña\", 22.88)\n",
    "fNaranja = Fruta(\"naranja\", 44)\n",
    "```\n",
    "\n",
    "Para concluir, las estructuras nos permiten agrupar un conjunto de datos simples, para generar tipos de datos personalizados y más complejos. En general los pasos a seguir al trabajar con estructuras son:\n",
    "\n",
    "- Definir la estructura\n",
    "\n",
    "- Crear la función validadora\n",
    "\n",
    "- Crear ejemplos de la estructura\n",
    "\n",
    "- Crear funciones que trabajen cn tal estructura\n",
    "\n",
    "---\n",
    "\n"
   ]
  },
  {
   "cell_type": "markdown",
   "metadata": {},
   "source": [
    "## Listas\n",
    "\n",
    "Hasta ahora hemos visto que podemos usar las estructuras para agrupar valores y representar tipos de datos compuestos. También, nos gustaría poder enumerar y agrupar elementos que compartan un mismo contexto\n",
    "\n",
    "Para esto, existen las **listas**. Por definición, una lista puede tener un largo arbitrario, es decir, puede contener una cantidad finita, pero indeterminada de elementos\n",
    "\n",
    "La definición de una lista es **recursiva**:\n",
    "\n",
    "- Una lista puede ser **vacía** (no contiene ningún elemento)\n",
    "\n",
    "- Una lista puede estar compuesta por elementos/nodos, que **contienene un valor y un enlace** al siguiente elemento en la lista\n",
    "\n",
    "En esta parte del curso, trabajaremos con el concepto de listas enlazadas.\n",
    "\n",
    "### Lista Enlazada\n",
    "\n",
    "Una lista enlazada es una estructura de datos formada por un numero indeterminado de elementos distribuidos en la memoria, llamados nodos\n",
    "\n",
    "Un nodo es un elemento que almacena:\n",
    "\n",
    "- Un valor\n",
    "\n",
    "- Una referencia al siguiente nodo\n",
    "\n",
    "Por simplicidad, en esta primera parte del curso nos referiremos a ellas simplemente como listas.\n",
    "\n",
    "![](lista_enlazada.svg)\n",
    "\n",
    "### Definición como estructura\n",
    "\n",
    "Una lista es una estructura que posee dos campos:\n",
    "\n",
    "- valor: almacena el dato que contiene este nodo\n",
    "\n",
    "- siguiente: almacena una “referencia” al siguiente nodo\n"
   ]
  },
  {
   "cell_type": "code",
   "execution_count": 2,
   "metadata": {},
   "outputs": [],
   "source": [
    "import estructura\n",
    "\n",
    "# lista: valor(any) siguiente(lista)\n",
    "estructura.crear(\"lista\",\"valor siguiente\")"
   ]
  },
  {
   "cell_type": "markdown",
   "metadata": {},
   "source": [
    "![](nodo.svg)\n",
    "\n",
    "El primer nodo de una lista, se referencia a través de un nombre (o variable) en particular\n",
    "\n",
    "![](inicio.svg)\n",
    "\n",
    "El último nodo tiene como referencia `siguiente` al nodo \"vacío\" (el valor `None`)\n",
    "\n",
    "![](final.svg)\n",
    "\n",
    "Por claridad de conceptos, definiremos una *lista vacía*, que denotará una lista sin ningún elemento, y que además, servirá como indicador de que llegamos al final de una lista con elementos. Para efectos prácticos, es equivalente a `None`."
   ]
  },
  {
   "cell_type": "code",
   "execution_count": 3,
   "metadata": {},
   "outputs": [],
   "source": [
    "# identificador de listas vacias\n",
    "listaVacia = None "
   ]
  },
  {
   "cell_type": "markdown",
   "metadata": {},
   "source": [
    "![](vacia.svg)"
   ]
  },
  {
   "cell_type": "markdown",
   "metadata": {},
   "source": [
    "### Ejemplo: lista de números\n",
    "\n",
    "Con lo anterior, ya estamos en condiciones de crear una lista de elementos. Por ejemplo, si queremos crear una lista con los números 7,4,25 y 2, escribimos:"
   ]
  },
  {
   "cell_type": "code",
   "execution_count": 4,
   "metadata": {},
   "outputs": [],
   "source": [
    "L = lista(7, lista(4, lista(25, lista(2, listaVacia))))"
   ]
  },
  {
   "cell_type": "code",
   "execution_count": 5,
   "metadata": {},
   "outputs": [
    {
     "name": "stdout",
     "output_type": "stream",
     "text": [
      "lista(valor=7, siguiente=lista(valor=4, siguiente=lista(valor=25, siguiente=lista(valor=2, siguiente=None))))\n"
     ]
    }
   ],
   "source": [
    "print(L)"
   ]
  },
  {
   "cell_type": "markdown",
   "metadata": {},
   "source": [
    "Lo que visualmente se ve:\n",
    "\n",
    "![](L_numeros_compacta.svg)"
   ]
  },
  {
   "cell_type": "markdown",
   "metadata": {},
   "source": [
    "### Módulo `lista`\n",
    "\n",
    "Por comodidad, encapsularemos en un modulo la creación de listas como estructura, junto a sus funciones/operaciones típicas:\n",
    "\n",
    "- Preguntar si algo es una lista (función validadora)\n",
    "- Primer elemento de una lista\n",
    "- La lista sin el primer elemento\n",
    "- Contar cuantos elementos tiene una lista\n",
    "\n",
    "#### Función `esLista`\n",
    "\n",
    "La función validadora, debe encargarse de verificar si el parámetro ingresado corresponde o no a una lista.\n",
    "\n",
    "![](esLista_gato.svg)\n",
    "\n",
    "![](esLista_L.svg)\n",
    "\n",
    "![](esLista_v.svg)"
   ]
  },
  {
   "cell_type": "code",
   "execution_count": 6,
   "metadata": {},
   "outputs": [],
   "source": [
    "# esLista: any -> bool\n",
    "# entrega True si L es una lista\n",
    "# ej: esLista( lista(1, listaVacia)) entrega True\n",
    "def esLista(L):\n",
    "    if L == listaVacia:\n",
    "        return True\n",
    "    \n",
    "    return type(L) == lista and \\\n",
    "           esLista(L.siguiente)\n",
    "\n",
    "# Test\n",
    "assert esLista(lista(1,listaVacia))\n",
    "assert not esLista(\"gatito\")"
   ]
  },
  {
   "cell_type": "markdown",
   "metadata": {},
   "source": [
    "- Caso Base: La `listaVacia` en particular es una lista\n",
    "\n",
    "- Caso Recursivo: Validamos que sea de tipo lista, y qeu el resto de la lista también lo sea\n",
    "\n",
    "- Como una lista puede almacenar cualquier cosa, no es necesario verificar o validar alguna condición sobre los elementos almacenados"
   ]
  },
  {
   "cell_type": "code",
   "execution_count": 7,
   "metadata": {},
   "outputs": [
    {
     "data": {
      "text/plain": [
       "lista(valor=7, siguiente=lista(valor=4, siguiente=lista(valor=25, siguiente=lista(valor=2, siguiente=None))))"
      ]
     },
     "execution_count": 7,
     "metadata": {},
     "output_type": "execute_result"
    }
   ],
   "source": [
    "L"
   ]
  },
  {
   "cell_type": "code",
   "execution_count": 8,
   "metadata": {},
   "outputs": [
    {
     "data": {
      "text/plain": [
       "True"
      ]
     },
     "execution_count": 8,
     "metadata": {},
     "output_type": "execute_result"
    }
   ],
   "source": [
    "esLista(L)"
   ]
  },
  {
   "cell_type": "code",
   "execution_count": 9,
   "metadata": {},
   "outputs": [
    {
     "data": {
      "text/plain": [
       "False"
      ]
     },
     "execution_count": 9,
     "metadata": {},
     "output_type": "execute_result"
    }
   ],
   "source": [
    "esLista(\"perrito\")"
   ]
  },
  {
   "cell_type": "code",
   "execution_count": 10,
   "metadata": {},
   "outputs": [
    {
     "data": {
      "text/plain": [
       "True"
      ]
     },
     "execution_count": 10,
     "metadata": {},
     "output_type": "execute_result"
    }
   ],
   "source": [
    "esLista(listaVacia)"
   ]
  },
  {
   "cell_type": "markdown",
   "metadata": {},
   "source": [
    "#### Función `cabeza`\n",
    "\n",
    "Necesitamos una función que dada una lista, nos entregue el primer elemento de ella\n",
    "\n",
    "![](cabeza.svg)\n",
    "\n",
    "Por convención, la cabeza de la `listaVacia` no existe, por lo que en este caso, lo \"parchamos\" entregando una `listaVacia` como respuesta\n",
    "\n",
    "![](cabeza_v.svg)"
   ]
  },
  {
   "cell_type": "code",
   "execution_count": 11,
   "metadata": {},
   "outputs": [],
   "source": [
    "# cabeza: lista -> any\n",
    "# entrega el primer elemento de una lista\n",
    "# ej: cabeza(lista(\"a\", lista(\"b\", listaVacia)))\n",
    "#     entrega \"a\"\n",
    "def cabeza(L):\n",
    "    assert esLista(L)\n",
    " \n",
    "    if L == listaVacia:\n",
    "        return listaVacia\n",
    "   \n",
    "    return L.valor\n",
    "\n",
    "# Test\n",
    "assert cabeza(lista(\"a\", lista(\"b\", listaVacia))) == \"a\""
   ]
  },
  {
   "cell_type": "code",
   "execution_count": 12,
   "metadata": {},
   "outputs": [
    {
     "data": {
      "text/plain": [
       "7"
      ]
     },
     "execution_count": 12,
     "metadata": {},
     "output_type": "execute_result"
    }
   ],
   "source": [
    "cabeza(L)"
   ]
  },
  {
   "cell_type": "code",
   "execution_count": 14,
   "metadata": {},
   "outputs": [
    {
     "data": {
      "text/plain": [
       "'manzana'"
      ]
     },
     "execution_count": 14,
     "metadata": {},
     "output_type": "execute_result"
    }
   ],
   "source": [
    "L2 = lista(\"manzana\", lista(\"limon\", listaVacia))\n",
    "cabeza(L2)"
   ]
  },
  {
   "cell_type": "markdown",
   "metadata": {},
   "source": [
    "#### Función `cola`\n",
    "\n",
    "Necesitamos una función que dada una lista, nos entregue la lista sin su primer elemento\n",
    "\n",
    "![](cola.svg)\n",
    "\n",
    "Por convención, la cola de la `listaVacia` no existe, por lo que en este caso, lo \"parchamos\" entregando una `listaVacia` como respuesta\n",
    "\n",
    "![](cola_v.svg)"
   ]
  },
  {
   "cell_type": "code",
   "execution_count": 16,
   "metadata": {},
   "outputs": [],
   "source": [
    "# cola: lista -> lista\n",
    "# entrega la lista sin su primer nodo\n",
    "# ej: cola(lista(\"a\", lista(\"b\", listaVacia)))\n",
    "#     entrega lista(\"b\", listaVacia)\n",
    "def cola(L):\n",
    "    assert esLista(L)\n",
    "  \n",
    "    if L == listaVacia:\n",
    "        return listaVacia\n",
    "      \n",
    "    return L.siguiente\n",
    "# Test\n",
    "assert cola(lista(\"a\", lista(\"b\", listaVacia))) == lista(\"b\", listaVacia)"
   ]
  },
  {
   "cell_type": "code",
   "execution_count": 17,
   "metadata": {},
   "outputs": [
    {
     "data": {
      "text/plain": [
       "lista(valor=4, siguiente=lista(valor=25, siguiente=lista(valor=2, siguiente=None)))"
      ]
     },
     "execution_count": 17,
     "metadata": {},
     "output_type": "execute_result"
    }
   ],
   "source": [
    "cola(L)"
   ]
  },
  {
   "cell_type": "code",
   "execution_count": 18,
   "metadata": {},
   "outputs": [
    {
     "data": {
      "text/plain": [
       "lista(valor='limon', siguiente=None)"
      ]
     },
     "execution_count": 18,
     "metadata": {},
     "output_type": "execute_result"
    }
   ],
   "source": [
    "cola(L2)"
   ]
  },
  {
   "cell_type": "markdown",
   "metadata": {},
   "source": [
    "#### Función `largo`\n",
    "\n",
    "Necesitamos una función que dada una lista, nos indique su largo, o mejor dicho, la cantidad de elementos presentes en la lista\n",
    "\n",
    "![](largo.svg)\n",
    "![](largo_v.svg)"
   ]
  },
  {
   "cell_type": "code",
   "execution_count": 20,
   "metadata": {},
   "outputs": [],
   "source": [
    "# largo: lista -> int\n",
    "# entrega cuantos elementos tiene una lista\n",
    "# ej: largo(lista(\"a\", lista(\"b\", listaVacia)))\n",
    "#     entrega 2\n",
    "def largo(L):\n",
    "    assert esLista(L)\n",
    "    \n",
    "    if L == listaVacia:\n",
    "        return 0\n",
    "    \n",
    "    return 1 + largo(cola(L))\n",
    "\n",
    "# Test\n",
    "assert largo(lista(\"a\", lista(\"b\", listaVacia))) == 2\n",
    "assert largo(listaVacia) == 0"
   ]
  },
  {
   "cell_type": "code",
   "execution_count": 21,
   "metadata": {},
   "outputs": [
    {
     "data": {
      "text/plain": [
       "4"
      ]
     },
     "execution_count": 21,
     "metadata": {},
     "output_type": "execute_result"
    }
   ],
   "source": [
    "largo(L)"
   ]
  },
  {
   "cell_type": "code",
   "execution_count": 22,
   "metadata": {},
   "outputs": [
    {
     "data": {
      "text/plain": [
       "2"
      ]
     },
     "execution_count": 22,
     "metadata": {},
     "output_type": "execute_result"
    }
   ],
   "source": [
    "largo(L2)"
   ]
  },
  {
   "cell_type": "markdown",
   "metadata": {},
   "source": [
    "Estas 4 funciones son las mas importantes. Más adelante iremos agregando funciones para extender su funcionalidad"
   ]
  },
  {
   "cell_type": "markdown",
   "metadata": {},
   "source": [
    "## Ejemplos: Aplicaciones de lista\n",
    "\n",
    "Ahora que tenemos un módulo lista y sus funciones básicas, veamos algunos ejemplos de uso:\n",
    "\n",
    "- Dada una lista de números, obtener la suma de todos ellos\n",
    "\n",
    "- Dada una lista con nombres de frutas, queremos saber si contiene o no al menos una manzana\n",
    "\n",
    "- Dada una lista con nombres de dulces, queremos quedarnos con una sub-lista que solo contenga sunys\n",
    "\n",
    "Para todos los problemas en los que nos indiquen que recibiremos una lista de elementos específicos (lista de números, lista de strings, etc.), **asumiremos que nos entregarán una lista que solo contiene ese tipo de elementos**\n",
    "\n",
    "Si bien es posible verificar que una lista, en particular, contenga elementos del mismo tipo (ej: validar que una lista, sea solo de números), es un proceso exhaustivo de validar. Por lo tanto, se considerará que está permitido que la función no sepa que responder ante casos en que recibe una lista de elementos que no espera recibir.\n",
    "\n",
    "![](suma_L3.svg)\n",
    "\n",
    "\n",
    "\n",
    "\n",
    "\n",
    "\n",
    "\n",
    "\n"
   ]
  },
  {
   "cell_type": "markdown",
   "metadata": {},
   "source": [
    "### Suma de lista de números\n",
    "\n",
    "Queremos una función `suma(L)`, que nos entregue la suma de los números dentro de una lista de números\n",
    "\n",
    "![](suma_L.svg)\n",
    "\n",
    "![](suma_L2.svg)"
   ]
  },
  {
   "cell_type": "code",
   "execution_count": 24,
   "metadata": {},
   "outputs": [],
   "source": [
    "# suma: lista(num) -> num\n",
    "# entrega la suma de una lista de números\n",
    "# ej: suma(Lnumeros) entrega 38\n",
    "def suma(L):\n",
    "    assert esLista(L)\n",
    "    \n",
    "    if L == listaVacia:\n",
    "        return 0\n",
    "    \n",
    "    actual = cabeza(L)\n",
    "    return actual + suma(cola(L))\n",
    "\n",
    "# Test\n",
    "Lnumeros = lista(7,lista(4,lista(25,lista(2,listaVacia))))\n",
    "assert suma(Lnumeros) == 38\n",
    "assert suma(listaVacia) == 0"
   ]
  },
  {
   "cell_type": "code",
   "execution_count": 30,
   "metadata": {},
   "outputs": [
    {
     "data": {
      "text/plain": [
       "38"
      ]
     },
     "execution_count": 30,
     "metadata": {},
     "output_type": "execute_result"
    }
   ],
   "source": [
    "Lnum1 = lista(7,lista(4,lista(25,lista(2,listaVacia))))\n",
    "suma(Lnum1)"
   ]
  },
  {
   "cell_type": "code",
   "execution_count": 32,
   "metadata": {},
   "outputs": [
    {
     "data": {
      "text/plain": [
       "-10"
      ]
     },
     "execution_count": 32,
     "metadata": {},
     "output_type": "execute_result"
    }
   ],
   "source": [
    "Lnum2 = lista(7, lista(-17, listaVacia))\n",
    "suma(Lnum2)"
   ]
  },
  {
   "cell_type": "markdown",
   "metadata": {},
   "source": [
    "### Buscar manzanas en lista de nombres de fruta\n",
    "\n",
    "Queremos una función `hayManzanas(L)`, que nos indique si hay al menos una manzana dentro de una lista de nombres de frutas\n",
    "\n",
    "![](frutas_L2.svg)\n",
    "\n",
    "![](frutas_L1.svg)"
   ]
  },
  {
   "cell_type": "code",
   "execution_count": 26,
   "metadata": {},
   "outputs": [],
   "source": [
    "# hayManzana: lista(str) -> bool\n",
    "# indica si una lista de frutas posee una manzana\n",
    "# ej: hayManzana(Lfrutas) entrega True\n",
    "def hayManzana(L):\n",
    "    assert esLista(L)\n",
    "    \n",
    "    if L == listaVacia:\n",
    "        return False\n",
    "    \n",
    "    actual = cabeza(L)\n",
    "    if actual == 'manzana':\n",
    "        return True\n",
    "    else:\n",
    "        return hayManzana(cola(L))\n",
    "\n",
    "# Test\n",
    "Lfrutas = lista('pera',lista('manzana',listaVacia))\n",
    "assert hayManzana(Lfrutas)\n",
    "assert not hayManzana(listaVacia)"
   ]
  },
  {
   "cell_type": "code",
   "execution_count": 27,
   "metadata": {},
   "outputs": [
    {
     "data": {
      "text/plain": [
       "True"
      ]
     },
     "execution_count": 27,
     "metadata": {},
     "output_type": "execute_result"
    }
   ],
   "source": [
    "LF1 = lista(\"pera\", lista(\"manzana\", listaVacia))\n",
    "hayManzana(LF1)"
   ]
  },
  {
   "cell_type": "code",
   "execution_count": 28,
   "metadata": {},
   "outputs": [
    {
     "data": {
      "text/plain": [
       "False"
      ]
     },
     "execution_count": 28,
     "metadata": {},
     "output_type": "execute_result"
    }
   ],
   "source": [
    "LF2 = lista(\"naranja\", lista(\"pera\", lista(\"naranja\", lista(\"kiwi\", listaVacia))))\n",
    "hayManzana(LF2)"
   ]
  },
  {
   "cell_type": "markdown",
   "metadata": {},
   "source": [
    "### Solo dulces Suny de una lista de dulces\n",
    "\n",
    "Queremos una función `soloSuny(L)`, que nos entregue una lista solo con los dulces *suny* de una lista de nombres de dulces.\n",
    "\n",
    "![](dulces_L1.svg)\n",
    "\n",
    "![](dulces_L2.svg)"
   ]
  },
  {
   "cell_type": "code",
   "execution_count": 34,
   "metadata": {},
   "outputs": [],
   "source": [
    "# soloSuny: lista(str) -> lista(str)\n",
    "# entrega una lista solo con dulces suny\n",
    "# ej: soloSuny(Ldulces) entrega \n",
    "#     lista(\"suny\", lista(\"suny\", listaVacia))\n",
    "def soloSuny(L):\n",
    "    assert esLista(L)\n",
    "    \n",
    "    if L == listaVacia:\n",
    "        return listaVacia\n",
    "    \n",
    "    actual = cabeza(L)\n",
    "    if actual == 'suny':\n",
    "        return lista(actual, soloSuny(cola(L)))\n",
    "    else:\n",
    "        return soloSuny(cola(L))\n",
    "\n",
    "# Test\n",
    "Ldulces = lista('suny',lista('frugele', lista('suny', lista('masticable', listaVacia))))\n",
    "assert soloSuny(Ldulces) == lista('suny', lista('suny', listaVacia))\n",
    "assert soloSuny(listaVacia) == listaVacia\n"
   ]
  },
  {
   "cell_type": "code",
   "execution_count": 38,
   "metadata": {},
   "outputs": [
    {
     "name": "stdout",
     "output_type": "stream",
     "text": [
      "lista(valor='suny', siguiente=lista(valor='suny', siguiente=None))\n"
     ]
    }
   ],
   "source": [
    "LD1 = lista('suny',lista('frugele', lista('suny', lista('masticable', listaVacia))))\n",
    "print(soloSuny(LD1))"
   ]
  },
  {
   "cell_type": "code",
   "execution_count": 37,
   "metadata": {},
   "outputs": [
    {
     "name": "stdout",
     "output_type": "stream",
     "text": [
      "None\n"
     ]
    }
   ],
   "source": [
    "LD2 = lista('masticable',lista('masticable', listaVacia))\n",
    "print(soloSuny(LD2))"
   ]
  },
  {
   "cell_type": "markdown",
   "metadata": {},
   "source": [
    "## Patrón de diseño de funciones que procesan listas\n",
    "\n",
    "En los ejemplos anteriores, vimos como crear funciones que procesan una lista de elementos.\n",
    "\n",
    "Si miran con cuidado, notarán que hay un patrón que se repite en las tres soluciones presentadas:\n",
    "\n",
    "- El **caso base** consiste en analizar que hacer con la lista vacia\n",
    "\n",
    "- El **caso recursivo** consiste en tomar el elemento actual, decidir que hacer con el, y luego continuar trabajando con el resto de la lista\n",
    "\n",
    "En general, la mayoría de las funciones que procesan listas siguen el siguiente esquema:\n",
    "\n",
    "```python\n",
    "# procesarLista: ... -> ...\n",
    "# ...\n",
    "def procesarLista(L, ...):\n",
    "    assert esLista(L)\n",
    "    \n",
    "    # CB: Decidir que hacer cuando L es la listaVacia\n",
    "    if L es la listaVacia:\n",
    "        ''' ver que hacer en este caso'''\n",
    "    \n",
    "    # Obtener la cabeza de L, procesarla o decidir que hacer con ella\n",
    "    ... cabeza(L) ...\n",
    "    \n",
    "    # Continuar la recursión con la cola de L\n",
    "    ... procesarLista(cola(L), ...) ...\n",
    "```\n",
    "\n"
   ]
  }
 ],
 "metadata": {
  "kernelspec": {
   "display_name": "Python 3 (ipykernel)",
   "language": "python",
   "name": "python3"
  },
  "language_info": {
   "codemirror_mode": {
    "name": "ipython",
    "version": 3
   },
   "file_extension": ".py",
   "mimetype": "text/x-python",
   "name": "python",
   "nbconvert_exporter": "python",
   "pygments_lexer": "ipython3",
   "version": "3.10.5"
  },
  "vscode": {
   "interpreter": {
    "hash": "98b95ce4537a043c6c2f8047f97d2678115deb8444c76d437608d4f0db95d495"
   }
  }
 },
 "nbformat": 4,
 "nbformat_minor": 4
}
