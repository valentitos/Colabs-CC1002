{
 "cells": [
  {
   "cell_type": "markdown",
   "metadata": {},
   "source": [
    "<a href=\"https://colab.research.google.com/github/valentitos/Colabs-CC1002/blob/main/Clase_18_Strings/Clase18_Strings.ipynb\" target=\"_parent\"><img src=\"https://colab.research.google.com/assets/colab-badge.svg\" alt=\"Open In Colab\"/></a>"
   ]
  },
  {
   "cell_type": "markdown",
   "metadata": {},
   "source": [
    "# Clase 18: Strings\n",
    "\n",
    "## Repaso: Listas y Ciclos\n",
    "\n",
    "### Listas\n",
    "\n",
    "Las listas son Son estructuras mutables definidas en el lenguaje, que indexan los elementos que se van almacenando en ella\n",
    "\n",
    "![array_example.png](array_example.svg)\n",
    "\n",
    "Los índices son números enteros correlativos, que parten en 0, e indican la posición que tienen los elementos en la lista. Ej:\n",
    "\n",
    "```python\n",
    "L1 = [ 59, 34, 21, 67, 18, 42] \n",
    "L2 = ['Fluttershy', 'Pinkie Pie']\n",
    "L3 = [ ]\n",
    "```\n",
    "\n",
    "Las operaciones típicas sobre listas son:\n",
    "\n",
    "| Operación     | Significado                                                                     |\n",
    "|---------------|---------------------------------------------------------------------------------|\n",
    "| ``[ ]``           | Crea una lista vacía (con 0 elementos)                                          |\n",
    "| ``[1, 5 ,2]``     | Crea una lista con 3 elementos predefinidos                                     |\n",
    "| ``len(L)``        | Entrega la cantidad de elementos que posee ``L``                                    |\n",
    "| ``L[i]``          | Entrega el elemento guardado en la posición ``i`` de la lista                       |\n",
    "| ``L > [4,5,6]``   | Compara uno por uno los elementos y entrega ``True`` si cumple la condicion         |\n",
    "| ``L[a:b]``        | Entrega una sublista con los elementos entre las posiciones ``a`` y ``b-1`` (inclusive) |\n",
    "| ``L1 + L2``         | Junta (concatena) el contenido de las listas ``L1`` y ``L2``                            |\n",
    "| ``L * n``       | Repite el contenido de ``L``, ``n`` veces                                               |\n",
    "| ``x in L``        | Entrega ``True`` si ``x`` se encuentra presente en ``L`` (``False`` si no)                      |\n",
    "| ``list(L)``       | Crea una copia de la lista ``L``                                                    |\n",
    "| ``sum(L)``        | Si ``L`` tiene solo números, suma los elementos en ``L``                                |\n",
    "| ``min(L) / max(L)`` | Entrega el menor (mayor) elemento en la lista ``L``                                 |\n",
    "\n",
    "En particular, para conocer el largo de una lista, usamos la función `len(L)`\n",
    "\n",
    "```python\n",
    ">>> L1 = [ 7, 4, 9, -2, 0]\n",
    ">>> n = len(L1)\n",
    ">>> print(n)\n",
    "    5\n",
    "```\n",
    "\n",
    "La notación ``L[a:b]`` entrega una lista con todos los elementos entre los índices ``a`` y ``b-1`` (inclusive ``a`` y ``b-1``, pero no considera a ``b``)\n",
    "\n",
    "```python\n",
    ">>> L1 = [59, 34, 21, 67, 18, 42]\n",
    ">>> L2 = L1[2:5] # todos los elementos entre indices 2 y 4\n",
    ">>> print(L2)\n",
    "    [21, 67, 18]\n",
    "```\n",
    "\n",
    "El operador ``in`` nos sirve para verificar la existencia de un elemento en un conjunto de datos:\n",
    "\n",
    "```python\n",
    ">>> L1 = ['gatito', 'perrito', 'capibara', 'pajarito']\n",
    ">>> 'capibara' in L1\n",
    "    True\n",
    ">>> 'hamster' in L1\n",
    "    False\n",
    "```\n",
    "\n",
    "De la siguiente tabla, salvo las dos primeras funciones/operaciones, todas modifican/mutan la lista ``L`` original donde se aplican.\n",
    "\n",
    "| Función    | Significado                                                                               |\n",
    "|---------------|-------------------------------------------------------------------------------------------|\n",
    "| ``L.count(x)``    | Entrega cuantas veces aparece el elemento ``x`` en la lista ``L``                                          |\n",
    "| ``L.index(x)``    | Entrega el índice de la primera aparición de ``x`` en la lista ``L``  |\n",
    "| ``L[i] = x``      | cambia el contenido en el indice ``i``, por el valor ``x``                                        |\n",
    "| ``L.append(x)``   | Agrega ``x`` al final de ``L``                                                                    |\n",
    "| ``L.insert(i,x)`` | Inserta el elemento ``x`` en la posición ``i`` (y desplaza al resto de los elementos a la derecha) |\n",
    "| ``L.remove(x)``   | Elimina la primera aparición de ``x`` encontrada en ``L``                                        |\n",
    "| ``L.pop(i)``      | Elimina (y entrega) el elemento en la posición ``i``                                          |\n",
    "| ``L.reverse()``   | Invierte de posición los elementos de ``L``                                                   |\n",
    "| ``L.sort()``      | Ordena los elementos en ``L``                                                                 |\n",
    "\n",
    "Para modificar un elemento de una lista, indicamos su índice y el contenido por el que queremos reemplazarlo\n",
    "\n",
    "```python\n",
    ">>> L1 = ['gatito', 'perrito', 'capibara', 'pajarito']\n",
    ">>> L1[2] = 'venado'\n",
    ">>> print(L1)\n",
    "    ['gatito', 'perrito', 'venado', 'pajarito']\n",
    "```\n",
    "\n",
    "**Cuidado**, como las listas son mutables, están sujetas al problema de aliasing\n",
    "\n",
    "```python\n",
    ">>> L1 = ['gatito', 'perrito', 'capibara', 'pajarito']\n",
    ">>> L2 = L1\n",
    ">>> L2[1] = 'ballena'\n",
    ">>> print(L2)\n",
    "    ['gatito', 'ballena', 'capibara', 'pajarito']\n",
    ">>> print(L1)\n",
    "    ['gatito', 'ballena', 'capibara', 'pajarito']\n",
    "```\n",
    "\n",
    "Para prevenirlo, hay que hacer una copia efectiva de la lista, usando la función predefinida ``list(L)``\n",
    "\n",
    "```python\n",
    ">>> L1 = ['gatito', 'perrito', 'capibara', 'pajarito']\n",
    ">>> L2 = list(L1)\n",
    ">>> L2[1] = 'ballena'\n",
    ">>> print(L2)\n",
    "    ['gatito', 'ballena', 'capibara', 'pajarito']\n",
    ">>> print(L1)\n",
    "    ['gatito', 'perrito', 'capibara', 'pajarito']\n",
    "```\n",
    "\n",
    "Para agregar elementos a la lista, podemos usar la operación ``.append(x)`` si queremos agregarlo al final.\n",
    "\n",
    "```python\n",
    ">>> L1 = ['gatito', 'perrito', 'capibara', 'pajarito']\n",
    ">>> L1.append('hamster')\n",
    ">>> print(L1)\n",
    "    ['gatito', 'perrito', 'capibara', 'pajarito', 'hamster']\n",
    "```\n",
    "\n",
    "Otra forma de agregar elementos es con la operación ``.insert(i,x)``, que agrega el elemento en la posición ``i``, y desplaza a la derecha todos los elementos que estaban mas adelante de ``i``:\n",
    "\n",
    "```python\n",
    ">>> L1 = ['gatito', 'perrito', 'capibara', 'pajarito']\n",
    ">>> L1.insert(2, 'hamster')\n",
    ">>> print(L1)\n",
    "    ['gatito', 'perrito', 'hamster', 'capibara', 'pajarito']\n",
    "```\n",
    "\n",
    "Para eliminar elementos de una lista, podemos usar la operación ``.remove(x)``, que remueve la primera aparición del elemento ``x`` que encuentre en la lista:\n",
    "\n",
    "```python\n",
    ">>> L1 = ['gatito', 'perrito', 'capibara', 'pajarito']\n",
    ">>> L1.remove('pajarito')\n",
    ">>> print(L1)\n",
    "    ['gatito', 'perrito', 'capibara']\n",
    "```\n",
    "\n",
    "Otra forma de eliminar elementos es por índice, usando la operación ``.pop(i)``, que remueve el elemento en la posición ``i`` de la lista:\n",
    "\n",
    "```python\n",
    ">>> L1 = ['gatito', 'perrito', 'capibara', 'pajarito']\n",
    ">>> L1.pop(2)\n",
    ">>> print(L1)\n",
    "    ['gatito', 'perrito', 'pajarito']\n",
    "```\n",
    "\n",
    "### Ciclos\n",
    "\n",
    "```python\n",
    "while condicion:\n",
    "    instrucciones\n",
    "    mas instrucciones\n",
    "otras instrucciones\n",
    "```\n",
    "\n",
    "La instrucción ``while`` nos permite repetir `instrucciones` mientras se cumpla una `condición` (es decir, mientras se siga evaluando a ``True``). Eventualmente, cuando la `condición` se deje de cumplir (se evalúa a `False`), el ciclo terminara, continuando la ejecución de `otras instrucciones`\n",
    "\n",
    "```python\n",
    "for elemento in conjunto:\n",
    "    instrucciones\n",
    "    mas instrucciones\n",
    "otras instrucciones\n",
    "```\n",
    "\n",
    "La instrucción `for` nos permite iterar/recorrer los `elementos` de un `conjunto` de datos, como una lista\n",
    "\n",
    "Donde `elemento` es una variable que representa un valor singular del `conjunto`. En cada ciclo, se va tomando consecutivamente los `elementos` en el `conjunto`, y para cada uno de ellos ejecuta las `instrucciones` especificadas. \n",
    "\n",
    "\n",
    "Y dependiendo de nuestras necesidades, podemos recorrer los elementos de una lista (o cualquier conjunto iterable) de las siguiente formas:\n",
    "\n",
    "```python\n",
    "# while por indices\n",
    "# imprimir: list -> None\n",
    "# ...\n",
    "def imprimir(L):\n",
    "    assert type(L) == list\n",
    " \n",
    "    i = 0\n",
    "    while i < len(L):\n",
    "        print(L[i])\n",
    "        i = i + 1\n",
    "        \n",
    "    return None\n",
    "```\n",
    "\n",
    "```python\n",
    "# for por valores\n",
    "# imprimir: list -> None\n",
    "# ...\n",
    "def imprimir(L):\n",
    "    assert type(L) == list\n",
    " \n",
    "    for elem in L:\n",
    "        print(elem)\n",
    "                \n",
    "    return None\n",
    "```\n",
    "\n",
    "```python\n",
    "# for por indices\n",
    "# imprimir: list -> None\n",
    "# ...\n",
    "def imprimir(L):\n",
    "    assert type(L) == list\n",
    " \n",
    "    for i in range(len(L)):\n",
    "        print(L[i])\n",
    "                \n",
    "    return None\n",
    "```\n",
    "---"
   ]
  },
  {
   "cell_type": "markdown",
   "metadata": {},
   "source": [
    "## Strings\n",
    "\n",
    "Hasta ahora, sabemos que los strings (``str``) son un tipo de dato que nos permite almacenar texto, y que su criterio de ordenamiento es el orden lexicográfico o de diccionario (``espacios < dígitos < mayúsculas < minúsculas``)\n",
    "\n",
    "Formalmente, un string es una secuencia inmutable de 0 o más caracteres. Un carácter es una letra, símbolo, digito, etc. individual. Por ejemplo:"
   ]
  },
  {
   "cell_type": "code",
   "execution_count": null,
   "metadata": {},
   "outputs": [],
   "source": [
    "S = 'abracadabra'"
   ]
  },
  {
   "cell_type": "markdown",
   "metadata": {},
   "source": [
    "Se representa internamente como:\n",
    "\n",
    "![asd](string_intern.svg)\n",
    "\n",
    "## Operaciones sobre strings\n",
    "\n",
    "### Acceso\n",
    "\n",
    "En particular, podemos aplicar algunas operaciones que ya vimos para listas, como por ejemplo, acceder a un elemento por su índice:"
   ]
  },
  {
   "cell_type": "code",
   "execution_count": 1,
   "metadata": {},
   "outputs": [
    {
     "data": {
      "text/plain": [
       "'c'"
      ]
     },
     "execution_count": 1,
     "metadata": {},
     "output_type": "execute_result"
    }
   ],
   "source": [
    "S = 'abracadabra'\n",
    "S[4]"
   ]
  },
  {
   "cell_type": "code",
   "execution_count": 2,
   "metadata": {},
   "outputs": [
    {
     "data": {
      "text/plain": [
       "'a'"
      ]
     },
     "execution_count": 2,
     "metadata": {},
     "output_type": "execute_result"
    }
   ],
   "source": [
    "S[0]"
   ]
  },
  {
   "cell_type": "code",
   "execution_count": 3,
   "metadata": {},
   "outputs": [
    {
     "data": {
      "text/plain": [
       "'a'"
      ]
     },
     "execution_count": 3,
     "metadata": {},
     "output_type": "execute_result"
    }
   ],
   "source": [
    "S[10]"
   ]
  },
  {
   "cell_type": "markdown",
   "metadata": {},
   "source": [
    "### substring/slice\n",
    "\n",
    "O la operación de slicing ( ``S[a:b]`` ), para obtener el subconjunto de caracteres entre los índices ``a`` y ``b-1``"
   ]
  },
  {
   "cell_type": "code",
   "execution_count": 4,
   "metadata": {},
   "outputs": [
    {
     "data": {
      "text/plain": [
       "'cada'"
      ]
     },
     "execution_count": 4,
     "metadata": {},
     "output_type": "execute_result"
    }
   ],
   "source": [
    "S = 'abracadabra'\n",
    "S[4:8]\n"
   ]
  },
  {
   "cell_type": "markdown",
   "metadata": {},
   "source": [
    "Si no especificamos uno de los extremos `inicio` o `fin`, se asume que queremos partir desde el principio o llegar al final"
   ]
  },
  {
   "cell_type": "code",
   "execution_count": 5,
   "metadata": {},
   "outputs": [
    {
     "data": {
      "text/plain": [
       "'abra'"
      ]
     },
     "execution_count": 5,
     "metadata": {},
     "output_type": "execute_result"
    }
   ],
   "source": [
    "S[:4]"
   ]
  },
  {
   "cell_type": "code",
   "execution_count": 6,
   "metadata": {},
   "outputs": [
    {
     "data": {
      "text/plain": [
       "'cadabra'"
      ]
     },
     "execution_count": 6,
     "metadata": {},
     "output_type": "execute_result"
    }
   ],
   "source": [
    "S[4:]"
   ]
  },
  {
   "cell_type": "markdown",
   "metadata": {},
   "source": [
    "### No asignación\n",
    "\n",
    "Sin embargo, debido a que los strings se comportan como listas inmutables, la operación de asignación arrojará un error"
   ]
  },
  {
   "cell_type": "code",
   "execution_count": 7,
   "metadata": {},
   "outputs": [
    {
     "ename": "TypeError",
     "evalue": "'str' object does not support item assignment",
     "output_type": "error",
     "traceback": [
      "\u001b[1;31m---------------------------------------------------------------------------\u001b[0m",
      "\u001b[1;31mTypeError\u001b[0m                                 Traceback (most recent call last)",
      "\u001b[1;32md:\\OneDrive\\Cursos - CC1002\\CC1002 2022-02\\python-vscode\\Clase17\\Clase17_strings.ipynb Celda 14\u001b[0m in \u001b[0;36m<cell line: 2>\u001b[1;34m()\u001b[0m\n\u001b[0;32m      <a href='vscode-notebook-cell:/d%3A/OneDrive/Cursos%20-%20CC1002/CC1002%202022-02/python-vscode/Clase17/Clase17_strings.ipynb#Y306sZmlsZQ%3D%3D?line=0'>1</a>\u001b[0m S \u001b[39m=\u001b[39m \u001b[39m'\u001b[39m\u001b[39mabracadabra\u001b[39m\u001b[39m'\u001b[39m\n\u001b[1;32m----> <a href='vscode-notebook-cell:/d%3A/OneDrive/Cursos%20-%20CC1002/CC1002%202022-02/python-vscode/Clase17/Clase17_strings.ipynb#Y306sZmlsZQ%3D%3D?line=1'>2</a>\u001b[0m S[\u001b[39m3\u001b[39;49m] \u001b[39m=\u001b[39m \u001b[39m'\u001b[39m\u001b[39mw\u001b[39m\u001b[39m'\u001b[39m\n",
      "\u001b[1;31mTypeError\u001b[0m: 'str' object does not support item assignment"
     ]
    }
   ],
   "source": [
    "S = 'abracadabra'\n",
    "S[3] = 'w'"
   ]
  },
  {
   "cell_type": "markdown",
   "metadata": {},
   "source": [
    "## Operaciones Típicas\n",
    "\n",
    "Las operaciones tipicas sobre strings son:\n",
    "\n",
    "\n",
    "| Operación     | Significado                                                                     |\n",
    "|---------------|---------------------------------------------------------------------------------|\n",
    "| V = ''        | Dos comillas simples crean un string vacío (con 0 caracteres)   |\n",
    "| ``len(S)``        | Entrega la cantidad de caracteres que posee ``S``                            |\n",
    "| ``S[i]``          | Entrega el carácter guardado en la posición ``i`` del string                 |\n",
    "| ``S > 'pal'``| Compara uno por uno los caracteres y entrega ``True`` si cumple la condicion         |\n",
    "| ``S[a:b]``        | Entrega un substring con los caracteres entre las posiciones ``a`` y ``b-1`` (inclusive) |\n",
    "| ``S1 + S2``         | Junta (concatena) los strings ``S1`` y ``S2``                            |\n",
    "| ``S * n``       | Repite el string ``S``, ``n`` veces                                          \n",
    "| ``c in S``        | Entrega ``True`` si el string ``c`` aparece como sub-cadena de ``S``|\n",
    "| ``list(S)``       | Crea una lista con los caracteres de ``S``                                  |\n",
    "| ``min(S) / max(S)`` | Entrega el menor (mayor) carácter del string ``S``                     |\n",
    "\n"
   ]
  },
  {
   "cell_type": "markdown",
   "metadata": {},
   "source": [
    "### Largo\n",
    "\n",
    "Para obtener el largo de un string, usamos la función predefinida ``len(s)``\n"
   ]
  },
  {
   "cell_type": "code",
   "execution_count": 8,
   "metadata": {},
   "outputs": [
    {
     "data": {
      "text/plain": [
       "11"
      ]
     },
     "execution_count": 8,
     "metadata": {},
     "output_type": "execute_result"
    }
   ],
   "source": [
    "S = 'abracadabra'\n",
    "len(S)\n"
   ]
  },
  {
   "cell_type": "code",
   "execution_count": 9,
   "metadata": {},
   "outputs": [
    {
     "data": {
      "text/plain": [
       "6"
      ]
     },
     "execution_count": 9,
     "metadata": {},
     "output_type": "execute_result"
    }
   ],
   "source": [
    "G = 'gatito'\n",
    "len(G)"
   ]
  },
  {
   "cell_type": "markdown",
   "metadata": {},
   "source": [
    "### Comparación\n",
    "\n",
    "Los Strings se comparan carácter a carácter, siguiendo el orden lexicográfico"
   ]
  },
  {
   "cell_type": "code",
   "execution_count": 10,
   "metadata": {},
   "outputs": [
    {
     "data": {
      "text/plain": [
       "True"
      ]
     },
     "execution_count": 10,
     "metadata": {},
     "output_type": "execute_result"
    }
   ],
   "source": [
    "# Gana la primera, porque p es mayor que a\n",
    "'pasapalabra' > 'abracadabra'"
   ]
  },
  {
   "cell_type": "code",
   "execution_count": 11,
   "metadata": {},
   "outputs": [
    {
     "data": {
      "text/plain": [
       "False"
      ]
     },
     "execution_count": 11,
     "metadata": {},
     "output_type": "execute_result"
    }
   ],
   "source": [
    "# Empate hasta abra, luego pierde la primera porque c es menor que p\n",
    "'abracadabra' > 'abrapalabra'"
   ]
  },
  {
   "cell_type": "markdown",
   "metadata": {},
   "source": [
    "### Concatenar\n",
    "\n",
    "Podemos crear un nuevo string, juntando dos strings, uno pegado al final de otro, con el operador de suma ``+``"
   ]
  },
  {
   "cell_type": "code",
   "execution_count": 12,
   "metadata": {},
   "outputs": [
    {
     "name": "stdout",
     "output_type": "stream",
     "text": [
      "pasapalabra\n"
     ]
    }
   ],
   "source": [
    "S1 = 'pasa'\n",
    "S2 = 'palabra'\n",
    "S3 = S1 + S2\n",
    "print(S3)"
   ]
  },
  {
   "cell_type": "code",
   "execution_count": 14,
   "metadata": {},
   "outputs": [
    {
     "name": "stdout",
     "output_type": "stream",
     "text": [
      "abracadabraowowo\n"
     ]
    }
   ],
   "source": [
    "S1 = 'abracadabra'\n",
    "S2 = 'owowo'\n",
    "S3 = S1 + S2\n",
    "print(S3)"
   ]
  },
  {
   "cell_type": "markdown",
   "metadata": {},
   "source": [
    "### Repetir\n",
    "\n",
    "Podemos repetir el contenido de un string, multiplicándolo por un entero"
   ]
  },
  {
   "cell_type": "code",
   "execution_count": 15,
   "metadata": {},
   "outputs": [
    {
     "name": "stdout",
     "output_type": "stream",
     "text": [
      "pasapasapasa\n"
     ]
    }
   ],
   "source": [
    "S1 = 'pasa'\n",
    "S2 = S1 * 3\n",
    "print(S2)"
   ]
  },
  {
   "cell_type": "code",
   "execution_count": 16,
   "metadata": {},
   "outputs": [
    {
     "name": "stdout",
     "output_type": "stream",
     "text": [
      "uwu uwu uwu uwu uwu \n"
     ]
    }
   ],
   "source": [
    "S1 = 'uwu '\n",
    "S2 = S1 * 5\n",
    "print(S2)"
   ]
  },
  {
   "cell_type": "markdown",
   "metadata": {},
   "source": [
    "En particular, si multiplicamos por un número menor o igual a 0, obtenemos el string vacío"
   ]
  },
  {
   "cell_type": "code",
   "execution_count": 17,
   "metadata": {},
   "outputs": [
    {
     "name": "stdout",
     "output_type": "stream",
     "text": [
      "\n"
     ]
    }
   ],
   "source": [
    "S1 = 'uwu '\n",
    "S2 = S1 * -1\n",
    "print(S2)"
   ]
  },
  {
   "cell_type": "markdown",
   "metadata": {},
   "source": [
    "### Pertenencia\n",
    "\n",
    "Podemos preguntar si un carácter está presente en un string más grande, utilizando el operador ``in``"
   ]
  },
  {
   "cell_type": "code",
   "execution_count": 18,
   "metadata": {},
   "outputs": [
    {
     "data": {
      "text/plain": [
       "True"
      ]
     },
     "execution_count": 18,
     "metadata": {},
     "output_type": "execute_result"
    }
   ],
   "source": [
    "S = 'abracadabra'\n",
    "'d' in S"
   ]
  },
  {
   "cell_type": "markdown",
   "metadata": {},
   "source": [
    "También podemos preguntar si un string mas pequeño se encuentra contenido en uno mas grande:"
   ]
  },
  {
   "cell_type": "code",
   "execution_count": 19,
   "metadata": {},
   "outputs": [
    {
     "data": {
      "text/plain": [
       "True"
      ]
     },
     "execution_count": 19,
     "metadata": {},
     "output_type": "execute_result"
    }
   ],
   "source": [
    "S = 'abracadabra'\n",
    "'bracad' in S"
   ]
  },
  {
   "cell_type": "code",
   "execution_count": 20,
   "metadata": {},
   "outputs": [
    {
     "data": {
      "text/plain": [
       "False"
      ]
     },
     "execution_count": 20,
     "metadata": {},
     "output_type": "execute_result"
    }
   ],
   "source": [
    "S = 'abracadabra'\n",
    "'cadaver' in S"
   ]
  },
  {
   "cell_type": "markdown",
   "metadata": {},
   "source": [
    "### Conversión a lista\n",
    "\n",
    "Es posible convertir un string en una lista de caracteres, con la función ``list``"
   ]
  },
  {
   "cell_type": "code",
   "execution_count": 21,
   "metadata": {},
   "outputs": [
    {
     "name": "stdout",
     "output_type": "stream",
     "text": [
      "['a', 'b', 'r', 'a', 'c', 'a', 'd', 'a', 'b', 'r', 'a']\n"
     ]
    }
   ],
   "source": [
    "S = 'abracadabra'\n",
    "LS = list(S)\n",
    "print(LS)"
   ]
  },
  {
   "cell_type": "markdown",
   "metadata": {},
   "source": [
    "Para hacer el proceso inverso, de convertir una lista de Strings a String, podemos usar la operación ``.join(L)``"
   ]
  },
  {
   "cell_type": "code",
   "execution_count": 23,
   "metadata": {},
   "outputs": [
    {
     "name": "stdout",
     "output_type": "stream",
     "text": [
      "abracadabra\n"
     ]
    }
   ],
   "source": [
    "LS = ['a', 'b', 'r', 'a', 'c', 'a', 'd', 'a', 'b', 'r', 'a']\n",
    "S2 = ''.join(LS)\n",
    "print(S2)"
   ]
  },
  {
   "cell_type": "markdown",
   "metadata": {},
   "source": [
    "Así, dependiendo del problema, podemos pasar de Strings a listas, y viceversa, y usar las operaciones predefinidas en cada espacio"
   ]
  },
  {
   "cell_type": "markdown",
   "metadata": {},
   "source": [
    "### min y max\n",
    "\n",
    "``min`` y ``max`` entregan el menor y mayor carácter presente en el string, de acuerdo al orden lexicográfico"
   ]
  },
  {
   "cell_type": "code",
   "execution_count": 24,
   "metadata": {},
   "outputs": [
    {
     "data": {
      "text/plain": [
       "'u'"
      ]
     },
     "execution_count": 24,
     "metadata": {},
     "output_type": "execute_result"
    }
   ],
   "source": [
    "min('uwu')"
   ]
  },
  {
   "cell_type": "code",
   "execution_count": 25,
   "metadata": {},
   "outputs": [
    {
     "data": {
      "text/plain": [
       "'s'"
      ]
     },
     "execution_count": 25,
     "metadata": {},
     "output_type": "execute_result"
    }
   ],
   "source": [
    "max('pasapalabra')"
   ]
  },
  {
   "cell_type": "markdown",
   "metadata": {},
   "source": [
    "## Más operaciones sobre strings\n",
    "\n",
    "Las siguientes operaciones/funciones entregan un resultado dependiendo del caso, y no modifican el string original. En particular las ultimas 5 entregan un nuevo string como resultado\n",
    "\n",
    "| Función    | Significado                                                 |\n",
    "|---------------|-------------------------------------------------------------------------------------------|\n",
    "| ``S.isalpha()``   | Entrega ``True`` si ``S`` solo contiene caracteres alfabéticos.              |\n",
    "| ``S.isnumeric()``   | Entrega ``True`` si ``S`` solo contiene caracteres numéricos.                |\n",
    "| ``S.isalnum()``   | Entrega ``True`` si ``S`` solo contiene caracteres numéricos o alfabéticos.               |\n",
    "| ``S.islower()``   | Entrega ``True`` si ``S`` solo contiene caracteres en minúsculas.         |\n",
    "| ``S.isupper()``   | Entrega ``True`` si ``S`` solo contiene caracteres en mayúsculas.       |\n",
    "| ``S.find(c)``     | Busca si existe  ``c`` en ``S`` y entrega el indice de la primera aparición. |\n",
    "| ``S.count(c)``    | Cuenta las apariciones de ``c`` en ``S``                 |\n",
    "| ``S.lower()``     | Entrega el string ``S`` convertido a minúsculas.              |\n",
    "| ``S.upper()``     | Entrega el string ``S`` convertido a mayúsculas.            |\n",
    "| ``S.strip()``     | Entrega el string ``S`` eliminando espacios del principio y final.      |\n",
    "| ``S.replace(x,z)``     | Entrega el string ``S`` donde se reemplazaron todos los caracteres ``x`` por ``z``      |\n",
    "| ``S.split(c)``     | Entrega una lista con los fragmentos de ``S`` que se encuentran separados por ``c``      |\n"
   ]
  },
  {
   "cell_type": "markdown",
   "metadata": {},
   "source": [
    "### Es alfabético?\n",
    "\n",
    "La operación ``.isalpha()`` entrega ``True`` si y solo si, el string se compone de letras"
   ]
  },
  {
   "cell_type": "code",
   "execution_count": 26,
   "metadata": {},
   "outputs": [
    {
     "data": {
      "text/plain": [
       "True"
      ]
     },
     "execution_count": 26,
     "metadata": {},
     "output_type": "execute_result"
    }
   ],
   "source": [
    "S = 'abracadabra'\n",
    "S.isalpha()"
   ]
  },
  {
   "cell_type": "code",
   "execution_count": 27,
   "metadata": {},
   "outputs": [
    {
     "data": {
      "text/plain": [
       "False"
      ]
     },
     "execution_count": 27,
     "metadata": {},
     "output_type": "execute_result"
    }
   ],
   "source": [
    "S = 'abracad4bra'\n",
    "S.isalpha()"
   ]
  },
  {
   "cell_type": "markdown",
   "metadata": {},
   "source": [
    "### Es numérico?"
   ]
  },
  {
   "cell_type": "markdown",
   "metadata": {},
   "source": [
    "La operación ``.isnumeric()`` entrega ``True`` si y solo si, el string se compone de números enteros"
   ]
  },
  {
   "cell_type": "code",
   "execution_count": 28,
   "metadata": {},
   "outputs": [
    {
     "data": {
      "text/plain": [
       "False"
      ]
     },
     "execution_count": 28,
     "metadata": {},
     "output_type": "execute_result"
    }
   ],
   "source": [
    "S = 'abracadabra'\n",
    "S.isnumeric()"
   ]
  },
  {
   "cell_type": "code",
   "execution_count": 29,
   "metadata": {},
   "outputs": [
    {
     "data": {
      "text/plain": [
       "True"
      ]
     },
     "execution_count": 29,
     "metadata": {},
     "output_type": "execute_result"
    }
   ],
   "source": [
    "S = '123'\n",
    "S.isnumeric()"
   ]
  },
  {
   "cell_type": "markdown",
   "metadata": {},
   "source": [
    "Ojo, esta operación no entrega lo esperado para strings que representan números negativos ni flotantes"
   ]
  },
  {
   "cell_type": "code",
   "execution_count": 30,
   "metadata": {},
   "outputs": [
    {
     "data": {
      "text/plain": [
       "False"
      ]
     },
     "execution_count": 30,
     "metadata": {},
     "output_type": "execute_result"
    }
   ],
   "source": [
    "S = '-123.4'\n",
    "S.isnumeric()"
   ]
  },
  {
   "cell_type": "markdown",
   "metadata": {},
   "source": [
    "Para \"parcharlo\", podemos usar una función auxiliar \"avanzada\", que nos permite determinar si es posible convertir el string a número de todos modos\n"
   ]
  },
  {
   "cell_type": "code",
   "execution_count": 31,
   "metadata": {},
   "outputs": [],
   "source": [
    "#esNumerico: str -> bool\n",
    "def esNumerico(S):\n",
    "    try:\n",
    "        complex(S)\n",
    "        return True\n",
    "    except ValueError:\n",
    "        return False"
   ]
  },
  {
   "cell_type": "code",
   "execution_count": 32,
   "metadata": {},
   "outputs": [
    {
     "data": {
      "text/plain": [
       "True"
      ]
     },
     "execution_count": 32,
     "metadata": {},
     "output_type": "execute_result"
    }
   ],
   "source": [
    "S = '-123.4'\n",
    "esNumerico(S)"
   ]
  },
  {
   "cell_type": "markdown",
   "metadata": {},
   "source": [
    "### es alfanumérico?\n",
    "\n",
    "La operación `.isalnum()` entrega `True` si y solo si, el string se compone de números enteros o letras\n"
   ]
  },
  {
   "cell_type": "code",
   "execution_count": 33,
   "metadata": {},
   "outputs": [
    {
     "data": {
      "text/plain": [
       "True"
      ]
     },
     "execution_count": 33,
     "metadata": {},
     "output_type": "execute_result"
    }
   ],
   "source": [
    "S = 'abracadabra'\n",
    "S.isalnum()"
   ]
  },
  {
   "cell_type": "code",
   "execution_count": 34,
   "metadata": {},
   "outputs": [
    {
     "data": {
      "text/plain": [
       "True"
      ]
     },
     "execution_count": 34,
     "metadata": {},
     "output_type": "execute_result"
    }
   ],
   "source": [
    "S = 'ab2acadabr4'\n",
    "S.isalnum()"
   ]
  },
  {
   "cell_type": "markdown",
   "metadata": {},
   "source": [
    "### Está en minúsculas?\n",
    "\n",
    "La operación `.islower()` entrega `True` si y solo si, todos los caracteres del string están en minúsculas"
   ]
  },
  {
   "cell_type": "code",
   "execution_count": 35,
   "metadata": {},
   "outputs": [
    {
     "data": {
      "text/plain": [
       "True"
      ]
     },
     "execution_count": 35,
     "metadata": {},
     "output_type": "execute_result"
    }
   ],
   "source": [
    "S = 'abracadabra'\n",
    "S.islower()"
   ]
  },
  {
   "cell_type": "code",
   "execution_count": 36,
   "metadata": {},
   "outputs": [
    {
     "data": {
      "text/plain": [
       "False"
      ]
     },
     "execution_count": 36,
     "metadata": {},
     "output_type": "execute_result"
    }
   ],
   "source": [
    "S = 'ABRAcadabra'\n",
    "S.islower()"
   ]
  },
  {
   "cell_type": "markdown",
   "metadata": {},
   "source": [
    "### Está en mayúsculas?\n",
    "\n",
    "La operación `.isupper()` entrega `True` si y solo si, todos los caracteres del string están en mayúsculas"
   ]
  },
  {
   "cell_type": "code",
   "execution_count": 37,
   "metadata": {},
   "outputs": [
    {
     "data": {
      "text/plain": [
       "True"
      ]
     },
     "execution_count": 37,
     "metadata": {},
     "output_type": "execute_result"
    }
   ],
   "source": [
    "S = 'ABRACADABRA'\n",
    "S.isupper()\n"
   ]
  },
  {
   "cell_type": "code",
   "execution_count": 38,
   "metadata": {},
   "outputs": [
    {
     "data": {
      "text/plain": [
       "False"
      ]
     },
     "execution_count": 38,
     "metadata": {},
     "output_type": "execute_result"
    }
   ],
   "source": [
    "S = 'ABRAcadabra'\n",
    "S.isupper()\n"
   ]
  },
  {
   "cell_type": "markdown",
   "metadata": {},
   "source": [
    "### Índice\n",
    "\n",
    "La operación .find() entrega el índice de la primera aparición del carácter o string entregado"
   ]
  },
  {
   "cell_type": "code",
   "execution_count": 39,
   "metadata": {},
   "outputs": [
    {
     "data": {
      "text/plain": [
       "6"
      ]
     },
     "execution_count": 39,
     "metadata": {},
     "output_type": "execute_result"
    }
   ],
   "source": [
    "S = 'abracadabra'\n",
    "S.find('d')"
   ]
  },
  {
   "cell_type": "code",
   "execution_count": 40,
   "metadata": {},
   "outputs": [
    {
     "data": {
      "text/plain": [
       "0"
      ]
     },
     "execution_count": 40,
     "metadata": {},
     "output_type": "execute_result"
    }
   ],
   "source": [
    "S = 'abracadabra'\n",
    "S.find('a')"
   ]
  },
  {
   "cell_type": "code",
   "execution_count": 41,
   "metadata": {},
   "outputs": [
    {
     "data": {
      "text/plain": [
       "4"
      ]
     },
     "execution_count": 41,
     "metadata": {},
     "output_type": "execute_result"
    }
   ],
   "source": [
    "S = 'abracadabra'\n",
    "S.find('cad')"
   ]
  },
  {
   "cell_type": "markdown",
   "metadata": {},
   "source": [
    "Si lo buscado no existe en el string, entrega -1"
   ]
  },
  {
   "cell_type": "code",
   "execution_count": 42,
   "metadata": {},
   "outputs": [
    {
     "data": {
      "text/plain": [
       "-1"
      ]
     },
     "execution_count": 42,
     "metadata": {},
     "output_type": "execute_result"
    }
   ],
   "source": [
    "S = 'abracadabra'\n",
    "S.find('x')"
   ]
  },
  {
   "cell_type": "markdown",
   "metadata": {},
   "source": [
    "### Contar\n",
    "\n",
    "La operación ``.count()`` entrega cuantas veces se repite el carácter o string entregado\n"
   ]
  },
  {
   "cell_type": "code",
   "execution_count": 43,
   "metadata": {},
   "outputs": [
    {
     "data": {
      "text/plain": [
       "5"
      ]
     },
     "execution_count": 43,
     "metadata": {},
     "output_type": "execute_result"
    }
   ],
   "source": [
    "S = 'abracadabra'\n",
    "S.count('a')"
   ]
  },
  {
   "cell_type": "code",
   "execution_count": 44,
   "metadata": {},
   "outputs": [
    {
     "data": {
      "text/plain": [
       "2"
      ]
     },
     "execution_count": 44,
     "metadata": {},
     "output_type": "execute_result"
    }
   ],
   "source": [
    "S = 'abracadabra'\n",
    "S.count('ra')"
   ]
  },
  {
   "cell_type": "code",
   "execution_count": 45,
   "metadata": {},
   "outputs": [
    {
     "data": {
      "text/plain": [
       "0"
      ]
     },
     "execution_count": 45,
     "metadata": {},
     "output_type": "execute_result"
    }
   ],
   "source": [
    "S = 'abracadabra'\n",
    "S.count('x')"
   ]
  },
  {
   "cell_type": "markdown",
   "metadata": {},
   "source": [
    "### Convertir a Mayúsculas\n",
    "\n",
    "La operación ``.upper()`` entrega un nuevo string, donde todos los caracteres se convirtieron a mayúsculas\n"
   ]
  },
  {
   "cell_type": "code",
   "execution_count": 46,
   "metadata": {},
   "outputs": [
    {
     "name": "stdout",
     "output_type": "stream",
     "text": [
      "ABRACADABRA\n"
     ]
    }
   ],
   "source": [
    "S1 = 'ABRAcadabra'\n",
    "S2 = S1.upper()\n",
    "print(S2)"
   ]
  },
  {
   "cell_type": "markdown",
   "metadata": {},
   "source": [
    "### Convertir a Minúsculas\n",
    "\n",
    "La operación ``.lower()`` entrega un nuevo string, donde todos los caracteres se convirtieron a minúsculas"
   ]
  },
  {
   "cell_type": "code",
   "execution_count": 47,
   "metadata": {},
   "outputs": [
    {
     "name": "stdout",
     "output_type": "stream",
     "text": [
      "abracadabra\n"
     ]
    }
   ],
   "source": [
    "S1 = 'ABRAcadabra'\n",
    "S2 = S1.lower()\n",
    "print(S2)"
   ]
  },
  {
   "cell_type": "markdown",
   "metadata": {},
   "source": [
    "### Quitar espacios\n",
    "\n",
    "La operación ``.strip()`` entrega un nuevo string, donde se eliminaron los espacios al principio y al final del string (pero no entremedio)\n"
   ]
  },
  {
   "cell_type": "code",
   "execution_count": 48,
   "metadata": {},
   "outputs": [
    {
     "name": "stdout",
     "output_type": "stream",
     "text": [
      "abrac    adabra\n"
     ]
    }
   ],
   "source": [
    "S1 = '      abrac    adabra  '\n",
    "S2 = S1.strip()\n",
    "print(S2)"
   ]
  },
  {
   "cell_type": "markdown",
   "metadata": {},
   "source": [
    "### Reemplazar caracteres\n",
    "\n",
    "La operación ``.replace()`` entrega un nuevo string, donde se reemplazaron las apariciones de una secuencia de caracteres, por otra que se especifique\n"
   ]
  },
  {
   "cell_type": "code",
   "execution_count": 49,
   "metadata": {},
   "outputs": [
    {
     "name": "stdout",
     "output_type": "stream",
     "text": [
      "xbrxcxdxbrx\n"
     ]
    }
   ],
   "source": [
    "S1 = 'abracadabra'\n",
    "S2 = S1.replace('a','x')\n",
    "print(S2)"
   ]
  },
  {
   "cell_type": "code",
   "execution_count": 50,
   "metadata": {},
   "outputs": [
    {
     "name": "stdout",
     "output_type": "stream",
     "text": [
      "abuwucadabuwu\n"
     ]
    }
   ],
   "source": [
    "S1 = 'abracadabra'\n",
    "S2 = S1.replace('ra','uwu')\n",
    "print(S2)"
   ]
  },
  {
   "cell_type": "markdown",
   "metadata": {},
   "source": [
    "### Separar un string\n",
    "\n",
    "La operación `.split()` corta un string en base al separador indicado, entregando una lista con todos los fragmentos del string\n"
   ]
  },
  {
   "cell_type": "code",
   "execution_count": 51,
   "metadata": {},
   "outputs": [
    {
     "name": "stdout",
     "output_type": "stream",
     "text": [
      "['', 'br', 'c', 'd', 'br', '']\n"
     ]
    }
   ],
   "source": [
    "S1 = 'abracadabra'\n",
    "L = S1.split('a')\n",
    "print(L)"
   ]
  },
  {
   "cell_type": "markdown",
   "metadata": {},
   "source": [
    "En especial, sirve para separar una frase en una lista de palabras, indicando como separador, un espacio ``' '``"
   ]
  },
  {
   "cell_type": "code",
   "execution_count": 52,
   "metadata": {},
   "outputs": [
    {
     "name": "stdout",
     "output_type": "stream",
     "text": [
      "['yo', 'tengo', 'un', 'lindo', 'gatito']\n"
     ]
    }
   ],
   "source": [
    "frase = 'yo tengo un lindo gatito'\n",
    "L = frase.split(' ')\n",
    "print(L)"
   ]
  },
  {
   "cell_type": "markdown",
   "metadata": {},
   "source": [
    "## Recorrer un string\n",
    "\n",
    "Los strings, al igual que las listas, también pueden ser recorridos cíclicamente, usando un ciclo ``for`` o ciclo ``while``\n",
    "\n"
   ]
  },
  {
   "cell_type": "markdown",
   "metadata": {},
   "source": [
    "### `while` por índices"
   ]
  },
  {
   "cell_type": "code",
   "execution_count": 53,
   "metadata": {},
   "outputs": [],
   "source": [
    "# imprimir: str -> None\n",
    "# ...\n",
    "def imprimir(S):\n",
    "    assert type(S) == str\n",
    " \n",
    "    i = 0\n",
    "    while i < len(S):\n",
    "        print(S[i])\n",
    "        i = i + 1\n",
    "        \n",
    "    return None"
   ]
  },
  {
   "cell_type": "code",
   "execution_count": 54,
   "metadata": {},
   "outputs": [
    {
     "name": "stdout",
     "output_type": "stream",
     "text": [
      "m\n",
      "a\n",
      "n\n",
      "z\n",
      "a\n",
      "n\n",
      "a\n"
     ]
    }
   ],
   "source": [
    "imprimir(\"manzana\")"
   ]
  },
  {
   "cell_type": "markdown",
   "metadata": {},
   "source": [
    "### `for` por valores"
   ]
  },
  {
   "cell_type": "code",
   "execution_count": 57,
   "metadata": {},
   "outputs": [],
   "source": [
    "# imprimir: str -> None\n",
    "# ...\n",
    "def imprimir(S):\n",
    "    assert type(S) == str\n",
    " \n",
    "    for letra in S:\n",
    "        print(letra)\n",
    "                \n",
    "    return None"
   ]
  },
  {
   "cell_type": "code",
   "execution_count": 58,
   "metadata": {},
   "outputs": [
    {
     "name": "stdout",
     "output_type": "stream",
     "text": [
      "m\n",
      "a\n",
      "n\n",
      "z\n",
      "a\n",
      "n\n",
      "a\n"
     ]
    }
   ],
   "source": [
    "imprimir(\"manzana\")"
   ]
  },
  {
   "cell_type": "markdown",
   "metadata": {},
   "source": [
    "### `for` por índices"
   ]
  },
  {
   "cell_type": "code",
   "execution_count": 59,
   "metadata": {},
   "outputs": [],
   "source": [
    "# imprimir: str -> None\n",
    "# ...\n",
    "def imprimir(S):\n",
    "    assert type(S) == str\n",
    " \n",
    "    for i in range(len(S)):\n",
    "        print(S[i])\n",
    "                \n",
    "    return None"
   ]
  },
  {
   "cell_type": "code",
   "execution_count": 60,
   "metadata": {},
   "outputs": [
    {
     "name": "stdout",
     "output_type": "stream",
     "text": [
      "m\n",
      "a\n",
      "n\n",
      "z\n",
      "a\n",
      "n\n",
      "a\n"
     ]
    }
   ],
   "source": [
    "imprimir(\"manzana\")"
   ]
  },
  {
   "cell_type": "markdown",
   "metadata": {},
   "source": [
    "## Substrings y operaciones\n",
    "\n",
    "Todas las operaciones y funciones vistas sobre strings también pueden aplicarse a un sub-string. Por ejemplo"
   ]
  },
  {
   "cell_type": "code",
   "execution_count": 4,
   "metadata": {},
   "outputs": [
    {
     "name": "stdout",
     "output_type": "stream",
     "text": [
      "RACAD\n"
     ]
    }
   ],
   "source": [
    "S1 = 'abracadabra'\n",
    "S2 = S1[2:7].upper()\n",
    "print(S2)"
   ]
  },
  {
   "cell_type": "markdown",
   "metadata": {},
   "source": [
    "Para eliminar los espacios al principio, al final y entremedio de un string, podemos reemplazarlos por el espacio vacío"
   ]
  },
  {
   "cell_type": "code",
   "execution_count": 5,
   "metadata": {},
   "outputs": [
    {
     "name": "stdout",
     "output_type": "stream",
     "text": [
      "abracadabra\n"
     ]
    }
   ],
   "source": [
    "S1 = '      abrac    adabra  '\n",
    "S2 = S1.replace(' ','')\n",
    "print(S2)"
   ]
  },
  {
   "cell_type": "markdown",
   "metadata": {},
   "source": [
    "## `f-strings`\n",
    "\n",
    "En Python, los ``f-strings`` es una sintaxis que permite crear y formatear strings de una manera mas cómoda.\n",
    "\n",
    "Esta sintaxis, corresponde a un string normal, con el prefijo ``f``, y dentro del string se dejan campos de reemplazo, que se denotan entre paréntesis de llave ``{}`` y dentro de ellos se puede colocar cualquier expresión o variable de Python\n",
    "\n",
    "```python\n",
    "f\"hola soy {exp1} y te deseo {exp2}\"\n",
    "# donde por ej:\n",
    "# exp1 = 'asuka'\n",
    "# exp2 = 'un feliz jueves'\n",
    "```\n",
    "Por ejemplo, el siguiente mensaje compuesto de la manera \"tradicional\""
   ]
  },
  {
   "cell_type": "code",
   "execution_count": 1,
   "metadata": {},
   "outputs": [
    {
     "name": "stdout",
     "output_type": "stream",
     "text": [
      "hola soy timmy y tengo 2 padrinos mágicos\n"
     ]
    }
   ],
   "source": [
    "nombre = 'timmy'\n",
    "padrinos = 2\n",
    "msg = \"hola soy \" + nombre + \" y tengo \" + str(padrinos) + \" padrinos mágicos\"\n",
    "print(msg)"
   ]
  },
  {
   "cell_type": "markdown",
   "metadata": {},
   "source": [
    "Se puede escribir como ``f-string`` de la siguiente manera"
   ]
  },
  {
   "cell_type": "code",
   "execution_count": null,
   "metadata": {},
   "outputs": [],
   "source": [
    "nombre = 'timmy'\n",
    "padrinos = 2\n",
    "msg = f\"hola soy {nombre} y tengo {padrinos} padrinos mágicos\"\n",
    "print(msg)"
   ]
  },
  {
   "cell_type": "markdown",
   "metadata": {},
   "source": [
    "Los ``f-strings`` se evalúan en el momento, por lo que se pueden colocar expresiones, o invocar funciones dentro de los ``{ }``"
   ]
  },
  {
   "cell_type": "code",
   "execution_count": 2,
   "metadata": {},
   "outputs": [
    {
     "name": "stdout",
     "output_type": "stream",
     "text": [
      "hola soy TIMMY y tengo 6 padrinos mágicos\n"
     ]
    }
   ],
   "source": [
    "nombre = 'timmy'\n",
    "padrinos = 2\n",
    "msg = f\"hola soy {nombre.upper()} y tengo {padrinos*3} padrinos mágicos\"\n",
    "print(msg)"
   ]
  },
  {
   "cell_type": "markdown",
   "metadata": {},
   "source": [
    "## Conclusiones\n",
    "\n",
    "Ahora que conocemos mejor a los Strings y las operaciones que se pueden hacer con ellos, notamos que se comportan muy similar a una **lista inmutable de caracteres**. Así, podemos pasar de Strings a listas o viceversa, dependiendo de lo que nos convenga para resolver un problema\n",
    "\n",
    "También hay varias otras funciones y \"truquitos\" existentes en Python para operar con listas y Strings. Dependiendo de su utilidad, puede que abordemos algunos de ellos a futuro.\n"
   ]
  }
 ],
 "metadata": {
  "kernelspec": {
   "display_name": "Python 3 (ipykernel)",
   "language": "python",
   "name": "python3"
  },
  "language_info": {
   "codemirror_mode": {
    "name": "ipython",
    "version": 3
   },
   "file_extension": ".py",
   "mimetype": "text/x-python",
   "name": "python",
   "nbconvert_exporter": "python",
   "pygments_lexer": "ipython3",
   "version": "3.10.5"
  },
  "vscode": {
   "interpreter": {
    "hash": "98b95ce4537a043c6c2f8047f97d2678115deb8444c76d437608d4f0db95d495"
   }
  }
 },
 "nbformat": 4,
 "nbformat_minor": 4
}
