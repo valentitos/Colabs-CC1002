{
 "cells": [
  {
   "cell_type": "markdown",
   "metadata": {},
   "source": [
    "<a href=\"https://colab.research.google.com/github/valentitos/Colabs-CC1002/blob/main/Clase_07_5_RepasoC1/Clase07_5_RepasoC1.ipynb\" target=\"_parent\"><img src=\"https://colab.research.google.com/assets/colab-badge.svg\" alt=\"Open In Colab\"/></a>"
   ]
  },
  {
   "cell_type": "markdown",
   "metadata": {},
   "source": [
    "# Clase 07.5: Repaso C1"
   ]
  },
  {
   "cell_type": "markdown",
   "metadata": {},
   "source": [
    "## Control 1\n",
    "\n",
    "Típicamente se evalúa toda la materia vista hasta 1 semana antes del control\n",
    "\n",
    "- Expresiones y Variables\n",
    "  - Uso de operadores // % * para trabajar con número enteros\n",
    "- Funciones y Receta de diseño\n",
    "- Uso de Módulos\n",
    "  - Uso de módulos predefinidos y propios\n",
    "- Interactividad\n",
    "  - Uso de  input y print\n",
    "- Condicionales e Instrucción if\n",
    "- Funciones Recursivas\n",
    "  - Caso Base y Recursivo, funciones \"cíclicas\", fractales\n",
    "\n",
    "Para repasar la materia, lo vamos a ver aplicadamente, resolviendo una serie de ejercicios de controles anteriores (o variantes de ello), más un adelanto de la Clase 08, que, por tiempo, no alcanzaremos a ver en su totalidad"
   ]
  },
  {
   "cell_type": "markdown",
   "metadata": {},
   "source": [
    "## Números Primos\n",
    "\n",
    "Los numeros primos se definen como los numeros naturales tales que son mayores a 1, y sus unicos divisores son el 1 y el mismo numero.\n",
    "\n",
    "El estudio de los números primos es parte importante de diversos campos en matemáticas y computación:\n",
    "\n",
    "- Teoría de Números\n",
    "\n",
    "- Hipótesis de Riemann\n",
    "\n",
    "- Conjetura de Goldbach\n",
    "\n",
    "- Pequeño teorema de Fermat\n",
    "\n",
    "- Criptografía\n",
    "\n",
    "Para empezar a trabajar con números primos, primero necesitamos una función que nos ayude a detectar si un número dado es primo o no (lo que se conoce como **primalidad**)\n",
    "\n",
    "En particular, de la definición de número primo, sabemos que:\n",
    "\n",
    "`n` es primo ⟺ `n` solo es divisible por 1 y por sí mismo\n",
    "\n",
    "Lo que es equivalente a contar la cantidad de divisores de `n`, y si esta cantidad es exactamente igual a 2, entonces `n` es primo\n",
    "\n",
    "\n"
   ]
  },
  {
   "cell_type": "markdown",
   "metadata": {},
   "source": [
    "### Ejercicio Primos (enunciado parte 1)\n",
    "\n",
    "- Cree la función `divisores(n)` , que dado un número entero mayor o igual a 2, cuente cuantos números entre 1 y `n` dividen exactamente a `n`\n",
    "  - `divisores(10)` entrega `4`\n",
    "  - `divisores(11)` entrega `2`\n",
    "\n",
    "- Cree la función `esPrimo(n)` que, usando la función anterior, determine si `n` cumple con ser primo o no\n",
    "  - `esPrimo(7)` entrega `True`\n",
    "  - `esPrimo(8)` entrega `False`"
   ]
  },
  {
   "cell_type": "markdown",
   "metadata": {},
   "source": [
    "### Ejercicio Primos (`divisores`)\n",
    "\n",
    "Para la función auxiliar (`divisores(n)`) , la idea es hacer un \"barrido\" en el intervalo $[1,n]$, contabilizando cada vez que un número sea divisor de $n$. Y podemos usar una variable por omisión, para llevar registro de cual es el número actual que estamos revisando en tal intervalo\n",
    "\n",
    "- **Caso recursivo**: Si el número actual es divisor de 𝑛, entonces lo contamos y pasamos al siguiente número del intervalo. Si no, entonces de todas maneras pasamos al siguiente número del intervalo\n",
    "\n",
    "- **Caso Base**: Si el número actual a revisar es 𝑛, entonces sabemos que es divisor, lo contamos, y terminamos la recursión.\n",
    "\n",
    "**Siempre tenemos que usar la receta de diseño, a menos que nos digan lo contrario, o no sea aplicable (programas interactivos, no hay return distinto a None, etc…)**"
   ]
  },
  {
   "cell_type": "code",
   "execution_count": null,
   "metadata": {},
   "outputs": [],
   "source": [
    "# variante 1: Usar 1 variable por omisión\n",
    "# para saber en que divisor vamos, y llevar\n",
    "# la cuenta en la recursión\n",
    "\n",
    "#divisores: int (int) -> int\n",
    "#da cuantos divisores tiene un numero >= 1\n",
    "#ej: divisores(6) entrega 4\n",
    "def divisores(n, actual=1):\n",
    "    # completar\n",
    "\n",
    "\n",
    "#test\n",
    "assert divisores(6) == 4\n",
    "assert divisores(1) == 1\n",
    "assert divisores(7) == 2"
   ]
  },
  {
   "cell_type": "code",
   "execution_count": null,
   "metadata": {},
   "outputs": [],
   "source": [
    "# Variante 2: Usar una segunda variable por\n",
    "# omisión, para llevar explícitamente la \n",
    "# cuenta de divisores\n",
    "\n",
    "#divisores: int (int) (int) -> int\n",
    "#da cuantos divisores tiene un numero >= 1\n",
    "#ej: divisores(6) entrega 4\n",
    "def divisores(n, actual=1, cuenta=0):\n",
    "    # completar\n",
    "\n",
    "\n",
    "#test\n",
    "assert divisores(6) == 4\n",
    "assert divisores(1) == 1\n",
    "assert divisores(7) == 2"
   ]
  },
  {
   "cell_type": "markdown",
   "metadata": {},
   "source": [
    "### Ejercicio Primos (`esPrimo`)\n",
    "\n",
    "Ahora para la segunda parte, usaremos la función anterior, para contar cuantos divisores tiene un número\n",
    "\n",
    "Luego, si tiene exactamente 2 divisores, entonces cumple con ser primo. En cualquier otro caso, no puede ser primo\n",
    "\n",
    "`n` es primo ⟺ `n` solo es divisible por 1 y por sí mismo\n",
    "\n",
    "**Ojo: si por algún motivo, no logramos resolver la parte anterior, para efectos del control, igual pueden asumir que la resolvieron para hacer las siguientes partes**\n"
   ]
  },
  {
   "cell_type": "code",
   "execution_count": null,
   "metadata": {},
   "outputs": [],
   "source": [
    "# esPrimo: int -> bool\n",
    "# indica si un número dado es primo o no\n",
    "# ej: esPrimo(7) entrega True\n",
    "def esPrimo(n):\n",
    "    # completar\n",
    "\n",
    "\n",
    "# test\n",
    "assert esPrimo(7)\n",
    "assert not esPrimo(4)\n",
    "assert not esPrimo(1)"
   ]
  },
  {
   "cell_type": "markdown",
   "metadata": {},
   "source": [
    "- Propuesto: escribir esta función, sin usar una función auxiliar, pero puede agregar todas las variables por omisión que necesite\n",
    "- Hay formas más eficientes para revisar si un número es primo, las cuales pueden revisar en el material de la Clase 08"
   ]
  },
  {
   "cell_type": "markdown",
   "metadata": {},
   "source": [
    "### Ejercicio Primos (parte 2) (`primosEnRango`)\n",
    "\n",
    "Cree la función `primosEnRango(x,y)`, que dado dos números enteros que representan el intervalo `[x, y]` , muestre en pantalla todos los primos que existan en ese rango. Ejemplo:\n",
    "\n",
    "```\n",
    ">>> primosEnRango(10,20)\n",
    "    11\n",
    "    13\n",
    "    17\n",
    "    19\n",
    "```\n",
    "\n",
    "**Cuando nos digan muestre en pantalla, imprima, escriba, o alguna palabra clave similar, se espera que usemos print para imprimir/mostrar cosas en pantalla**\n",
    "\n",
    "**Ojo, que puede haber preguntas que nos pidan imprimir y retornar un resultado al mismo tiempo**\n",
    "\n"
   ]
  },
  {
   "cell_type": "code",
   "execution_count": null,
   "metadata": {},
   "outputs": [],
   "source": [
    "# primosEnRango: int int -> None\n",
    "# muestra todos los primos que existan en un intervalo dado\n",
    "# ej: primosEnRango(10, 20) muestra 11 13 17 19\n",
    "def primosEnRango(x,y):\n",
    "        # completar"
   ]
  },
  {
   "cell_type": "markdown",
   "metadata": {},
   "source": [
    "- Como es una función que solo printea cosas en pantalla, luego no es testeable\n",
    "- Notar que, en este tipo de recursiones, el problema disminuye su tamaño al disminuir el tamaño del intervalo a revisar"
   ]
  },
  {
   "cell_type": "markdown",
   "metadata": {},
   "source": [
    "## Números Romanos (`C1 P1 - 2017-02`)\n",
    "\n",
    "El módulo de nombre romano contiene las funciones que se indican en la siguiente tabla:\n",
    "\n",
    "| Funcion           | Ejemplo 1           | Resultado | Ejemplo 2           | Resultado | Significado                                              |\n",
    "|-------------------|---------------------|-----------|---------------------|-----------|----------------------------------------------------------|\n",
    "| `decimal(r)`      | `decimal(\"V\")`      | `5`       | `decimal(\"I\")`      | `1`       | Valor decimal de un dígito romano                        |\n",
    "| `decimal2(r1,r2)` | `decimal2(\"I\",\"V\")` | `4`       | `decimal2(\"V\",\"I\")` | `6`       | Valor decimal de un número romano de dos dígitos         |\n",
    "| `esValido(r)`     | `esValido(\"IV\")`    | `True`    | `esValido(\"I5\")`    | `False`   | `True` si número romano está correcto (`False` si no)    |\n"
   ]
  },
  {
   "cell_type": "markdown",
   "metadata": {},
   "source": [
    "**(A)** Escriba la función `decimal` (sin receta de diseño ni testing)\n",
    "\n",
    "Notas:\n",
    "- Los dígitos romanos `I, V, X, L, C, D y M` tienen los valores `1, 5, 10, 50, 100, 500 y 1000` respectivamente.\n",
    "- La función debe entregar un cero en caso de recibir un dígito distinto a los anteriores.\n",
    "\n",
    "**(B)** Escriba la función `decimal2`, con receta de diseño, y al menos dos casos de prueba distintos a los ejemplos.\n",
    "\n",
    "Notas:\n",
    "- El primer dígito se resta del segundo dígito, si su valor es menor, y se suma al segundo si su valor no es menor.\n",
    "- La función debe entregar el valor cero en caso de que alguno de los parámetros no sea un dígito romano.\n",
    "\n",
    "**(C)** Escriba un programa que use las funciones del módulo `romano`, para leer **un** número romano de dos dígitos, y muestre en pantalla su valor decimal correspondiente, siguiendo el siguiente diálogo de ejemplo:\n",
    "\n",
    "```\n",
    "  Ingrese un número romano de dos dígitos: \"VI\"\n",
    "  El valor decimal es: 6\n",
    "```\n",
    "\n",
    "Notas:\n",
    "- El string con el número romano, se puede leer con la función `input`\n",
    "- En caso de que el número romano no sea válido, debe mostrar el mensaje `\"Numero romano incorrecto\"`"
   ]
  },
  {
   "cell_type": "markdown",
   "metadata": {},
   "source": [
    "### Indicación General\n",
    "\n",
    "Los problemas que involucran módulos propios o custom para un control, generalmente se dividen en:\n",
    "\n",
    "- Usar nuestros conocimientos para definir las funciones de tal módulo\n",
    "  - Usualmente podemos usar las otras funciones del mismo módulo, para ayudarnos con esta función\n",
    "  - Ojo: que a veces se imponen restricciones de que no podemos usar ciertas funciones u operaciones (ver ``C1 P2 – 2017-02``)\n",
    "\n",
    "- Usar las funciones del módulo para crear otra función o programa (interactivo)\n",
    "  - En estos casos, no olvidar importar el módulo para poder usarlo\n",
    "  - Tenemos que usar nuestra creatividad para componer adecuadamente las funciones de tal módulo]"
   ]
  },
  {
   "cell_type": "markdown",
   "metadata": {},
   "source": [
    "### Resolución (A)(`decimal`)\n",
    "\n",
    "Para la parte (A), notamos que la función `decimal` se encarga de convertir de letras (que representan números romanos) a su valor en números decimales.\n",
    "\n",
    "La resolución es directa, pero exhaustiva, tenemos que entregar una respuesta distinta, dependiendo de la letra que nos pasen, y si la letra no coincide con alguna de las usadas en los números romanos, entregar un 0"
   ]
  },
  {
   "cell_type": "code",
   "execution_count": null,
   "metadata": {},
   "outputs": [],
   "source": [
    "def decimal(r):\n",
    "    # completar"
   ]
  },
  {
   "cell_type": "markdown",
   "metadata": {},
   "source": [
    "- Dependiendo del caso: letra que nos pasen, entregamos su número decimal adecuado\n",
    "- Por descarte, si la letra no fue traducida en los pasos anteriores, entonces es un número romano no válido. Entregamos 0\n",
    "\n",
    "**Como nos indicaron que no hay que usar receta de diseño, entonces omitimos el contrato, descripción, ejemplos y test**"
   ]
  },
  {
   "cell_type": "markdown",
   "metadata": {},
   "source": [
    "### Resolución (B)(`decimal2`)\n",
    "\n",
    "Para la parte (B), notamos que las cifras del número romano **(que siempre serán 2)** ya vienen separadas en 2 variables distintas, por lo que podemos usar la función anterior para obtener su valor decimal por separado, y luego determinar cómo operarlos, de acuerdo al criterio mencionado\n",
    "\n",
    "Además, tenemos que verificar el caso especial en el cual alguno de los dígitos no representa un romano válido"
   ]
  },
  {
   "cell_type": "code",
   "execution_count": null,
   "metadata": {},
   "outputs": [],
   "source": [
    "# decimal2: str str -> int\n",
    "# entrega el valor decimal de un numero romano de 2 cifras\n",
    "# ej: decimal2(\"I\",\"X\") entrega 9\n",
    "#     decimal2(\"X\",\"I\") entrega 11\n",
    "def decimal2(r1,r2):\n",
    "    # completar\n",
    "\n",
    "\n",
    "# Test\n",
    "assert decimal2(\"I\",\"X\") == 9\n",
    "assert decimal2(\"X\",\"I\") == 11"
   ]
  },
  {
   "cell_type": "markdown",
   "metadata": {},
   "source": [
    "- No olvidar hacer test distintos a los ejemplos (de acuerdo a la ind. del enunciado)"
   ]
  },
  {
   "cell_type": "markdown",
   "metadata": {},
   "source": [
    "### Resolución (C)(`programa interactivo`)\n",
    "\n",
    "Para la parte (C), si bien puede parecer sencilla, hay hartos pasos que tenemos que considerar:\n",
    "\n",
    "- Se lee UN número romano (letras) de DOS dígitos\n",
    "    - Asumimos que nos entregarán algo de tamaño 2\n",
    "    - Como solo hay que leer un número, es un programa directo, sin usar recursión\n",
    "- Hay que validar que lo que recibimos, forme un número romano válido\n",
    "\n",
    "Lo bueno, es que tenemos acceso a todas las funciones del módulo `romano` (aunque no hayamos hecho las partes anteriores). En particular:\n",
    "\n",
    "- `esValido` nos sirve para validad que lo que recibimos por `input` forme algo valido\n",
    "- `digito` nos permite separar el texto recibido en 2 unidades separadas\n",
    "- `decimal2` nos permite determinar el valor, luego de haberlos separado con la funcion anterior"
   ]
  },
  {
   "cell_type": "code",
   "execution_count": null,
   "metadata": {},
   "outputs": [],
   "source": [
    "from romano import *\n",
    "    # completar\n"
   ]
  },
  {
   "cell_type": "markdown",
   "metadata": {},
   "source": [
    "- No olvidar importar el módulo romano, para poder usar legalmente sus funciones\n",
    "- Como los numeros romanos son `str`, no hay que convertirlo a `int` luego de recibido el input\n",
    "\n",
    "**Los programas interactivos no llevan receta de diseño, y en particular, no se testean**"
   ]
  },
  {
   "cell_type": "markdown",
   "metadata": {},
   "source": [
    "## Números de Fechas (?) (`C1 P1 - 2022-01`)\n",
    "\n",
    "Fechas escritas en la forma DDMMAAAA (por ejemplo, 3052022) pueden ser manejadas con las siguientes funciones:\n",
    "\n",
    "```\n",
    "# diasDelMes: int int -> int\n",
    "# dia del mes x del año y\n",
    "# ej: diasDelMes(2,2020) entrega 29\n",
    "#     diasDelMes(12,2021) entrega 31\n",
    "def diasDelMes(x,y):\n",
    "```\n",
    "```\n",
    "# siguiente: int -> int\n",
    "# fecha siguiente a la fecha x\n",
    "# ej: siguiente(30042022) entrega 1052022\n",
    "#     siguiente(31122022) entrega 1012023\n",
    "def siguiente(x):\n",
    "```\n",
    "```\n",
    "# escribir: int -> None\n",
    "# para cada mes del año x, escribir 2 fechas: ultimo día y día siguiente\n",
    "# ej: escribir(2022) escribe:\n",
    "#     31012022 1022022\n",
    "#     ...\n",
    "#     31122022 1012023\n",
    "def escribir(x, mes=1):\n",
    "```\n",
    "\n",
    "Escribir, sin precondiciones ni test:\n",
    "\n",
    "**(A)** La función `siguiente` (usando la función `diasDelMes`)\n",
    "\n",
    "**(B)** La función recursiva `escribir` (usando las funciones `diasDelMes` y `siguiente`)"
   ]
  },
  {
   "cell_type": "markdown",
   "metadata": {},
   "source": [
    "### Indicación General\n",
    "\n",
    "En este tipo de problemas, nos indican que hay **cierta información, codificada en un número entero**. En este caso, nos dicen que hay enteros de la forma `DDMMAAAA`, que representan una fecha\n",
    "\n",
    "Por ej, `3052022` representa:\n",
    "- Dia 3\n",
    "- Mes 5\n",
    "- Año 2022\n",
    "\n",
    "Por lo que es importante saber usar adecuadamente las instrucciones de división entera ( `//` ) y módulo/resto ( `%` ) para poder extraer esa información. Recordemos cómo funcionan estas operaciones\n",
    "\n",
    "- División entera nos sirve para recortar x dígitos de un número (de derecha a izquierda), donde x es la cantidad de 0s que tiene la potencia de 10 por la que estamos dividiendo\n",
    "\n",
    "```\n",
    "    >>> 123456 // 100\n",
    "        1234\n",
    "```\n",
    "- Módulo sirve para rescatar x dígitos de un número (de derecha a izquierda), donde x es la cantidad de 0s que tiene la potencia de 10 que estamos aplicando \n",
    "\n",
    "```\n",
    "    >>> 123456 % 100\n",
    "        56\n",
    "```\n",
    "\n",
    "- Multiplicación, sirve para desplazar un número x espacios a la izquierda, donde x es la cantidad de 0s que tiene la potencia de 10 por la que estamos multiplicando\n",
    "\n",
    "```\n",
    "    >>> 123456 * 100\n",
    "    12345600\n",
    "```\n",
    "\n",
    "- Si queremos rescatar un subconjunto que se encuentra en el centro del número (ej: 34), podemos componer las operaciones de división y resto\n",
    "\n",
    "```\n",
    "    >>> (123456 // 100) % 100\n",
    "        56\n",
    "```\n",
    "\n"
   ]
  },
  {
   "cell_type": "markdown",
   "metadata": {},
   "source": [
    "### Resolución (A)(`siguiente`)\n",
    "\n",
    "Para resolver esta pregunta, necesitamos:\n",
    "\n",
    "- Separar el número recibido en día, mes y año\n",
    "- Dependiendo de esos valores, determinar cómo avanzar a la siguiente fecha\n",
    "  - Avanzar solo el día \t\t\t        (16 05 2023 -> 17 05 2023)\n",
    "  - Avanzar el mes y reiniciar el día \t\t(31 08 2023 ->   1 09 2023)\n",
    "  - Avanzar el año y reiniciar mes y día\t(31 12 2023 ->   1 01 2024)\n",
    "\n",
    "Como no necesariamente sabemos cuántos días tiene un mes (y en particular febrero los años bisiestos), usamos la función `diasDelMes` para saber esto, y determinar en cuál de los 3 casos anteriores caemos\n"
   ]
  },
  {
   "cell_type": "code",
   "execution_count": null,
   "metadata": {},
   "outputs": [],
   "source": [
    "# siguiente: int -> int\n",
    "# fecha siguiente a la fecha x\n",
    "# ej: siguiente(30042022) entrega 1052022\n",
    "#     siguiente(31122022) entrega 1012023\n",
    "def siguiente(x):\n",
    "    # completar"
   ]
  },
  {
   "cell_type": "markdown",
   "metadata": {},
   "source": [
    "**Si bien nos indicaron que no hay que hacer testing, eso no nos excluye de tener que realizar las otras partes de la receta de diseño**"
   ]
  },
  {
   "cell_type": "markdown",
   "metadata": {},
   "source": [
    "### Resolución (B)(`escribir`)\n",
    "\n",
    "Para la función `escribir`, tenemos que notar lo que nos piden. viendo el ejemplo, notamos que la secuencia tiene la forma:\n",
    "\n",
    "```\n",
    "ultimo dia de enero     - primer dia de febrero\n",
    "ultimo dia de febrero   - primer dia de marzo\n",
    "...\n",
    "ultimo dia de diciembre - primer dia de enero del año siguiente\n",
    "```\n",
    "\n",
    "Entonces nuestro \"pivote\" son los meses, de los cuales partimos en 1 (enero) y tenemos que llegar hasta 12 (diciembre)\n",
    "\n",
    "Para plantear la recursión, se usará una variable por omisión (`mes`) para que la recursión lleve la cuenta de que mes se está procesando (y sepa que se tiene que detener al mes 12 (diciembre))\n"
   ]
  },
  {
   "cell_type": "code",
   "execution_count": null,
   "metadata": {},
   "outputs": [],
   "source": [
    "# escribir: int -> None\n",
    "# para cada mes del año x, escribir 2 fechas: ultimo día y día siguiente\n",
    "#ej: escribir(2022) escribe 31012022 1022022, ... , 31122022 1012023\n",
    "def escribir(agno,mes=1):\n",
    "    # completar"
   ]
  },
  {
   "cell_type": "markdown",
   "metadata": {},
   "source": [
    "## Conclusiones\n",
    "\n",
    "Tengan en consideración\n",
    "\n",
    "- Usar creativamente las funciones que nos indiquen que usemos\n",
    "  - Usualmente vienen gratis, o podemos usarlas en las siguientes partes de una pregunta si no se nos ocurrió como\n",
    "\n",
    "- No todas las preguntas se resuelven con un procedimiento recursivo\n",
    "\n",
    "- Para procedimientos interactivos, identificar si les piden un programa que solo tiene que actuar 1 vez, o una función recursiva que repita una acción varias veces\n",
    "\n",
    "And that is, Que les vaya bien en el control!"
   ]
  }
 ],
 "metadata": {
  "kernelspec": {
   "display_name": "Python 3 (ipykernel)",
   "language": "python",
   "name": "python3"
  },
  "language_info": {
   "codemirror_mode": {
    "name": "ipython",
    "version": 3
   },
   "file_extension": ".py",
   "mimetype": "text/x-python",
   "name": "python",
   "nbconvert_exporter": "python",
   "pygments_lexer": "ipython3",
   "version": "3.10.5"
  }
 },
 "nbformat": 4,
 "nbformat_minor": 4
}
