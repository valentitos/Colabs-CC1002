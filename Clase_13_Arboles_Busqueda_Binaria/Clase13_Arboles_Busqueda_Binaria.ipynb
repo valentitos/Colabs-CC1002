{
 "cells": [
  {
   "cell_type": "markdown",
   "metadata": {},
   "source": [
    "<a href=\"https://colab.research.google.com/github/valentitos/Colabs-CC1002/blob/main/Clase_13_Arboles_Busqueda_Binaria/Clase13_Arboles_Busqueda_Binaria.ipynb\" target=\"_parent\"><img src=\"https://colab.research.google.com/assets/colab-badge.svg\" alt=\"Open In Colab\"/></a>"
   ]
  },
  {
   "cell_type": "markdown",
   "metadata": {},
   "source": [
    "---\n",
    "\n",
    "**Paso previo solo para colab**\n",
    "\n",
    "En la unidad 2 usaremos el módulo `estructura.py` y `lista.py` (entre otros), los cuales son módulos personalizados para este curso. Para poder usarlos en colab, tenemos que hacer lo siguiente:\n",
    "\n",
    "- Crear en nuestro Google Drive, una carpeta donde guardar estos módulos. Supongamos que creamos una carpeta llamada `\"CC1002_modulos\"` (sin comillas)\n",
    "- En esa carpeta, guardar estos módulos (los pueden descargar desde material docente de Ucursos, o usar estos links directos)\n",
    "  - `estructura.py`: https://drive.google.com/file/d/1CoJT4QqCOdWV12hhZACRt3YMlU5xjqQV/view?usp=drive_link\n",
    "  - `lista.py`: https://drive.google.com/file/d/1jeb516Ky5XVCePkW2M5Nwf6c-JLcF2yA/view?usp=sharing\n",
    "- Ejecutar la siguiente celda"
   ]
  },
  {
   "cell_type": "code",
   "execution_count": null,
   "metadata": {},
   "outputs": [],
   "source": [
    "from google.colab import drive\n",
    "drive.mount('/content/drive', force_remount=True)\n",
    "\n",
    "import sys\n",
    "sys.path.append('/content/drive/MyDrive/CC1002_modulos')"
   ]
  },
  {
   "cell_type": "markdown",
   "metadata": {},
   "source": [
    "Reemplacen la parte que dice: `\"CC1002_modulos\"` por la carpeta que uds. crearon en su Gdrive\n",
    "\n",
    "Puede que les pida permisos para que colab acceda a Gdrive, los cuales pueden aceptar nomas, ya que no estamos haciendo operaciones \"peligrosas\".\n",
    "\n",
    "Con esto, no debiesen tener problemas para usar estructuras en colab.\n",
    "\n",
    "---"
   ]
  },
  {
   "cell_type": "markdown",
   "metadata": {},
   "source": [
    "# Clase 13: Árboles de Búsqueda Binaria (ABB)"
   ]
  },
  {
   "attachments": {},
   "cell_type": "markdown",
   "metadata": {},
   "source": [
    "## Repaso: Árboles Binarios (AB)\n",
    "\n",
    "Las listas permiten organizar datos de una manera lineal o encadenada\n",
    "\n",
    "Sin embargo, en algunos contextos, es necesario contar con más de una referencia recursiva, o que estén agrupados bajo una jerarquía\n",
    "\n",
    "Un Árbol Binario es una estructura recursiva compuesta de nodos tal que:\n",
    "- Un AB puede ser vacío (`arbolVacio`)\n",
    "- Un AB puede contener un valor, y dos enlaces a un AB, uno a por su rama `izquierda` y otro por su rama `derecha`\n",
    "\n",
    "Su definición en código es:\n",
    "\n",
    "```python\n",
    "# AB: valor(any) izq(AB) der(AB)\n",
    "estructura.crear('AB', 'valor izq der')\n",
    "arbolVacio = None\n",
    "```\n",
    "\n",
    "![](nodo_circular.svg)\n",
    "\n",
    "![](AB_hojas.svg)\n",
    "\n",
    "\n",
    "- Al primer nodo del árbol se le suele llamar raíz.\n",
    "\n",
    "- Por simplicidad no se dibujan los nodos arbolVacio.\n",
    "\n",
    "- Los nodos que tanto su rama izq como der referencian al arbolVacio, se les suele llamar hojas\n",
    "\n",
    "\n",
    "Las operaciones más comunes son:\n",
    "\n",
    "- `valores(A)`:Cuenta la cantidad de valores / elementos / nodos en `A`.\n",
    "\n",
    "- `altura(A)`:Entrega la altura del árbol (niveles de profundidad)\n",
    "\n",
    "- `hojas(A)`:Cuenta los nodos con rama `izq` y `der` vacías.\n",
    "\n",
    "- `buscar(A,elem)`:Indica si existe o no el `elemento` indicado en `A`.\n",
    "\n",
    "\n",
    "![](ABB_letras_op1.svg)\n",
    "![](ABB_letras_op2.svg)\n",
    "\n",
    "Al igual que para el caso de funciones que operan con listas, para el caso de árboles, hay un patrón de operaciones similar:\n",
    "\n",
    "El caso base consiste en:\n",
    "\n",
    "- Decidir que hacer o que resultado entregar con el `arbolVacio`.\n",
    "\n",
    "- Decidir qué hacer cuando estamos en un nodo tipo hoja (rama `izq` y rama `der` son el `arbolVacio`)\n",
    "\n",
    "\n",
    "El caso recursivo consiste en:\n",
    "\n",
    "- Tomar el elemento actual, decidir qué hacer con él o como operarlo.\n",
    "- Luego decidir si hay que procesar los elementos de alguna de sus ramas `izq` o `der` (o ambas).\n",
    "- Finalmente entregar un resultado, o continuar la función en alguna rama en específico.\n",
    "\n",
    "```python\n",
    "def funcionArbol(A):\n",
    "\n",
    "    if A es el arbolVacio:\n",
    "        ''' ver que hacer en este caso '''\n",
    "    \n",
    "    if A es una hoja:\n",
    "        ''' ver que hacer en este caso '''\n",
    "\n",
    "    ... A.valor ... \n",
    "\n",
    "    ... funcionArbol(A.izq) ...\n",
    "\n",
    "    ... funcionArbol(A.der) ...  \n",
    "\n",
    "    return resultado \n",
    "\n",
    "```\n",
    "\n",
    "Más aún, podemos manejar exhaustivamente todos los casos posibles de nodo de árbol\n",
    "\n",
    "```python\n",
    "def funcionArbol(A):\n",
    "\n",
    "    if A == arbolVacio:\n",
    "        ''' ver que hacer en este caso '''\n",
    "    \n",
    "    ... A.valor ...\n",
    "\n",
    "    if A.izq == arbolVacio and A.der == arbolVacio:\n",
    "        ''' ver que hacer en este caso '''\n",
    "\n",
    "    if A.izq != arbolVacio and A.der == arbolVacio:\n",
    "        ... funcionArbol(A.izq) ...\n",
    "\n",
    "    if A.izq == arbolVacio and A.der != arbolVacio:\n",
    "        ... funcionArbol(A.der) ...\n",
    "\n",
    "    if A.izq != arbolVacio and A.der != arbolVacio:\n",
    "        ... funcionArbol(A.izq) ...\n",
    "        ... funcionArbol(A.der) ... \n",
    "    \n",
    "    return resultado\n",
    "```\n"
   ]
  },
  {
   "cell_type": "markdown",
   "metadata": {},
   "source": [
    "## Árboles de Busqueda Binaria (ABB)\n",
    "\n",
    "Otro caso particular de AB, y uno de los más utilizados, son los Árboles de Búsqueda Binaria (ABB). Este tipo de árbol, esta diseñado para que las búsquedas sean mas rápidas, mantenido sus elementos bajo un cierto orden\n",
    "\n",
    "En este tipo de árboles:\n",
    "\n",
    "- Todos los valores en la rama `izq` son **menores** que el valor en la raíz.\n",
    "\n",
    "- Todos los valores en la rama `der` son **mayores** que el valor en la raíz.\n",
    "\n",
    "- Los sub-arboles de las ramas `izq` y `der` también cumplen las propiedades anteriores.\n",
    "\n",
    "- Se asume que no hay valores repetidos, o bien, los valores iguales deben estar siempre por una rama especifica (usualmente la `der`), dependiendo si hay que garantizar la propiedad de unicidad o no.\n",
    "\n",
    "Por ejemplo, el siguiente árbol cumple con la propiedad de ser ABB:\n",
    "\n",
    "![AB_ABB.png](AB_ABB.png)\n"
   ]
  },
  {
   "cell_type": "code",
   "execution_count": 67,
   "metadata": {},
   "outputs": [],
   "source": [
    "ABB1 = AB(31, AB(16, AB(5, arbolVacio, arbolVacio),\n",
    "                     AB(25, AB(19, arbolVacio, arbolVacio),\n",
    "                            AB(26, arbolVacio, arbolVacio))),\n",
    "              AB(40, AB(39, arbolVacio, arbolVacio),\n",
    "                     arbolVacio))"
   ]
  },
  {
   "cell_type": "markdown",
   "metadata": {},
   "source": [
    "Y bueno, el AB que usamos anteriormente no la cumple:\n",
    "\n",
    "![](AB_circular.png)\n",
    "\n",
    "### Función `menor/mayor`\n",
    "\n",
    "Como en un ABB los valores están ordenados, es mucho mas sencillo encontrar el menor o el mayor valor almacenado. En un AB tradicional teníamos que buscar exhaustivamente entre todos sus valores.\n",
    "\n",
    "En un ABB:\n",
    "\n",
    "- El **menor** valor en un ABB se encuentra en su nodo de más a la **izquierda**.\n",
    "\n",
    "- El **mayor** valor en un ABB se encuentra en su nodo de más a la **derecha**."
   ]
  },
  {
   "cell_type": "code",
   "execution_count": 69,
   "metadata": {},
   "outputs": [],
   "source": [
    "# menor: AB -> any\n",
    "# entrega el menor valor de un ABB\n",
    "# ej: menor(ABB1) entrega 5\n",
    "def menor(A):\n",
    "    assert esAB(A)\n",
    "    if A == arbolVacio:\n",
    "        return None\n",
    "\n",
    "    if A.izq == arbolVacio:\n",
    "        return A.valor\n",
    "    else:\n",
    "        return menor(A.izq)\n",
    "\n",
    "# test\n",
    "assert menor(ABB1) == 5"
   ]
  },
  {
   "cell_type": "code",
   "execution_count": 70,
   "metadata": {},
   "outputs": [],
   "source": [
    "# mayor: AB -> any\n",
    "# entrega el mayor valor de un ABB\n",
    "# ej: mayor(ABB1) entrega 40\n",
    "def mayor(A):\n",
    "    assert esAB(A)\n",
    "    if A == arbolVacio:\n",
    "        return None\n",
    "    \n",
    "    if A.der == arbolVacio:\n",
    "        return A.valor\n",
    "    else:\n",
    "        return mayor(A.der)\n",
    "\n",
    "# test\n",
    "assert mayor(ABB1) == 40"
   ]
  },
  {
   "cell_type": "markdown",
   "metadata": {},
   "source": [
    "### Función `esABB`\n",
    "\n",
    "Ahora, nos gustaría verificar si un AB cualquiera, cumple con la propiedad de ser un ABB. Para esto, consideramos lo siguiente:\n",
    "\n",
    "- Por definición, un `arbolVacio` es ABB.\n",
    "\n",
    "- Si la rama `izq` es no-vacía, debemos verificar que:\n",
    "\n",
    "  - Sea un ABB\n",
    "\n",
    "  - Su *mayor valor sea menor* que el valor de la raíz actual\n",
    "\n",
    "- Si la rama `der` es no-vacía, debemos verificar que:\n",
    "\n",
    "  - Sea un ABB\n",
    "\n",
    "  - Su *menor valor sea mayor* que el valor de la raíz actual\n"
   ]
  },
  {
   "cell_type": "code",
   "execution_count": 72,
   "metadata": {},
   "outputs": [],
   "source": [
    "# esABB: AB -> bool\n",
    "# indica si un AB cumple con ser ABB o no\n",
    "# ej: esABB(ABB1) entrega True\n",
    "def esABB(A):\n",
    "    assert esAB(A)\n",
    "    \n",
    "    # consideraremos un árbol vacío como ABB\n",
    "    if A == arbolVacio:\n",
    "        return True\n",
    "    \n",
    "    v = A.valor\n",
    "    # Verificamos si la rama izq es vacía, o bien, tiene que cumplir la propiedad ABB\n",
    "    esIzq = (A.izq == arbolVacio) or \\\n",
    "            (esABB(A.izq) and mayor(A.izq) < v)\n",
    "    \n",
    "    # Verificamos si la rama der es vacía, o bien, tiene que cumplir la propiedad ABB\n",
    "    esDer = (A.der == arbolVacio) or \\\n",
    "            (esABB(A.der) and menor(A.der) >= v)\n",
    "    \n",
    "    # es ABB si se cumplen las dos verificaciones anteriores\n",
    "    return esIzq and esDer\n",
    "\n",
    "# test\n",
    "assert esABB(ABB1)\n",
    "assert not esABB(raiz)"
   ]
  },
  {
   "cell_type": "code",
   "execution_count": 73,
   "metadata": {},
   "outputs": [
    {
     "data": {
      "text/plain": [
       "True"
      ]
     },
     "execution_count": 73,
     "metadata": {},
     "output_type": "execute_result"
    }
   ],
   "source": [
    "esABB(ABB1)"
   ]
  },
  {
   "cell_type": "code",
   "execution_count": 74,
   "metadata": {},
   "outputs": [
    {
     "data": {
      "text/plain": [
       "False"
      ]
     },
     "execution_count": 74,
     "metadata": {},
     "output_type": "execute_result"
    }
   ],
   "source": [
    "esABB(raiz)"
   ]
  },
  {
   "cell_type": "markdown",
   "metadata": {},
   "source": [
    "### Operaciones típicas\n",
    "\n",
    "Con un ABB, podemos realizar algunas operaciones que en un AB simple son mas engorrosas o ambiguas. Alguna de estas operaciones son:\n",
    "\n",
    "- Buscar un elemento en un ABB\n",
    "\n",
    "- Agregar un nuevo elemento a un ABB"
   ]
  },
  {
   "cell_type": "markdown",
   "metadata": {},
   "source": [
    "### Función `enABB`\n",
    "\n",
    "Como ahora existe una relación de orden en los elementos del árbol, ahora en vez de realizar una búsqueda exhaustiva, podemos realizar una búsqueda mas eficiente:\n",
    "\n",
    "- Si nos encontramos con el `arbolVacio`, entonces el elemento no estaba en el árbol\n",
    "\n",
    "- Comparamos el elemento a buscar con el valor actual:\n",
    "  - Si el elemento es menor, entonces continuamos la búsqueda en la rama `izq` del árbol\n",
    "  - Si el elemento es mayor, entonces continuamos la búsqueda en la rama `der` del árbol\n",
    "\n",
    "Ejemplo de búsqueda con final feliz:\n",
    "\n",
    "![ABB_buscar_yes1.png](ABB_buscar_yes1.svg)\n",
    "![ABB_buscar_yes2.png](ABB_buscar_yes2.svg)\n",
    "![ABB_buscar_yes3.png](ABB_buscar_yes3.svg)\n",
    "![ABB_buscar_yes4.png](ABB_buscar_yes4.svg)\n",
    "\n",
    "Ejemplo de búsqueda infructuosa:\n",
    "\n",
    "![ABB_buscar1.png](ABB_buscar1.svg)\n",
    "![ABB_buscar2.png](ABB_buscar2.svg)\n",
    "![ABB_buscar3.png](ABB_buscar3.svg)"
   ]
  },
  {
   "cell_type": "code",
   "execution_count": 75,
   "metadata": {},
   "outputs": [],
   "source": [
    "# enABB: ABB any -> bool\n",
    "# determina si un elemento está en un ABB o no\n",
    "# ej: enABB(ABB1,26) entrega True\n",
    "def enABB(A,e):\n",
    "    assert esABB(A)\n",
    "\n",
    "    # El nodo vacío nos dice que el elemento no existía en el árbol\n",
    "    if A == arbolVacio:\n",
    "        return False\n",
    "\n",
    "    v = A.valor\n",
    "    # Dependiendo si el valor actual es estrictamente menor o mayor que el\n",
    "    #  buscado, entonces continuamos la búsqueda en la rama respectiva\n",
    "    if e < v: \n",
    "        return enABB(A.izq, e)\n",
    "    elif e > v:\n",
    "        return enABB(A.der, e)\n",
    "    # Por descarte, si no era mayor ni menor, entonces el elemento \n",
    "    # es igual al actual, por lo que existe en el árbol\n",
    "    else:\n",
    "        return True\n",
    "\n",
    "# test\n",
    "assert enABB(ABB1, 26)\n",
    "assert not enABB(ABB1, 42)"
   ]
  },
  {
   "cell_type": "code",
   "execution_count": 76,
   "metadata": {},
   "outputs": [
    {
     "data": {
      "text/plain": [
       "True"
      ]
     },
     "execution_count": 76,
     "metadata": {},
     "output_type": "execute_result"
    }
   ],
   "source": [
    "enABB(ABB1, 26)"
   ]
  },
  {
   "cell_type": "code",
   "execution_count": 77,
   "metadata": {},
   "outputs": [
    {
     "data": {
      "text/plain": [
       "False"
      ]
     },
     "execution_count": 77,
     "metadata": {},
     "output_type": "execute_result"
    }
   ],
   "source": [
    "enABB(ABB1, 42)"
   ]
  },
  {
   "cell_type": "markdown",
   "metadata": {},
   "source": [
    "### Función `insertar`\n",
    "\n",
    "Para agregar un nuevo elemento en un ABB, tenemos que tener cuidado con preservar sus propiedades. Como los arboles son estructuras no son mutables, y dado que estamos modificando el árbol, tenemos que \"recrearlo\" con los cambios que queremos realizar (similar a lo que hacíamos con las listas)\n",
    "\n",
    "Debido a la propiedad de orden entre los elementos, solo existe un posible lugar donde podemos insertar el nuevo elemento. Este lugar es el espacio vacío al que se llega luego de una búsqueda infructuosa. \n",
    "\n",
    "Por lo que el procedimiento es:\n",
    "\n",
    "- Se realiza una \"búsqueda\" del elemento a agregar.\n",
    "\n",
    "- Cuando nos encontramos con un `arbolVacio`, entonces este es el lugar donde debiese haber estado el elemento, por lo que se agrega en ese espacio.\n",
    "\n",
    "![ABB_buscar1.png](ABB_buscar1.svg)\n",
    "![ABB_buscar2.png](ABB_buscar2.svg)\n",
    "![ABB_insert3.png](ABB_insert3.svg)\n",
    "![ABB_insert4.png](ABB_insert4.svg)"
   ]
  },
  {
   "cell_type": "code",
   "execution_count": 78,
   "metadata": {},
   "outputs": [],
   "source": [
    "# insertar: ABB any -> ABB\n",
    "# entrega un nuevo ABB con el elemento nuevo agregado\n",
    "# ej: insertar(ABB1, 99) entrega el ABB:\n",
    "#     ___31___   \n",
    "#    /        \\\n",
    "#   16        40\n",
    "#  /  \\      /  \\\n",
    "# 5   25    39  99\n",
    "#    /  \\\n",
    "#   19  26\n",
    "def insertar(A,e):\n",
    "    assert esABB(A)\n",
    "\n",
    "    # CB: El nodo vacío nos indica que acá tenemos que dejar el nuevo elemento\n",
    "    if A == arbolVacio:\n",
    "        return AB(e, arbolVacio, arbolVacio)\n",
    "\n",
    "    v = A.valor\n",
    "    # Dependiendo si el valor actual es menor o mayor que el que se agregará,\n",
    "    # creamos un nuevo nodo, conservando lo que quedará igual, pero modificando\n",
    "    #  la rama donde hay que agregar el  nuevo elemento\n",
    "    if e < v: \n",
    "        return AB(v, insertar(A.izq,e), A.der)\n",
    "    elif e >= v:\n",
    "        return AB(v, A.izq, insertar(A.der,e)) \n",
    "\n",
    "# test\n",
    "Atest = insertar(ABB1,99)\n",
    "assert esABB(Atest) and enABB(Atest,99)"
   ]
  },
  {
   "cell_type": "code",
   "execution_count": 79,
   "metadata": {},
   "outputs": [
    {
     "data": {
      "text/plain": [
       "AB(valor=31, izq=AB(valor=16, izq=AB(valor=5, izq=None, der=None), der=AB(valor=25, izq=AB(valor=19, izq=None, der=None), der=AB(valor=26, izq=None, der=None))), der=AB(valor=40, izq=AB(valor=39, izq=None, der=None), der=AB(valor=99, izq=None, der=None)))"
      ]
     },
     "execution_count": 79,
     "metadata": {},
     "output_type": "execute_result"
    }
   ],
   "source": [
    "insertar(ABB1,99)"
   ]
  },
  {
   "attachments": {},
   "cell_type": "markdown",
   "metadata": {},
   "source": [
    "### Propuestos\n",
    "\n",
    "Pensar:\n",
    "\n",
    "- ¿Cómo se podrían eliminar elementos de un ABB? ¿Qué complicaciones podrían ocurrir?\n",
    "\n",
    "- ¿Cómo se podrían editar elementos en un ABB? Considerando que editar un elemento puede alterar la propiedad de orden\n"
   ]
  },
  {
   "cell_type": "markdown",
   "metadata": {},
   "source": [
    "## Recorridos de un AB\n",
    "\n",
    "Existen distintas maneras de navegar en los elementos en un árbol binario. Dependiendo que como se recorra, se pueden obtener resultados interesantes.\n",
    "\n",
    "Los recorridos mas típicos son:\n",
    "\n",
    "- Pre-orden\n",
    "\n",
    "- In-orden\n",
    "\n",
    "- Out-orden\n",
    "\n",
    "- Post-orden\n",
    "\n",
    "### Pre-orden\n",
    "\n",
    "Se recorre primero la raíz, luego la rama `izq` y finalmente  la rama `der`.\n",
    "![ABB_preorder.png](ABB_preorder.svg)\n",
    "\n",
    "  Resultado: 31, 16, 5, 25, 19, 26, 40, 39\n",
    "  \n",
    "  Aplicaciones: Reconstrucción de un ABB con sus elementos en las mismas posiciones. Obtener una expresión en notación polaca.\n",
    "\n",
    "### In-orden\n",
    "Se recorre primero la rama `izq`, luego la raíz, y finalmente la rama `der`.\n",
    "![ABB_inorder.png](ABB_inorder.svg)\n",
    "  \n",
    "  Resultado: 5, 16, 19, 25, 26, 31, 39, 40\n",
    "  \n",
    "  Aplicaciones: Obtener los elementos de un ABB en orden creciente.\n",
    "\n",
    "### Out-orden\n",
    "Se recorre primero la rama `der`, luego la raíz, y finalmente la rama `izq`.\n",
    "![ABB_outorder.png](ABB_outorder.svg)\n",
    "  \n",
    "  Resultado: 40, 39, 31, 26, 25, 19, 16, 5\n",
    "  \n",
    "  Aplicaciones: Obtener los elementos de un ABB en orden decreciente.\n",
    "\n",
    "### Post-orden\n",
    "Se recorre primero la rama `izq`, luego la rama `der` y finalmente la raíz.\n",
    "![ABB_postorder.png](ABB_postorder.svg)\n",
    "\n",
    "  Resultado: 5, 19, 26, 25, 16, 39, 40, 31\n",
    "  \n",
    "  Aplicaciones: Entrega el orden en que los elementos deben ser eliminados del AB para no dejar elementos \"sueltos\". Entrega una expresión en notación polaca inversa."
   ]
  },
  {
   "cell_type": "markdown",
   "metadata": {},
   "source": [
    "## Ejemplos de Recorridos\n",
    "\n",
    "Veamos algunos ejemplos de navegación:\n",
    "\n",
    "- Imprimir en pantalla el contenido del AB en pre-orden\n",
    "\n",
    "- Imprimir en pantalla el contenido del AB en in-orden\n",
    "\n",
    "- Generar una lista con el contenido del AB en pre-orden\n",
    "\n",
    "### Funciones `imprimir`\n",
    "\n",
    "Para ambos recorridos, la idea es similar, solo que tenemos que tener cuidado en que orden vamos haciendo las acciones de imprimir. El caso particular del `arbolVacio`, nos indica que no hay nada más que imprimir en una rama en particular"
   ]
  },
  {
   "cell_type": "code",
   "execution_count": 82,
   "metadata": {},
   "outputs": [],
   "source": [
    "# imprimirPreorden: AB -> None\n",
    "# muestra en pantalla los valores de un AB en preorden\n",
    "# ej: imprimirPreorden(ABexp)\n",
    "def imprimirPreorden(A):\n",
    "    assert esAB(A)\n",
    "\n",
    "    if A == arbolVacio:\n",
    "        return None\n",
    "\n",
    "    print(A.valor)\n",
    "    imprimirPreorden(A.izq)\n",
    "    imprimirPreorden(A.der)"
   ]
  },
  {
   "cell_type": "code",
   "execution_count": 81,
   "metadata": {},
   "outputs": [],
   "source": [
    "# imprimirInorden: AB -> None\n",
    "# muestra en pantalla los valores de un AB en inorden\n",
    "# ej: imprimirInorden(ABB1)\n",
    "def imprimirInorden(A):\n",
    "    assert esAB(A)\n",
    "\n",
    "    if A == arbolVacio:\n",
    "        return None\n",
    "\n",
    "    imprimirInorden(A.izq)\n",
    "    print(A.valor)\n",
    "    imprimirInorden(A.der)\n"
   ]
  },
  {
   "cell_type": "code",
   "execution_count": 83,
   "metadata": {},
   "outputs": [
    {
     "name": "stdout",
     "output_type": "stream",
     "text": [
      "*\n",
      "-\n",
      "26\n",
      "+\n",
      "40\n",
      "5\n",
      "2\n"
     ]
    }
   ],
   "source": [
    "imprimirPreorden(ABexp)"
   ]
  },
  {
   "cell_type": "code",
   "execution_count": 84,
   "metadata": {},
   "outputs": [
    {
     "name": "stdout",
     "output_type": "stream",
     "text": [
      "5\n",
      "16\n",
      "19\n",
      "25\n",
      "26\n",
      "31\n",
      "39\n",
      "40\n"
     ]
    }
   ],
   "source": [
    "imprimirInorden(ABB1)"
   ]
  },
  {
   "cell_type": "markdown",
   "metadata": {},
   "source": [
    "### Funcion `convertirALista`\n",
    "\n",
    "Para crear una lista con el contenido de un AB, seguimos un recorrido similar al anterior, y vamos pegando las distintas listas de elementos que se van generando en cada una de las ramas\n",
    "\n",
    "- Generamos una lista con el valor actual (`L1`)\n",
    "\n",
    "- Generamos una lista con los valores de la rama izq (`L2`)\n",
    "\n",
    "- Generamos una lista con los valores de la rama der (`L3`)\n",
    "\n",
    "- Juntamos `L1` y `L2`, y el resultado de eso lo juntamos con `L3`"
   ]
  },
  {
   "cell_type": "code",
   "execution_count": 85,
   "metadata": {},
   "outputs": [],
   "source": [
    "# ABaListaPre: AB -> lista\n",
    "# convierte un AB a lista con sus elementos en inorden\n",
    "# ej: ABaListaPre(ABexp)...\n",
    "def ABaListaPre(A):\n",
    "    assert esAB(A)\n",
    "\n",
    "    # CB: El nodo vacío nos indica que no hay elementos que rescatar\n",
    "    if A == arbolVacio:\n",
    "        return listaVacia\n",
    "\n",
    "    # CR: Generamos las listas con el elemento actual,\n",
    "    #  y las que se generen por la rama izquierda y derecha\n",
    "    L1 = lista(A.valor, listaVacia)\n",
    "    L2 = ABaListaPre(A.izq)\n",
    "    L3 = ABaListaPre(A.der)\n",
    "    \n",
    "    # Juntamos las listas, siguiendo el pre-orden\n",
    "    L1 = juntar(L1,L2)\n",
    "    L1 = juntar(L1,L3)\n",
    "    return L1"
   ]
  },
  {
   "cell_type": "code",
   "execution_count": 86,
   "metadata": {},
   "outputs": [
    {
     "data": {
      "text/plain": [
       "lista(valor='*', siguiente=lista(valor='-', siguiente=lista(valor=26, siguiente=lista(valor='+', siguiente=lista(valor=40, siguiente=lista(valor=5, siguiente=lista(valor=2, siguiente=None)))))))"
      ]
     },
     "execution_count": 86,
     "metadata": {},
     "output_type": "execute_result"
    }
   ],
   "source": [
    "ABaListaPre(ABexp)"
   ]
  },
  {
   "cell_type": "code",
   "execution_count": 87,
   "metadata": {},
   "outputs": [
    {
     "data": {
      "text/plain": [
       "lista(valor=31, siguiente=lista(valor=16, siguiente=lista(valor=5, siguiente=lista(valor=25, siguiente=lista(valor=19, siguiente=lista(valor=26, siguiente=lista(valor=40, siguiente=lista(valor=39, siguiente=None))))))))"
      ]
     },
     "execution_count": 87,
     "metadata": {},
     "output_type": "execute_result"
    }
   ],
   "source": [
    "ABaListaPre(ABB1)"
   ]
  },
  {
   "cell_type": "markdown",
   "metadata": {},
   "source": [
    "### Propuestos\n",
    "\n",
    "- Implementar las funciones que imprimen el contenido de un AB en out-orden y post-orden\n",
    "\n",
    "- Implementar las funciones que guardan el contenido de un AB en una lista, con su contenido en in-orden, out-orden y post-orden\n"
   ]
  },
  {
   "cell_type": "markdown",
   "metadata": {},
   "source": [
    "## Extras"
   ]
  },
  {
   "cell_type": "markdown",
   "metadata": {},
   "source": [
    "### Eliminación en un AB\n",
    "\n",
    "La tarea de eliminar un nodo de un árbol puede ser difícil de abordar y entender, ya que presenta varias particularidades, dependiendo si es:\n",
    "\n",
    "- Un nodo hoja\n",
    "- Un nodo con 1 rama\n",
    "- Un nodo con 2 ramas\n",
    "\n",
    "Una manera alternativa de resolver el problema es mediante composición funcional:\n",
    "\n",
    "- Convertir el AB a una lista (en pre-orden)\n",
    "- Realizar la eliminación del elemento en la lista\n",
    "- Convertir la lista en AB\n",
    "\n",
    "![](delete_way2.svg)"
   ]
  },
  {
   "cell_type": "markdown",
   "metadata": {},
   "source": [
    "### Búsqueda en ABBs\n",
    "\n",
    "¿Por qué son tan importantes los árboles de búsqueda binaria?\n",
    "\n",
    "Porque nos permiten resolver el problema de búsqueda, **descartando rápidamente conjuntos de elementos** que no están cerca del elemento a buscar.\n",
    "\n",
    "Por ejemplo, supongamos que estamos buscando un valor en una lista \"grande\" (1000 elementos)\n",
    "\n",
    "![](Lgrande.svg)\n"
   ]
  },
  {
   "cell_type": "markdown",
   "metadata": {},
   "source": [
    "En el peor caso, si el valor buscado se encuentra casi al final de la lista, para saberlo, tendremos que realizar aprox. 1000 verificaciones para saber si existe o no \n",
    "\n",
    "Por otro lado, al buscar en un ABB \"grande\", al navegar por una rama, sabemos que el elemento no se encontrará en la otra rama, lo que permite descartar, en promedio, la mitad de los elementos a verificar\n",
    "\n",
    "![](ABBgrande.svg)\n",
    "\n"
   ]
  },
  {
   "cell_type": "markdown",
   "metadata": {},
   "source": [
    "En el peor caso (el elemento a buscar se encuentra en una hoja al final del árbol), solo tenemos que hacer $log_2(nodos)$ ⁡verificaciones \n",
    "(aprox. 10 vs las ~1000 de una lista)\n",
    "\n"
   ]
  },
  {
   "cell_type": "markdown",
   "metadata": {},
   "source": [
    "## Conclusiones\n",
    "\n",
    "Hoy vimos una aplicación particular de AB, conocida como los Árboles de Búsqueda Binaria. \n",
    "\n",
    "En estos árboles, la información está jerarquizada de acuerdo a un orden, lo que permite realizar eficientemente la tarea de buscar un elemento en un conjunto\n",
    "\n",
    "También vimos como navegar los nodos de un árbol, y dependiendo del orden en que se naveguen sus elementos, se pueden obtener recorridos con propiedades interesantes\n",
    "\n",
    "Y que también es posible pasar de AB a lista, y viceversa."
   ]
  }
 ],
 "metadata": {
  "kernelspec": {
   "display_name": "Python 3 (ipykernel)",
   "language": "python",
   "name": "python3"
  },
  "language_info": {
   "codemirror_mode": {
    "name": "ipython",
    "version": 3
   },
   "file_extension": ".py",
   "mimetype": "text/x-python",
   "name": "python",
   "nbconvert_exporter": "python",
   "pygments_lexer": "ipython3",
   "version": "3.10.6"
  },
  "vscode": {
   "interpreter": {
    "hash": "98b95ce4537a043c6c2f8047f97d2678115deb8444c76d437608d4f0db95d495"
   }
  }
 },
 "nbformat": 4,
 "nbformat_minor": 4
}
