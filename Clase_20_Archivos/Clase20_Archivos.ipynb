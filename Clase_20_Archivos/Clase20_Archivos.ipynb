{
 "cells": [
  {
   "cell_type": "markdown",
   "metadata": {},
   "source": [
    "<a href=\"https://colab.research.google.com/github/valentitos/Colabs-CC1002/blob/main/Clase_20_Archivos/Clase20_Archivos.ipynb\" target=\"_parent\"><img src=\"https://colab.research.google.com/assets/colab-badge.svg\" alt=\"Open In Colab\"/></a>"
   ]
  },
  {
   "cell_type": "markdown",
   "metadata": {},
   "source": [
    "# Clase 20: Archivos\n",
    "\n",
    "## Repaso: Diccionarios\n",
    "\n",
    "Un diccionario es una estructura que permite asociar **llaves** a un conjunto de **valores**\n",
    "\n",
    "![asd](diccionario_ej.svg)\n",
    "\n",
    "\n",
    "Las `llaves` son únicas y solo pueden ser `num` o `str`. Los valores pueden ser de cualquier tipo y pueden ser modificados\n",
    "\n",
    "Las operaciones tipicas sobre diccionarios son:\n",
    "\n",
    "| Operación    | Significado                                                 |\n",
    "|---------------|-------------------------------------------------------------------------------------------|\n",
    "| ``D = {}``   | Crea un diccionario vacío (0 asociaciones)     |\n",
    "| ``len(D)``   |  Indica cuantos pares ``llave:valor`` tiene ``D``           |\n",
    "| ``D[llave]``   | Obtiene el ``valor`` asociado a la ``llave`` en ``D``         |\n",
    "| ``k in D``   | ``True`` si la ``llave`` ``k`` existe en ``D``     |\n",
    "| ``D == {..}``  | Indica si dos diccionarios tienen el mismo contenido (pares ``llave:valor``)                                    |\n",
    "| ``D[llave] = valor``   | Si no existe la ``llave`` en ``D``, la agrega a ``D``, asociada al ``valor`` indicado.|\n",
    "| `` `` | Si existe la ``llave`` en ``D``, modifica el ``valor`` asociado |\n",
    "| ``del D[llave]``   | Elimina la ``llave`` de ``D``, junto a su ``valor`` asociado     |\n",
    "| ``D.keys()``   | Entrega un conjunto iterable con todas las ``llaves`` de ``D``     |\n",
    "| ``D.values()``   | Entrega un conjunto iterable con todos los ``valores`` de ``D``     |\n",
    "\n",
    "Para crear un diccionario vacio, realizamos:\n",
    "\n",
    "```python\n",
    "D = {}\n",
    "```\n",
    "\n",
    "Podemos crear diccionarios con asociaciones pre-existentes\n",
    "\n",
    "```python\n",
    "D = {'gatitos':5, 'perritos':2, 'pajaritos':4 }\n",
    "```\n",
    "\n",
    "Para obtener un ``valor`` asociado a una ``llave``, accedemos por su \"índice\" (``llave``)\n",
    "\n",
    "```python\n",
    ">>> D = {'gatitos':5, 'perritos':2, 'pajaritos':4 }\n",
    ">>> D['gatitos']\n",
    "    5\n",
    "```\n",
    "\n",
    "Si intentamos acceder a una `llave` que no existe, arrojará un error\n",
    "\n",
    "```python\n",
    ">>> D = {'gatitos':5, 'perritos':2, 'pajaritos':4 }\n",
    ">>> D['capibara']\n",
    "    Traceback (most recent call last)\n",
    "    KeyError: 'capibara'\n",
    "```\n",
    "\n",
    "Al asignar, si la ``llave`` **no existe**, la agrega al diccionario, junto a su ``valor``\n",
    "\n",
    "```python\n",
    ">>> D = {'gatitos':5, 'perritos':2, 'pajaritos':4 }\n",
    ">>> D['capibara'] = 1\n",
    ">>> print(D)\n",
    "    {'gatitos': 5, 'perritos': 2, 'pajaritos': 4, 'capibara': 1}\n",
    "```\n",
    "\n",
    "Si la `llave` **ya existía**, entonces reemplaza su `valor` asociado\n",
    "\n",
    "```python\n",
    ">>> D = {'gatitos':5, 'perritos':2, 'pajaritos':4 }\n",
    ">>> D['gatitos'] = 8\n",
    ">>> print(D)\n",
    "    {'gatitos': 8, 'perritos': 2, 'pajaritos': 4}\n",
    "```\n",
    "\n",
    "Los diccionarios pueden ser recorridos a traves de sus `llaves`\n",
    "\n",
    "```python\n",
    "for llave in D:\n",
    "    print(llave,'->',D[llave])\n",
    "```\n",
    "\n",
    "O a traves de sus `valores`\n",
    "\n",
    "```python\n",
    "for valor in D.values():\n",
    "    print('->',valor)\n",
    "```\n",
    "\n",
    "O a traves de ambos al mismo tiempo\n",
    "\n",
    "```python\n",
    "for llave,valor in D.items():\n",
    "    print(llave,'->',valor)\n",
    "```"
   ]
  },
  {
   "cell_type": "markdown",
   "metadata": {},
   "source": [
    "## Archivos (definición)\n",
    "\n",
    "Un archivo es un medio que contiene información o datos, que se encuentra almacenado en el disco del computador. En general, se caracterizan por tener un nombre, fecha de creación y modificación, su contenido, formato, etc.\n",
    "\n",
    "En particular, los archivos de texto (.txt) se caracterizan porque son legibles naturalmente por una persona (y son sencillos de operar con ellos en Python)\n",
    "\n",
    "Hay que hacer una pequeña distinción entre los tipos de memoria que tiene un computador\n",
    "\n",
    "|                 | Ram     | Disco (HDD) | Disco (SSD) |\n",
    "|-----------------|---------|-------------|-------------|\n",
    "| Tipo de memoria | Volátil | Persistente | Persistente |\n",
    "| Velocidad       | Muy rápida | Lenta | Rápida |\n",
    "| Tiempo de acceso | Constante | Variable | Constante |\n",
    "| Costo monetario | Caro (`~3500[CLP/GB]`) | Barato (`~40[CLP/GB]`) | No tan Barato (`~90 [CLP/GB]`) |\n",
    "| Capacidad | Limitada `(4GB - 128GB)` | Extensa `(512GB - 16TB)` | No tan limitada `(128GB - 4TB)` |\n",
    "\n",
    "En general, los archivos viven en el Disco\n",
    "\n",
    "## Archivos (operaciones)\n",
    "\n",
    "La siguiente tabla resume las operaciones que se pueden realizar con archivos\n",
    "\n",
    "| Operación    | Significado                                                 |\n",
    "|---------------|-------------------------------------------------------------------------------------------|\n",
    "| ``A = open(archivo, mode)``   | Abre el archivo indicado en el modo indicado (lectura, escritura)    |\n",
    "| ``linea = A.readline()``   | En un archivo abierto en modo lectura, lee una línea del archivo |\n",
    "| ``A.write(linea + '\\n')``   | En un archivo en modo escritura, escribe una línea en el archivo y sitúa el cursor en la línea siguiente  |\n",
    "| ``A.close()``   | Guarda y cierra el archivo |\n",
    "\n",
    "### Creación (Abrir en modo escritura)\n",
    "\n",
    "Para escribir en un archivo, usamos la función ``open``\n",
    "\n",
    "```python\n",
    "archivo = open('nombre_del_archivo.txt','w')\n",
    "```\n",
    "\n",
    "- `archivo` es la variable que representa un puntero/vinculo al archivo almacenado en disco\n",
    "\n",
    "- `w` es el String que representa el modo del archivo. 'w' representa 'write' (modo escritura)\n",
    "\n",
    "- El *cursor* de grabación, se ubicará al principio del archivo\n",
    "\n",
    "- Si el archivo **no existe**, se **crea** en el momento\n",
    "\n",
    "- Si el archivo **existe**, entonces lo **borra** y lo recrea en blanco\n",
    "\n",
    "\n",
    "### Escribir\n",
    "\n",
    "Una vez que tenemos abierto el archivo en modo escritura, podemos usar la operación ``.write(…)`` para escribir contenido en el\n",
    "\n",
    "```python\n",
    "archivo.write(linea + '\\n')\n",
    "```\n",
    "\n",
    "- Esto escribe el string guardado en la variable ``linea``, en el ``archivo``\n",
    "\n",
    "- Al final de la línea, se agrega el carácter especial ``\\n`` conocido como **newline** o **salto de línea** (que sirve para marcar el final de una línea)\n",
    "\n",
    "- Una vez escrita la línea, el *cursor* de grabación se ubica al principio de la siguiente línea (idéntico a lo que hace apretar la tecla ``Enter``)\n",
    "\n",
    "- Si omitimos el carácter ``\\n``, entonces es como si no hiciéramos un ``Enter``, quedando las líneas del mensaje pegadas en la misma línea del archivo\n",
    "\n",
    "### Cerrar\n",
    "\n",
    "Cuando terminemos de escribir datos en el archivo, es necesario guardarlo y cerrarlo. Usamos la instrucción ``.close()``\n",
    "\n",
    "```python\n",
    "archivo.close()\n",
    "```\n",
    "\n",
    "- Se encarga de cerrar el archivo y agregar una marca que denota el fin del archivo (conocida como ``EOF: End of File``) \n",
    "\n",
    "- Una vez cerrado el ``archivo``, **no se puede volver a usar**, es decir, no se pueden realizar acciones sobre archivo, a menos que se vuelva a abrir\n"
   ]
  },
  {
   "cell_type": "markdown",
   "metadata": {},
   "source": [
    "## Ejemplo 1: Carrito de Compras\n",
    "\n",
    "Creemos una función que pregunte por una cantidad indeterminada de productos a comprar, hasta que se ingrese la palabra ``fin``. Los productos se guardan uno por línea, en el archivo ``compras.txt``\n",
    "\n",
    "```python\n",
    ">>> escribirCarrito()\n",
    "    Ingrese Producto: manzanas\n",
    "    Ingrese Producto: dulces suny\n",
    "    Ingrese Producto: arena para gato\n",
    "    Ingrese Producto: chocapic sin Stevia\n",
    "    Ingrese Producto: fin\n",
    "    Archivo guardado!\n",
    ">>> \n",
    "```\n",
    "\n",
    "Pasos a seguir:\n",
    "\n",
    "- Abrir un archivo para escribir\n",
    "\n",
    "- Al no saber a priori cuantos elementos recibiremos, usamos un ciclo ``while``\n",
    "\n",
    "  - Preguntamos por un producto a agregar\n",
    "\n",
    "  - Si es la palabra ``\"fin\"``, rompemos el ciclo\n",
    "\n",
    "  - Si no lo es, lo escribimos en el archivo\n",
    "\n",
    "- Al terminar el ciclo, cerramos el archivo\n"
   ]
  },
  {
   "cell_type": "code",
   "execution_count": 7,
   "metadata": {},
   "outputs": [],
   "source": [
    "# escribirCarrito: None -> None\n",
    "# lee indefinidamente un producto y lo guarda en un archivo\n",
    "# ej: escribirCarrito()\n",
    "def escribirCarrito():\n",
    "\n",
    "    # abrimos el archivo en modo lectura\n",
    "    arch = open('compras.txt', 'w')\n",
    "\n",
    "    # por \"siempre\"\n",
    "    while True:\n",
    "\n",
    "        #obtenemos un producto desde la persona\n",
    "        prod = input('Ingrese Producto: ')\n",
    "\n",
    "        #condicion de quiebre\n",
    "        if prod == 'fin':\n",
    "            break\n",
    "\n",
    "        #agregamos el producto al archivo\n",
    "        arch.write(prod + '\\n')\n",
    "\n",
    "    #cerramos el archivo y terminamos\n",
    "    arch.close()\n",
    "    print('Archivo Guardado!!')\n",
    "    return None"
   ]
  },
  {
   "cell_type": "code",
   "execution_count": 8,
   "metadata": {},
   "outputs": [
    {
     "name": "stdout",
     "output_type": "stream",
     "text": [
      "Archivo Guardado!!\n"
     ]
    }
   ],
   "source": [
    "escribirCarrito()"
   ]
  },
  {
   "cell_type": "markdown",
   "metadata": {},
   "source": [
    "## Archivos (operaciones) (cont.)\n",
    "\n",
    "### Acceso (abrir en modo lectura)\n",
    "\n",
    "Para leer el contenido de un archivo, usamos la función ``open``\n",
    "\n",
    "```python\n",
    "archivo = open('nombre_del_archivo.txt','r')\n",
    "```\n",
    "\n",
    "- La ``'r'`` representa ``'read'`` (modo lectura)\n",
    "\n",
    "- La instrucción open ubica el cursor al principio del archivo\n",
    "\n",
    "- Si el archivo no existe, el programa arrojará un error\n",
    "\n",
    "### Leer una línea\n",
    "\n",
    "Una vez que tenemos abierto el archivo en modo lectura, podemos usar la operación ``.readline()`` para leer una línea del archivo\n",
    "\n",
    "```python\n",
    "línea = archivo.readline()\n",
    "```\n",
    "\n",
    "- Esta instrucción guarda el contenido de una línea del archivo (como string) en la variable ``linea``\n",
    "\n",
    "- Una vez leída la línea, el *cursor* de lectura se ubica al principio de la siguiente línea del archivo\n",
    "\n",
    "### Leer varias líneas\n",
    "\n",
    "En general cuando se trabaja con la lectura de archivo, vamos a querer leer todas las líneas del archivo, por lo que la instrucción anterior no es muy cómoda para tales propósitos. Por lo que se suelen leer, con ayuda de un ciclo ``for``\n",
    "\n",
    "```python\n",
    "for linea in archivo\n",
    "    instrucciones con la linea\n",
    "```\n",
    "\n",
    "- En cada iteración del ``for``, se lee una línea y se almacena en la variable ``linea``, para ser procesada\n",
    "\n",
    "- Podríamos decir que un archivo se comporta como un conjunto de strings (líneas de texto)\n",
    "\n",
    "Luego de leer los archivos, no hay que olvidar cerrarlos, con la operación `.close()`\n"
   ]
  },
  {
   "cell_type": "markdown",
   "metadata": {},
   "source": [
    "## Precauciones al Leer\n",
    "\n",
    "Un detalle importante al leer líneas (ya sea con ``.readline()`` o con el ciclo ``for``) es que al leerlas, también se lee el carácter de salto de línea ``'\\n'``. \n",
    "\n",
    "Por ejemplo, si leemos el archivo de compras, y guardamos cada línea en una lista"
   ]
  },
  {
   "cell_type": "code",
   "execution_count": 9,
   "metadata": {},
   "outputs": [],
   "source": [
    "# muestraSalto: None -> List\n",
    "# lee el contenido de un archivo y lo separara en sus caracteres\n",
    "# ej: muestraSalto()\n",
    "def muestraSalto():\n",
    "\n",
    "    #abrimos el archivo en modo lectura\n",
    "    arch = open('compras.txt', 'r')\n",
    "\n",
    "    L = []\n",
    "    # cada linea del archivo, la agregamos a una lista\n",
    "    for linea in arch:\n",
    "        L.append(linea)\n",
    "\n",
    "    # cerramos el archivo y entregamos la lista\n",
    "    arch.close()\n",
    "    return L"
   ]
  },
  {
   "cell_type": "code",
   "execution_count": 10,
   "metadata": {},
   "outputs": [
    {
     "data": {
      "text/plain": [
       "['manzanas\\n', 'dulces suny\\n', 'arena para gato\\n', 'chocapic sin Stevia\\n']"
      ]
     },
     "execution_count": 10,
     "metadata": {},
     "output_type": "execute_result"
    }
   ],
   "source": [
    "muestraSalto()"
   ]
  },
  {
   "cell_type": "markdown",
   "metadata": {},
   "source": [
    "Notemos la existencia de los caracteres de salto de línea en cada una de las frases de la lista.\n",
    "\n",
    "Esto puede presentar efectos indeseados en algunos contextos, por ejemplo, al momento de imprimir las líneas de un archivo una a una"
   ]
  },
  {
   "cell_type": "code",
   "execution_count": 11,
   "metadata": {},
   "outputs": [],
   "source": [
    "# imprimirConSalto: None -> None\n",
    "# lee el contenido de un archivo y lo imprime sin sacar el salto de linea\n",
    "# ej: imprimirConSalto()\n",
    "def imprimirConSalto():\n",
    "\n",
    "    # abrimos el archivo en modo lectura\n",
    "    arch = open('compras.txt', 'r')\n",
    "\n",
    "    # para cada linea del archivo, la imprimimos\n",
    "    for linea in arch:\n",
    "        print(linea)\n",
    "\n",
    "    #cerramos el archivo y terminamos\n",
    "    arch.close()\n",
    "    return None"
   ]
  },
  {
   "cell_type": "code",
   "execution_count": 12,
   "metadata": {},
   "outputs": [
    {
     "name": "stdout",
     "output_type": "stream",
     "text": [
      "manzanas\n",
      "\n",
      "dulces suny\n",
      "\n",
      "arena para gato\n",
      "\n",
      "chocapic sin Stevia\n",
      "\n"
     ]
    }
   ],
   "source": [
    "imprimirConSalto()"
   ]
  },
  {
   "cell_type": "markdown",
   "metadata": {},
   "source": [
    "Notar que al momento de imprimir una línea, se imprime una línea en blanco adicional. Esto es debido a que se está imprimiendo el salto de línea ``\\n``, adicional al \"enter\" que nos entrega gratis el ``print``\n",
    "\n",
    "Para eliminar el salto de línea al momento de ir leyendo las líneas del archivo y guardarlo en memoria, tenemos tres formas:\n",
    "\n",
    "### Forma 1: `slicing`\n",
    "\n",
    "Usando trucos de slicing. podemos expresar que queremos todos los caracteres, salvo el último\n",
    "\n",
    "```python\n",
    "linea = linea[:-1]\n",
    "```\n",
    "\n",
    "### Forma 2: `replace`\n",
    "\n",
    "Usando ``replace``. Reemplazamos el salto de línea por el string vacío\n",
    "\n",
    "```python\n",
    "linea = linea.replace('\\n', '')\n",
    "```\n",
    "\n",
    "### Forma 3: `strip`\n",
    "\n",
    "Usando ``strip``. En particular, ``.strip()`` elimina los espacios de los saltos de línea\n",
    "\n",
    "```python\n",
    "linea = linea.strip()\n",
    "```\n",
    "\n",
    "## Ejemplo 2: Imprimir sin saltos de linea\n",
    "\n",
    "Ahora, corrigiendo el programa anterior, para leer el archivo, ignorando los saltos de línea\n"
   ]
  },
  {
   "cell_type": "code",
   "execution_count": 13,
   "metadata": {},
   "outputs": [],
   "source": [
    "# imprimirSinSalto: None -> None\n",
    "# lee el contenido de un archivo y lo imprime sacando el salto de linea\n",
    "# ej: imprimirSinSalto()\n",
    "def imprimirSinSalto():\n",
    "\n",
    "    # abrimos el archivo en modo lectura\n",
    "    arch = open('compras.txt', 'r')\n",
    "\n",
    "    # para cada linea del archivo\n",
    "    for linea in arch:\n",
    "\n",
    "        #le limpiamos el salto de linea \n",
    "        linea = linea.strip()\n",
    "\n",
    "        # y la mostramos en pantalla\n",
    "        print(linea)\n",
    "\n",
    "    #cerramos el archivo y terminamos\n",
    "    arch.close()\n",
    "    return None"
   ]
  },
  {
   "cell_type": "code",
   "execution_count": 14,
   "metadata": {},
   "outputs": [
    {
     "name": "stdout",
     "output_type": "stream",
     "text": [
      "manzanas\n",
      "dulces suny\n",
      "arena para gato\n",
      "chocapic sin Stevia\n"
     ]
    }
   ],
   "source": [
    "imprimirSinSalto()"
   ]
  },
  {
   "cell_type": "markdown",
   "metadata": {},
   "source": [
    "### Ejemplo 3: Contar líneas y caracteres de un archivo\n",
    "\n",
    "Queremos crear una función que recibe el nombre de un archivo, y muestra en pantalla la cantidad de líneas y caracteres (sin contar ``'\\n'``) que tiene el archivo\n",
    "\n",
    "```python\n",
    ">>> contarArchivo('compras.txt')\n",
    "    Lineas: 4\n",
    "    Caracteres: 53\n",
    "```\n",
    "\n",
    "Tenemos que:\n",
    "\n",
    "- Abrir el archivo recibido en modo lectura\n",
    "\n",
    "- Crear variables contadores para líneas y caracteres\n",
    "\n",
    "- Para cada línea del archivo\n",
    "  \n",
    "  - Contar una línea\n",
    "  \n",
    "  - Contar los caracteres de la línea, excluyendo el salto\n",
    "\n",
    "- Cerrar el archivo\n",
    "\n",
    "- Mostrar los resultados en pantalla\n",
    "\n",
    "\n"
   ]
  },
  {
   "cell_type": "code",
   "execution_count": 15,
   "metadata": {},
   "outputs": [],
   "source": [
    "# contarArchivo: str -> None\n",
    "# lee cuantas lineas y caracteres tiene el archivo\n",
    "# ej: contarArchivo('compras.txt')\n",
    "def contarArchivo(nombre_arch):\n",
    "    assert type(nombre_arch) == str\n",
    "\n",
    "    # En ocasiones, hay que especificar un tercer parametro llamado\n",
    "    # \"encoding\", que indica el mapa de caracteres valido para el\n",
    "    # archivo. utf8 es el mas usado\n",
    "    arch = open(nombre_arch,'r', encoding = 'utf8')\n",
    "\n",
    "    nlineas = 0\n",
    "    ncarac = 0\n",
    "\n",
    "    # para cada linea del archivo\n",
    "    for linea in arch:\n",
    "        # limpiamos la linea\n",
    "        linea = linea.strip()\n",
    "\n",
    "        # contamos una linea, y los caracteres en la linea\n",
    "        nlineas += 1\n",
    "        ncarac += len(linea)\n",
    "\n",
    "    # mostramos los resultados y terminamos\n",
    "    print(\"Lineas:\",nlineas)\n",
    "    print(\"Caracteres:\",ncarac)\n",
    "    arch.close()\n",
    "    return None"
   ]
  },
  {
   "cell_type": "code",
   "execution_count": 16,
   "metadata": {},
   "outputs": [
    {
     "name": "stdout",
     "output_type": "stream",
     "text": [
      "Lineas: 4\n",
      "Caracteres: 53\n"
     ]
    }
   ],
   "source": [
    "contarArchivo('compras.txt')"
   ]
  },
  {
   "cell_type": "code",
   "execution_count": 17,
   "metadata": {},
   "outputs": [
    {
     "name": "stdout",
     "output_type": "stream",
     "text": [
      "Lineas: 2186\n",
      "Caracteres: 1036211\n"
     ]
    }
   ],
   "source": [
    "contarArchivo('el_quijote.txt')"
   ]
  },
  {
   "cell_type": "code",
   "execution_count": 18,
   "metadata": {},
   "outputs": [
    {
     "name": "stdout",
     "output_type": "stream",
     "text": [
      "Lineas: 11929\n",
      "Caracteres: 805431\n"
     ]
    }
   ],
   "source": [
    "contarArchivo('cien_años_de_soledad.txt')"
   ]
  },
  {
   "cell_type": "markdown",
   "metadata": {},
   "source": [
    "## Ejemplo 4: Contar apariciones de una palabra en un archivo\n",
    "\n",
    "Queremos crear una función que dado el nombre de un archivo y una palabra, nos entregue cuantas veces aparece esa palabra en el texto. Por ejemplo\n",
    "\n",
    "```python\n",
    ">>> contarApariciones('compras.txt','gato')\n",
    "    1\n",
    "```\n",
    "\n",
    "Tenemos que:\n",
    "\n",
    "- Abrir el archivo recibido en modo lectura\n",
    "\n",
    "- Crear una variable para contar apariciones\n",
    "\n",
    "- Para cada línea del archivo\n",
    "\n",
    "  - Limpiar la linea y separarla en palabras\n",
    "\n",
    "  - Contar cuantas veces aparece la palabra en la linea\n",
    "\n",
    "- Cerrar el archivo\n",
    "\n",
    "- Mostrar los resultados en pantalla"
   ]
  },
  {
   "cell_type": "code",
   "execution_count": 19,
   "metadata": {},
   "outputs": [],
   "source": [
    "# contarApariciones: str str -> int\n",
    "# lee cuantas lineas y caracteres tiene el archivo\n",
    "# ej: contarApariciones('compras.txt', 'gato') entrega 1\n",
    "def contarApariciones(nombre_arch, palabra):\n",
    "    # tenemos que confiar que el archivo existe y es un nombre valido\n",
    "    assert type(nombre_arch) == str\n",
    "    assert type(palabra) == str\n",
    "\n",
    "    arch = open(nombre_arch,'r', encoding = 'utf8')\n",
    "\n",
    "    cuenta = 0\n",
    "    # para cada linea del archivo\n",
    "    for linea in arch:\n",
    "        # limpiamos la linea\n",
    "        linea = linea.strip()\n",
    "        # separamos la linea en palabras individuales\n",
    "        L = linea.split(\" \")\n",
    "        # contamos todas las palabras que coincidan con la buscada\n",
    "        cuenta += L.count(palabra)\n",
    "\n",
    "    # terminamos entregando el resultado\n",
    "    arch.close()\n",
    "    return cuenta"
   ]
  },
  {
   "cell_type": "code",
   "execution_count": 20,
   "metadata": {},
   "outputs": [
    {
     "data": {
      "text/plain": [
       "1"
      ]
     },
     "execution_count": 20,
     "metadata": {},
     "output_type": "execute_result"
    }
   ],
   "source": [
    "contarApariciones('compras.txt','gato')"
   ]
  },
  {
   "cell_type": "code",
   "execution_count": 21,
   "metadata": {},
   "outputs": [
    {
     "data": {
      "text/plain": [
       "312"
      ]
     },
     "execution_count": 21,
     "metadata": {},
     "output_type": "execute_result"
    }
   ],
   "source": [
    "contarApariciones('el_quijote.txt','Sancho')"
   ]
  },
  {
   "cell_type": "code",
   "execution_count": 22,
   "metadata": {},
   "outputs": [
    {
     "data": {
      "text/plain": [
       "93"
      ]
     },
     "execution_count": 22,
     "metadata": {},
     "output_type": "execute_result"
    }
   ],
   "source": [
    "contarApariciones('cien_años_de_soledad.txt','Macondo')"
   ]
  },
  {
   "cell_type": "markdown",
   "metadata": {},
   "source": [
    "## Archivos .CSV\n",
    "\n",
    "Los archivos CSV (Comma Separated Values), son archivos de texto estructurados de una forma específica, para poder representar datos tabulados\n",
    "\n",
    "Donde entendemos datos tabulados como tablas o planillas de datos (Excel, Google Sheets, etc.)\n",
    "\n",
    "Cada fila del archivo corresponde a una fila de datos, la cual se puede subdividir en una o más \"columnas\"\n",
    "\n",
    "\n",
    "Un archivo CSV usa caracteres o símbolos especiales para separar su contenido. En particular hay que identificar el símbolo utilizado como:\n",
    "\n",
    "- Separador de columnas\n",
    "\n",
    "- Separador decimal\n",
    "\n",
    "- Separador de miles\n",
    "\n",
    "No hay un estándar único para que símbolos usar para cada separador\n",
    "\n",
    "Los símbolos/caracteres más utilizados son:\n",
    "\n",
    "- Punto ( `.` )\n",
    "\n",
    "- Punto y coma ( `;` )\n",
    "\n",
    "- Coma ( `,` )\n",
    "\n",
    "- Tabulación ( ` ` ` ` ` ` ` ` )\n",
    " \n",
    "- Espacio ( ` ` )\n",
    "\n",
    "Típicamente en Sudamérica se usa:\n",
    "\n",
    "- Sep. Columnas:\t`;`\n",
    "\n",
    "- Sep. Decimal:\t`,`\n",
    "\n",
    "- Sep. Miles:\t`.`\n",
    "\n",
    "En USA y UK usualmente se usa:\n",
    "\n",
    "- Sep. Columnas:\t`,`\n",
    "\n",
    "- Sep. Decimal:\t`.`\n",
    "\n",
    "- Sep. Miles:    ` `\n",
    "\n",
    "Al momento de leer un archivo CSV, es importante conocer cuáles son los separadores utilizados, para que los datos sean leídos de manera consistente\n"
   ]
  },
  {
   "cell_type": "markdown",
   "metadata": {},
   "source": [
    "### Trabajando con archivos CSV\n",
    "\n",
    "Supongamos que tenemos el siguiente archivo de notas de cierto curso\n",
    "\n",
    "`notas.csv`\n",
    "```text\n",
    "Nombre,NotaC1,NotaC2,NotaC3\n",
    "Amanda,4.6,3.8,6.7\n",
    "Benito,4.2,5.7,5.9\n",
    "Camila,1.2,4.4,6.3\n",
    "Daniel,1.6,6.1,1.0\n",
    "Emilia,6.8,6.2,5.6\n",
    "Fernanda,2.2,4.9,6.9\n",
    "Hernan,5.3,2.0,7.0\n",
    "```\n",
    "\n",
    "Y queremos realizar algunas cosas, como, por ejemplo:\n",
    "\n",
    "- Calcular el promedio por persona\n",
    "  \n",
    "  - y guardarlo en una lista de listas `[nombre, promedio]`\n",
    "\n",
    "- Calcular el promedio por control\n",
    "\n",
    "  - Y guardarlo como un diccionario `{control: promedio}`\n",
    "\n"
   ]
  },
  {
   "cell_type": "markdown",
   "metadata": {},
   "source": [
    "### Promedio por Persona\n",
    "\n",
    "Para calcular el promedio por persona, necesitamos:\n",
    "\n",
    "- Abrir el archivo en modo lectura\n",
    "\n",
    "- Como sabemos que es un archivo csv\n",
    "\n",
    "  - La primera línea son los encabezados/títulos, por lo que tenemos que saltarla\n",
    "  \n",
    "  - Los datos están organizados en una línea/string de la forma: `nombre,C1,C2,C3`\n",
    "  \n",
    "  - El separador es el símbolo `,`\n",
    "  \n",
    "- Construimos una lista, en donde para cada línea del archivo, guardamos una lista en esa lista, que contenga el nombre de la persona, y su promedio asociado\n"
   ]
  },
  {
   "cell_type": "code",
   "execution_count": 5,
   "metadata": {},
   "outputs": [],
   "source": [
    "# calcularPromedio: str -> list(list)\n",
    "# Lee el archivo de notas indicado, y calcula el promedio por persona\n",
    "# guardandolos en una tabla\n",
    "# ej: calcularPromedio(\"notas.csv\") entrega ...\n",
    "def calcularPromedio(nombre_arch):\n",
    "    \n",
    "    # Abrimos el archivo, y leemos la primera línea que contiene los encabezados \n",
    "    # y no los datos a procesar, para que avance el cursor\n",
    "    A = open(nombre_arch,'r', encoding = 'utf8')\n",
    "    encabezado = A.readline()\n",
    "    \n",
    "    listaFinal = []\n",
    "    \n",
    "    for linea in A:\n",
    "            linea = linea[:-1]\n",
    "            listaPersona = []\n",
    "            \n",
    "            # Como es un archivo csv, el separador usado en cada línea es la coma, por lo que la splitteamos\n",
    "            L = linea.split(',')\n",
    "            \n",
    "            # De la línea separada, extraemos los datos importantes\n",
    "            nombre = L[0]\n",
    "            C1 = float(L[1])\n",
    "            C2 = float(L[2])\n",
    "            C3 = float(L[3])\n",
    "            \n",
    "            # Realizamos los cálculos y los guardamos en la lista final\n",
    "            promedio = (C1 + C2 + C3)/3\n",
    "            promedio = round(promedio,1)\n",
    "            \n",
    "            listaPersona.append(nombre)\n",
    "            listaPersona.append(promedio)\n",
    "            listaFinal.append(listaPersona)\n",
    "            \n",
    "    A.close()\n",
    "    return listaFinal"
   ]
  },
  {
   "cell_type": "code",
   "execution_count": 6,
   "metadata": {},
   "outputs": [
    {
     "data": {
      "text/plain": [
       "[['Amanda', 5.0],\n",
       " ['Benito', 5.3],\n",
       " ['Camila', 4.0],\n",
       " ['Daniel', 2.9],\n",
       " ['Emilia', 6.2],\n",
       " ['Fernanda', 4.7],\n",
       " ['Hernan', 4.8]]"
      ]
     },
     "execution_count": 6,
     "metadata": {},
     "output_type": "execute_result"
    }
   ],
   "source": [
    "calcularPromedio(\"notas.csv\")"
   ]
  },
  {
   "cell_type": "markdown",
   "metadata": {},
   "source": [
    "### Promedio por Evaluación\n",
    "\n",
    "Para calcular el promedio por persona, necesitamos:\n",
    "\n",
    "- Abrir el archivo en modo lectura\n",
    "\n",
    "- Como sabemos que es un archivo csv\n",
    "\n",
    "  - La primera línea son los encabezados/títulos, por lo que tenemos que saltarla\n",
    "  \n",
    "  - Los datos están organizados en una línea/string de la forma: `nombre,C1,C2,C3`\n",
    "  \n",
    "  - El separador es el símbolo `,`\n",
    "  \n",
    "- Construimos una lista por cada evaluación, en donde para cada línea del archivo, extraemos las notas y las guardamos en su lista respectiva\n"
   ]
  },
  {
   "cell_type": "code",
   "execution_count": 7,
   "metadata": {},
   "outputs": [],
   "source": [
    "# calcularPromedioEV: str -> list(list)\n",
    "# Lee el archivo de notas indicado, y calcula el promedio por evaluacion\n",
    "# guardandolos en un diccionario\n",
    "# ej: calcularPromedioEV(\"notas.csv\") entrega ...\n",
    "def calcularPromedioEV(nombre_arch):\n",
    "    \n",
    "    # Abrimos el archivo, y leemos la primera línea que contiene los encabezados\n",
    "    # y no los datos a procesar, para que avance el cursor\n",
    "    A = open(nombre_arch,'r', encoding = 'utf8')\n",
    "    encabezado = A.readline()\n",
    "    \n",
    "    LC1 = []\n",
    "    LC2 = []\n",
    "    LC3 = []\n",
    "    \n",
    "    for linea in A:\n",
    "            linea = linea[:-1]\n",
    "            \n",
    "            # # Como es un archivo csv, el separador usado en cada línea es la coma, por lo que la splitteamos\n",
    "            L = linea.split(',')\n",
    "            \n",
    "            # De la línea separada, extraemos los datos importantes\n",
    "            C1 = float(L[1])\n",
    "            C2 = float(L[2])\n",
    "            C3 = float(L[3])\n",
    "            \n",
    "            # Agregamos cada nota a una lista, para calcular los promedios una vez que tengamos todas las notas\n",
    "            LC1.append(C1)\n",
    "            LC2.append(C2)\n",
    "            LC3.append(C3)\n",
    "            \n",
    "    A.close()\n",
    "    \n",
    "    # Creamos un diccionario, y calculamos cada promedio como la suma dividida por el total de notas de cada lista\n",
    "    Dfinal = {}\n",
    "    Dfinal['Control1'] = round(sum(LC1)/len(LC1), 1)\n",
    "    Dfinal['Control2'] = round(sum(LC2)/len(LC2), 1)\n",
    "    Dfinal['Control3'] = round(sum(LC3)/len(LC3), 1)\n",
    "    \n",
    "    return Dfinal"
   ]
  },
  {
   "cell_type": "code",
   "execution_count": 8,
   "metadata": {},
   "outputs": [
    {
     "data": {
      "text/plain": [
       "{'Control1': 3.7, 'Control2': 4.7, 'Control3': 5.6}"
      ]
     },
     "execution_count": 8,
     "metadata": {},
     "output_type": "execute_result"
    }
   ],
   "source": [
    "calcularPromedioEV(\"notas.csv\")"
   ]
  },
  {
   "cell_type": "markdown",
   "metadata": {},
   "source": [
    "Propuesto:\n",
    "- Pensar como generalizar este procedimiento, cuando no se conocen a priori cuantas columnas de notas tiene el archivo"
   ]
  },
  {
   "cell_type": "markdown",
   "metadata": {},
   "source": [
    "## Conclusiones\n",
    "\n",
    "Los archivos son una forma flexible de manejar información, y se comportan como una lista de strings/líneas\n",
    "\n",
    "Podemos leerlos y cargarlos en la memoria de Python para procesarlos (lectura), o bien, podemos crearlos desde Python para escribir información en el disco (escritura)\n",
    "\n",
    "En general, el primer paso es leer y entender la forma en que vienen los datos y luego, dependiendo si los datos se guardaron en una lista, string, diccionario, etc… el problema se convierte en un ejercicio de manipulación de tales estructuras indexadas.\n",
    "\n",
    "Recuerden tener cuidado con los saltos de línea al procesar archivos!"
   ]
  }
 ],
 "metadata": {
  "kernelspec": {
   "display_name": "Python 3 (ipykernel)",
   "language": "python",
   "name": "python3"
  },
  "language_info": {
   "codemirror_mode": {
    "name": "ipython",
    "version": 3
   },
   "file_extension": ".py",
   "mimetype": "text/x-python",
   "name": "python",
   "nbconvert_exporter": "python",
   "pygments_lexer": "ipython3",
   "version": "3.10.6"
  },
  "vscode": {
   "interpreter": {
    "hash": "98b95ce4537a043c6c2f8047f97d2678115deb8444c76d437608d4f0db95d495"
   }
  }
 },
 "nbformat": 4,
 "nbformat_minor": 4
}
