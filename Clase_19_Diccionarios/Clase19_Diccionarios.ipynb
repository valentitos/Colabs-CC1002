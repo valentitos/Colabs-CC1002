{
 "cells": [
  {
   "cell_type": "markdown",
   "metadata": {},
   "source": [
    "<a href=\"https://colab.research.google.com/github/valentitos/Colabs-CC1002/blob/main/Clase_19_Diccionarios/Clase19_Diccionarios.ipynb\" target=\"_parent\"><img src=\"https://colab.research.google.com/assets/colab-badge.svg\" alt=\"Open In Colab\"/></a>"
   ]
  },
  {
   "cell_type": "markdown",
   "metadata": {},
   "source": [
    "# Clase 19: Diccionarios y Extras\n",
    "\n",
    "## Repaso: Strings\n",
    "\n",
    "Un string es una secuencia inmutable de 0 o más caracteres. Un carácter es una letra, símbolo, digito, etc. individual. Por ejemplo:\n",
    "\n",
    "```python\n",
    "S = 'abracadabra'\n",
    "```\n",
    "\n",
    "Se representa internamente como:\n",
    "\n",
    "![asd](string_intern.svg)\n",
    "\n",
    "\n",
    "Las operaciones tipicas sobre strings son:\n",
    "\n",
    "\n",
    "| Operación     | Significado                                                                     |\n",
    "|---------------|---------------------------------------------------------------------------------|\n",
    "| V = ''        | Dos comillas simples crean un string vacío (con 0 caracteres)   |\n",
    "| ``len(S)``        | Entrega la cantidad de caracteres que posee ``S``                            |\n",
    "| ``S[i]``          | Entrega el carácter guardado en la posición ``i`` del string                 |\n",
    "| ``S > 'pal'``| Compara uno por uno los caracteres y entrega ``True`` si cumple la condicion         |\n",
    "| ``S[a:b]``        | Entrega un substring con los caracteres entre las posiciones ``a`` y ``b-1`` (inclusive) |\n",
    "| ``S1 + S2``         | Junta (concatena) los strings ``S1`` y ``S2``                            |\n",
    "| ``S * n``       | Repite el string ``S``, ``n`` veces                                          \n",
    "| ``c in S``        | Entrega ``True`` si el string ``c`` aparece como sub-cadena de ``S``|\n",
    "| ``list(S)``       | Crea una lista con los caracteres de ``S``                                  |\n",
    "| ``min(S) / max(S)`` | Entrega el menor (mayor) carácter del string ``S``                     |\n",
    "\n",
    "Podemos aplicar muchas de las operaciones conocidas para listas, sobre strings. Sin embargo, debido a que los strings se comportan como listas inmutables, la operación de asignación arrojará un error\n",
    "\n",
    "```python\n",
    ">>> S = 'abracadabra'\n",
    ">>> S[3] = 'w'\n",
    "    TypeError: 'str' object does not support item assignment\n",
    "```\n",
    "\n",
    "De las siguientes operaciones/funciones entregan un resultado dependiendo del caso, y no modifican el string original. En particular las ultimas 5 entregan un nuevo string como resultado\n",
    "\n",
    "| Función    | Significado                                                 |\n",
    "|---------------|-------------------------------------------------------------------------------------------|\n",
    "| ``S.isalpha()``   | Entrega ``True`` si ``S`` solo contiene caracteres alfabéticos.              |\n",
    "| ``S.isnumeric()``   | Entrega ``True`` si ``S`` solo contiene caracteres numéricos.                |\n",
    "| ``S.isalnum()``   | Entrega ``True`` si ``S`` solo contiene caracteres numéricos o alfabéticos.               |\n",
    "| ``S.islower()``   | Entrega ``True`` si ``S`` solo contiene caracteres en minúsculas.         |\n",
    "| ``S.isupper()``   | Entrega ``True`` si ``S`` solo contiene caracteres en mayúsculas.       |\n",
    "| ``S.find(c)``     | Busca si existe  ``c`` en ``S`` y entrega el indice de la primera aparición. |\n",
    "| ``S.count(c)``    | Cuenta las apariciones de ``c`` en ``S``                 |\n",
    "| ``S.lower()``     | Entrega el string ``S`` convertido a minúsculas.              |\n",
    "| ``S.upper()``     | Entrega el string ``S`` convertido a mayúsculas.            |\n",
    "| ``S.strip()``     | Entrega el string ``S`` eliminando espacios del principio y final.      |\n",
    "| ``S.replace(x,z)``     | Entrega el string ``S`` donde se reemplazaron todos los caracteres ``x`` por ``z``      |\n",
    "| ``S.split(c)``     | Entrega una lista con los fragmentos de ``S`` que se encuentran separados por ``c``      |\n",
    "\n",
    "En particular, la operación ``.replace()`` entrega un nuevo string, donde se reemplazaron las apariciones de una secuencia de caracteres, por otra que se especifique\n",
    "\n",
    "```python\n",
    ">>> S1 = 'abracadabra'\n",
    ">>> S2 = S1.replace('ra','uwu')\n",
    ">>> print(S2)\n",
    "    'abuwucadabuwu'\n",
    "```\n",
    "\n",
    "La operación `.split()` corta un string en base al separador indicado, entregando una lista con todos los fragmentos del string\n",
    "\n",
    "```python\n",
    ">>> frase = 'yo tengo un lindo gatito'\n",
    ">>> L = frase.split(' ')\n",
    ">>> print(L)\n",
    "    ['yo', 'tengo', 'un', 'lindo', 'gatito']\n",
    "```\n",
    "\n",
    "Los strings, al igual que las listas, también pueden ser recorridos cíclicamente, usando un ciclo `for` o ciclo `while`\n",
    "\n",
    "```python\n",
    "# while por indices\n",
    "# imprimir: str -> None\n",
    "# ...\n",
    "def imprimir(S):\n",
    "    assert type(S) == str\n",
    " \n",
    "    i = 0\n",
    "    while i < len(S):\n",
    "        print(S[i])\n",
    "        i = i + 1\n",
    "        \n",
    "    return None\n",
    "```\n",
    "\n",
    "```python\n",
    "# for por valores\n",
    "# imprimir: str -> None\n",
    "# ...\n",
    "def imprimir(S):\n",
    "    assert type(S) == str\n",
    " \n",
    "    for letra in S:\n",
    "        print(letra)\n",
    "                \n",
    "    return None\n",
    "```\n",
    "\n",
    "```python\n",
    "# for por indices\n",
    "# imprimir: str -> None\n",
    "# ...\n",
    "def imprimir(S):\n",
    "    assert type(S) == str\n",
    " \n",
    "    for i in range(len(S)):\n",
    "        print(S[i])\n",
    "                \n",
    "    return None\n",
    "```\n",
    "\n",
    "---"
   ]
  },
  {
   "cell_type": "markdown",
   "metadata": {},
   "source": [
    "## Diccionarios (definición)\n",
    "\n",
    "Un diccionario es una estructura que permite asociar **llaves** a un conjunto de **valores**. Su nombre viene de que, dada una **palabra clave**, se le asocia un **significado**. También se le conocen como arreglos asociativos\n",
    "\n",
    "Es una estructura mutable, que a diferencia de las listas (que se indexan por números), los diccionarios se indexan por sus llaves. Visualmente es como una tabla, que asocia \"palabras\" con su \"definición\"\n",
    "\n",
    "![jjaj](diccionario_ej.svg)\n",
    "\n",
    "Respecto a las `llaves`:\n",
    "\n",
    "- Pueden ser números o strings\n",
    "\n",
    "- No hay dos valores distintos asociados a la misma llave (ie: no hay llaves repetidas)\n",
    "\n",
    "Respecto a los `valores`:\n",
    "\n",
    "- Pueden ser un número, string, lista, etc.… (básicamente lo que quieran)\n",
    "\n",
    "- Pueden ser modificados (cambiar la definición asociada a una llave)\n",
    "\n",
    "## Diccionarios (operaciones)\n",
    "\n",
    "Las operaciones típicas sobre diccionarios son:\n",
    "\n",
    "| Operación    | Significado                                                 |\n",
    "|---------------|-------------------------------------------------------------------------------------------|\n",
    "| ``D = {}``   | Crea un diccionario vacío (0 asociaciones)     |\n",
    "| ``len(D)``   |  Indica cuantos pares ``llave:valor`` tiene ``D``           |\n",
    "| ``D[llave]``   | Obtiene el ``valor`` asociado a la ``llave`` en ``D``         |\n",
    "| ``k in D``   | ``True`` si la ``llave`` ``k`` existe en ``D``     |\n",
    "| ``D == {..}``  | Indica si dos diccionarios tienen el mismo contenido (pares ``llave:valor``)                                    |\n",
    "| ``D[llave] = valor``   | Si no existe la ``llave`` en ``D``, la agrega a ``D``, asociada al ``valor`` indicado.|\n",
    "| `` `` | Si existe la ``llave`` en ``D``, modifica el ``valor`` asociado |\n",
    "| ``del D[llave]``   | Elimina la ``llave`` de ``D``, junto a su ``valor`` asociado     |\n",
    "| ``D.keys()``   | Entrega un conjunto iterable con todas las ``llaves`` de ``D``     |\n",
    "| ``D.values()``   | Entrega un conjunto iterable con todos los ``valores`` de ``D``     |\n",
    "\n",
    "\n"
   ]
  },
  {
   "cell_type": "markdown",
   "metadata": {},
   "source": [
    "### Creación\n",
    "\n",
    "Podemos crear un diccionario vacío de la siguiente manera:"
   ]
  },
  {
   "cell_type": "code",
   "execution_count": 1,
   "metadata": {},
   "outputs": [],
   "source": [
    "D = {}"
   ]
  },
  {
   "cell_type": "markdown",
   "metadata": {},
   "source": [
    "También podemos crear diccionarios con asociaciones preexistentes ``llave:valor``"
   ]
  },
  {
   "cell_type": "code",
   "execution_count": 2,
   "metadata": {},
   "outputs": [],
   "source": [
    "D = {'gatitos':5, 'perritos':2, 'pajaritos':4 }"
   ]
  },
  {
   "cell_type": "markdown",
   "metadata": {},
   "source": [
    "### Largo\n",
    "\n",
    "La función ``len`` nos indica cuantos pares ``llave:valor`` tiene el diccionario"
   ]
  },
  {
   "cell_type": "code",
   "execution_count": 3,
   "metadata": {},
   "outputs": [
    {
     "data": {
      "text/plain": [
       "3"
      ]
     },
     "execution_count": 3,
     "metadata": {},
     "output_type": "execute_result"
    }
   ],
   "source": [
    "D = {'gatitos':5, 'perritos':2, 'pajaritos':4 }\n",
    "len(D)"
   ]
  },
  {
   "cell_type": "markdown",
   "metadata": {},
   "source": [
    "### Pertenencia\n",
    "\n",
    "La operación de pertenencia in nos indica si existe una llave en el diccionario o no"
   ]
  },
  {
   "cell_type": "code",
   "execution_count": 4,
   "metadata": {},
   "outputs": [
    {
     "data": {
      "text/plain": [
       "False"
      ]
     },
     "execution_count": 4,
     "metadata": {},
     "output_type": "execute_result"
    }
   ],
   "source": [
    "D = {'gatitos':5, 'perritos':2, 'pajaritos':4 }\n",
    "'capibara' in D"
   ]
  },
  {
   "cell_type": "code",
   "execution_count": 5,
   "metadata": {},
   "outputs": [
    {
     "data": {
      "text/plain": [
       "True"
      ]
     },
     "execution_count": 5,
     "metadata": {},
     "output_type": "execute_result"
    }
   ],
   "source": [
    "D = {'gatitos':5, 'perritos':2, 'pajaritos':4 }\n",
    "'gatitos' in D"
   ]
  },
  {
   "cell_type": "markdown",
   "metadata": {},
   "source": [
    "### Comparación de igualdad"
   ]
  },
  {
   "cell_type": "markdown",
   "metadata": {},
   "source": [
    "Dos diccionarios se pueden comparar por igualdad. Entrega ``True`` si y solo si ambos diccionarios tienen los mismos pares ``llave:valor``. No es necesario que estén en el mismo orden"
   ]
  },
  {
   "cell_type": "code",
   "execution_count": 6,
   "metadata": {},
   "outputs": [
    {
     "data": {
      "text/plain": [
       "True"
      ]
     },
     "execution_count": 6,
     "metadata": {},
     "output_type": "execute_result"
    }
   ],
   "source": [
    "D1 = {'gatitos':5, 'perritos':2, 'pajaritos':4 }\n",
    "D2 = {'perritos':2, 'gatitos':5, 'pajaritos':4 }\n",
    "D1 == D2"
   ]
  },
  {
   "cell_type": "code",
   "execution_count": 7,
   "metadata": {},
   "outputs": [
    {
     "data": {
      "text/plain": [
       "False"
      ]
     },
     "execution_count": 7,
     "metadata": {},
     "output_type": "execute_result"
    }
   ],
   "source": [
    "D1 = {'gatitos':5, 'perritos':2, 'pajaritos':4 }\n",
    "D2 = {'perritos':2, 'gatitos':5, 'pajaritos':4 }\n",
    "D1 != D2"
   ]
  },
  {
   "cell_type": "markdown",
   "metadata": {},
   "source": [
    "### Acceso\n",
    "\n",
    "Para obtener un ``valor`` asociado a una ``llave``, accedemos por su \"índice\" (``llave``)"
   ]
  },
  {
   "cell_type": "code",
   "execution_count": 8,
   "metadata": {},
   "outputs": [
    {
     "data": {
      "text/plain": [
       "5"
      ]
     },
     "execution_count": 8,
     "metadata": {},
     "output_type": "execute_result"
    }
   ],
   "source": [
    "D = {'gatitos':5, 'perritos':2, 'pajaritos':4 }\n",
    "D['gatitos'] "
   ]
  },
  {
   "cell_type": "markdown",
   "metadata": {},
   "source": [
    "Si intentamos acceder a una `llave` que no existe, arrojará un error"
   ]
  },
  {
   "cell_type": "code",
   "execution_count": 9,
   "metadata": {},
   "outputs": [
    {
     "ename": "KeyError",
     "evalue": "'capibara'",
     "output_type": "error",
     "traceback": [
      "\u001b[1;31m---------------------------------------------------------------------------\u001b[0m",
      "\u001b[1;31mKeyError\u001b[0m                                  Traceback (most recent call last)",
      "\u001b[1;32mc:\\Users\\titox\\OneDrive\\Cursos - CC1002\\CC1002 2022-02\\python-vscode\\Clase18\\Clase18_diccionarios_y_extras.ipynb Celda 19\u001b[0m in \u001b[0;36m<cell line: 2>\u001b[1;34m()\u001b[0m\n\u001b[0;32m      <a href='vscode-notebook-cell:/c%3A/Users/titox/OneDrive/Cursos%20-%20CC1002/CC1002%202022-02/python-vscode/Clase18/Clase18_diccionarios_y_extras.ipynb#Y223sZmlsZQ%3D%3D?line=0'>1</a>\u001b[0m D \u001b[39m=\u001b[39m {\u001b[39m'\u001b[39m\u001b[39mgatitos\u001b[39m\u001b[39m'\u001b[39m:\u001b[39m5\u001b[39m, \u001b[39m'\u001b[39m\u001b[39mperritos\u001b[39m\u001b[39m'\u001b[39m:\u001b[39m2\u001b[39m, \u001b[39m'\u001b[39m\u001b[39mpajaritos\u001b[39m\u001b[39m'\u001b[39m:\u001b[39m4\u001b[39m }\n\u001b[1;32m----> <a href='vscode-notebook-cell:/c%3A/Users/titox/OneDrive/Cursos%20-%20CC1002/CC1002%202022-02/python-vscode/Clase18/Clase18_diccionarios_y_extras.ipynb#Y223sZmlsZQ%3D%3D?line=1'>2</a>\u001b[0m D[\u001b[39m'\u001b[39;49m\u001b[39mcapibara\u001b[39;49m\u001b[39m'\u001b[39;49m]\n",
      "\u001b[1;31mKeyError\u001b[0m: 'capibara'"
     ]
    }
   ],
   "source": [
    "D = {'gatitos':5, 'perritos':2, 'pajaritos':4 }\n",
    "D['capibara']"
   ]
  },
  {
   "cell_type": "markdown",
   "metadata": {},
   "source": [
    "### Asignación\n",
    "\n",
    "Si la ``llave`` **no existe**, la agrega al diccionario, junto a su ``valor``"
   ]
  },
  {
   "cell_type": "code",
   "execution_count": 10,
   "metadata": {},
   "outputs": [
    {
     "name": "stdout",
     "output_type": "stream",
     "text": [
      "{'gatitos': 5, 'perritos': 2, 'pajaritos': 4, 'capibara': 1}\n"
     ]
    }
   ],
   "source": [
    "D = {'gatitos':5, 'perritos':2, 'pajaritos':4 }\n",
    "D['capibara'] = 1\n",
    "print(D)"
   ]
  },
  {
   "cell_type": "markdown",
   "metadata": {},
   "source": [
    "Si la `llave` **ya existía**, entonces reemplaza su `valor` asociado"
   ]
  },
  {
   "cell_type": "code",
   "execution_count": 11,
   "metadata": {},
   "outputs": [
    {
     "name": "stdout",
     "output_type": "stream",
     "text": [
      "{'gatitos': 8, 'perritos': 2, 'pajaritos': 4}\n"
     ]
    }
   ],
   "source": [
    "D = {'gatitos':5, 'perritos':2, 'pajaritos':4 }\n",
    "D['gatitos'] = 8\n",
    "print(D)"
   ]
  },
  {
   "cell_type": "markdown",
   "metadata": {},
   "source": [
    "Como los diccionarios son mutables, nos encontramos nuevamente con el aliasing"
   ]
  },
  {
   "cell_type": "code",
   "execution_count": 12,
   "metadata": {},
   "outputs": [],
   "source": [
    "D1 = {'gatitos':5, 'perritos':2, 'pajaritos':4 }\n",
    "D2 = D1\n",
    "D2['gatitos'] = 8"
   ]
  },
  {
   "cell_type": "code",
   "execution_count": 13,
   "metadata": {},
   "outputs": [
    {
     "name": "stdout",
     "output_type": "stream",
     "text": [
      "{'gatitos': 8, 'perritos': 2, 'pajaritos': 4}\n"
     ]
    }
   ],
   "source": [
    "print(D2)"
   ]
  },
  {
   "cell_type": "code",
   "execution_count": 14,
   "metadata": {},
   "outputs": [
    {
     "name": "stdout",
     "output_type": "stream",
     "text": [
      "{'gatitos': 8, 'perritos': 2, 'pajaritos': 4}\n"
     ]
    }
   ],
   "source": [
    "print(D1)"
   ]
  },
  {
   "cell_type": "markdown",
   "metadata": {},
   "source": [
    "Para prevenirlo, hay que crear una **copia efectiva**, con ayuda de la función ``dict``"
   ]
  },
  {
   "cell_type": "code",
   "execution_count": 15,
   "metadata": {},
   "outputs": [],
   "source": [
    "D1 = {'gatitos':5, 'perritos':2, 'pajaritos':4 }\n",
    "D2 = dict(D1)\n",
    "D2['gatitos'] = 8"
   ]
  },
  {
   "cell_type": "code",
   "execution_count": 16,
   "metadata": {},
   "outputs": [
    {
     "name": "stdout",
     "output_type": "stream",
     "text": [
      "{'gatitos': 8, 'perritos': 2, 'pajaritos': 4}\n"
     ]
    }
   ],
   "source": [
    "print(D2)"
   ]
  },
  {
   "cell_type": "code",
   "execution_count": 17,
   "metadata": {},
   "outputs": [
    {
     "name": "stdout",
     "output_type": "stream",
     "text": [
      "{'gatitos': 5, 'perritos': 2, 'pajaritos': 4}\n"
     ]
    }
   ],
   "source": [
    "print(D1)"
   ]
  },
  {
   "cell_type": "markdown",
   "metadata": {},
   "source": [
    "### Eliminar\n",
    "\n",
    "Para borrar un par ``llave:valor`` del diccionario, usamos el operador ``del`` sobre el diccionario, indicando su ``llave``"
   ]
  },
  {
   "cell_type": "code",
   "execution_count": 18,
   "metadata": {},
   "outputs": [
    {
     "name": "stdout",
     "output_type": "stream",
     "text": [
      "{'gatitos': 5, 'perritos': 2}\n"
     ]
    }
   ],
   "source": [
    "D = {'gatitos':5, 'perritos':2, 'pajaritos':4 }\n",
    "del D['pajaritos']\n",
    "print(D)"
   ]
  },
  {
   "cell_type": "markdown",
   "metadata": {},
   "source": [
    "Si intentamos eliminar un elemento que (ya) no existe, arrojará un error"
   ]
  },
  {
   "cell_type": "code",
   "execution_count": 19,
   "metadata": {},
   "outputs": [
    {
     "ename": "KeyError",
     "evalue": "'capibara'",
     "output_type": "error",
     "traceback": [
      "\u001b[1;31m---------------------------------------------------------------------------\u001b[0m",
      "\u001b[1;31mKeyError\u001b[0m                                  Traceback (most recent call last)",
      "\u001b[1;32mc:\\Users\\titox\\OneDrive\\Cursos - CC1002\\CC1002 2022-02\\python-vscode\\Clase18\\Clase18_diccionarios_y_extras.ipynb Celda 35\u001b[0m in \u001b[0;36m<cell line: 2>\u001b[1;34m()\u001b[0m\n\u001b[0;32m      <a href='vscode-notebook-cell:/c%3A/Users/titox/OneDrive/Cursos%20-%20CC1002/CC1002%202022-02/python-vscode/Clase18/Clase18_diccionarios_y_extras.ipynb#Y242sZmlsZQ%3D%3D?line=0'>1</a>\u001b[0m D \u001b[39m=\u001b[39m {\u001b[39m'\u001b[39m\u001b[39mgatitos\u001b[39m\u001b[39m'\u001b[39m:\u001b[39m5\u001b[39m, \u001b[39m'\u001b[39m\u001b[39mperritos\u001b[39m\u001b[39m'\u001b[39m:\u001b[39m2\u001b[39m, \u001b[39m'\u001b[39m\u001b[39mpajaritos\u001b[39m\u001b[39m'\u001b[39m:\u001b[39m4\u001b[39m }\n\u001b[1;32m----> <a href='vscode-notebook-cell:/c%3A/Users/titox/OneDrive/Cursos%20-%20CC1002/CC1002%202022-02/python-vscode/Clase18/Clase18_diccionarios_y_extras.ipynb#Y242sZmlsZQ%3D%3D?line=1'>2</a>\u001b[0m \u001b[39mdel\u001b[39;00m D[\u001b[39m'\u001b[39m\u001b[39mcapibara\u001b[39m\u001b[39m'\u001b[39m]\n",
      "\u001b[1;31mKeyError\u001b[0m: 'capibara'"
     ]
    }
   ],
   "source": [
    "D = {'gatitos':5, 'perritos':2, 'pajaritos':4 }\n",
    "del D['capibara']"
   ]
  },
  {
   "cell_type": "markdown",
   "metadata": {},
   "source": [
    "### Llaves y Valores\n",
    "\n",
    "La operación ``.keys()`` entrega un conjunto iterable, con todas las ``llaves`` del diccionario, el que puede ser convertido a lista"
   ]
  },
  {
   "cell_type": "code",
   "execution_count": 20,
   "metadata": {},
   "outputs": [
    {
     "name": "stdout",
     "output_type": "stream",
     "text": [
      "['gatitos', 'perritos', 'pajaritos']\n"
     ]
    }
   ],
   "source": [
    "D = {'gatitos':5, 'perritos':2, 'pajaritos':4 }\n",
    "Lllaves = list(D.keys())\n",
    "print(Lllaves)"
   ]
  },
  {
   "cell_type": "markdown",
   "metadata": {},
   "source": [
    "La operación ``.values()`` entrega un conjunto iterable, con todos los valores del diccionario, el que puede ser convertido a lista"
   ]
  },
  {
   "cell_type": "code",
   "execution_count": 21,
   "metadata": {},
   "outputs": [
    {
     "name": "stdout",
     "output_type": "stream",
     "text": [
      "[5, 2, 4]\n"
     ]
    }
   ],
   "source": [
    "D = {'gatitos':5, 'perritos':2, 'pajaritos':4 }\n",
    "Lvalores = list(D.values())\n",
    "print(Lvalores)"
   ]
  },
  {
   "cell_type": "markdown",
   "metadata": {},
   "source": [
    "## Diccionarios (Recorridos)\n",
    "\n",
    "Dado que los elementos en un diccionario están indexados por ``llaves``, solo podemos usar un ciclo ``for`` para iterar sobre ellos"
   ]
  },
  {
   "cell_type": "markdown",
   "metadata": {},
   "source": [
    "### ``for`` por `llaves`\n",
    "\n",
    "Si iteramos directamente sobre un diccionario, se realizará sobre sus ``llaves`` (dándonos acceso indirecto a sus ``valores``)"
   ]
  },
  {
   "cell_type": "code",
   "execution_count": 22,
   "metadata": {},
   "outputs": [
    {
     "name": "stdout",
     "output_type": "stream",
     "text": [
      "gatitos -> 5\n",
      "perritos -> 2\n",
      "pajaritos -> 4\n"
     ]
    }
   ],
   "source": [
    "D = {'gatitos':5, 'perritos':2, 'pajaritos':4 }\n",
    "for llave in D:\n",
    "    print(llave,'->',D[llave])"
   ]
  },
  {
   "cell_type": "markdown",
   "metadata": {},
   "source": [
    "### `for` por `valores`\n",
    "\n",
    "Si solo necesitamos acceso a sus valores, podemos iterar sobre el conjunto de sus valores mediante ``.values()``\n"
   ]
  },
  {
   "cell_type": "code",
   "execution_count": 23,
   "metadata": {},
   "outputs": [
    {
     "name": "stdout",
     "output_type": "stream",
     "text": [
      "-> 5\n",
      "-> 2\n",
      "-> 4\n"
     ]
    }
   ],
   "source": [
    "D = {'gatitos':5, 'perritos':2, 'pajaritos':4 }\n",
    "for valor in D.values():\n",
    "    print('->',valor)"
   ]
  },
  {
   "cell_type": "markdown",
   "metadata": {},
   "source": [
    "### `for` por `ambos`\n",
    "\n",
    "Otra forma es usar la operación ``.ítems()``, que nos da acceso a los pares ``llave:valor`` al mismo tiempo\n"
   ]
  },
  {
   "cell_type": "code",
   "execution_count": 25,
   "metadata": {},
   "outputs": [
    {
     "name": "stdout",
     "output_type": "stream",
     "text": [
      "gatitos -> 5\n",
      "perritos -> 2\n",
      "pajaritos -> 4\n"
     ]
    }
   ],
   "source": [
    "D = {'gatitos':5, 'perritos':2, 'pajaritos':4 }\n",
    "for llave,valor in D.items():\n",
    "    print(llave,'->',valor)"
   ]
  },
  {
   "attachments": {},
   "cell_type": "markdown",
   "metadata": {},
   "source": [
    "## Conteo de Frecuencia\n",
    "\n",
    "Una aplicación práctica de los diccionarios es realizar un conteo de frecuencias. \n",
    "\n",
    "Por ejemplo, supongamos que queremos crear un programa interactivo, que le pregunta a una persona por una línea de texto, y el programa imprime cuantas veces se repite cada palabra de la frase. Por ej:\n",
    "\n",
    "```python\n",
    ">>> frecuenciador()\n",
    "    Ingrese línea: los pollitos dicen pio pio pio cuando tienen  \n",
    "    hambre cuando tienen frio\n",
    "    los -> 1 veces\n",
    "    pollitos -> 1 veces\n",
    "    dicen -> 1 veces\n",
    "    pio -> 3 veces\n",
    "    cuando -> 2 veces\n",
    "    ...\n",
    "```\n",
    "\n",
    "Los pasos a seguir son:\n",
    "\n",
    "- Recibir una frase por parte de una persona\n",
    "\n",
    "  - Usamos `input`\n",
    "\n",
    "- Separar la frase en palabras individuales\n",
    "\n",
    "  - Usamos `.split`\n",
    "\n",
    "- Recorrer las palabras\n",
    "\n",
    "  - Usamos un ciclo\n",
    "\n",
    "- Contar cuantas veces ha aparecido una palabra\n",
    "\n",
    "  - Si es la primera vez que la encontramos, la agregamos a un diccionario asociada al valor 1\n",
    "  \n",
    "  - Si ya existe en el diccionario, incrementamos su valor asociado en 1\n"
   ]
  },
  {
   "cell_type": "code",
   "execution_count": null,
   "metadata": {},
   "outputs": [],
   "source": [
    "# frecuenciador: None -> None\n",
    "# recibe una frase y cuenta cuantas veces se repite cada palabra\n",
    "# ej: frecuenciador()\n",
    "def frecuenciador():\n",
    "    linea = input(\"Ingrese línea: \")\n",
    "    linea = linea.strip()\n",
    "    \n",
    "    palabras = linea.split(\" \")\n",
    "    frecuencias = {}\n",
    "    \n",
    "    for palabra in palabras:\n",
    "        if palabra not in frecuencias:\n",
    "            frecuencias[palabra] = 1\n",
    "        else:\n",
    "            frecuencias[palabra] = frecuencias[palabra] + 1\n",
    "\n",
    "    for pal,frec in frecuencias.items():\n",
    "        print(pal, \"->\", frec, \"veces\")"
   ]
  },
  {
   "attachments": {},
   "cell_type": "markdown",
   "metadata": {},
   "source": [
    "- Leemos una línea, la limpiamos y la fragmentamos en palabras individuales\n",
    "\n",
    "- Para cada palabra de la frase:\n",
    "  \n",
    "  - Si no está registrada, la agregamos\n",
    "  \n",
    "  - Si está registrada, aumentamos su cuenta en 1\n",
    "\n",
    "- Imprimimos los pares llave:valor del diccionario\n"
   ]
  },
  {
   "cell_type": "markdown",
   "metadata": {},
   "source": [
    "## Conclusiones\n",
    "\n",
    "La estructura Diccionario es una estructura indexada que organiza los datos de una manera distinta a las listas y strings.\n",
    "\n",
    "Debido a que los datos se almacenan de forma asociativa, permite realizar ciertas operaciones que con listas serían más complicadas (y viceversa), en particular, realizar conteos de frecuencia\n",
    "\n",
    "Lo importante es identificar cuando un problema puede ser resuelto más fácilmente usando diccionarios o listas."
   ]
  }
 ],
 "metadata": {
  "kernelspec": {
   "display_name": "Python 3 (ipykernel)",
   "language": "python",
   "name": "python3"
  },
  "language_info": {
   "codemirror_mode": {
    "name": "ipython",
    "version": 3
   },
   "file_extension": ".py",
   "mimetype": "text/x-python",
   "name": "python",
   "nbconvert_exporter": "python",
   "pygments_lexer": "ipython3",
   "version": "3.10.6"
  },
  "vscode": {
   "interpreter": {
    "hash": "98b95ce4537a043c6c2f8047f97d2678115deb8444c76d437608d4f0db95d495"
   }
  }
 },
 "nbformat": 4,
 "nbformat_minor": 4
}
