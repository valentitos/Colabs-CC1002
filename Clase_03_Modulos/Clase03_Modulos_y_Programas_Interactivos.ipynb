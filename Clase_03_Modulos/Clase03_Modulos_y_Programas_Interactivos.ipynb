{
 "cells": [
  {
   "attachments": {},
   "cell_type": "markdown",
   "metadata": {},
   "source": [
    "<a href=\"https://colab.research.google.com/github/valentitos/Colabs-CC1002/blob/main/Clase_03_Modulos/Clase03_Modulos_y_Programas_Interactivos.ipynb\" target=\"_parent\"><img src=\"https://colab.research.google.com/assets/colab-badge.svg\" alt=\"Open In Colab\"/></a>"
   ]
  },
  {
   "cell_type": "code",
   "execution_count": null,
   "metadata": {},
   "outputs": [],
   "source": [
    "# Descomentar las siguientes lineas para usar modulos propios cargados en Gdrive\n",
    "\n",
    "#from google.colab import drive\n",
    "#drive.mount('/content/drive', force_remount=True)\n",
    "\n",
    "#import sys\n",
    "#sys.path.append('/content/drive/MyDrive/CC1002_modulos')"
   ]
  },
  {
   "cell_type": "markdown",
   "metadata": {},
   "source": [
    "# Clase 03: Módulos y Programas Interactivos"
   ]
  },
  {
   "cell_type": "markdown",
   "metadata": {},
   "source": [
    "## Repaso Clase 02\n",
    "\n",
    "### Funciones\n",
    "\n",
    "Las funciones en computación se definen con la misma noción que existe en matemáticas.\n",
    "\n",
    "Son una estructura que recibe un conjunto de **parametros de entrada**, los procesa y genera un **resultado de salida**\n",
    "\n",
    "```python\n",
    "def nombre(parámetros)          (1)\n",
    "    instrucciones               (2)\n",
    "    return expresion            (3)\n",
    "```\n",
    "\n",
    "(1) Una función se define con la palabra clave ``def``, lleva un **nombre**, un conjunto de cero o mas **parámetros** de entrada, y termina con el simbolo ``:`` (dos puntos). Es importante que la función tenga un nombre que esté directamente relacionado con el objetivo que cumple, al igual que sus parámetros.\n",
    "\n",
    "(2) Luego viene el conjunto de **instrucciones**, que generalmente procesan los parámetros de entrada para producir un resultado. Este conjunto de **instrucciones**, debe respetar un **bloque de identación** para indicar al interprete de Python, que dicho conjunto forma parte del cuerpo de la función, y no del programa principal.\n",
    "En Python, un bloque de identación usualmente son 4 espacios o 1 tab.\n",
    "\n",
    "(3) Cuando la función está en condiciones de entregar un valor o resultado al programa principal, se indica con la palabra clave ``return``. Cuando el interprete llega a esta palabra clave, la función termina de ejecutarse, entrega el resultado de la expresión final como respuesta, y todos los parámetros y variables utilizadas dentro de la función **desaparecen**\n",
    "\n",
    "### Funciones dentro de Funciones\n",
    "\n",
    "Es posible usar funciones que hemos definido previamente dentro de otras funciones\n",
    "\n",
    "\n",
    "\n",
    "```python\n",
    "def areaCirculo(radio):\n",
    "    pi = 3.14\n",
    "    return pi * radio**2\n",
    "\n",
    "def areaAnillo(r_exterior, r_interior):\n",
    "    area_ext = areaCirculo(r_exterior)\n",
    "    area_int = areaCirculo(r_interior)\n",
    "    return area_ext - area_int\n",
    "```\n",
    "\n",
    "\n",
    "### Alcance de Variables\n",
    "\n",
    "Cuando una función termina de ejecutarse, todos los parámetros y variables utilizadas dentro de la función **desaparecen**. Esto es porque la definición de una variable dentro de una función tiene un alcance **local**. En cambio, variables definidas fuera de una función se dicen que tienen un alcance **global**\n",
    "\n",
    "**Escenario 1**\n",
    "\n",
    "```python\n",
    "caja1 = 300\n",
    "\n",
    "def sumarCajas(caja2):\n",
    "    return caja2 + caja1\n",
    "```\n",
    "Fuera de la función, se definió ``caja1``.\n",
    "Como dentro de la función no está definido quien es ``caja1``, entonces se usa la definición de ``caja1`` que existe fuera de la función (en lo que se llama el entorno **global**)\n",
    "\n",
    "\n",
    "**Escenario 2+3**\n",
    "\n",
    "```python\n",
    "caja1 = 300\n",
    "caja2 = 500\n",
    "def sumarCajas(caja2):\n",
    "    caja1 = 1000\n",
    "    return caja2 + caja1\n",
    "```\n",
    "\n",
    "Luego, si definimos ``caja1`` dentro de la función, entonces acá adentro solo se crea/modifica una versión local de ``caja1``. Una función intentará siempre usar una definición local antes de buscar una definición global de una variable. Todos los cambios que hagamos localmente con ``caja1`` no afectan el valor de ``caja1`` a nivel global.\n",
    "\n",
    "Ahora, si definimos ``caja2`` fuera de la función, tendremos un ``caja2`` global que almacena un valor, y un ``caja2`` local que cumple el rol de ser el parámetro de la función. Al igual que en el caso anterior, la función preferirá usar la definición que tenga mas a su alcance (la local), antes de buscar globalmente que es ``caja2``\n",
    "\n",
    "\n",
    "### Receta de Diseño\n",
    "\n",
    "Es una receta/guía para ayudarnos a escribir correctamente funciones. Se preocupa de ayudarnos a extraer la información importante de un problema, entenderlo, y tener un orden al momento de programar una función\n",
    "\n",
    "Ahora veamos las partes de la Receta de Diseño\n",
    "\n",
    "**Contrato**\n",
    "Especificación de los tipos que recibe y produce una función\n",
    "\n",
    "```python\n",
    "#areaRectangulo: num num -> num\n",
    "```\n",
    "\n",
    "**Descripción o Propósito**\n",
    "Indicación verbal de qué hace la función\n",
    "\n",
    "```python\n",
    "#calcula el area de un rectángulo dados sus lados\n",
    "```\n",
    "\n",
    "**Ejemplos de uso**\n",
    "Ejemplos concretos de como usar la función\n",
    "\n",
    "```python\n",
    "#ejemplo: areaRectangulo(3,4) entrega 12\n",
    "```\n",
    "\n",
    "**Firma**\n",
    "Representación formal (código) del encabezado de la función\n",
    "\n",
    "```python\n",
    "def areaRectangulo(largo,ancho):\n",
    "```\n",
    "\n",
    "**Cuerpo**\n",
    "Código propiamente tal de la función\n",
    "\n",
    "```python\n",
    "    return largo * ancho\n",
    "```\n",
    "\n",
    "**Test**\n",
    "Verificación formal de la correctitud de la función \n",
    "\n",
    "```python\n",
    "#Test\n",
    "assert areaRectangulo(3,4) == 12\n",
    "```\n",
    "\n",
    "Resultado final:\n",
    "\n",
    "```python\n",
    "#areaRectangulo: num num -> num\n",
    "#calcula el area de un rectángulo dados sus lados\n",
    "#ejemplo: areaRectangulo(3,4) entrega 12\n",
    "def areaRectangulo(largo,ancho):\n",
    "    return largo * ancho\n",
    "\n",
    "#Test\n",
    "assert areaRectangulo(3,4) == 12\n",
    "```\n",
    "\n"
   ]
  },
  {
   "cell_type": "markdown",
   "metadata": {},
   "source": [
    "---"
   ]
  },
  {
   "cell_type": "markdown",
   "metadata": {},
   "source": [
    "## Módulos\n",
    "\n",
    "La programación usando módulos (programación modular) es una técnica de diseño que separa las funciones de un programa en módulos, generando una **separación de intereses o responsabilidades**.\n",
    "\n",
    "- Un módulo tiene una finalidad única, y contienen todo lo necesario para llevar a cabo esa funcionalidad (código, variables, etc.)\n",
    "\n",
    "- Mejoran la mantenibilidad del software, ya que delimitan los límites lógicos de sus componentes\n",
    "\n",
    "- Facilita la búsqueda de eventuales errores, ya que existe una segmentación clara de funcionalidades y responsabilidades\n",
    "\n",
    "Así, es posible encapsular funcionalidades especificas de un programa en un compilado/recopilación de funciones, que pueden ser usadas en otros programas\n",
    "\n",
    "En particular:\n",
    "\n",
    "- Podemos usar los que vienen predefinidos en Python\n",
    "\n",
    "- Podemos crearlos nosotros(as) mismas\n",
    "\n",
    "Para invocar un módulo, usamos la palabra clave **import**"
   ]
  },
  {
   "cell_type": "markdown",
   "metadata": {},
   "source": [
    "\n",
    "![nubeimport](img1_nubeimport.svg)"
   ]
  },
  {
   "cell_type": "markdown",
   "metadata": {},
   "source": [
    "### Módulo Math\n",
    "\n",
    "El módulo math nos provee un gran abanico de funciones para trabajar con operaciones matemáticas, en particular:\n",
    "\n",
    "| Función  | Significado   | Ejemplo  | Resultado | \n",
    "|---|---|---|---|\n",
    "| ``math.sqrt(x)``  | $\\sqrt{x}$  | ``math.sqrt(4)``  | ``2.0``  |  \n",
    "| ``math.pow(x,y)``  | $x^{x}$  | ``math.pow(4, 0.5)``  | ``2.0``  |   \n",
    "| ``math.exp(x)``  | $e^{x}$  | ``math.exp(1)``  | ``2.7182...``  |\n",
    "| ``math.log(x)``  | $ln(x)$  | ``math.log(math.e)``  | ``1.0``  |\n",
    "| ``math.sin(x)``  | $sin(x)$  | ``math.sin(math.pi)``  | ``0.0``  |\n",
    "| ``math.cos(x)``  | $cos(x)$  | ``math.cos(math.pi)``  | ``-1.0``  |\n",
    "| ``math.tan(x)``  | $tan(x)$  | ``math.tan(math.pi)``  | ``0.0``  |\n",
    "\n",
    "\n",
    "También nos provee las siguientes constantes:\n",
    "\n",
    "| Constante  | Significado   | Valor  | \n",
    "|---|---|---|\n",
    "| ``math.e``  | $e$  | ``2.7182...``  |\n",
    "| ``math.inf``  | $\\infty$  | ``inf``  |  \n",
    "| ``math.nan``  | ``not a number``  | ``nan``  |\n",
    "| ``math.pi``  | $\\pi$  | ``3.1415...``  |\n",
    "| ``math.tau``  | $\\tau$  | ``6.2831...``  | \n",
    "\n",
    "Para ver todas las funciones que nos ofrece el módulo:"
   ]
  },
  {
   "cell_type": "code",
   "execution_count": null,
   "metadata": {},
   "outputs": [],
   "source": [
    "import math\n",
    "help(math)"
   ]
  },
  {
   "cell_type": "markdown",
   "metadata": {},
   "source": [
    "Ejemplos:\n",
    "\n",
    "Para invocar una variable o función de un módulo, se usa la notación:\n",
    "\n",
    "```\n",
    "<nombre_modulo>.<nombre_funcion>\n",
    "```"
   ]
  },
  {
   "cell_type": "code",
   "execution_count": null,
   "metadata": {},
   "outputs": [],
   "source": [
    "import math\n",
    "\n",
    "math.pi     #Constante pi"
   ]
  },
  {
   "cell_type": "code",
   "execution_count": null,
   "metadata": {},
   "outputs": [],
   "source": [
    "math.sqrt(25) #Raiz cuadrada"
   ]
  },
  {
   "cell_type": "code",
   "execution_count": null,
   "metadata": {},
   "outputs": [],
   "source": [
    "math.pow(3,9)   #Potencia"
   ]
  },
  {
   "cell_type": "code",
   "execution_count": null,
   "metadata": {},
   "outputs": [],
   "source": [
    "math.trunc(3.9856)  #Truncar un numero al entero mas cercano a 0"
   ]
  },
  {
   "cell_type": "markdown",
   "metadata": {},
   "source": [
    "### Módulo Random\n",
    "\n",
    "El módulo random nos provee un gran abanico de funciones para trabajar con generación de valores aleatorios, permutaciones, distribuciones de probabilidad, entre otros. En particular:\n",
    "\n",
    "| Función  | Significado   | \n",
    "|---|---|\n",
    "| ``random.random()``  | numero `float` al azar en el intervalo $[0,1[$  | \n",
    "| ``random.randint(x,y)``  | número `int` al azar en el intervalo $[x,y]$  | \n",
    "\n",
    "Para ver todas las funciones que nos ofrece el módulo:\n"
   ]
  },
  {
   "cell_type": "code",
   "execution_count": null,
   "metadata": {},
   "outputs": [],
   "source": [
    "import random\n",
    "help(random)"
   ]
  },
  {
   "cell_type": "markdown",
   "metadata": {},
   "source": [
    "Ejemplos:"
   ]
  },
  {
   "cell_type": "code",
   "execution_count": null,
   "metadata": {},
   "outputs": [],
   "source": [
    "import random\n",
    "\n",
    "random.randint(0,1) #Simular el lanzamiento de una moneda (cara o sello)\n"
   ]
  },
  {
   "cell_type": "code",
   "execution_count": null,
   "metadata": {},
   "outputs": [],
   "source": [
    "random.randint(1,6) #simular el lanzamiento de un dado de 6 caras"
   ]
  },
  {
   "cell_type": "code",
   "execution_count": null,
   "metadata": {},
   "outputs": [],
   "source": [
    "random.random() #generar un numero real entre 0 y 1"
   ]
  },
  {
   "cell_type": "code",
   "execution_count": null,
   "metadata": {},
   "outputs": [],
   "source": [
    "random.random()"
   ]
  },
  {
   "cell_type": "markdown",
   "metadata": {},
   "source": [
    "### Módulos Propios\n",
    "\n",
    "También podemos crear nuestros propios módulos. Para esto, creamos un archivo `.py`, le damos un nombre, y dentro creamos las funciones que queremos encapsular.\n",
    "\n",
    "Como ejemplo, creemos un módulo que permite calcular el área y perímetro de un triangulo de 3 lados.\n"
   ]
  },
  {
   "cell_type": "markdown",
   "metadata": {},
   "source": [
    "---\n",
    "`Archivo triangulo.py`"
   ]
  },
  {
   "cell_type": "code",
   "execution_count": null,
   "metadata": {},
   "outputs": [],
   "source": [
    "#perimetro: num num -> num\n",
    "#calcula el perimetro de un triangulo de lados a b y c \n",
    "#ejemplo: perimetro(3,4,5) entrega 12\n",
    "def perimetro(a,b,c):\n",
    "    return a + b +c \n",
    "\n",
    "#Test\n",
    "assert perimetro(3,4,5) == 12\n",
    "\n",
    "\n",
    "#area: num num -> float\n",
    "#calcula el area de un triangulo de lados a b y c\n",
    "#ejemplo: area(3,4,5) entrega 6\n",
    "def area(a,b,c):\n",
    "    semi = perimetro(a,b,c)/2\n",
    "    return (semi*(semi-a)*(semi-b)*(semi-c))**0.5\n",
    "\n",
    "#Test\n",
    "assert area(3,4,5) == 6.0\n"
   ]
  },
  {
   "cell_type": "markdown",
   "metadata": {},
   "source": [
    "---"
   ]
  },
  {
   "cell_type": "markdown",
   "metadata": {},
   "source": [
    "---\n",
    "\n",
    "`Archivo triangulo.py`\n",
    "\n",
    "Alternativa: usar math.sqrt para calcular la raíz\n",
    "\n"
   ]
  },
  {
   "cell_type": "code",
   "execution_count": null,
   "metadata": {},
   "outputs": [],
   "source": [
    "import math\n",
    "\n",
    "#perimetro: num num -> num\n",
    "#calcula el perimetro de un triangulo de lados a b y c \n",
    "#ejemplo: perimetro(3,4,5) entrega 12\n",
    "def perimetro(a,b,c):\n",
    "    return a + b +c \n",
    "\n",
    "#Test\n",
    "assert perimetro(3,4,5) == 12\n",
    "\n",
    "\n",
    "#area: num num -> float\n",
    "#calcula el area de un triangulo de lados a b y c\n",
    "#ejemplo: area(3,4,5) entrega 6\n",
    "def area(a,b,c):\n",
    "    semi = perimetro(a,b,c)/2\n",
    "    return math.sqrt(semi*(semi-a)*(semi-b)*(semi-c))\n",
    "\n",
    "#Test\n",
    "assert area(3,4,5) == 6.0\n"
   ]
  },
  {
   "cell_type": "markdown",
   "metadata": {},
   "source": [
    "---"
   ]
  },
  {
   "cell_type": "markdown",
   "metadata": {},
   "source": [
    "Luego, podemos invocar al módulo `triangulo` y utilizarlo"
   ]
  },
  {
   "cell_type": "code",
   "execution_count": null,
   "metadata": {},
   "outputs": [],
   "source": [
    "import triangulo\n",
    "\n",
    "triangulo.area(6,8,10)"
   ]
  },
  {
   "cell_type": "code",
   "execution_count": null,
   "metadata": {},
   "outputs": [],
   "source": [
    "triangulo.perimetro(6,8,10)"
   ]
  },
  {
   "cell_type": "markdown",
   "metadata": {},
   "source": [
    "### Extras\n",
    "\n",
    "Hay funciones que vienen incluidas en Python, y no es necesario invocar un módulo para usarlas. Algunas de ellas son:\n",
    "\n",
    "| Función  | Significado   | Ejemplo  | Resultado | \n",
    "|---|---|---|---|\n",
    "| ``abs(x)``  | $\\lvert x \\rvert$ valor absoluto de $x$  | ``abs(-4)``  | ``4``  |  \n",
    "| ``max(x, y, ...)``  | máximo entre todos los valores ingresados  | ``max(4, 3,-2,8)``  | ``8``  |   \n",
    "| ``min(x, y, ...)``  | mínimo entre todos los valores ingresados  | ``min(4, 3,-2,8)``  | ``-2``  |   \n",
    "| ``round(x,z)``  | Redondea un número decimal $x$, aproximándolo con $z$ decimales | ``round(2.73555,2)``  | ``2.74``  |\n",
    "| | |  ``round(2.73345)``  | ``3``  |"
   ]
  },
  {
   "cell_type": "markdown",
   "metadata": {},
   "source": [
    "## Programas interactivos\n",
    "\n",
    "Muchas veces un programa necesita interactuar con quien utiliza tal programa \n",
    "\n",
    "Por ejemplo, una persona ingresa los lados de un triangulo de 3 lados, y el programa responde con el área y perímetro de tal triangulo\n",
    "\n",
    "Para esto, Python nos provee las funciones ``input`` y ``print``\n",
    "\n",
    "### input\n",
    "\n",
    "``input(mensaje)``, permite que un programa pueda preguntar por datos a una persona, y guardarlos en variables\n",
    "\n"
   ]
  },
  {
   "cell_type": "code",
   "execution_count": null,
   "metadata": {},
   "outputs": [],
   "source": [
    "n = input('Ingrese un numero: ')"
   ]
  },
  {
   "cell_type": "markdown",
   "metadata": {},
   "source": [
    "Lo cual genera el siguiente efecto:\n",
    "```python\n",
    ">>> n = input('Ingrese un numero: ')\n",
    "\n",
    "    ingrese un numero: 4\n",
    "```\n",
    "\n",
    "Luego, podemos preguntar por el valor almacenado en la variable `n`\n",
    "\n",
    "```python\n",
    ">>> n\n",
    "    '4'\n",
    "```"
   ]
  },
  {
   "cell_type": "code",
   "execution_count": null,
   "metadata": {},
   "outputs": [],
   "source": [
    "n"
   ]
  },
  {
   "cell_type": "markdown",
   "metadata": {},
   "source": [
    "**Consideración**\n",
    "\n",
    "Todo lo que se recibe vía ``input`` se convierte internamente a tipo texto (``str``). Por lo que si se reciben números, y se quieren operar como números, una vez recibido el input, hay que convertirlo a tipo numérico (``int`` o ``float``) dependiendo del caso."
   ]
  },
  {
   "cell_type": "markdown",
   "metadata": {},
   "source": [
    "### print\n",
    "\n",
    "``print(mensaje, ...)`` permite mostrar en pantalla un mensaje compuesto de una o más partes"
   ]
  },
  {
   "cell_type": "code",
   "execution_count": null,
   "metadata": {},
   "outputs": [],
   "source": [
    "print('La suma de 3+5 es ', 3+5)"
   ]
  },
  {
   "cell_type": "markdown",
   "metadata": {},
   "source": [
    "**Consideración** \n",
    "\n",
    "``print`` puede recibir mas de un parámetro, en cuyo caso se concatenan los mensajes en uno solo, separados por espacio.\n",
    "\n",
    "Si se entrega como mensaje una expresión que no es de tipo texto, entonces el resultado de esa expresión, se convierte implícitamente a tipo texto antes de mostrar el mensaje final.\n"
   ]
  },
  {
   "cell_type": "markdown",
   "metadata": {},
   "source": [
    "### Ejemplo\n",
    "\n",
    "Con esto, estamos en condiciones de crear nuestro primer programa interactivo (en forma de *script*)\n",
    "\n",
    "Para ello, usaremos el módulo triangulo creado anteriormente, para preguntarle a una persona por los 3 lados de un triangulo, y calcular su área y perímetro \n",
    "\n",
    "Pasos a seguir:\n",
    "\n",
    "- Tenemos que importar el modulo triangulo, para tener disponibles las funciones de área y perímetro\n",
    "\n",
    "- Tenemos que pedirle a una persona que ingrese los 3 lados del triangulo\n",
    "  - Usamos `input`, teniendo cuidado de convertir los datos recibidos, que están en tipo `str` a tipo numérico (`float`)\n",
    "- Tenemos que calcular el resultado y mostrarlo en pantalla\n",
    "  - Usamos `print`\n",
    "\n",
    "![nubeimport](img2_scriptinteractivo.svg)"
   ]
  },
  {
   "cell_type": "markdown",
   "metadata": {},
   "source": [
    "---\n",
    "\n",
    "``triangulo_programainteractivo.py``"
   ]
  },
  {
   "cell_type": "code",
   "execution_count": null,
   "metadata": {},
   "outputs": [],
   "source": [
    "import triangulo\n",
    "\n",
    "print(\"Calculemos el Área y Perímetro de un triangulo\")\n",
    "\n",
    "# pedimos datos a una persona\n",
    "# completar\n",
    "\n",
    "#convertimos lo recibido de texto a numero\n",
    "# completar\n",
    "\n",
    "#calculamos y mostramos el resultado en pantalla\n",
    "# completar\n"
   ]
  },
  {
   "cell_type": "markdown",
   "metadata": {},
   "source": [
    "---"
   ]
  },
  {
   "cell_type": "markdown",
   "metadata": {},
   "source": [
    "Una forma alternativa de invocar módulos es con la notación:\n",
    "\n",
    "``from <modulo> import <funciones>``\n",
    "\n",
    "Lo cual nos permite invocar el subconjunto de funciones que indiquemos. Si queremos invocar a todas las funciones del módulo, se puede colocar `*`\n",
    "\n",
    "``from <modulo> import *``\n",
    "\n",
    "Con esta forma, ya no es necesario anteponer el nombre del módulo al usar una función"
   ]
  },
  {
   "cell_type": "markdown",
   "metadata": {},
   "source": [
    "---\n",
    "\n",
    "``triangulo_programainteractivo_v2.py``"
   ]
  },
  {
   "cell_type": "code",
   "execution_count": null,
   "metadata": {},
   "outputs": [],
   "source": [
    "from triangulo import *\n",
    "\n",
    "print(\"Calculemos el Área y Perímetro de un triangulo\")\n",
    "\n",
    "lado1 = input(\"Ingrese largo del primer lado: \")\n",
    "lado2 = input(\"Ingrese largo del segundo lado: \")\n",
    "lado3 = input(\"Ingrese largo del tercer lado: \")\n",
    "\n",
    "lado1 = float(lado1)\n",
    "lado2 = float(lado2)\n",
    "lado3 = float(lado3)\n",
    "\n",
    "print(\"El perímetro es: \", perimetro(lado1,lado2,lado3))\n",
    "print(\"El área es: \", area(lado1,lado2,lado3))"
   ]
  },
  {
   "cell_type": "markdown",
   "metadata": {},
   "source": [
    "---"
   ]
  },
  {
   "cell_type": "markdown",
   "metadata": {},
   "source": [
    "### Funciones interactivas\n",
    "\n",
    "También es posible tener funciones interactivas.  Es decir, funciones que no reciben parámetros, ni entregan respuestas vía ``return``, pero interactúan con una persona a través de ``input`` y ``print``\n",
    "\n",
    "Adaptemos la solución anterior para que sea una función interactiva\n"
   ]
  },
  {
   "cell_type": "markdown",
   "metadata": {},
   "source": [
    "--- \n",
    "\n",
    "``triangulo_funcioninteractiva.py``"
   ]
  },
  {
   "cell_type": "code",
   "execution_count": null,
   "metadata": {},
   "outputs": [],
   "source": [
    "from triangulo import *\n",
    "\n",
    "# preguntasTriangulo: None -> None\n",
    "# pregunta a una persona por los 3 lados de un triangulo y calcula area y perimetro\n",
    "# Ej: preguntasTriangulo() da inicio a las preguntas\n",
    "def preguntasTriangulo():\n",
    "    print(\"Calculemos el Área y Perímetro de un triangulo\")\n",
    "\n",
    "    lado1 = input(\"Ingrese largo del primer lado: \")\n",
    "    lado2 = input(\"Ingrese largo del segundo lado: \")\n",
    "    lado3 = input(\"Ingrese largo del tercer lado: \")\n",
    "\n",
    "    lado1 = float(lado1)\n",
    "    lado2 = float(lado2)\n",
    "    lado3 = float(lado3)\n",
    "\n",
    "    print(\"El perímetro es: \", perimetro(lado1,lado2,lado3))\n",
    "    print(\"El área es: \", area(lado1,lado2,lado3))\n",
    "\n",
    "    return None\n"
   ]
  },
  {
   "cell_type": "markdown",
   "metadata": {},
   "source": [
    "Notemos que:\n",
    "\n",
    "- Cuando una función **no recibe parámetros**, o **no entrega un resultado explicito**, se coloca el \"tipo de dato\" ``None``, que como su nombre indica, significa nada (matemáticamente es el equivalente al *vacío*)\n",
    "\n",
    "- Si no hubiésemos colocado un ``return None al final``, de todos modos Python agrega implícitamente uno cuando llega al final de una función y no hay un ``return`` explicito.\n",
    "\n",
    "- Todas las interacciones que ocurran mediante ``input`` y ``print`` son *invisibles* al contrato de la función\n",
    "\n",
    "![nubeimport](img3_funinteractivo.svg)\n",
    "\n",
    "Con esto:"
   ]
  },
  {
   "cell_type": "code",
   "execution_count": null,
   "metadata": {},
   "outputs": [],
   "source": [
    "preguntasTriangulo()"
   ]
  },
  {
   "cell_type": "markdown",
   "metadata": {},
   "source": [
    "```python\n",
    ">>> preguntasTriangulo()\n",
    "    Calculemos el Área y Perímetro de un triangulo\n",
    "    Ingrese largo del primer lado: 3\n",
    "    Ingrese largo del segundo lado: 4\n",
    "    Ingrese largo del tercer lado: 5\n",
    "    El perímetro es:  12.0\n",
    "    El área es:  6.0\n",
    "```"
   ]
  },
  {
   "cell_type": "markdown",
   "metadata": {},
   "source": [
    "## Propuestos\n",
    "\n",
    "- Cree un programa interactivo, que le pida a una persona que ingrese dos números $a$ y $b$, que representarán el intervalo $[a,b]$. El programa debe generar 3 números aleatorios dentro de ese intervalo y mostrar en pantalla el número menor y mayor entre esos 3.\n",
    "- En el programa anterior, ¿Cómo podría mostrar en pantalla el número del medio (sin usar condicionales)?\n",
    "- Volviendo al problema de las Donuts, cree un programa interactivo que pregunte por la cantidad de Donuts a comprar, y entregue como resultado el precio total de la compra\n"
   ]
  }
 ],
 "metadata": {
  "kernelspec": {
   "display_name": "Python 3 (ipykernel)",
   "language": "python",
   "name": "python3"
  },
  "language_info": {
   "codemirror_mode": {
    "name": "ipython",
    "version": 3
   },
   "file_extension": ".py",
   "mimetype": "text/x-python",
   "name": "python",
   "nbconvert_exporter": "python",
   "pygments_lexer": "ipython3",
   "version": "3.10.5"
  },
  "vscode": {
   "interpreter": {
    "hash": "98b95ce4537a043c6c2f8047f97d2678115deb8444c76d437608d4f0db95d495"
   }
  }
 },
 "nbformat": 4,
 "nbformat_minor": 4
}
