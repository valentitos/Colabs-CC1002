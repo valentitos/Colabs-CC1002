{
 "cells": [
  {
   "cell_type": "markdown",
   "metadata": {},
   "source": [
    "<a href=\"https://colab.research.google.com/github/valentitos/Colabs-CC1002/blob/main/Clase_21_Caso_Estudio_III/Clase21_Caso_Estudio_III.ipynb\" target=\"_parent\"><img src=\"https://colab.research.google.com/assets/colab-badge.svg\" alt=\"Open In Colab\"/></a>"
   ]
  },
  {
   "cell_type": "markdown",
   "metadata": {},
   "source": [
    "# Clase 21: Caso de Estudio III"
   ]
  },
  {
   "cell_type": "markdown",
   "metadata": {},
   "source": [
    "## Caso de Estudio III\n"
   ]
  },
  {
   "cell_type": "markdown",
   "metadata": {},
   "source": [
    "En el contexto de los juegos panamericanos, le han encargado a nuestra querida mascota Fiu, hacer un resumen de los países participantes y la cantidad de medallas ganadas en estos juegos\n",
    "\n",
    "Lamentablemente, todavía no aprende a programar (por ahora), por lo que su misión será ayudar a este peculiar pajarito a resolver las tareas que le asignaron.\n",
    "\n",
    "Para esto, le hacen entrega de dos archivos: \n",
    "\n",
    "- El primero es `panamericanos.txt` , que contiene la siguiente información en cada una de sus líneas:\n",
    "\n",
    "```text\n",
    "código_deporte, nombre_deporte, país_1, país_2, ..., país_n\n",
    "```\n",
    "\n",
    "```text\n",
    "3,atletismo,chile,colombia,argentina,brasil,peru,eeuu\n",
    "10,tenis,argentina,brasil,eeuu,chile\n",
    "11,volleyball,argentina,brasil,peru,chile,eeuu,canada\n",
    "...\n",
    "```\n",
    "  - Es decir, un deporte, y luego un listado de todos los países que participaron en ese deporte\n",
    "\n",
    "- El segundo es `medallas.txt` , que contiene la siguiente información en cada una de sus líneas:\n",
    "\n",
    "```text\n",
    "deporte,pais,medallas_oro,medallas_plata,medallas_bronce\n",
    "```\n",
    "\n",
    "```text\n",
    "atletismo,argentina,1,0,0\n",
    "atletismo,eeuu,0,1,1\n",
    "gimnasia ritmica,chile,0,1,0\n",
    "ciclismo,eeuu,1,0,0\n",
    "basketball,eeuu,1,0,0\n",
    "basketball,chile,0,0,1\n",
    "...\n",
    "```\n",
    "\n",
    "  - Es decir, un deporte, un país, y la cantidad de medallas de oro, plata y bronce ganadas por ese país en esa disciplina\n"
   ]
  },
  {
   "cell_type": "markdown",
   "metadata": {},
   "source": [
    "Con esta información, se espera construir un nuevo archivo, llamado `reporte.txt` , que guarde el recuento de los deportes en los que participó un país, y luego las medallas obtenidas de cada tipo\n",
    "\n",
    "```text\n",
    "Deportes por país:\n",
    "chile participa en 5 deportes\n",
    "colombia participa en 2 deportes\n",
    "argentina participa en 6 deportes\n",
    "...\n",
    "\n",
    "Medallas por país:\n",
    "argentina tuvo 1 medallas de oro\n",
    "argentina tuvo 0 medallas de plata\n",
    "argentina tuvo 0 medallas de bronce\n",
    "eeuu tuvo 1 medallas de oro\n",
    "eeuu tuvo 2 medallas de plata\n",
    "eeuu tuvo 1 medallas de bronce\n",
    "...\n",
    "```"
   ]
  },
  {
   "cell_type": "markdown",
   "metadata": {},
   "source": [
    "Si bien Fiu no sabe cómo programar, si tiene una idea de cómo resolver el problema, por lo que le pide ayuda realizando lo siguiente:\n",
    "\n",
    "* Leer el primer archivo, y generar un diccionario\n",
    "\n",
    "  - `{deporte: [pais1, pais2, ...] }`\n",
    "\n",
    "* Leer el segundo archivo, y generar una lista de listas\n",
    "  \n",
    "  - `[ [deporte, país, oro, plata, bronce], [ ... ], ... ]`\n",
    "\n",
    "* Construir un diccionario con los datos del paso 2\n",
    "  \n",
    "  - `{país: cantidad de deportes en los que participó el país}`\n",
    "\n",
    "* Con los datos del paso 3, tener una función que, dado un país, entregue una lista con las medallas obtenidas por tal país\n",
    "\n",
    "* Usar todo lo anterior para construir el reporte final"
   ]
  },
  {
   "cell_type": "markdown",
   "metadata": {},
   "source": [
    "### Parte 1: `generarDeportes`\n",
    "\n",
    "Cree la función `generarDeportes()` , que no recibe parámetros, y se encarga de leer el archivo `panamericanos.txt` . Con estos datos, esta función debe construir y entregar un diccionario, en donde a cada deporte, se le asigna los países que participaron en ese deporte. Por ejemplo:\n",
    "\n",
    "```python\n",
    "{\n",
    "'atletismo': ['chile', 'colombia', 'argentina', 'brasil', 'peru', 'eeuu', ...], \n",
    "'tenis': ['argentina', 'brasil', 'eeuu', 'chile', ...], \n",
    "'volleyball': ['argentina', 'brasil', 'peru', 'chile', 'eeuu', 'canada']\n",
    "...\n",
    "}\n",
    "```\n",
    "\n",
    "Para este ejercicio, nos piden procesar un archivo de datos, y entregar un diccionario con esos datos procesados. Los pasos a seguir son:\n",
    "\n",
    "\n",
    "- Leer las líneas del archivo\n",
    "  \n",
    "  - Procesar los datos. En particular, la información está separada por comas, y el dato del código deportivo no es relevante\n",
    "\n",
    "![](panamericanos.png)\n",
    "\n",
    "  - Notar que luego del deporte, puede venir una cantidad finita, pero desconocida, de países\n",
    "\n",
    "- Luego, tenemos que agregar a un diccionario, la llave del deporte, y asociarle como valor, la lista de los países\n",
    "\n"
   ]
  },
  {
   "cell_type": "code",
   "execution_count": 1,
   "metadata": {},
   "outputs": [],
   "source": [
    "# generarDeportes: None -> dict\n",
    "# crea un diccionario con los deportes como llaves y su valor\n",
    "# es una lista conlos paises que participan \n",
    "def generarDeportes():\n",
    "    D = {}\n",
    "    A = open(\"panamericanos.txt\", \"r\")\n",
    "    for linea in A:\n",
    "        linea = linea.strip()\n",
    "        \n",
    "        datos = linea.split(\",\")\n",
    "        \n",
    "        deporte = datos[1]\n",
    "        D[deporte] = datos[2:]        \n",
    "    \n",
    "    A.close()\n",
    "    return D"
   ]
  },
  {
   "attachments": {},
   "cell_type": "markdown",
   "metadata": {},
   "source": [
    "- Creamos el diccionario donde se construirá la respuesta, y abrimos el archivo en modo lectura\n",
    "\n",
    "- Para cada línea del archivo\n",
    "\n",
    "  - Separamos los datos dentro de la fila\n",
    "\n",
    "  - Obtenemos el nombre del deporte\n",
    "\n",
    "  - Creamos un diccionario donde a ese deporte, le asociamos un listado de los países (los que se encuentran desde la posición 2 hasta el final)"
   ]
  },
  {
   "cell_type": "code",
   "execution_count": 2,
   "metadata": {},
   "outputs": [
    {
     "data": {
      "text/plain": [
       "{'atletismo': ['chile', 'colombia', 'argentina', 'brasil', 'peru', 'eeuu'],\n",
       " 'tenis': ['argentina', 'brasil', 'eeuu', 'chile'],\n",
       " 'volleyball': ['argentina', 'brasil', 'peru', 'chile', 'eeuu', 'canada']}"
      ]
     },
     "execution_count": 2,
     "metadata": {},
     "output_type": "execute_result"
    }
   ],
   "source": [
    "generarDeportes()"
   ]
  },
  {
   "cell_type": "markdown",
   "metadata": {},
   "source": [
    "### Parte 2: `generarDeportes`\n",
    "\n",
    "Cree la función  `generarMedallas() ` , que no recibe parámetros, y se encarga de leer el archivo  `medallas.txt` . Con estos datos, esta función debe construir y entregar una tabla (lista de listas), en donde en cada sublista, se almacena el deporte, país, y cantidad de medallas de oro, plata y bronce. Por ejemplo:\n",
    "\n",
    "```python\n",
    "[\n",
    "[\"atletismo\", \"argentina\", 1, 0, 0],\n",
    "[\"atletismo\", \"eeuu\", 0, 1, 1],\n",
    "[\"gimnasia ritmica\", \"chile\", 0, 1, 0],\n",
    "[\"ciclismo\", \"eeuu\", 1, 0, 0],\n",
    "[\"basketball\", \"eeuu\", 1, 0, 0],\n",
    "[\"basketball\", \"chile\", 0, 0, 1],\n",
    "...\n",
    "]\n",
    "```\n",
    "Para este ejercicio, nos piden procesar otro archivo de datos, y entregar una lista de listas con esos datos procesados. Los pasos a seguir son:\n",
    "\n",
    "- Leer las líneas del archivo\n",
    "\n",
    "    - Procesar los datos. En particular, la información está separada por comas\n",
    "\n",
    "![](medallas.png)\n",
    "\n",
    "- Tenemos que tener cuidado de convertir los números de medallas de texto a número entero\n",
    "\n",
    "- Construir una lista con esos datos, y agregarlos a una lista más grande\n",
    "\n"
   ]
  },
  {
   "cell_type": "code",
   "execution_count": 3,
   "metadata": {},
   "outputs": [],
   "source": [
    "# generarMedallas: None -> list(list)\n",
    "# crea una lista de listas, que almacena un deporte, un pais,\n",
    "# y las medallas obtenidas por ese pais en ese deporte\n",
    "def generarMedallas():\n",
    "    T = []\n",
    "    A = open(\"medallas.txt\", \"r\")\n",
    "\n",
    "    for linea in A:\n",
    "        linea = linea.strip()\n",
    "        datos = linea.split(\",\")\n",
    "\n",
    "        dep = datos[0]\n",
    "        pais = datos[1]\n",
    "        oro = int(datos[2])\n",
    "        plata = int(datos[3])\n",
    "        bronce = int(datos[4])\n",
    "        \n",
    "        T.append( [dep, pais, oro, plata, bronce] )\n",
    "\n",
    "    A.close()\n",
    "    return T\n"
   ]
  },
  {
   "attachments": {},
   "cell_type": "markdown",
   "metadata": {},
   "source": [
    "- Creamos la tabla donde se construirá la respuesta, y abrimos el archivo en modo lectura\n",
    "\n",
    "- Para cada línea del archivo\n",
    "  \n",
    "  - Separamos los datos dentro de la fila\n",
    "\n",
    "  - Obtenemos los datos del deporte, país y medallas\n",
    "\n",
    "- Agregamos una lista con estos datos, a la lista-tabla principal"
   ]
  },
  {
   "cell_type": "code",
   "execution_count": 4,
   "metadata": {},
   "outputs": [
    {
     "data": {
      "text/plain": [
       "[['atletismo', 'argentina', 1, 0, 0],\n",
       " ['atletismo', 'eeuu', 0, 1, 1],\n",
       " ['gimnasia ritmica', 'chile', 0, 1, 0],\n",
       " ['ciclismo', 'eeuu', 1, 0, 0],\n",
       " ['basketball', 'eeuu', 1, 0, 0],\n",
       " ['basketball', 'chile', 0, 0, 1]]"
      ]
     },
     "execution_count": 4,
     "metadata": {},
     "output_type": "execute_result"
    }
   ],
   "source": [
    "generarMedallas()"
   ]
  },
  {
   "cell_type": "markdown",
   "metadata": {},
   "source": [
    "### Parte 3: `cantidadDeportes`\n",
    "\n",
    "Cree la función `cantidadDeportes(Ddeportes)` , que recibe un diccionario como el generado por la 1° parte, y construye un diccionario, en el que, a cada país, le asocia la cantidad de deportes en las que participó tal país. Por ejemplo:\n",
    "\n",
    "\n",
    "```python\n",
    "{'chile': 3, 'colombia': 1, 'argentina': 3, 'brasil': 3, \n",
    " 'peru': 2, 'eeuu': 3, 'canada': 1}\n",
    "```\n",
    "\n",
    "En esta ocasión, nos piden que, a partir de los datos procesados de la 1° parte, construyamos un diccionario de frecuencias, que, a cada país, le asocie la cantidad de deportes en los que participa.\n",
    "\n",
    "- Recorriendo el diccionario inicial por llaves, obtenemos cada deporte\n",
    "\n",
    "- Luego, para cada deporte, vamos recorriendo su lista de países asociada\n",
    "\n",
    "- Con esta información, realizamos el conteo de frecuencias estándar\n",
    "\n"
   ]
  },
  {
   "cell_type": "code",
   "execution_count": 11,
   "metadata": {},
   "outputs": [],
   "source": [
    "# cantidadDeportes: dict -> dict\n",
    "# recibe un diccionario como el de la 1° parte y devuelve un nuevo diccionario\n",
    "# con el nombre del deporte, y la cantidad de paises que participan en el\n",
    "# ej: cantidadDeportes(Ddeportes) entrega {'chile': 3, 'colombia': 1, ... }\n",
    "def cantidadDeportes(Ddeportes):\n",
    "    assert type(Ddeportes) == dict\n",
    "    \n",
    "    D2 = {}\n",
    "    for deporte in Ddeportes:\n",
    "        paises = Ddeportes[deporte]\n",
    "        \n",
    "        for pais in paises:\n",
    "            if pais in D2:\n",
    "                D2[pais] += 1\n",
    "            else:\n",
    "                D2[pais] = 1\n",
    "\n",
    "    return D2\n",
    "\n",
    "# test\n",
    "Ddeportes = {'atletismo': ['chile', 'colombia', 'argentina', 'brasil', 'peru', 'eeuu'],\n",
    "             'tenis': ['argentina', 'brasil', 'eeuu', 'chile'],\n",
    "             'volleyball': ['argentina', 'brasil', 'peru', 'chile', 'eeuu', 'canada']}\n",
    "DfrecDeportes = {'chile': 3, 'colombia': 1, 'argentina': 3, 'brasil': 3,\n",
    "                 'peru': 2, 'eeuu': 3, 'canada': 1}\n",
    "assert cantidadDeportes(Ddeportes) == DfrecDeportes"
   ]
  },
  {
   "attachments": {},
   "cell_type": "markdown",
   "metadata": {},
   "source": [
    "- Para cada llave:valor del diccionario, obtenemos sus valores (que es una lista de países)\n",
    "\n",
    "- Para cada país del conjunto de países, hacemos el procedimiento estándar de conteo de frecuencia."
   ]
  },
  {
   "cell_type": "code",
   "execution_count": 12,
   "metadata": {},
   "outputs": [
    {
     "data": {
      "text/plain": [
       "{'chile': 3,\n",
       " 'colombia': 1,\n",
       " 'argentina': 3,\n",
       " 'brasil': 3,\n",
       " 'peru': 2,\n",
       " 'eeuu': 3,\n",
       " 'canada': 1}"
      ]
     },
     "execution_count": 12,
     "metadata": {},
     "output_type": "execute_result"
    }
   ],
   "source": [
    "Ddeportes = generarDeportes()\n",
    "cantidadDeportes(Ddeportes)"
   ]
  },
  {
   "cell_type": "markdown",
   "metadata": {},
   "source": [
    "### Parte 4: `buscarMedallero`\n",
    "\n",
    "Cree la función `buscarMedallero(TM, pais)` , que recibe una lista de listas como la generada en la  2° parte, y el nombre de un país. La función entrega una lista con las medallas de oro plata y bronce asociadas a tal país. Por ejemplo:\n",
    "\n",
    "```python\n",
    ">>> buscarMedallero(Tmedallas, \"chile\")\n",
    "    [0, 1, 1]\n",
    "```\n",
    "\n",
    "En esa ocasión, nos piden tomar los datos procesados del 2° archivo, y recopilar la información asociada a las medallas de un país en específico. Para esto:\n",
    "\n",
    "- Creamos un contador para las medallas (puede ser una lista de largo 3, o 3 variables separadas)\n",
    "\n",
    "- Recorremos las filas de la tabla de medallas\n",
    "\n",
    "  - Si el país de esa fila coincide con el buscado, agregamos las medallas a la cuenta"
   ]
  },
  {
   "cell_type": "code",
   "execution_count": 10,
   "metadata": {},
   "outputs": [],
   "source": [
    "# buscarMedallero: list(list) str -> list\n",
    "# entrega una lista con las medallas obtenidas por el pais indicado\n",
    "# ej: buscarMedallero(Tmedallas, \"chile\") entrega [0,1,1]\n",
    "def buscarMedallero(TM, pais):\n",
    "    assert type(TM) == list\n",
    "    assert type(pais) == str\n",
    "\n",
    "    medallas = [0, 0, 0]\n",
    "    i = 0\n",
    "    while i < len(TM):\n",
    "        fila = TM[i]\n",
    "        \n",
    "        paisfila = fila[1]\n",
    "        \n",
    "        if paisfila == pais:\n",
    "            medallas[0] += fila[2]\n",
    "            medallas[1] += fila[3]\n",
    "            medallas[2] += fila[3]   \n",
    "\n",
    "        i += 1     \n",
    "\n",
    "    return medallas\n",
    "\n",
    "# test\n",
    "Tmedallas = [['atletismo', 'argentina', 1, 0, 0], ['atletismo', 'eeuu', 0, 1, 1],\n",
    "             ['gimnasia ritmica', 'chile', 0, 1, 0], ['ciclismo', 'eeuu', 1, 0, 0], \n",
    "             ['basketball', 'eeuu', 1, 0, 0], ['basketball', 'chile', 0, 0, 1]]\n",
    "assert buscarMedallero(Tmedallas, \"chile\") == [0,1,1]"
   ]
  },
  {
   "attachments": {},
   "cell_type": "markdown",
   "metadata": {},
   "source": [
    "- Creamos un espacio para contar las medallas\n",
    "\n",
    "- Para cada lista, dentro de la lista más grande\n",
    "\n",
    "- Obtenemos el país, y si coincide con el que estamos buscando, agregamos las medallas asociadas al contador"
   ]
  },
  {
   "cell_type": "code",
   "execution_count": 13,
   "metadata": {},
   "outputs": [
    {
     "data": {
      "text/plain": [
       "[0, 1, 1]"
      ]
     },
     "execution_count": 13,
     "metadata": {},
     "output_type": "execute_result"
    }
   ],
   "source": [
    "Tmedallas = generarMedallas()\n",
    "buscarMedallero(Tmedallas, \"chile\")"
   ]
  },
  {
   "cell_type": "code",
   "execution_count": 14,
   "metadata": {},
   "outputs": [
    {
     "data": {
      "text/plain": [
       "[2, 1, 1]"
      ]
     },
     "execution_count": 14,
     "metadata": {},
     "output_type": "execute_result"
    }
   ],
   "source": [
    "buscarMedallero(Tmedallas, \"eeuu\")"
   ]
  },
  {
   "cell_type": "markdown",
   "metadata": {},
   "source": [
    "### Parte 5: `construirReporte`\n",
    "\n",
    "Finalmente, tenemos que usar todo lo anterior (partes 3° y 4°), para construir un reporte y guardarlo en un archivo. En particular, este reporte tiene dos etapas:\n",
    "\n",
    "- Primero, hay que guardar la información de cada país, y la cantidad de deportes en la que participó\n",
    "\n",
    "  - El diccionario de la parte 3, nos da directamente esta información\n",
    "\n",
    "- Luego tenemos que guardar el país, junto a las medallas que obtuvo de oro, plata y bronce\n",
    "\n",
    "  - La información de los países está en los valores del diccionario, y la información de las medallas asociadas a ese país, la podemos obtener con la función de la parte 4\n",
    "\n",
    "- Finalmente, cerramos el archivo\n"
   ]
  },
  {
   "cell_type": "code",
   "execution_count": 17,
   "metadata": {},
   "outputs": [],
   "source": [
    "# construirReporte: dict list(list) -> None\n",
    "# construye un archivo, usando los datos generaros anteriormente\n",
    "# ej: ...\n",
    "def construirReporte(Deportes, Tmedallas):\n",
    "    assert type(Deportes) == dict\n",
    "    assert type(Tmedallas) == list\n",
    "\n",
    "\n",
    "    A = open(\"reporte.txt\", \"w\")\n",
    "\n",
    "    A.write(\"Deportes por pais:\\n\")\n",
    "\n",
    "    for pais in Deportes:\n",
    "        frase = pais + \" participa en \" + str(Deportes[pais]) + \" deportes\"\n",
    "\n",
    "        A.write(frase + \"\\n\")\n",
    "\n",
    "    A.write(\"\\n\")\n",
    "    A.write(\"Medallas por pais\\n\")\n",
    "\n",
    "    for pais in Deportes:\n",
    "        medallas = buscarMedallero(Tmedallas, pais)\n",
    "\n",
    "        A.write(pais + \" tuvo \" + str(medallas[0]) + \" medallas de oro\\n\")\n",
    "        A.write(pais + \" tuvo \" + str(medallas[1]) + \" medallas de plata\\n\")\n",
    "        A.write(pais + \" tuvo \" + str(medallas[2]) + \" medallas de bronce\\n\")\n",
    "    \n",
    "    A.close()"
   ]
  },
  {
   "attachments": {},
   "cell_type": "markdown",
   "metadata": {},
   "source": [
    "- Abrimos el archivo en modo escritura\n",
    "\n",
    "- No olvidar que, al escribir en un archivo, tenemos que colocar el salto de línea (`\\n`)\n",
    "\n",
    "- Para cada par del diccionario, construimos una frase con el país y cantidad asociada. Luego la escribimos en el archivo\n",
    "\n",
    "- Para cada país del diccionario, obtenemos sus medallas asociadas, y las escribimos en el archivo."
   ]
  },
  {
   "cell_type": "code",
   "execution_count": 18,
   "metadata": {},
   "outputs": [],
   "source": [
    "Ddeportes = generarDeportes()\n",
    "DfrecDeportes = cantidadDeportes(Ddeportes)\n",
    "\n",
    "Tmedallas = generarMedallas()\n",
    "\n",
    "construirReporte(DfrecDeportes, Tmedallas)"
   ]
  },
  {
   "cell_type": "markdown",
   "metadata": {},
   "source": [
    "`reporte.txt`\n",
    "```text\n",
    "Deportes por pais:\n",
    "chile participa en 3 deportes\n",
    "colombia participa en 1 deportes\n",
    "argentina participa en 3 deportes\n",
    "brasil participa en 3 deportes\n",
    "peru participa en 2 deportes\n",
    "eeuu participa en 3 deportes\n",
    "canada participa en 1 deportes\n",
    "\n",
    "Medallas por pais\n",
    "chile tuvo 0 medallas de oro\n",
    "chile tuvo 1 medallas de plata\n",
    "chile tuvo 1 medallas de bronce\n",
    "colombia tuvo 0 medallas de oro\n",
    "colombia tuvo 0 medallas de plata\n",
    "colombia tuvo 0 medallas de bronce\n",
    "argentina tuvo 1 medallas de oro\n",
    "argentina tuvo 0 medallas de plata\n",
    "argentina tuvo 0 medallas de bronce\n",
    "brasil tuvo 0 medallas de oro\n",
    "brasil tuvo 0 medallas de plata\n",
    "brasil tuvo 0 medallas de bronce\n",
    "peru tuvo 0 medallas de oro\n",
    "peru tuvo 0 medallas de plata\n",
    "peru tuvo 0 medallas de bronce\n",
    "eeuu tuvo 2 medallas de oro\n",
    "eeuu tuvo 1 medallas de plata\n",
    "eeuu tuvo 1 medallas de bronce\n",
    "canada tuvo 0 medallas de oro\n",
    "canada tuvo 0 medallas de plata\n",
    "canada tuvo 0 medallas de bronce\n",
    "```"
   ]
  },
  {
   "cell_type": "markdown",
   "metadata": {},
   "source": [
    "## Conclusiones\n",
    "\n",
    "En esta ocasión, hemos visto un problema, que, para resolverlo, tuvimos que usar en conjunto todo el conocimiento adquirido sobre estructuras indexadas\n",
    "\n",
    "- Listas\n",
    "\n",
    "- Strings\n",
    "\n",
    "- Diccionarios\n",
    "\n",
    "- Archivos\n",
    "\n",
    "- Ciclos Iterativos\n",
    "\n",
    "Es importante manejar como moverse de una estructura a otra, y como usarlas en conjunto para resolver desafíos mayores"
   ]
  },
  {
   "cell_type": "markdown",
   "metadata": {},
   "source": [
    "## Fin (Unidad 3)\n",
    "\n",
    "En esta unidad vimos:\n",
    "\n",
    "- Conceptos de Mutación y Aliasing\n",
    "\n",
    "- Estructuras Indexadas\n",
    "\n",
    "  - Listas\n",
    "  \n",
    "  - Strings\n",
    "\n",
    "  - Diccionarios\n",
    "\n",
    "- Manejo de archivos\n",
    "\n",
    "- Ciclos while y for\n",
    "\n",
    "Todo esto se dará como conocido para la Unidad 4"
   ]
  }
 ],
 "metadata": {
  "kernelspec": {
   "display_name": "Python 3 (ipykernel)",
   "language": "python",
   "name": "python3"
  },
  "language_info": {
   "codemirror_mode": {
    "name": "ipython",
    "version": 3
   },
   "file_extension": ".py",
   "mimetype": "text/x-python",
   "name": "python",
   "nbconvert_exporter": "python",
   "pygments_lexer": "ipython3",
   "version": "3.10.6"
  },
  "vscode": {
   "interpreter": {
    "hash": "98b95ce4537a043c6c2f8047f97d2678115deb8444c76d437608d4f0db95d495"
   }
  }
 },
 "nbformat": 4,
 "nbformat_minor": 4
}
